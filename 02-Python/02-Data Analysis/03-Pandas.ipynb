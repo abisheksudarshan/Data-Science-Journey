{
 "cells": [
  {
   "cell_type": "markdown",
   "metadata": {},
   "source": [
    "<a id=\"top\"></a>"
   ]
  },
  {
   "cell_type": "markdown",
   "metadata": {},
   "source": [
    "### Contents\n",
    "- [01 - Pandas Package](#section-1) \n",
    "- [02 - Series](#section-2) \n",
    "- [03 - DataFrame](#section-3) \n",
    "- [04 - Index Objects](#section-4) \n",
    "- [05 - Essential Functionality](#section-5) \n",
    "- [06 - Summarizing and Computing Descriptive Statistics](#section-6) "
   ]
  },
  {
   "cell_type": "markdown",
   "metadata": {},
   "source": [
    "<a id=\"section-1\"></a>\n",
    "<details open> \n",
    "<summary> 01 - Pandas Package </summary>\n",
    "</details>"
   ]
  },
  {
   "cell_type": "code",
   "execution_count": 1,
   "metadata": {},
   "outputs": [],
   "source": [
    "try:\n",
    "    import pandas\n",
    "except ImportError:\n",
    "    !pip install pandas\n",
    "else:\n",
    "    import pandas as pd\n",
    "    import numpy as np\n"
   ]
  },
  {
   "cell_type": "markdown",
   "metadata": {},
   "source": [
    "[Back to Contents](#top)"
   ]
  },
  {
   "cell_type": "markdown",
   "metadata": {
    "vscode": {
     "languageId": "plaintext"
    }
   },
   "source": [
    "<a id=\"section-2\"></a>\n",
    "<details open> \n",
    "<summary> 02 - Series </summary> <br>\n",
    "    <li> Series - values and index\n",
    "    <li> Series - custom index\n",
    "    <li> Using lables to access the series\n",
    "    <li> Assigning value using label\n",
    "    <li> Applying numpy like operations\n",
    "    <li> Checking if a index is present in the series\n",
    "    <li> Creating a series from a dictionary\n",
    "    <li> Usage of isnull() and notnull()\n",
    "    <li> Setting up index.name and object.name\n",
    "    <li> Modfying a index in place\n",
    "</details>"
   ]
  },
  {
   "cell_type": "code",
   "execution_count": 2,
   "metadata": {},
   "outputs": [
    {
     "name": "stdout",
     "output_type": "stream",
     "text": [
      "0    1\n",
      "1    2\n",
      "2    3\n",
      "dtype: int64\n",
      "Values in the Series are: [1 2 3]\n",
      "Index in the Series are: RangeIndex(start=0, stop=3, step=1)\n"
     ]
    }
   ],
   "source": [
    "# Series - values and index\n",
    "\n",
    "obj = pd.Series([1, 2, 3])\n",
    "\n",
    "print(obj)\n",
    "print('Values in the Series are: ' + str(obj.values))\n",
    "print('Index in the Series are: ' + str(obj.index))"
   ]
  },
  {
   "cell_type": "code",
   "execution_count": 3,
   "metadata": {},
   "outputs": [
    {
     "name": "stdout",
     "output_type": "stream",
     "text": [
      "a    1\n",
      "b    2\n",
      "c    3\n",
      "dtype: int64\n",
      "Values in the Series are: [1 2 3]\n",
      "Index in the Series are: Index(['a', 'b', 'c'], dtype='object')\n"
     ]
    }
   ],
   "source": [
    "# Series - custom index\n",
    "\n",
    "obj = pd.Series([1, 2, 3], index=['a', 'b', 'c'])\n",
    "\n",
    "print(obj)\n",
    "print('Values in the Series are: ' + str(obj.values))\n",
    "print('Index in the Series are: ' + str(obj.index))"
   ]
  },
  {
   "cell_type": "code",
   "execution_count": 4,
   "metadata": {},
   "outputs": [
    {
     "name": "stdout",
     "output_type": "stream",
     "text": [
      "Data available at index \"a\": 1\n",
      "\n",
      "Data available at index \"a\" and \"b\": \n",
      "a    1\n",
      "b    2\n",
      "dtype: int64\n",
      "\n",
      "Data available at index \"d\": 4\n"
     ]
    }
   ],
   "source": [
    "# Using lables to access the series\n",
    "\n",
    "print('Data available at index \"a\": ' + str(obj['a']))\n",
    "print('\\nData available at index \"a\" and \"b\": \\n' + str(obj[['a', 'b']])) # ['a','b'] is a list of indices\n",
    "\n",
    "# Assigning value using label\n",
    "\n",
    "obj['d'] = 4\n",
    "print('\\nData available at index \"d\": ' + str(obj['d']))"
   ]
  },
  {
   "cell_type": "code",
   "execution_count": 5,
   "metadata": {},
   "outputs": [
    {
     "data": {
      "text/plain": [
       "b    2\n",
       "c    3\n",
       "d    4\n",
       "dtype: int64"
      ]
     },
     "execution_count": 5,
     "metadata": {},
     "output_type": "execute_result"
    }
   ],
   "source": [
    "# Applying numpy like operations\n",
    "\n",
    "obj[obj>1]"
   ]
  },
  {
   "cell_type": "code",
   "execution_count": 6,
   "metadata": {},
   "outputs": [
    {
     "data": {
      "text/plain": [
       "True"
      ]
     },
     "execution_count": 6,
     "metadata": {},
     "output_type": "execute_result"
    }
   ],
   "source": [
    "# Checking if a index is present in the series\n",
    "\n",
    "'b' in obj"
   ]
  },
  {
   "cell_type": "code",
   "execution_count": 7,
   "metadata": {},
   "outputs": [
    {
     "name": "stdout",
     "output_type": "stream",
     "text": [
      "a    100\n",
      "b    200\n",
      "c    300\n",
      "dtype: int64\n"
     ]
    }
   ],
   "source": [
    "# Creating a series from a dictionary\n",
    "\n",
    "dict_name = {'a': 100, 'b': 200, 'c': 300}\n",
    "\n",
    "obj = pd.Series(dict_name)\n",
    "print(obj)"
   ]
  },
  {
   "cell_type": "code",
   "execution_count": 8,
   "metadata": {},
   "outputs": [
    {
     "name": "stdout",
     "output_type": "stream",
     "text": [
      "a    100.0\n",
      "b    200.0\n",
      "c    300.0\n",
      "d      NaN\n",
      "e      NaN\n",
      "dtype: float64\n",
      "\n",
      "Checking for null values: \n",
      "a    False\n",
      "b    False\n",
      "c    False\n",
      "d     True\n",
      "e     True\n",
      "dtype: bool\n",
      "\n",
      "Checking for not null values: \n",
      "a     True\n",
      "b     True\n",
      "c     True\n",
      "d    False\n",
      "e    False\n",
      "dtype: bool\n"
     ]
    }
   ],
   "source": [
    "# Usage of isnull() and notnull()\n",
    "\n",
    "obj = pd.Series(dict_name,index = ['a', 'b', 'c', 'd', 'e'])\n",
    "print(obj)\n",
    "print('\\nChecking for null values: \\n' + str(obj.isnull()))\n",
    "print('\\nChecking for not null values: \\n' + str(obj.notnull()))"
   ]
  },
  {
   "cell_type": "code",
   "execution_count": 9,
   "metadata": {},
   "outputs": [
    {
     "data": {
      "text/plain": [
       "index_name\n",
       "a    1\n",
       "b    2\n",
       "c    3\n",
       "Name: ex_name, dtype: int64"
      ]
     },
     "execution_count": 9,
     "metadata": {},
     "output_type": "execute_result"
    }
   ],
   "source": [
    "# Setting up index.name and object.name\n",
    "\n",
    "obj = pd.Series([1, 2, 3], index=['a', 'b', 'c'])\n",
    "\n",
    "obj.name = 'ex_name'\n",
    "obj.index.name = 'index_name'\n",
    "obj"
   ]
  },
  {
   "cell_type": "code",
   "execution_count": 10,
   "metadata": {},
   "outputs": [
    {
     "data": {
      "text/plain": [
       "d    1\n",
       "e    2\n",
       "f    3\n",
       "Name: ex_name, dtype: int64"
      ]
     },
     "execution_count": 10,
     "metadata": {},
     "output_type": "execute_result"
    }
   ],
   "source": [
    "# Modfying a index in place\n",
    "\n",
    "obj.index = ['d','e','f']\n",
    "obj"
   ]
  },
  {
   "cell_type": "markdown",
   "metadata": {},
   "source": [
    "[Back to Contents](#top)"
   ]
  },
  {
   "cell_type": "markdown",
   "metadata": {},
   "source": [
    "<a id=\"section-3\"></a>\n",
    "<details open> \n",
    "<summary> 03 - DataFrame </summary> <br>\n",
    "    <li> Dataframe - creating a dataframe from dictionary\n",
    "    <li> Getting a sample from the dataframe using head()\n",
    "    <li> Accessing the dataframe\n",
    "    <li> Assigning the values to a dataframe\n",
    "    <li> Delete a column from a dataframe\n",
    "    <li> Transpose of a dataframe\n",
    "    <li> Values in a dataframe\n",
    "</details>"
   ]
  },
  {
   "cell_type": "code",
   "execution_count": 11,
   "metadata": {},
   "outputs": [
    {
     "data": {
      "text/html": [
       "<div>\n",
       "<style scoped>\n",
       "    .dataframe tbody tr th:only-of-type {\n",
       "        vertical-align: middle;\n",
       "    }\n",
       "\n",
       "    .dataframe tbody tr th {\n",
       "        vertical-align: top;\n",
       "    }\n",
       "\n",
       "    .dataframe thead th {\n",
       "        text-align: right;\n",
       "    }\n",
       "</style>\n",
       "<table border=\"1\" class=\"dataframe\">\n",
       "  <thead>\n",
       "    <tr style=\"text-align: right;\">\n",
       "      <th></th>\n",
       "      <th>state</th>\n",
       "      <th>year</th>\n",
       "      <th>pop</th>\n",
       "    </tr>\n",
       "  </thead>\n",
       "  <tbody>\n",
       "    <tr>\n",
       "      <th>0</th>\n",
       "      <td>A</td>\n",
       "      <td>2000</td>\n",
       "      <td>1.5</td>\n",
       "    </tr>\n",
       "    <tr>\n",
       "      <th>1</th>\n",
       "      <td>B</td>\n",
       "      <td>2001</td>\n",
       "      <td>1.7</td>\n",
       "    </tr>\n",
       "    <tr>\n",
       "      <th>2</th>\n",
       "      <td>C</td>\n",
       "      <td>2002</td>\n",
       "      <td>3.6</td>\n",
       "    </tr>\n",
       "    <tr>\n",
       "      <th>3</th>\n",
       "      <td>D</td>\n",
       "      <td>2001</td>\n",
       "      <td>2.4</td>\n",
       "    </tr>\n",
       "    <tr>\n",
       "      <th>4</th>\n",
       "      <td>E</td>\n",
       "      <td>2002</td>\n",
       "      <td>2.9</td>\n",
       "    </tr>\n",
       "    <tr>\n",
       "      <th>5</th>\n",
       "      <td>F</td>\n",
       "      <td>2003</td>\n",
       "      <td>3.2</td>\n",
       "    </tr>\n",
       "  </tbody>\n",
       "</table>\n",
       "</div>"
      ],
      "text/plain": [
       "  state  year  pop\n",
       "0     A  2000  1.5\n",
       "1     B  2001  1.7\n",
       "2     C  2002  3.6\n",
       "3     D  2001  2.4\n",
       "4     E  2002  2.9\n",
       "5     F  2003  3.2"
      ]
     },
     "execution_count": 11,
     "metadata": {},
     "output_type": "execute_result"
    }
   ],
   "source": [
    "# Dataframe - creating a dataframe from dictionary\n",
    "\n",
    "data = {'state': ['A', 'B', 'C', 'D', 'E', 'F'],\n",
    "            'year': [2000, 2001, 2002, 2001, 2002, 2003],\n",
    "            'pop': [1.5, 1.7, 3.6, 2.4, 2.9, 3.2]}\n",
    "\n",
    "frame = pd.DataFrame(data)\n",
    "frame"
   ]
  },
  {
   "cell_type": "code",
   "execution_count": 12,
   "metadata": {},
   "outputs": [
    {
     "data": {
      "text/html": [
       "<div>\n",
       "<style scoped>\n",
       "    .dataframe tbody tr th:only-of-type {\n",
       "        vertical-align: middle;\n",
       "    }\n",
       "\n",
       "    .dataframe tbody tr th {\n",
       "        vertical-align: top;\n",
       "    }\n",
       "\n",
       "    .dataframe thead th {\n",
       "        text-align: right;\n",
       "    }\n",
       "</style>\n",
       "<table border=\"1\" class=\"dataframe\">\n",
       "  <thead>\n",
       "    <tr style=\"text-align: right;\">\n",
       "      <th></th>\n",
       "      <th>state</th>\n",
       "      <th>year</th>\n",
       "      <th>pop</th>\n",
       "    </tr>\n",
       "  </thead>\n",
       "  <tbody>\n",
       "    <tr>\n",
       "      <th>0</th>\n",
       "      <td>A</td>\n",
       "      <td>2000</td>\n",
       "      <td>1.5</td>\n",
       "    </tr>\n",
       "    <tr>\n",
       "      <th>1</th>\n",
       "      <td>B</td>\n",
       "      <td>2001</td>\n",
       "      <td>1.7</td>\n",
       "    </tr>\n",
       "  </tbody>\n",
       "</table>\n",
       "</div>"
      ],
      "text/plain": [
       "  state  year  pop\n",
       "0     A  2000  1.5\n",
       "1     B  2001  1.7"
      ]
     },
     "execution_count": 12,
     "metadata": {},
     "output_type": "execute_result"
    }
   ],
   "source": [
    "# Getting a sample from the dataframe using head()\n",
    "\n",
    "frame.head(2)"
   ]
  },
  {
   "cell_type": "code",
   "execution_count": 13,
   "metadata": {},
   "outputs": [
    {
     "name": "stdout",
     "output_type": "stream",
     "text": [
      "The output of frame['state'] is :\n",
      "0    A\n",
      "1    B\n",
      "2    C\n",
      "3    D\n",
      "4    E\n",
      "5    F\n",
      "Name: state, dtype: object\n",
      "\n",
      "The output of frame.year is :\n",
      "0    2000\n",
      "1    2001\n",
      "2    2002\n",
      "3    2001\n",
      "4    2002\n",
      "5    2003\n",
      "Name: year, dtype: int64\n"
     ]
    }
   ],
   "source": [
    "# Accessing the dataframe\n",
    "\n",
    "print(\"The output of frame['state'] is :\")\n",
    "print(frame['state'])\n",
    "print(\"\\nThe output of frame.year is :\")\n",
    "print(frame.year)"
   ]
  },
  {
   "cell_type": "code",
   "execution_count": 14,
   "metadata": {},
   "outputs": [
    {
     "name": "stdout",
     "output_type": "stream",
     "text": [
      "Assigning the values to a dataframe\n",
      "\n",
      "Output of frame['pop']=1.5 is :\n",
      "  state  year  pop\n",
      "0     A  2000  1.5\n",
      "1     B  2001  1.5\n",
      "2     C  2002  1.5\n",
      "3     D  2001  1.5\n",
      "4     E  2002  1.5\n",
      "5     F  2003  1.5\n",
      "\n",
      "Output of frame['pop']=np.arange(6) is :\n",
      "  state  year  pop\n",
      "0     A  2000    0\n",
      "1     B  2001    1\n",
      "2     C  2002    2\n",
      "3     D  2001    3\n",
      "4     E  2002    4\n",
      "5     F  2003    5\n",
      "\n",
      "Output of frame['pop]=sample\n",
      "  state  year  pop\n",
      "0     A  2000  1.5\n",
      "1     B  2001  1.7\n",
      "2     C  2002  3.6\n",
      "3     D  2001  2.4\n",
      "4     E  2002  NaN\n",
      "5     F  2003  NaN\n"
     ]
    }
   ],
   "source": [
    "# Assigning the values to a dataframe\n",
    "\n",
    "print(\"Assigning the values to a dataframe\\n\")\n",
    "\n",
    "print(\"Output of frame['pop']=1.5 is :\")\n",
    "frame['pop']=1.5\n",
    "print(frame)\n",
    "\n",
    "print(\"\\nOutput of frame['pop']=np.arange(6) is :\")\n",
    "frame['pop']=np.arange(6)\n",
    "print(frame)\n",
    "\n",
    "sample = pd.Series([1.5, 1.7, 3.6, 2.4])\n",
    "frame['pop']=sample\n",
    "print(\"\\nOutput of frame['pop]=sample\")\n",
    "print(frame)\n"
   ]
  },
  {
   "cell_type": "code",
   "execution_count": 15,
   "metadata": {},
   "outputs": [
    {
     "name": "stdout",
     "output_type": "stream",
     "text": [
      "Deleting a column from a dataframe using 'del frame['pop']'\n",
      "\n",
      "  state  year\n",
      "0     A  2000\n",
      "1     B  2001\n",
      "2     C  2002\n",
      "3     D  2001\n",
      "4     E  2002\n",
      "5     F  2003\n"
     ]
    }
   ],
   "source": [
    "# Delete a column from a dataframe\n",
    "\n",
    "print(\"Deleting a column from a dataframe using 'del frame['pop']'\\n\")\n",
    "del frame['pop']\n",
    "print(frame)"
   ]
  },
  {
   "cell_type": "code",
   "execution_count": 16,
   "metadata": {},
   "outputs": [
    {
     "name": "stdout",
     "output_type": "stream",
     "text": [
      "Transposing a dataframe using 'frame.T'\n",
      "\n",
      "          0     1     2     3     4     5\n",
      "state     A     B     C     D     E     F\n",
      "year   2000  2001  2002  2001  2002  2003\n"
     ]
    }
   ],
   "source": [
    "# Transpose of a dataframe\n",
    "\n",
    "print(\"Transposing a dataframe using 'frame.T'\\n\")\n",
    "print(frame.T)"
   ]
  },
  {
   "cell_type": "code",
   "execution_count": 17,
   "metadata": {},
   "outputs": [
    {
     "name": "stdout",
     "output_type": "stream",
     "text": [
      "Values in a dataframe using 'frame.values'\n",
      "\n",
      "[['A' 2000]\n",
      " ['B' 2001]\n",
      " ['C' 2002]\n",
      " ['D' 2001]\n",
      " ['E' 2002]\n",
      " ['F' 2003]]\n"
     ]
    }
   ],
   "source": [
    "# Values in a dataframe\n",
    "\n",
    "print(\"Values in a dataframe using 'frame.values'\\n\")\n",
    "print(frame.values)"
   ]
  },
  {
   "cell_type": "markdown",
   "metadata": {},
   "source": [
    "[Back to Contents](#top)"
   ]
  },
  {
   "cell_type": "markdown",
   "metadata": {},
   "source": [
    "<a id=\"section-4\"></a>\n",
    "<details open> \n",
    "<summary> 04 - Index Objects</summary> <br>\n",
    "    <li> Index object is immutable\n",
    "</details>"
   ]
  },
  {
   "cell_type": "code",
   "execution_count": 18,
   "metadata": {},
   "outputs": [
    {
     "name": "stdout",
     "output_type": "stream",
     "text": [
      "Index(['a', 'b', 'c'], dtype='object')\n",
      "\n",
      "Trying to modify the value in a index\n"
     ]
    },
    {
     "ename": "TypeError",
     "evalue": "Index does not support mutable operations",
     "output_type": "error",
     "traceback": [
      "\u001b[0;31m---------------------------------------------------------------------------\u001b[0m",
      "\u001b[0;31mTypeError\u001b[0m                                 Traceback (most recent call last)",
      "\u001b[1;32m/Users/abishek/Documents/Github/Pathway-to-Data-Science/02-Python/02-Data Analysis/03-Pandas.ipynb Cell 27\u001b[0m line \u001b[0;36m9\n\u001b[1;32m      <a href='vscode-notebook-cell:/Users/abishek/Documents/Github/Pathway-to-Data-Science/02-Python/02-Data%20Analysis/03-Pandas.ipynb#X34sZmlsZQ%3D%3D?line=5'>6</a>\u001b[0m \u001b[39mprint\u001b[39m(i)\n\u001b[1;32m      <a href='vscode-notebook-cell:/Users/abishek/Documents/Github/Pathway-to-Data-Science/02-Python/02-Data%20Analysis/03-Pandas.ipynb#X34sZmlsZQ%3D%3D?line=7'>8</a>\u001b[0m \u001b[39mprint\u001b[39m(\u001b[39m\"\u001b[39m\u001b[39m\\n\u001b[39;00m\u001b[39mTrying to modify the value in a index\u001b[39m\u001b[39m\"\u001b[39m)\n\u001b[0;32m----> <a href='vscode-notebook-cell:/Users/abishek/Documents/Github/Pathway-to-Data-Science/02-Python/02-Data%20Analysis/03-Pandas.ipynb#X34sZmlsZQ%3D%3D?line=8'>9</a>\u001b[0m i[\u001b[39m0\u001b[39;49m]\u001b[39m=\u001b[39m\u001b[39m'\u001b[39m\u001b[39md\u001b[39m\u001b[39m'\u001b[39m\n",
      "File \u001b[0;32m/opt/homebrew/Caskroom/miniconda/base/envs/ptds/lib/python3.11/site-packages/pandas/core/indexes/base.py:5347\u001b[0m, in \u001b[0;36mIndex.__setitem__\u001b[0;34m(self, key, value)\u001b[0m\n\u001b[1;32m   5345\u001b[0m \u001b[39m@final\u001b[39m\n\u001b[1;32m   5346\u001b[0m \u001b[39mdef\u001b[39;00m \u001b[39m__setitem__\u001b[39m(\u001b[39mself\u001b[39m, key, value) \u001b[39m-\u001b[39m\u001b[39m>\u001b[39m \u001b[39mNone\u001b[39;00m:\n\u001b[0;32m-> 5347\u001b[0m     \u001b[39mraise\u001b[39;00m \u001b[39mTypeError\u001b[39;00m(\u001b[39m\"\u001b[39m\u001b[39mIndex does not support mutable operations\u001b[39m\u001b[39m\"\u001b[39m)\n",
      "\u001b[0;31mTypeError\u001b[0m: Index does not support mutable operations"
     ]
    }
   ],
   "source": [
    "# Index object is immutable\n",
    "\n",
    "obj = pd.Series(range(3), index=['a', 'b', 'c'])\n",
    "\n",
    "i = obj.index\n",
    "print(i)\n",
    "\n",
    "print(\"\\nTrying to modify the value in a index\")\n",
    "i[0]='d'"
   ]
  },
  {
   "cell_type": "markdown",
   "metadata": {},
   "source": [
    "[Back to Contents](#top)"
   ]
  },
  {
   "cell_type": "markdown",
   "metadata": {},
   "source": [
    "<a id=\"section-5\"></a>\n",
    "<details open> \n",
    "<summary> 05 - Essential Functionality</summary> <br>\n",
    "    <li> Reindexing\n",
    "    <li> Dropping a column/row using drop() method\n",
    "    <li> Indexing, selection and filtering\n",
    "    <li> Selection with loc and iloc\n",
    "    <li> Arithmetic operations\n",
    "    <li> Function Application and Mapping\n",
    "    <li> Sorting and Ranking\n",
    "</details>"
   ]
  },
  {
   "cell_type": "code",
   "execution_count": 19,
   "metadata": {},
   "outputs": [
    {
     "data": {
      "text/plain": [
       "a   -5.3\n",
       "b    7.2\n",
       "c    3.6\n",
       "d    4.5\n",
       "e    NaN\n",
       "dtype: float64"
      ]
     },
     "execution_count": 19,
     "metadata": {},
     "output_type": "execute_result"
    }
   ],
   "source": [
    "# Reindexing\n",
    "\n",
    "obj = pd.Series([4.5, 7.2, -5.3, 3.6], index=['d', 'b', 'a', 'c'])\n",
    "obj2 = obj.reindex(['a', 'b', 'c', 'd', 'e'])\n",
    "\n",
    "obj2"
   ]
  },
  {
   "cell_type": "code",
   "execution_count": 20,
   "metadata": {},
   "outputs": [
    {
     "name": "stdout",
     "output_type": "stream",
     "text": [
      "\n",
      "Dropping a row using 'frame.drop(0,axis=0)'\n",
      "  state  year\n",
      "1     B  2001\n",
      "2     C  2002\n",
      "3     D  2001\n",
      "4     E  2002\n",
      "5     F  2003\n",
      "\n",
      "Dropping a column using 'frame.drop(['state'],axis=1)'\n",
      "   year\n",
      "1  2001\n",
      "2  2002\n",
      "3  2001\n",
      "4  2002\n",
      "5  2003\n"
     ]
    }
   ],
   "source": [
    "# Dropping a column/row using drop() method\n",
    "\n",
    "print(\"\\nDropping a row using 'frame.drop(0,axis=0)'\")\n",
    "frame.drop(0,axis=0, inplace=True)\n",
    "print(frame)\n",
    "\n",
    "print(\"\\nDropping a column using 'frame.drop(['state'],axis=1)'\")\n",
    "frame.drop(['state'],axis=1, inplace=True)\n",
    "print(frame)\n"
   ]
  },
  {
   "cell_type": "code",
   "execution_count": 21,
   "metadata": {},
   "outputs": [
    {
     "name": "stdout",
     "output_type": "stream",
     "text": [
      "obj is:\n",
      "a    0.0\n",
      "b    1.0\n",
      "c    2.0\n",
      "d    3.0\n",
      "dtype: float64\n",
      "\n",
      "Output of obj[1] is :\n",
      "1.0\n",
      "\n",
      "Output of obj[1:3] is :\n",
      "b    1.0\n",
      "c    2.0\n",
      "dtype: float64\n",
      "\n",
      "Output of obj[['a','b']] is :\n",
      "a    0.0\n",
      "b    1.0\n",
      "dtype: float64\n",
      "\n",
      "Output of obj[obj>2] is :\n",
      "d    3.0\n",
      "dtype: float64\n",
      "\n",
      "Output of obj[:3] is :\n",
      "a    0.0\n",
      "b    1.0\n",
      "c    2.0\n",
      "dtype: float64\n"
     ]
    },
    {
     "name": "stderr",
     "output_type": "stream",
     "text": [
      "/var/folders/sf/g6jv44b509jdvsxk1xfmb0nc0000gn/T/ipykernel_9609/4069299827.py:8: FutureWarning: Series.__getitem__ treating keys as positions is deprecated. In a future version, integer keys will always be treated as labels (consistent with DataFrame behavior). To access a value by position, use `ser.iloc[pos]`\n",
      "  print(obj[1])\n"
     ]
    }
   ],
   "source": [
    "# Indexing, selection and filtering\n",
    "\n",
    "obj = pd.Series(np.arange(4.), index=['a', 'b', 'c', 'd'])\n",
    "print('obj is:')\n",
    "print(obj)\n",
    "\n",
    "print(\"\\nOutput of obj[1] is :\")\n",
    "print(obj[1])\n",
    "\n",
    "print(\"\\nOutput of obj[1:3] is :\")\n",
    "print(obj[1:3])\n",
    "\n",
    "print(\"\\nOutput of obj[['a','b']] is :\")\n",
    "print(obj[['a','b']])\n",
    "\n",
    "print(\"\\nOutput of obj[obj>2] is :\")\n",
    "print(obj[obj>2])\n",
    "\n",
    "print(\"\\nOutput of obj[:3] is :\")\n",
    "print(obj[:3])"
   ]
  },
  {
   "cell_type": "code",
   "execution_count": 22,
   "metadata": {},
   "outputs": [
    {
     "name": "stdout",
     "output_type": "stream",
     "text": [
      "\n",
      "Output of frame.loc['a'] is :\n",
      "year    2001\n",
      "Name: a, dtype: int64\n",
      "\n",
      "Output of frame.iloc[1:3] is :\n",
      "   year\n",
      "b  2002\n",
      "c  2001\n"
     ]
    }
   ],
   "source": [
    "# Selection with loc and iloc\n",
    "\n",
    "frame.index=['a','b','c','d','e']\n",
    "\n",
    "print(\"\\nOutput of frame.loc['a'] is :\")\n",
    "print(frame.loc['a'])\n",
    "\n",
    "print(\"\\nOutput of frame.iloc[1:3] is :\")\n",
    "print(frame.iloc[1:3])\n"
   ]
  },
  {
   "cell_type": "code",
   "execution_count": 23,
   "metadata": {},
   "outputs": [
    {
     "name": "stdout",
     "output_type": "stream",
     "text": [
      "a    7.3\n",
      "c   -2.5\n",
      "d    3.4\n",
      "e    1.5\n",
      "dtype: float64\n",
      "\n",
      "\n",
      "a    1.3\n",
      "c   -1.5\n",
      "d    1.4\n",
      "e    0.5\n",
      "dtype: float64\n",
      "\n",
      "Output of s1+s2 is:\n",
      "a    8.6\n",
      "c   -4.0\n",
      "d    4.8\n",
      "e    2.0\n",
      "dtype: float64\n"
     ]
    }
   ],
   "source": [
    "# Arithmetic operations\n",
    "\n",
    "s1 = pd.Series([7.3, -2.5, 3.4, 1.5], index=['a', 'c', 'd', 'e'])\n",
    "s2 = pd.Series([1.3, -1.5, 1.4, 0.5], index=['a', 'c', 'd', 'e'])\n",
    "\n",
    "print(s1)\n",
    "print('\\n')\n",
    "print(s2)\n",
    "\n",
    "print('\\nOutput of s1+s2 is:')\n",
    "print(s1+s2)"
   ]
  },
  {
   "cell_type": "code",
   "execution_count": 24,
   "metadata": {},
   "outputs": [
    {
     "name": "stdout",
     "output_type": "stream",
     "text": [
      "          1         2         3\n",
      "a  0.424404  0.651753  0.755897\n",
      "b  0.803377 -0.836715 -1.472840\n",
      "c -0.125690  0.218469 -1.401232\n",
      "d -1.503746  0.067083 -1.397226\n",
      "\n",
      "Output of frame.apply(f) is:\n",
      "1    2.307122\n",
      "2    1.488467\n",
      "3    2.228737\n",
      "dtype: float64\n"
     ]
    }
   ],
   "source": [
    "# Function Application and Mapping\n",
    "\n",
    "frame = pd.DataFrame(np.random.randn(4, 3), columns=list('123'),index=['a', 'b', 'c', 'd'])\n",
    "print(frame)\n",
    "\n",
    "f = lambda x: x.max() - x.min()\n",
    "print('\\nOutput of frame.apply(f) is:')\n",
    "print(frame.apply(f))\n"
   ]
  },
  {
   "cell_type": "code",
   "execution_count": 25,
   "metadata": {},
   "outputs": [
    {
     "name": "stdout",
     "output_type": "stream",
     "text": [
      "Sorting the dataframe using index:\n",
      "a    1\n",
      "b    2\n",
      "c    3\n",
      "d    0\n",
      "dtype: int64\n",
      "\n",
      "Sorting the dataframe using values:\n",
      "d    0\n",
      "a    1\n",
      "b    2\n",
      "c    3\n",
      "dtype: int64\n",
      "\n",
      "Ranking the dataframe:\n",
      "d    1.0\n",
      "a    2.0\n",
      "b    3.0\n",
      "c    4.0\n",
      "dtype: float64\n"
     ]
    }
   ],
   "source": [
    "# Sorting and Ranking\n",
    "\n",
    "obj = pd.Series(range(4), index=['d', 'a', 'b', 'c'])\n",
    "print('Sorting the dataframe using index:')\n",
    "print(obj.sort_index())\n",
    "\n",
    "print('\\nSorting the dataframe using values:')\n",
    "print(obj.sort_values())\n",
    "\n",
    "print('\\nRanking the dataframe:')\n",
    "print(obj.rank())"
   ]
  },
  {
   "cell_type": "markdown",
   "metadata": {},
   "source": [
    "[Back to Contents](#top)"
   ]
  },
  {
   "cell_type": "markdown",
   "metadata": {},
   "source": [
    "<a id=\"section-6\"></a>\n",
    "<details open> \n",
    "<summary> 06 -  Summarizing and Computing Descriptive Statistics</summary> <br>\n",
    "    <li> Sum of columns using sum()\n",
    "    <li> Correlation and Covariance\n",
    "    <li> Unique Values, Value Counts, and Membership\n",
    "</details>"
   ]
  },
  {
   "cell_type": "code",
   "execution_count": 26,
   "metadata": {},
   "outputs": [
    {
     "name": "stdout",
     "output_type": "stream",
     "text": [
      "    one  two\n",
      "a  1.40  NaN\n",
      "b  7.10 -4.5\n",
      "c   NaN  NaN\n",
      "d  0.75 -1.3\n",
      "\n",
      "Output of df.sum() is:\n",
      "one    9.25\n",
      "two   -5.80\n",
      "dtype: float64\n",
      "\n",
      "Output of df.mean() is:\n",
      "one    3.083333\n",
      "two   -2.900000\n",
      "dtype: float64\n"
     ]
    }
   ],
   "source": [
    "# Sum of columns using sum()\n",
    "\n",
    "df = pd.DataFrame([[1.4, np.nan], [7.1, -4.5],[np.nan, np.nan], [0.75, -1.3]],\n",
    "index=['a', 'b', 'c', 'd'],\n",
    "columns=['one', 'two'])\n",
    "\n",
    "print(df)\n",
    "\n",
    "print('\\nOutput of df.sum() is:')\n",
    "print(df.sum())\n",
    "\n",
    "print('\\nOutput of df.mean() is:')\n",
    "print(df.mean())"
   ]
  },
  {
   "cell_type": "code",
   "execution_count": 27,
   "metadata": {},
   "outputs": [
    {
     "name": "stdout",
     "output_type": "stream",
     "text": [
      "\n",
      "Output of df.corr() is:\n",
      "     one  two\n",
      "one  1.0 -1.0\n",
      "two -1.0  1.0\n",
      "\n",
      "Output of df.cov() is:\n",
      "           one    two\n",
      "one  12.205833 -10.16\n",
      "two -10.160000   5.12\n"
     ]
    }
   ],
   "source": [
    "# Correlation and Covariance\n",
    "\n",
    "print('\\nOutput of df.corr() is:')\n",
    "print(df.corr())\n",
    "\n",
    "print('\\nOutput of df.cov() is:')\n",
    "print(df.cov())"
   ]
  },
  {
   "cell_type": "code",
   "execution_count": 28,
   "metadata": {},
   "outputs": [
    {
     "name": "stdout",
     "output_type": "stream",
     "text": [
      "\n",
      " Unique values in the series are:\n",
      "['c' 'a' 'd' 'b']\n",
      "\n",
      " Value counts in the series are:\n",
      "c    3\n",
      "a    3\n",
      "b    2\n",
      "d    1\n",
      "Name: count, dtype: int64\n",
      "\n",
      "Output of obj.isin(mask) is:\n",
      "0     True\n",
      "1     True\n",
      "2    False\n",
      "3     True\n",
      "4     True\n",
      "5    False\n",
      "6    False\n",
      "7     True\n",
      "8     True\n",
      "dtype: bool\n"
     ]
    }
   ],
   "source": [
    "# Unique Values, Value Counts, and Membership\n",
    "\n",
    "obj = pd.Series(['c', 'a', 'd', 'a', 'a', 'b', 'b', 'c', 'c'])\n",
    "print('\\n Unique values in the series are:')\n",
    "print(obj.unique())\n",
    "\n",
    "print('\\n Value counts in the series are:')\n",
    "print(obj.value_counts())       \n",
    "\n",
    "mask = ['a','c']\n",
    "print('\\nOutput of obj.isin(mask) is:')\n",
    "print(obj.isin(mask))\n"
   ]
  },
  {
   "cell_type": "markdown",
   "metadata": {},
   "source": [
    "[Back to Contents](#top)"
   ]
  }
 ],
 "metadata": {
  "kernelspec": {
   "display_name": "ptds",
   "language": "python",
   "name": "python3"
  },
  "language_info": {
   "codemirror_mode": {
    "name": "ipython",
    "version": 3
   },
   "file_extension": ".py",
   "mimetype": "text/x-python",
   "name": "python",
   "nbconvert_exporter": "python",
   "pygments_lexer": "ipython3",
   "version": "3.11.4"
  },
  "orig_nbformat": 4
 },
 "nbformat": 4,
 "nbformat_minor": 2
}
