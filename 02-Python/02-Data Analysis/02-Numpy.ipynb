{
 "cells": [
  {
   "cell_type": "markdown",
   "metadata": {},
   "source": [
    "<a id=\"top\"></a>"
   ]
  },
  {
   "cell_type": "markdown",
   "metadata": {},
   "source": [
    "### Contents\n",
    "- [01 - Numpy Package](#section-1) \n",
    "- [02 - Creating a Numpy Array](#section-2) \n",
    "- [03 - Arithmetic with Numpy Array](#section-3) \n",
    "- [04 - Indexing and Slicing a Numpy Array](#section-4)\n",
    "- [05 - Universal Functions](#section-5)  \n",
    "- [06 - Array Oriented Programming with Arrays](#section-6)\n",
    "- [07 - Linear Algebra](#section-7) \n",
    "- [08 - Pseudorandom Number Generation](#section-8)"
   ]
  },
  {
   "cell_type": "markdown",
   "metadata": {},
   "source": [
    "<a id=\"section-1\"></a>\n",
    "<details open> \n",
    "<summary> 01 - Numpy Package </summary> \n",
    "</details>"
   ]
  },
  {
   "cell_type": "code",
   "execution_count": 1,
   "metadata": {},
   "outputs": [],
   "source": [
    "try:\n",
    "    import numpy\n",
    "except ImportError:\n",
    "    !pip install numpy\n",
    "else:\n",
    "    import numpy as np\n"
   ]
  },
  {
   "cell_type": "markdown",
   "metadata": {},
   "source": [
    "[Back to Contents](#top)"
   ]
  },
  {
   "cell_type": "markdown",
   "metadata": {},
   "source": [
    "<a id=\"section-2\"></a>\n",
    "<details open> \n",
    "<summary> 02 - Creating a Numpy Array </summary> <br>\n",
    "    <li> Attributes of a simple Numpy array - shape, ndim, dtype\n",
    "    <li> Creating a Numpy arry using functions - array(), zeros(), ones(), empty(), arange(), astype(), full(), eye()\n",
    "</details>"
   ]
  },
  {
   "cell_type": "code",
   "execution_count": 2,
   "metadata": {},
   "outputs": [
    {
     "name": "stdout",
     "output_type": "stream",
     "text": [
      "(3,)\n",
      "1\n",
      "int64\n"
     ]
    }
   ],
   "source": [
    "# Attributes of a simple Numpy array - shape, ndim, dtype\n",
    "\n",
    "test = np.array([1, 2, 3])\n",
    "\n",
    "print(test.shape)\n",
    "print(test.ndim)\n",
    "print(test.dtype)"
   ]
  },
  {
   "cell_type": "code",
   "execution_count": 71,
   "metadata": {},
   "outputs": [
    {
     "name": "stdout",
     "output_type": "stream",
     "text": [
      "[1 2 3]\n",
      "[[0. 0. 0.]\n",
      " [0. 0. 0.]]\n",
      "[[1. 1. 1.]\n",
      " [1. 1. 1.]]\n",
      "[[1. 1. 1.]\n",
      " [1. 1. 1.]]\n",
      "[0 1 2 3 4 5 6 7 8 9]\n",
      "[10. 11. 12. 13. 14. 15. 16. 17. 18. 19. 20.]\n",
      "[100.   1.   2.   3.   4.   5.   6.   7.   8.   9.]\n",
      "[0 1 2 3 4 5 6 7 8 9]\n",
      "[[10 10 10]\n",
      " [10 10 10]]\n",
      "[[1. 0. 0.]\n",
      " [0. 1. 0.]\n",
      " [0. 0. 1.]]\n"
     ]
    }
   ],
   "source": [
    "# Creating a Numpy arry using functions - array(), zeros(), ones(), empty(), arange(), astype(), full(), eye()\n",
    "\n",
    "test = np.array([1, 2, 3])\n",
    "print(test)\n",
    "\n",
    "test = np.zeros((2, 3)) #input is tuple which indicates shape - rows and columns\n",
    "print(test)\n",
    "\n",
    "test = np.ones((2, 3))\n",
    "print(test)\n",
    "\n",
    "new_test = np.empty((2, 3)) #empty does not return an array with 0s\n",
    "print(new_test)\n",
    "\n",
    "test = np.arange(10) #arange is numpy equivalent of range()\n",
    "print(test)\n",
    "\n",
    "new_test = np.arange(10.0, 20.9)\n",
    "print(new_test)\n",
    "result = test.astype(new_test.dtype) #change type of array using dtype of another array\n",
    "result[0] = 100.0\n",
    "\n",
    "print(result) #showing astype returns a new copy and not a reference of the data\n",
    "print(test)\n",
    "\n",
    "full_example = np.full((2, 3), 10) #filling an numpy array with a particular shape with a given value\n",
    "print(full_example)\n",
    "\n",
    "eye_example = np.eye(3) #identity matrix\n",
    "print(eye_example)"
   ]
  },
  {
   "cell_type": "markdown",
   "metadata": {},
   "source": [
    "[Back to Contents](#top)"
   ]
  },
  {
   "cell_type": "markdown",
   "metadata": {},
   "source": [
    "<a id=\"section-3\"></a>\n",
    "<details open> \n",
    "<summary> 03 - Arithmetic with Numpy Array</summary> <br>\n",
    "    <li> Element-wise operation example\n",
    "    <li> Broadcasting example - with scalars\n",
    "</details>"
   ]
  },
  {
   "cell_type": "code",
   "execution_count": 4,
   "metadata": {},
   "outputs": [
    {
     "name": "stdout",
     "output_type": "stream",
     "text": [
      "[5 7 9]\n"
     ]
    }
   ],
   "source": [
    "# Element-wise operation example\n",
    "\n",
    "test1 = np.array([1, 2, 3])\n",
    "test2 = np.array([4, 5, 6])\n",
    "test3 = test1 + test2\n",
    "print(test3)"
   ]
  },
  {
   "cell_type": "code",
   "execution_count": 5,
   "metadata": {},
   "outputs": [
    {
     "name": "stdout",
     "output_type": "stream",
     "text": [
      "[11 12 13]\n"
     ]
    }
   ],
   "source": [
    "# Broadcasting example - with scalars\n",
    "\n",
    "test1 = np.array([1, 2, 3])\n",
    "test2 = test1 + 10\n",
    "print(test2)"
   ]
  },
  {
   "cell_type": "markdown",
   "metadata": {},
   "source": [
    "[Back to Contents](#top)"
   ]
  },
  {
   "cell_type": "markdown",
   "metadata": {},
   "source": [
    "<a id=\"section-4\"></a>\n",
    "<details open> \n",
    "<summary> 04 - Indexing and Slicing a Numpy Array</summary> <br>\n",
    "    <li> Indexing example - 1-D and 2-D array\n",
    "    <li> Slicing example - 1-D and 2-D array\n",
    "    <li> Slicing does not produce a copy, we need to use copy() method\n",
    "    <li> Boolean Indexing\n",
    "    <li> Fancy Indexing\n",
    "    <li> Swap & Transpose\n",
    "</details>"
   ]
  },
  {
   "cell_type": "code",
   "execution_count": null,
   "metadata": {},
   "outputs": [
    {
     "name": "stdout",
     "output_type": "stream",
     "text": [
      "[0 1 2 3 4 5 6 7 8 9]\n",
      "[[0 1 2 3 4]\n",
      " [5 6 7 8 9]]\n",
      "1\n",
      "7\n",
      "7\n"
     ]
    }
   ],
   "source": [
    "# Indexing example - 1-D and 2-D array\n",
    "\n",
    "test_1d = np.arange(10)\n",
    "test_2d = np.arange(10).reshape(2,5)\n",
    "print(test_1d)\n",
    "print(test_2d)\n",
    "\n",
    "print(test_1d[1])\n",
    "print(test_2d[1][2])\n",
    "print(test_2d[1,2]) #two ways to index, using [][] vs [,]"
   ]
  },
  {
   "cell_type": "code",
   "execution_count": 73,
   "metadata": {},
   "outputs": [
    {
     "name": "stdout",
     "output_type": "stream",
     "text": [
      "[0 1 2 3 4 5 6 7 8 9]\n",
      "[[0 1 2 3 4]\n",
      " [5 6 7 8 9]]\n",
      "\n",
      "1-D examples:\n",
      "[1 2 3 4]\n",
      "[0 1 2 3 4]\n",
      "[5 6 7 8 9]\n",
      "[0 2 4 6 8]\n",
      "\n",
      "2-D examples:\n",
      "[[7]]\n",
      "\n",
      "\n",
      "[[5 6 7]]\n",
      "\n",
      "\n",
      "[[1 2 3 4]\n",
      " [6 7 8 9]]\n"
     ]
    }
   ],
   "source": [
    "# Slicing example - 1-D and 2-D array\n",
    "\n",
    "test_1d = np.arange(10)\n",
    "test_2d = np.arange(10).reshape(2,5)\n",
    "print(test_1d)\n",
    "print(test_2d)\n",
    "\n",
    "print('\\n1-D examples:')\n",
    "print(test_1d[1:5])\n",
    "print(test_1d[:5])\n",
    "print(test_1d[5:])\n",
    "print(test_1d[::2])\n",
    "\n",
    "print('\\n2-D examples:')\n",
    "print(test_2d[1:2,2:3])\n",
    "print(\"\\n\")\n",
    "print(test_2d[1:,:3])\n",
    "print(\"\\n\")\n",
    "print(test_2d[:,1:])"
   ]
  },
  {
   "cell_type": "code",
   "execution_count": null,
   "metadata": {},
   "outputs": [
    {
     "name": "stdout",
     "output_type": "stream",
     "text": [
      "[1 1 1 1 1 1 1 1 1 1]\n",
      "[1 1 1 1 1 1 1 1 1 1]\n",
      "[0 1 2 3 4 5 6 7 8 9]\n"
     ]
    }
   ],
   "source": [
    "# Slicing does not produce a copy, we need to use copy() method\n",
    "\n",
    "test1 = np.arange(10)\n",
    "test1_ref = test1[:]\n",
    "test1_copy = test1.copy()\n",
    "\n",
    "test1_ref[:] = 1\n",
    "print(test1)\n",
    "print(test1_ref)\n",
    "print(test1_copy)"
   ]
  },
  {
   "cell_type": "code",
   "execution_count": null,
   "metadata": {},
   "outputs": [
    {
     "name": "stdout",
     "output_type": "stream",
     "text": [
      "[6 7 8 9]\n",
      "[0 1 2 3 4 5]\n",
      "[6 8]\n",
      "[0 2 4 6 7 8 9]\n"
     ]
    }
   ],
   "source": [
    "# Boolean Indexing\n",
    "\n",
    "test1 = np.arange(10)\n",
    "cond = test1>5\n",
    "\n",
    "# Usage of operators ~, | and &\n",
    "print(test1[cond])\n",
    "print(test1[~cond])\n",
    "print(test1[(test1%2==0) & (test1>5)])\n",
    "print(test1[(test1%2==0) | (test1>5)])"
   ]
  },
  {
   "cell_type": "code",
   "execution_count": 72,
   "metadata": {},
   "outputs": [
    {
     "name": "stdout",
     "output_type": "stream",
     "text": [
      "1-D example:\n",
      "[0.30628321 0.75963217 0.56352703 0.69525926 0.47023647 0.75310944\n",
      " 0.15626232 0.47058819 0.20556788 0.36565755 0.40402486 0.42035183\n",
      " 0.44097561 0.45417186 0.52206254 0.52108887 0.74354321 0.75223785\n",
      " 0.71327071 0.78280183]\n",
      "[0.75963217 0.56352703 0.69525926]\n",
      "\n",
      "2-D example\n",
      "[[0.30628321 0.75963217]\n",
      " [0.56352703 0.69525926]\n",
      " [0.47023647 0.75310944]\n",
      " [0.15626232 0.47058819]\n",
      " [0.20556788 0.36565755]\n",
      " [0.40402486 0.42035183]\n",
      " [0.44097561 0.45417186]\n",
      " [0.52206254 0.52108887]\n",
      " [0.74354321 0.75223785]\n",
      " [0.71327071 0.78280183]]\n"
     ]
    },
    {
     "data": {
      "text/plain": [
       "array([0.75963217, 0.69525926])"
      ]
     },
     "execution_count": 72,
     "metadata": {},
     "output_type": "execute_result"
    }
   ],
   "source": [
    "# Fancy Indexing\n",
    "\n",
    "test_1d = np.random.rand(20)\n",
    "one_d = [1,2,3]\n",
    "\n",
    "print(\"1-D example:\")\n",
    "print(test_1d)\n",
    "print(test_1d[one_d])\n",
    "\n",
    "test_2d = test_1d.reshape(10,2)\n",
    "print(\"\\n2-D example:\")\n",
    "print(test_2d)\n",
    "row_index = np.array([0,1])\n",
    "col_index = np.array([1,1])\n",
    "\n",
    "test_2d[row_index, col_index] #elements from (0,1) and (1,1) are returned which is a 1-D array"
   ]
  },
  {
   "cell_type": "code",
   "execution_count": null,
   "metadata": {},
   "outputs": [
    {
     "name": "stdout",
     "output_type": "stream",
     "text": [
      "Transpose example:\n",
      "[[0 1 2 3 4]]\n",
      "[[0]\n",
      " [1]\n",
      " [2]\n",
      " [3]\n",
      " [4]]\n",
      "\n",
      "Swap example:\n",
      "[[[0]\n",
      "  [1]\n",
      "  [2]\n",
      "  [3]\n",
      "  [4]]\n",
      "\n",
      " [[5]\n",
      "  [6]\n",
      "  [7]\n",
      "  [8]\n",
      "  [9]]]\n",
      "[[[0 1 2 3 4]]\n",
      "\n",
      " [[5 6 7 8 9]]]\n"
     ]
    }
   ],
   "source": [
    "# Swap & Transpose\n",
    "\n",
    "print('Transpose example:')\n",
    "arr_2d = np.arange(5).reshape(1,5)\n",
    "print(arr_2d)\n",
    "print(arr_2d.T)\n",
    "\n",
    "print('\\nSwap example:')\n",
    "arr_3d = np.arange(10).reshape(2,5,1)\n",
    "print(arr_3d)\n",
    "print(arr_3d.swapaxes(1,2))"
   ]
  },
  {
   "cell_type": "markdown",
   "metadata": {},
   "source": [
    "[Back to Contents](#top)"
   ]
  },
  {
   "cell_type": "markdown",
   "metadata": {},
   "source": [
    "<a id=\"section-5\"></a>\n",
    "<details open> \n",
    "<summary> 05 - Universal functions</summary> <br>\n",
    "    <li> Unary functions examples - abs(), sqrt(), exp(), log(), sign()\n",
    "    <li> Unary functions examples - ceil(), floor(), modf()\n",
    "    <li> Binary functions examples - add(), subtract(), multiply(), divide(), power(), floor_divide(), maximum(), minimum()\n",
    "</details>"
   ]
  },
  {
   "cell_type": "code",
   "execution_count": 88,
   "metadata": {},
   "outputs": [
    {
     "name": "stdout",
     "output_type": "stream",
     "text": [
      "\n",
      "Test:\n",
      "\n",
      "[-10  -3  -6   1   7   0   1   1  -2  -8]\n",
      "[10  3  6  1  7  0  1  1  2  8]\n",
      "[       nan        nan        nan 1.         2.64575131 0.\n",
      " 1.         1.                nan        nan]\n",
      "[100   9  36   1  49   0   1   1   4  64]\n",
      "[4.53999298e-05 4.97870684e-02 2.47875218e-03 2.71828183e+00\n",
      " 1.09663316e+03 1.00000000e+00 2.71828183e+00 2.71828183e+00\n",
      " 1.35335283e-01 3.35462628e-04]\n",
      "[       nan        nan        nan 0.         1.94591015       -inf\n",
      " 0.         0.                nan        nan]\n",
      "[-1 -1 -1  1  1  0  1  1 -1 -1]\n"
     ]
    },
    {
     "name": "stderr",
     "output_type": "stream",
     "text": [
      "/var/folders/sf/g6jv44b509jdvsxk1xfmb0nc0000gn/T/ipykernel_28310/260354542.py:10: RuntimeWarning: invalid value encountered in sqrt\n",
      "  print(np.sqrt(test))\n",
      "/var/folders/sf/g6jv44b509jdvsxk1xfmb0nc0000gn/T/ipykernel_28310/260354542.py:19: RuntimeWarning: divide by zero encountered in log\n",
      "  print(np.log(test))\n",
      "/var/folders/sf/g6jv44b509jdvsxk1xfmb0nc0000gn/T/ipykernel_28310/260354542.py:19: RuntimeWarning: invalid value encountered in log\n",
      "  print(np.log(test))\n"
     ]
    }
   ],
   "source": [
    "# Unary functions examples - abs(), sqrt(), exp(), log(), sign()\n",
    "\n",
    "test = np.random.randint(low=-10,high=10,size=10)   \n",
    "print(\"\\nTest:\\n\")\n",
    "print(test)\n",
    "\n",
    "# abs\n",
    "print(np.abs(test))\n",
    "\n",
    "# sqrt\n",
    "print(np.sqrt(test))\n",
    "\n",
    "# square\n",
    "print(np.square(test))\n",
    "\n",
    "# exp\n",
    "print(np.exp(test))\n",
    "\n",
    "# log\n",
    "print(np.log(test))\n",
    "\n",
    "# sign\n",
    "print(np.sign(test))"
   ]
  },
  {
   "cell_type": "code",
   "execution_count": 95,
   "metadata": {},
   "outputs": [
    {
     "name": "stdout",
     "output_type": "stream",
     "text": [
      "\n",
      "Test:\n",
      "\n",
      "[0.82029625 0.19644664 0.7566043  0.91277322 0.54274882 0.94694989\n",
      " 0.47540473 0.83088774 0.24401987 0.28159937]\n",
      "[1. 1. 1. 1. 1. 1. 1. 1. 1. 1.]\n",
      "[0. 0. 0. 0. 0. 0. 0. 0. 0. 0.]\n",
      "[ 0.14 -0.7   0.5   0.8 ] [ 3. -2.  5.  0.]\n"
     ]
    }
   ],
   "source": [
    "# Unary functions examples - ceil(), floor(), modf()\n",
    "\n",
    "print(\"\\nTest:\\n\")\n",
    "test = np.random.rand(10)\n",
    "print(test)\n",
    "\n",
    "# ceil\n",
    "print(np.ceil(test))\n",
    "\n",
    "# floor\n",
    "print(np.floor(test))\n",
    "\n",
    "# modf\n",
    "arr = np.array([3.14, -2.7, 5.5, 0.8])\n",
    "frac_part, int_part = np.modf(arr)\n",
    "print(frac_part, int_part)"
   ]
  },
  {
   "cell_type": "code",
   "execution_count": 96,
   "metadata": {},
   "outputs": [
    {
     "name": "stdout",
     "output_type": "stream",
     "text": [
      "[5 7 9]\n",
      "[-3 -3 -3]\n",
      "[ 4 10 18]\n",
      "[0.25 0.4  0.5 ]\n",
      "[  1  32 729]\n",
      "[0 0 0]\n",
      "[4 5 6]\n",
      "[1 2 3]\n"
     ]
    }
   ],
   "source": [
    "# Binary functions examples - add(), subtract(), multiply(), divide(), power(), floor_divide(), maximum(), minimum()\n",
    "\n",
    "test1 = np.array([1,2,3])\n",
    "test2 = np.array([4,5,6])\n",
    "\n",
    "# add\n",
    "print(np.add(test1, test2))\n",
    "\n",
    "# subtract\n",
    "print(np.subtract(test1, test2))\n",
    "\n",
    "# multiply\n",
    "print(np.multiply(test1, test2))\n",
    "\n",
    "# divide\n",
    "print(np.divide(test1, test2))\n",
    "\n",
    "# power\n",
    "print(np.power(test1, test2))\n",
    "\n",
    "# floor division\n",
    "print(np.floor_divide(test1, test2))\n",
    "\n",
    "# maximum\n",
    "print(np.maximum(test1, test2))\n",
    "\n",
    "# minimum\n",
    "print(np.minimum(test1, test2))\n"
   ]
  },
  {
   "cell_type": "markdown",
   "metadata": {},
   "source": [
    "[Back to Contents](#top)"
   ]
  },
  {
   "cell_type": "markdown",
   "metadata": {},
   "source": [
    "<a id=\"section-6\"></a>\n",
    "<details open> \n",
    "<summary> 06 - Array Oriented Programming with Arrays</summary> <br>\n",
    "    <li> Expressing conditional logic as array operations\n",
    "    <li> Mathematical and statistical methods\n",
    "    <li> Methods for boolean arrays - any(),all()\n",
    "    <li> Sorting\n",
    "    <li> Set Operations - unique(), intersect1d(), union1d(), in1d(), setdiff1d(), setxor1d()\n",
    "</details>"
   ]
  },
  {
   "cell_type": "code",
   "execution_count": 51,
   "metadata": {},
   "outputs": [
    {
     "name": "stdout",
     "output_type": "stream",
     "text": [
      "[0 1 2 3 4 5 6 7 8 9]\n",
      "[11 12 13 14 15 16 17 18 19 20]\n",
      "[ True  True False  True False  True  True  True False  True]\n",
      "[ 0  1 13  3 15  5  6  7 19  9]\n"
     ]
    }
   ],
   "source": [
    "# Expressing conditional logic as array operations\n",
    "\n",
    "test1 = np.arange(10)\n",
    "test2 = np.arange(11,21)\n",
    "print(test1)\n",
    "print(test2)\n",
    "\n",
    "cond = (test1 % 3 == 0) | (test2 % 2 == 0)\n",
    "print(cond)\n",
    "result = np.where(cond, test1, test2)\n",
    "print(result)\n"
   ]
  },
  {
   "cell_type": "code",
   "execution_count": 98,
   "metadata": {},
   "outputs": [
    {
     "name": "stdout",
     "output_type": "stream",
     "text": [
      "[0 1 2 3 4 5 6 7 8 9]\n",
      "45\n",
      "[[0 1 2 3 4]\n",
      " [5 6 7 8 9]]\n",
      "45\n",
      "[ 5  7  9 11 13]\n",
      "\n",
      "Few other examples:\n",
      "4.5\n",
      "2.8722813232690143\n",
      "8.25\n",
      "9\n",
      "0\n",
      "9\n",
      "0\n",
      "[ 0  1  3  6 10 15 21 28 36 45]\n",
      "[0 0 0 0 0 0 0 0 0 0]\n"
     ]
    }
   ],
   "source": [
    "# Mathematical and statistical methods\n",
    "\n",
    "test_1d = np.arange(10)\n",
    "print(test_1d)\n",
    "print(test_1d.sum())\n",
    "\n",
    "test_2d = np.arange(10).reshape(2,5)\n",
    "print(test_2d)\n",
    "print(test_2d.sum())\n",
    "print(test_2d.sum(axis=0))\n",
    "\n",
    "# A few other examples - mean(), std(), max(), min(), argmax(), cumsum(), cumprod()\n",
    "print('\\nFew other examples:')\n",
    "print(test_1d.mean())\n",
    "print(test_1d.std())\n",
    "print(test_1d.var())\n",
    "print(test_1d.max())\n",
    "print(test_1d.min())\n",
    "print(test_1d.argmax())\n",
    "print(test_1d.argmin())\n",
    "print(test_1d.cumsum())\n",
    "print(test_1d.cumprod())\n"
   ]
  },
  {
   "cell_type": "code",
   "execution_count": 57,
   "metadata": {},
   "outputs": [
    {
     "name": "stdout",
     "output_type": "stream",
     "text": [
      "2\n",
      "True\n",
      "False\n"
     ]
    }
   ],
   "source": [
    "# Methods for boolean arrays - any(),all()\n",
    "\n",
    "test_1d = np.array([True, False, True])\n",
    "\n",
    "print(test_1d.sum())\n",
    "print(test_1d.any())\n",
    "print(test_1d.all())"
   ]
  },
  {
   "cell_type": "code",
   "execution_count": 61,
   "metadata": {},
   "outputs": [
    {
     "name": "stdout",
     "output_type": "stream",
     "text": [
      "[-0.84364025 -0.8058819  -0.49624227  0.35622901 -1.64498714]\n",
      "[-1.64498714 -0.84364025 -0.8058819  -0.49624227  0.35622901]\n",
      "[ 2.01061027 -0.90209383  1.22444626  1.48736585 -1.1533248 ]\n",
      "[-1.1533248  -0.90209383  1.22444626  1.48736585  2.01061027]\n",
      "[ 2.01061027 -0.90209383  1.22444626  1.48736585 -1.1533248 ]\n"
     ]
    }
   ],
   "source": [
    "# Sorting\n",
    "\n",
    "test1 = np.random.randn(5)\n",
    "print(test1)\n",
    "test1.sort()\n",
    "print(test1)\n",
    "\n",
    "test2 = np.random.randn(5)\n",
    "print(test2)\n",
    "print(np.sort(test2)) #using top level np.methods do not change the array inplace\n",
    "print(test2)"
   ]
  },
  {
   "cell_type": "code",
   "execution_count": 100,
   "metadata": {},
   "outputs": [
    {
     "name": "stdout",
     "output_type": "stream",
     "text": [
      "[1 2 3]\n",
      "[1 2]\n",
      "[1 2 3 4]\n",
      "[ True  True False  True]\n",
      "[3]\n",
      "[3 4]\n"
     ]
    }
   ],
   "source": [
    "# Set Operations - unique(), intersect1d(), union1d(), in1d(), setdiff1d(), setxor1d() \n",
    "\n",
    "test1 = np.array([1,2,3,1])\n",
    "print(np.unique(test1))\n",
    "\n",
    "test2 = np.array([1,2,4])\n",
    "\n",
    "print(np.intersect1d(test1, test2))\n",
    "print(np.union1d(test1, test2))\n",
    "print(np.in1d(test1, test2))\n",
    "print(np.setdiff1d(test1, test2))\n",
    "print(np.setxor1d(test1, test2))"
   ]
  },
  {
   "cell_type": "markdown",
   "metadata": {},
   "source": [
    "[Back to Contents](#top)"
   ]
  },
  {
   "cell_type": "markdown",
   "metadata": {},
   "source": [
    "<a id=\"section-7\"></a>\n",
    "<details open> \n",
    "<summary> 07 - Linear Algebra</summary> <br>\n",
    "    <li>Dot product - multiple ways\n",
    "    <li>Inverse of a matrix\n",
    "</details>"
   ]
  },
  {
   "cell_type": "code",
   "execution_count": 65,
   "metadata": {},
   "outputs": [
    {
     "name": "stdout",
     "output_type": "stream",
     "text": [
      "11\n",
      "11\n",
      "11\n"
     ]
    }
   ],
   "source": [
    "# Dot product - multiple ways\n",
    "\n",
    "x = np.array([1,2])\n",
    "y = np.array([3,4])\n",
    "\n",
    "print(x.dot(y))\n",
    "print(np.dot(x,y))\n",
    "print(x@y)"
   ]
  },
  {
   "cell_type": "code",
   "execution_count": 69,
   "metadata": {},
   "outputs": [
    {
     "name": "stdout",
     "output_type": "stream",
     "text": [
      "[[-1.5  0.5]\n",
      " [ 1.   0. ]]\n"
     ]
    }
   ],
   "source": [
    "# Inverse of a matrix\n",
    "\n",
    "from numpy.linalg import inv\n",
    "\n",
    "x = np.arange(4).reshape(2,2)\n",
    "print(inv(x))"
   ]
  },
  {
   "cell_type": "markdown",
   "metadata": {},
   "source": [
    "[Back to Contents](#top)"
   ]
  },
  {
   "cell_type": "markdown",
   "metadata": {},
   "source": [
    "<a id=\"section-8\"></a>\n",
    "<details open> \n",
    "<summary> 08 - Pseudorandom Number Generation</summary> <br>\n",
    "    <li>Random nos. generation and using seed()\n",
    "    <li>Other examples - \n",
    "</details>"
   ]
  },
  {
   "cell_type": "code",
   "execution_count": 104,
   "metadata": {},
   "outputs": [
    {
     "name": "stdout",
     "output_type": "stream",
     "text": [
      "[[-0.17242821 -0.87785842  0.04221375  0.58281521]\n",
      " [-1.10061918  1.14472371  0.90159072  0.50249434]\n",
      " [ 0.90085595 -0.68372786 -0.12289023 -0.93576943]\n",
      " [-0.26788808  0.53035547 -0.69166075 -0.39675353]]\n",
      "\n",
      "\n",
      "[[ 1.62434536 -0.61175641 -0.52817175 -1.07296862]\n",
      " [ 0.86540763 -2.3015387   1.74481176 -0.7612069 ]\n",
      " [ 0.3190391  -0.24937038  1.46210794 -2.06014071]\n",
      " [-0.3224172  -0.38405435  1.13376944 -1.09989127]]\n",
      "\n",
      "\n",
      "[ 1.3315865   0.71527897 -1.54540029 -0.00838385  0.62133597 -0.72008556\n",
      "  0.26551159  0.10854853  0.00429143 -0.17460021]\n"
     ]
    }
   ],
   "source": [
    "# Random nos. generation and using seed()\n",
    "\n",
    "dist = np.random.normal(size=(4,4))\n",
    "print(dist)\n",
    "\n",
    "np.random.seed(1)\n",
    "dist = np.random.normal(size=(4,4))\n",
    "print('\\n')\n",
    "print(dist)\n",
    "\n",
    "rng = np.random.RandomState(10)\n",
    "print('\\n')\n",
    "print(rng.randn(10))\n"
   ]
  },
  {
   "cell_type": "code",
   "execution_count": 110,
   "metadata": {},
   "outputs": [
    {
     "name": "stdout",
     "output_type": "stream",
     "text": [
      "[ 1.62434536 -0.61175641 -0.52817175 -1.07296862  0.86540763 -2.3015387\n",
      "  1.74481176 -0.7612069   0.3190391  -0.24937038]\n",
      "\n",
      "\n",
      "[ 0.3190391  -1.07296862 -2.3015387  -0.24937038  1.62434536  1.74481176\n",
      " -0.61175641 -0.7612069   0.86540763 -0.52817175]\n",
      "\n",
      "\n",
      "[-0.52817175  0.86540763 -1.07296862  1.62434536  1.74481176 -0.61175641\n",
      " -2.3015387   0.3190391  -0.7612069  -0.24937038]\n",
      "\n",
      "\n",
      "3\n",
      "\n",
      "\n",
      "11.067621824565125\n",
      "\n",
      "\n",
      "5.734677720215863\n"
     ]
    }
   ],
   "source": [
    "# Other examples - permutation(), shuffle(), binomial(), normal(), uniform()\n",
    "\n",
    "np.random.seed(1)\n",
    "dist = np.random.randn(10)\n",
    "print(dist)\n",
    "\n",
    "print('\\n')\n",
    "print(np.random.permutation(dist))\n",
    "print('\\n')\n",
    "np.random.shuffle(dist)\n",
    "print(dist)\n",
    "print('\\n')\n",
    "print(np.random.binomial(10, 0.5))\n",
    "print('\\n')\n",
    "print(np.random.normal(10, 2))\n",
    "print('\\n')\n",
    "print(np.random.uniform(10, 2))\n"
   ]
  },
  {
   "cell_type": "markdown",
   "metadata": {},
   "source": [
    "[Back to Contents](#top)"
   ]
  }
 ],
 "metadata": {
  "kernelspec": {
   "display_name": "ptds",
   "language": "python",
   "name": "python3"
  },
  "language_info": {
   "codemirror_mode": {
    "name": "ipython",
    "version": 3
   },
   "file_extension": ".py",
   "mimetype": "text/x-python",
   "name": "python",
   "nbconvert_exporter": "python",
   "pygments_lexer": "ipython3",
   "version": "3.11.4"
  },
  "orig_nbformat": 4
 },
 "nbformat": 4,
 "nbformat_minor": 2
}
