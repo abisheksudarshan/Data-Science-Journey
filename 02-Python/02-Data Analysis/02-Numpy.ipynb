{
 "cells": [
  {
   "cell_type": "markdown",
   "metadata": {},
   "source": [
    "<a id=\"top\"></a>"
   ]
  },
  {
   "cell_type": "markdown",
   "metadata": {},
   "source": [
    "### Contents\n",
    "- [01 - Numpy Package](#section-1) \n",
    "- [02 - Creating a Numpy Array](#section-2) \n",
    "- [03 - Arithmetic with Numpy Array](#section-3) \n",
    "- [04 - Indexing and Slicing a Numpy Array](#section-4)\n",
    "- [05 - Universal Functions](#section-5)  \n",
    "- [06 - Array Oriented Programming with Arrays](#section-6)\n",
    "- [07 - Linear Algebra](#section-7) \n",
    "- [08 - Pseudorandom Number Generation](#section-8)"
   ]
  },
  {
   "cell_type": "markdown",
   "metadata": {},
   "source": [
    "<a id=\"section-1\"></a>\n",
    "<details open> \n",
    "<summary> 01 - Numpy Package </summary> \n",
    "</details>"
   ]
  },
  {
   "cell_type": "code",
   "execution_count": 1,
   "metadata": {},
   "outputs": [],
   "source": [
    "try:\n",
    "    import numpy\n",
    "except ImportError:\n",
    "    !pip install numpy\n",
    "else:\n",
    "    import numpy as np\n"
   ]
  },
  {
   "cell_type": "markdown",
   "metadata": {},
   "source": [
    "[Back to Contents](#top)"
   ]
  },
  {
   "cell_type": "markdown",
   "metadata": {},
   "source": [
    "<a id=\"section-2\"></a>\n",
    "<details open> \n",
    "<summary> 02 - Creating a Numpy Array </summary> <br>\n",
    "    <li> Attributes of a simple Numpy array - shape, ndim, dtype\n",
    "    <li> Creating a Numpy arry using functions \n",
    "</details>"
   ]
  },
  {
   "cell_type": "code",
   "execution_count": 2,
   "metadata": {},
   "outputs": [
    {
     "name": "stdout",
     "output_type": "stream",
     "text": [
      "(3,)\n",
      "1\n",
      "int64\n"
     ]
    }
   ],
   "source": [
    "''' Attributes of a simple Numpy array - shape, ndim, dtype\n",
    "    shape - rows and columns\n",
    "    ndim - number of dimensions\n",
    "    dtype - data type\n",
    "'''\n",
    "\n",
    "test = np.array([1, 2, 3])\n",
    "\n",
    "print(test.shape)\n",
    "print(test.ndim)\n",
    "print(test.dtype)"
   ]
  },
  {
   "cell_type": "markdown",
   "metadata": {},
   "source": [
    "<b> Some important NumPy array creation functions"
   ]
  },
  {
   "cell_type": "markdown",
   "metadata": {},
   "source": [
    "|Function|\tDescription|\n",
    "|---------|--------------|\n",
    "|array|\tConvert input data (list, tuple, array, or other sequence type) to an ndarray either by inferring a data type or explicitly specifying a data type; copies the input data by default\n",
    "|asarray|\tConvert input to ndarray, but do not copy if the input is already an ndarray\n",
    "|arange|\tLike the built-in range but returns an ndarray instead of a list\n",
    "|ones, ones_like|\tProduce an array of all 1s with the given shape and data type; ones_like takes another array and produces a ones array of the same shape and data type\n",
    "|zeros, zeros_like|\tLike ones and ones_like but producing arrays of 0s instead\n",
    "|empty, empty_like|\tCreate new arrays by allocating new memory, but do not populate with any values like ones and zeros\n",
    "|full, full_like|\tProduce an array of the given shape and data type with all values set to the indicated \"fill value\"; full_like takes another array and produces a filled array of the same shape and data type\n",
    "|eye, identity|\tCreate a square N × N identity matrix (1s on the diagonal and 0s elsewhere)"
   ]
  },
  {
   "cell_type": "code",
   "execution_count": 3,
   "metadata": {},
   "outputs": [
    {
     "name": "stdout",
     "output_type": "stream",
     "text": [
      "[1 2 3]\n"
     ]
    }
   ],
   "source": [
    "# 1) Using array() function\n",
    "\n",
    "test = np.array([1, 2, 3])\n",
    "print(test)"
   ]
  },
  {
   "cell_type": "code",
   "execution_count": 4,
   "metadata": {},
   "outputs": [
    {
     "name": "stdout",
     "output_type": "stream",
     "text": [
      "[0 1 2 3 4 5 6 7 8 9]\n"
     ]
    }
   ],
   "source": [
    "# 2) Using arange() function\n",
    "\n",
    "test = np.arange(10) #arange is numpy equivalent of range()\n",
    "print(test)"
   ]
  },
  {
   "cell_type": "code",
   "execution_count": 5,
   "metadata": {},
   "outputs": [
    {
     "name": "stdout",
     "output_type": "stream",
     "text": [
      "[[1. 1. 1.]\n",
      " [1. 1. 1.]]\n"
     ]
    }
   ],
   "source": [
    "# 3) Using ones() function\n",
    "\n",
    "test = np.ones((2, 3))\n",
    "print(test)\n"
   ]
  },
  {
   "cell_type": "code",
   "execution_count": 6,
   "metadata": {},
   "outputs": [
    {
     "name": "stdout",
     "output_type": "stream",
     "text": [
      "[[0. 0. 0.]\n",
      " [0. 0. 0.]]\n"
     ]
    }
   ],
   "source": [
    "# 4) Using zeros() function\n",
    "\n",
    "test = np.zeros((2, 3)) #input is tuple which indicates shape - rows and columns\n",
    "print(test)"
   ]
  },
  {
   "cell_type": "code",
   "execution_count": 7,
   "metadata": {},
   "outputs": [
    {
     "name": "stdout",
     "output_type": "stream",
     "text": [
      "[[0. 0. 0.]\n",
      " [0. 0. 0.]]\n"
     ]
    }
   ],
   "source": [
    "# 5) Using empty() function\n",
    "\n",
    "new_test = np.empty((2, 3)) #empty does not return an array with 0s\n",
    "print(new_test)\n"
   ]
  },
  {
   "cell_type": "code",
   "execution_count": 8,
   "metadata": {},
   "outputs": [
    {
     "name": "stdout",
     "output_type": "stream",
     "text": [
      "[[10 10 10]\n",
      " [10 10 10]]\n"
     ]
    }
   ],
   "source": [
    "# 6) Using full() function\n",
    "\n",
    "full_example = np.full((2, 3), 10) #filling an numpy array with a particular shape with a given value\n",
    "print(full_example)\n"
   ]
  },
  {
   "cell_type": "code",
   "execution_count": 9,
   "metadata": {},
   "outputs": [
    {
     "name": "stdout",
     "output_type": "stream",
     "text": [
      "[[1. 0. 0.]\n",
      " [0. 1. 0.]\n",
      " [0. 0. 1.]]\n"
     ]
    }
   ],
   "source": [
    "# 7) Using eye() function\n",
    "\n",
    "eye_example = np.eye(3) #identity matrix\n",
    "print(eye_example)"
   ]
  },
  {
   "cell_type": "markdown",
   "metadata": {},
   "source": [
    "<b>NumPy data types"
   ]
  },
  {
   "cell_type": "markdown",
   "metadata": {},
   "source": [
    "|Type|\tType code|\tDescription|\n",
    "|---|------|--------------|\n",
    "|int8, uint8|\ti1, u1\t|Signed and unsigned 8-bit (1 byte) integer types\n",
    "|int16, uint16|\ti2, u2|\tSigned and unsigned 16-bit integer types\n",
    "|int32, uint32|\ti4, u4|\tSigned and unsigned 32-bit integer types\n",
    "|int64, uint64|\ti8, u8|\tSigned and unsigned 64-bit integer types\n",
    "|float16|\tf2|Half-precision floating point\n",
    "|float32|\tf4 or f|\tStandard single-precision floating point; compatible with C float\n",
    "|float64|\tf8 or d|\tStandard double-precision floating point; compatible with C double and Python float object\n",
    "|float128|\tf16 or g|\tExtended-precision floating point\n",
    "|complex64, complex128, complex256\t|c8, c16, c32|\tComplex numbers represented by two 32, 64, or 128 floats, respectively\n",
    "|bool\t|?|\tBoolean type storing True and False values\n",
    "|object\t|O|\tPython object type; a value can be any Python object\n",
    "|string_\t|S|\tFixed-length ASCII string type (1 byte per character); for example, to create a string data type with length 10, use 'S10'\n",
    "|unicode_\t|U|\tFixed-length Unicode type (number of bytes platform specific); same specification semantics as string_ (e.g., 'U10')"
   ]
  },
  {
   "cell_type": "code",
   "execution_count": 10,
   "metadata": {},
   "outputs": [
    {
     "name": "stdout",
     "output_type": "stream",
     "text": [
      "Original new_test array:  [10. 11. 12. 13. 14. 15. 16. 17. 18. 19. 20.]\n",
      "\n",
      "Original test array: \n",
      " [[0. 0. 0.]\n",
      " [0. 0. 0.]]\n",
      "\n",
      " Updated result: \n",
      " [[100. 100. 100.]\n",
      " [  0.   0.   0.]]\n",
      "\n",
      " Unchanged test array: \n",
      " [[0. 0. 0.]\n",
      " [0. 0. 0.]]\n"
     ]
    }
   ],
   "source": [
    "# Changing data type using astype()\n",
    "\n",
    "new_test = np.arange(10.0, 20.9)\n",
    "print('Original new_test array: ', new_test)\n",
    "\n",
    "print('\\nOriginal test array: \\n', test)\n",
    "result = test.astype(new_test.dtype) #change type of array using dtype of another array\n",
    "result[0] = 100.0\n",
    "\n",
    "print('\\n Updated result: \\n', result) #showing astype returns a new copy and not a reference of the data\n",
    "print('\\n Unchanged test array: \\n', test)\n"
   ]
  },
  {
   "cell_type": "markdown",
   "metadata": {},
   "source": [
    "[Back to Contents](#top)"
   ]
  },
  {
   "cell_type": "markdown",
   "metadata": {},
   "source": [
    "<a id=\"section-3\"></a>\n",
    "<details open> \n",
    "<summary> 03 - Arithmetic with Numpy Array</summary> <br>\n",
    "    <li> Element-wise operation example\n",
    "    <li> Broadcasting example - with scalars\n",
    "</details>"
   ]
  },
  {
   "cell_type": "code",
   "execution_count": 11,
   "metadata": {},
   "outputs": [
    {
     "name": "stdout",
     "output_type": "stream",
     "text": [
      "[5 7 9]\n"
     ]
    }
   ],
   "source": [
    "# Element-wise operation example\n",
    "\n",
    "test1 = np.array([1, 2, 3])\n",
    "test2 = np.array([4, 5, 6])\n",
    "test3 = test1 + test2\n",
    "print(test3)"
   ]
  },
  {
   "cell_type": "code",
   "execution_count": 12,
   "metadata": {},
   "outputs": [
    {
     "name": "stdout",
     "output_type": "stream",
     "text": [
      "[11 12 13]\n"
     ]
    }
   ],
   "source": [
    "# Broadcasting example - with scalars\n",
    "\n",
    "test1 = np.array([1, 2, 3])\n",
    "test2 = test1 + 10\n",
    "print(test2)"
   ]
  },
  {
   "cell_type": "markdown",
   "metadata": {},
   "source": [
    "[Back to Contents](#top)"
   ]
  },
  {
   "cell_type": "markdown",
   "metadata": {},
   "source": [
    "<a id=\"section-4\"></a>\n",
    "<details open> \n",
    "<summary> 04 - Indexing and Slicing a Numpy Array</summary> <br>\n",
    "    <li> Indexing example - 1-D and 2-D array\n",
    "    <li> Slicing example - 1-D and 2-D array\n",
    "    <li> Slicing does not produce a copy, we need to use copy() method\n",
    "    <li> Boolean Indexing\n",
    "    <li> Fancy Indexing\n",
    "    <li> Swap & Transpose\n",
    "</details>"
   ]
  },
  {
   "cell_type": "markdown",
   "metadata": {},
   "source": [
    "<img src='https://wesmckinney.com/book/images/pda3_0401.png'>"
   ]
  },
  {
   "cell_type": "code",
   "execution_count": 13,
   "metadata": {},
   "outputs": [
    {
     "name": "stdout",
     "output_type": "stream",
     "text": [
      "\n",
      "Printing test_1d:  [0 1 2 3 4 5 6 7 8 9]\n",
      "\n",
      "Printing test_2d: \n",
      " [[0 1 2 3 4]\n",
      " [5 6 7 8 9]]\n",
      "\n",
      "Indexing examples:\n",
      "Indexing using single index:  1\n",
      "Indexing using two-dimensional index:  7\n",
      "Indexing using two-dimensional index: (alternate method) 7\n"
     ]
    }
   ],
   "source": [
    "# Indexing example - 1-D and 2-D array\n",
    "\n",
    "test_1d = np.arange(10)\n",
    "test_2d = np.arange(10).reshape(2,5)\n",
    "print('\\nPrinting test_1d: ', test_1d)\n",
    "print('\\nPrinting test_2d: \\n', test_2d)\n",
    "\n",
    "print('\\nIndexing examples:')\n",
    "print('Indexing using single index: ', test_1d[1])\n",
    "print('Indexing using two-dimensional index: ', test_2d[1][2])\n",
    "print('Indexing using two-dimensional index: (alternate method)', test_2d[1,2]) #two ways to index, using [][] vs [,]"
   ]
  },
  {
   "cell_type": "markdown",
   "metadata": {},
   "source": [
    "<img src='https://wesmckinney.com/book/images/pda3_0402.png'>"
   ]
  },
  {
   "cell_type": "code",
   "execution_count": 14,
   "metadata": {},
   "outputs": [
    {
     "name": "stdout",
     "output_type": "stream",
     "text": [
      "\n",
      "Printing test_1d:  [0 1 2 3 4 5 6 7 8 9]\n",
      "\n",
      "Printing test_2d: \n",
      " [[0 1 2 3 4]\n",
      " [5 6 7 8 9]]\n",
      "\n",
      "1-D examples:\n",
      "Result of test_1d[1:5]:  [1 2 3 4]\n",
      "Result of test_1d[:5]:  [0 1 2 3 4]\n",
      "Result of test_1d[5:]:  [5 6 7 8 9]\n",
      "Result of test_1d[::2]:  [0 2 4 6 8]\n",
      "\n",
      "2-D examples:\n",
      "Result of test_2d[1:2,1:3]: [[7]]\n",
      "Result of test_2d[1:,:3]: [[5 6 7]]\n",
      "Result of test_2d[:,1:]:\n",
      " [[1 2 3 4]\n",
      " [6 7 8 9]]\n"
     ]
    }
   ],
   "source": [
    "# Slicing example - 1-D and 2-D array\n",
    "\n",
    "test_1d = np.arange(10)\n",
    "test_2d = np.arange(10).reshape(2,5)\n",
    "\n",
    "print('\\nPrinting test_1d: ', test_1d)\n",
    "print('\\nPrinting test_2d: \\n', test_2d)\n",
    "\n",
    "print('\\n1-D examples:')\n",
    "print('Result of test_1d[1:5]: ', test_1d[1:5])\n",
    "print('Result of test_1d[:5]: ', test_1d[:5])\n",
    "print('Result of test_1d[5:]: ', test_1d[5:])\n",
    "print('Result of test_1d[::2]: ', test_1d[::2])\n",
    "\n",
    "print('\\n2-D examples:')\n",
    "print('Result of test_2d[1:2,1:3]:', test_2d[1:2,2:3])\n",
    "print('Result of test_2d[1:,:3]:', test_2d[1:,:3])\n",
    "print('Result of test_2d[:,1:]:\\n', test_2d[:,1:])"
   ]
  },
  {
   "cell_type": "code",
   "execution_count": 15,
   "metadata": {},
   "outputs": [
    {
     "name": "stdout",
     "output_type": "stream",
     "text": [
      "Original test1:  [1 1 1 1 1 1 1 1 1 1]\n",
      "Sliced data:  [1 1 1 1 1 1 1 1 1 1]\n",
      "Copied data:  [0 1 2 3 4 5 6 7 8 9]\n"
     ]
    }
   ],
   "source": [
    "# Slicing does not produce a copy, we need to use copy() method\n",
    "\n",
    "test1 = np.arange(10)\n",
    "test1_ref = test1[:]\n",
    "test1_copy = test1.copy()\n",
    "\n",
    "test1_ref[:] = 1\n",
    "print('Original test1: ', test1)\n",
    "print('Sliced data: ', test1_ref)\n",
    "print('Copied data: ', test1_copy)"
   ]
  },
  {
   "cell_type": "code",
   "execution_count": 16,
   "metadata": {},
   "outputs": [
    {
     "name": "stdout",
     "output_type": "stream",
     "text": [
      "Result of test1[cond]:  [6 7 8 9]\n",
      "Result of test1[~cond]:  [0 1 2 3 4 5]\n",
      "Result of test1[(test1%2==0) & (test1>5)]:  [6 8]\n",
      "Result of test1[(test1%2==0) | (test1>5)]:  [0 2 4 6 7 8 9]\n"
     ]
    }
   ],
   "source": [
    "# Boolean Indexing\n",
    "\n",
    "test1 = np.arange(10)\n",
    "cond = test1>5\n",
    "\n",
    "# Usage of operators ~, | and &\n",
    "print('Result of test1[cond]: ', test1[cond])\n",
    "print('Result of test1[~cond]: ', test1[~cond])\n",
    "print('Result of test1[(test1%2==0) & (test1>5)]: ', test1[(test1%2==0) & (test1>5)])\n",
    "print('Result of test1[(test1%2==0) | (test1>5)]: ', test1[(test1%2==0) | (test1>5)])"
   ]
  },
  {
   "cell_type": "code",
   "execution_count": 17,
   "metadata": {},
   "outputs": [
    {
     "name": "stdout",
     "output_type": "stream",
     "text": [
      "1-D example:\n",
      "[0.22016026 0.23823635 0.99974371 0.4531932  0.36969712 0.54621143\n",
      " 0.34372777 0.47394042 0.40291294 0.52784093 0.37846281 0.88526454\n",
      " 0.95275998 0.95415104 0.64341469 0.81208862 0.7611712  0.86280229\n",
      " 0.40326255 0.74923473]\n",
      "[0.23823635 0.99974371 0.4531932 ]\n",
      "\n",
      "2-D example:\n",
      "[[0.22016026 0.23823635]\n",
      " [0.99974371 0.4531932 ]\n",
      " [0.36969712 0.54621143]\n",
      " [0.34372777 0.47394042]\n",
      " [0.40291294 0.52784093]\n",
      " [0.37846281 0.88526454]\n",
      " [0.95275998 0.95415104]\n",
      " [0.64341469 0.81208862]\n",
      " [0.7611712  0.86280229]\n",
      " [0.40326255 0.74923473]]\n",
      "\n",
      "Results from using row_index, col_index: \n",
      "[0.23823635 0.4531932 ]\n"
     ]
    }
   ],
   "source": [
    "# Fancy Indexing\n",
    "\n",
    "test_1d = np.random.rand(20)\n",
    "one_d = [1,2,3]\n",
    "\n",
    "print(\"1-D example:\")\n",
    "print(test_1d)\n",
    "print(test_1d[one_d])\n",
    "\n",
    "test_2d = test_1d.reshape(10,2)\n",
    "print(\"\\n2-D example:\")\n",
    "print(test_2d)\n",
    "row_index = np.array([0,1])\n",
    "col_index = np.array([1,1])\n",
    "\n",
    "print('\\nResults from using row_index, col_index: ')\n",
    "print(test_2d[row_index, col_index]) #elements from (0,1) and (1,1) are returned which is a 1-D array"
   ]
  },
  {
   "cell_type": "code",
   "execution_count": 18,
   "metadata": {},
   "outputs": [
    {
     "name": "stdout",
     "output_type": "stream",
     "text": [
      "\n",
      "Original arr_2d:\n",
      " [[0 1 2 3 4]]\n",
      "\n",
      "Transpose of arr_2d:\n",
      " [[0]\n",
      " [1]\n",
      " [2]\n",
      " [3]\n",
      " [4]]\n",
      "\n",
      "Original arr_3d:\n",
      " [[[0]\n",
      "  [1]\n",
      "  [2]\n",
      "  [3]\n",
      "  [4]]\n",
      "\n",
      " [[5]\n",
      "  [6]\n",
      "  [7]\n",
      "  [8]\n",
      "  [9]]]\n",
      "\n",
      "Swap axes of arr_3d:\n",
      " [[[0 1 2 3 4]]\n",
      "\n",
      " [[5 6 7 8 9]]]\n"
     ]
    }
   ],
   "source": [
    "# Swap & Transpose\n",
    "\n",
    "arr_2d = np.arange(5).reshape(1,5)\n",
    "print('\\nOriginal arr_2d:\\n',arr_2d)\n",
    "print('\\nTranspose of arr_2d:\\n', arr_2d.T)\n",
    "\n",
    "arr_3d = np.arange(10).reshape(2,5,1)\n",
    "print('\\nOriginal arr_3d:\\n',arr_3d)\n",
    "print('\\nSwap axes of arr_3d:\\n',arr_3d.swapaxes(1,2))"
   ]
  },
  {
   "cell_type": "markdown",
   "metadata": {},
   "source": [
    "[Back to Contents](#top)"
   ]
  },
  {
   "cell_type": "markdown",
   "metadata": {},
   "source": [
    "<a id=\"section-5\"></a>\n",
    "<details open> \n",
    "<summary> 05 - Universal functions</summary> <br>\n",
    "    <li> Unary functions examples - abs(), sqrt(), exp(), log(), sign()\n",
    "    <li> Unary functions examples - ceil(), floor(), modf()\n",
    "    <li> Binary functions examples - add(), subtract(), multiply(), divide(), power(), floor_divide(), maximum(), minimum()\n",
    "</details>"
   ]
  },
  {
   "cell_type": "markdown",
   "metadata": {},
   "source": [
    "<b>Unary Functions"
   ]
  },
  {
   "cell_type": "markdown",
   "metadata": {},
   "source": [
    "| Function|\tDescription|\n",
    "|-------|------|\n",
    "|abs, fabs|\tCompute the absolute value element-wise for integer, floating-point, or complex values\n",
    "|sqrt|\tCompute the square root of each element (equivalent to arr ** 0.5)\n",
    "|square|\tCompute the square of each element (equivalent to arr ** 2)\n",
    "|exp|\tCompute the exponent ex of each element\n",
    "|log, log10, log2, log1p|\tNatural logarithm (base e), log base 10, log base 2, and log(1 + x), respectively\n",
    "|sign|\tCompute the sign of each element: 1 (positive), 0 (zero), or –1 (negative)\n",
    "|ceil|\tCompute the ceiling of each element (i.e., the smallest integer greater than or equal to that number)\n",
    "|floor|\tCompute the floor of each element (i.e., the largest integer less than or equal to each element)\n",
    "|rint|\tRound elements to the nearest integer, preserving the dtype\n",
    "|modf|\tReturn fractional and integral parts of array as separate arrays\n",
    "|isnan|\tReturn Boolean array indicating whether each value is NaN (Not a Number)\n",
    "|isfinite, isinf|\tReturn Boolean array indicating whether each element is finite (non-inf, non-NaN) or infinite, respectively\n",
    "|cos, cosh, sin, sinh, tan, tanh|\tRegular and hyperbolic trigonometric functions\n",
    "|arccos, arccosh, arcsin, arcsinh, arctan, arctanh|\tInverse trigonometric functions\n",
    "|logical_not|\tCompute truth value of not x element-wise (equivalent to ~arr)"
   ]
  },
  {
   "cell_type": "code",
   "execution_count": 19,
   "metadata": {},
   "outputs": [
    {
     "name": "stdout",
     "output_type": "stream",
     "text": [
      "\n",
      "Test:\n",
      "\n",
      "[ 3 -2 -6 -2  0 -1  8 -2 -5  5]\n"
     ]
    }
   ],
   "source": [
    "# Unary functions examples - abs(), sqrt(), exp(), log(), sign()\n",
    "\n",
    "test = np.random.randint(low=-10,high=10,size=10)   \n",
    "print(\"\\nTest:\\n\")\n",
    "print(test)\n"
   ]
  },
  {
   "cell_type": "code",
   "execution_count": 20,
   "metadata": {},
   "outputs": [
    {
     "name": "stdout",
     "output_type": "stream",
     "text": [
      "[3 2 6 2 0 1 8 2 5 5]\n"
     ]
    }
   ],
   "source": [
    "\n",
    "# abs\n",
    "print(np.abs(test))\n"
   ]
  },
  {
   "cell_type": "code",
   "execution_count": 21,
   "metadata": {},
   "outputs": [
    {
     "name": "stdout",
     "output_type": "stream",
     "text": [
      "[1.73205081        nan        nan        nan 0.                nan\n",
      " 2.82842712        nan        nan 2.23606798]\n"
     ]
    },
    {
     "name": "stderr",
     "output_type": "stream",
     "text": [
      "/var/folders/sf/g6jv44b509jdvsxk1xfmb0nc0000gn/T/ipykernel_16861/1352795526.py:2: RuntimeWarning: invalid value encountered in sqrt\n",
      "  print(np.sqrt(test))\n"
     ]
    }
   ],
   "source": [
    "\n",
    "# sqrt\n",
    "print(np.sqrt(test))\n"
   ]
  },
  {
   "cell_type": "code",
   "execution_count": 22,
   "metadata": {},
   "outputs": [
    {
     "name": "stdout",
     "output_type": "stream",
     "text": [
      "[ 9  4 36  4  0  1 64  4 25 25]\n"
     ]
    }
   ],
   "source": [
    "\n",
    "# square\n",
    "print(np.square(test))\n"
   ]
  },
  {
   "cell_type": "code",
   "execution_count": 23,
   "metadata": {},
   "outputs": [
    {
     "name": "stdout",
     "output_type": "stream",
     "text": [
      "[2.00855369e+01 1.35335283e-01 2.47875218e-03 1.35335283e-01\n",
      " 1.00000000e+00 3.67879441e-01 2.98095799e+03 1.35335283e-01\n",
      " 6.73794700e-03 1.48413159e+02]\n"
     ]
    }
   ],
   "source": [
    "\n",
    "# exp\n",
    "print(np.exp(test))\n"
   ]
  },
  {
   "cell_type": "code",
   "execution_count": 24,
   "metadata": {},
   "outputs": [
    {
     "name": "stdout",
     "output_type": "stream",
     "text": [
      "[1.09861229        nan        nan        nan       -inf        nan\n",
      " 2.07944154        nan        nan 1.60943791]\n"
     ]
    },
    {
     "name": "stderr",
     "output_type": "stream",
     "text": [
      "/var/folders/sf/g6jv44b509jdvsxk1xfmb0nc0000gn/T/ipykernel_16861/574345675.py:2: RuntimeWarning: divide by zero encountered in log\n",
      "  print(np.log(test))\n",
      "/var/folders/sf/g6jv44b509jdvsxk1xfmb0nc0000gn/T/ipykernel_16861/574345675.py:2: RuntimeWarning: invalid value encountered in log\n",
      "  print(np.log(test))\n"
     ]
    }
   ],
   "source": [
    "\n",
    "# log\n",
    "print(np.log(test))\n"
   ]
  },
  {
   "cell_type": "code",
   "execution_count": 25,
   "metadata": {},
   "outputs": [
    {
     "name": "stdout",
     "output_type": "stream",
     "text": [
      "[ 1 -1 -1 -1  0 -1  1 -1 -1  1]\n"
     ]
    }
   ],
   "source": [
    "\n",
    "# sign\n",
    "print(np.sign(test))"
   ]
  },
  {
   "cell_type": "code",
   "execution_count": 26,
   "metadata": {},
   "outputs": [
    {
     "name": "stdout",
     "output_type": "stream",
     "text": [
      "\n",
      "Test:\n",
      "\n",
      "[0.33402101 0.48289498 0.82015748 0.32696116 0.47790256 0.2972111\n",
      " 0.73730451 0.81700295 0.31649838 0.95833728]\n",
      "[1. 1. 1. 1. 1. 1. 1. 1. 1. 1.]\n",
      "[0. 0. 0. 0. 0. 0. 0. 0. 0. 0.]\n"
     ]
    }
   ],
   "source": [
    "# Unary functions examples - ceil(), floor(), modf()\n",
    "\n",
    "print(\"\\nTest:\\n\")\n",
    "test = np.random.rand(10)\n",
    "print(test)\n",
    "\n",
    "# ceil\n",
    "print(np.ceil(test))\n",
    "\n",
    "# floor\n",
    "print(np.floor(test))\n"
   ]
  },
  {
   "cell_type": "code",
   "execution_count": 27,
   "metadata": {},
   "outputs": [
    {
     "name": "stdout",
     "output_type": "stream",
     "text": [
      "[ 0.14 -0.7   0.5   0.8 ] [ 3. -2.  5.  0.]\n"
     ]
    }
   ],
   "source": [
    "# modf\n",
    "arr = np.array([3.14, -2.7, 5.5, 0.8])\n",
    "frac_part, int_part = np.modf(arr)\n",
    "print(frac_part, int_part)"
   ]
  },
  {
   "cell_type": "markdown",
   "metadata": {},
   "source": [
    "<b>Binary Functions"
   ]
  },
  {
   "cell_type": "markdown",
   "metadata": {},
   "source": [
    "|Function|\tDescription|\n",
    "|--|--|\n",
    "|add|\tAdd corresponding elements in arrays\n",
    "|subtract|\tSubtract elements in second array from first array\n",
    "|multiply|\tMultiply array elements\n",
    "|divide, floor_divide|\tDivide or floor divide (truncating the remainder)\n",
    "|power|\tRaise elements in first array to powers indicated in second array\n",
    "|maximum, fmax|\tElement-wise maximum; fmax ignores NaN\n",
    "|minimum, fmin|\tElement-wise minimum; fmin ignores NaN\n",
    "|mod|\tElement-wise modulus (remainder of division)\n",
    "|copysign|\tCopy sign of values in second argument to values in first argument\n",
    "|greater, greater_equal, less, less_equal, equal, not_equal|\tPerform element-wise comparison, yielding Boolean array (equivalent to infix operators >, >=, <, <=, ==, !=)\n",
    "|logical_and|\tCompute element-wise truth value of AND (&) logical operation\n",
    "|logical_or|\tCompute element-wise truth value of OR (|) logical operation\n",
    "|logical_xor|\tCompute element-wise truth value of XOR (^) logical operation"
   ]
  },
  {
   "cell_type": "code",
   "execution_count": 28,
   "metadata": {},
   "outputs": [
    {
     "name": "stdout",
     "output_type": "stream",
     "text": [
      "[5 7 9]\n"
     ]
    }
   ],
   "source": [
    "# Binary functions examples - add(), subtract(), multiply(), divide(), power(), floor_divide(), maximum(), minimum()\n",
    "\n",
    "test1 = np.array([1,2,3])\n",
    "test2 = np.array([4,5,6])\n",
    "\n",
    "# add\n",
    "print(np.add(test1, test2))\n"
   ]
  },
  {
   "cell_type": "code",
   "execution_count": 29,
   "metadata": {},
   "outputs": [
    {
     "name": "stdout",
     "output_type": "stream",
     "text": [
      "[-3 -3 -3]\n"
     ]
    }
   ],
   "source": [
    "\n",
    "# subtract\n",
    "print(np.subtract(test1, test2))\n"
   ]
  },
  {
   "cell_type": "code",
   "execution_count": 30,
   "metadata": {},
   "outputs": [
    {
     "name": "stdout",
     "output_type": "stream",
     "text": [
      "[ 4 10 18]\n"
     ]
    }
   ],
   "source": [
    "\n",
    "# multiply\n",
    "print(np.multiply(test1, test2))\n"
   ]
  },
  {
   "cell_type": "code",
   "execution_count": 31,
   "metadata": {},
   "outputs": [
    {
     "name": "stdout",
     "output_type": "stream",
     "text": [
      "[0.25 0.4  0.5 ]\n"
     ]
    }
   ],
   "source": [
    "\n",
    "# divide\n",
    "print(np.divide(test1, test2))\n"
   ]
  },
  {
   "cell_type": "code",
   "execution_count": 32,
   "metadata": {},
   "outputs": [
    {
     "name": "stdout",
     "output_type": "stream",
     "text": [
      "[  1  32 729]\n"
     ]
    }
   ],
   "source": [
    "\n",
    "# power\n",
    "print(np.power(test1, test2))\n"
   ]
  },
  {
   "cell_type": "code",
   "execution_count": 33,
   "metadata": {},
   "outputs": [
    {
     "name": "stdout",
     "output_type": "stream",
     "text": [
      "[0 0 0]\n"
     ]
    }
   ],
   "source": [
    "\n",
    "# floor division\n",
    "print(np.floor_divide(test1, test2))\n"
   ]
  },
  {
   "cell_type": "code",
   "execution_count": 34,
   "metadata": {},
   "outputs": [
    {
     "name": "stdout",
     "output_type": "stream",
     "text": [
      "[4 5 6]\n"
     ]
    }
   ],
   "source": [
    "\n",
    "# maximum\n",
    "print(np.maximum(test1, test2))\n"
   ]
  },
  {
   "cell_type": "code",
   "execution_count": 35,
   "metadata": {},
   "outputs": [
    {
     "name": "stdout",
     "output_type": "stream",
     "text": [
      "[1 2 3]\n"
     ]
    }
   ],
   "source": [
    "\n",
    "# minimum\n",
    "print(np.minimum(test1, test2))\n"
   ]
  },
  {
   "cell_type": "markdown",
   "metadata": {},
   "source": [
    "[Back to Contents](#top)"
   ]
  },
  {
   "cell_type": "markdown",
   "metadata": {},
   "source": [
    "<a id=\"section-6\"></a>\n",
    "<details open> \n",
    "<summary> 06 - Array Oriented Programming with Arrays</summary> <br>\n",
    "    <li> Expressing conditional logic as array operations\n",
    "    <li> Mathematical and statistical methods\n",
    "    <li> Methods for boolean arrays - any(),all()\n",
    "    <li> Sorting\n",
    "    <li> Set Operations - unique(), intersect1d(), union1d(), in1d(), setdiff1d(), setxor1d()\n",
    "</details>"
   ]
  },
  {
   "cell_type": "code",
   "execution_count": 36,
   "metadata": {},
   "outputs": [
    {
     "name": "stdout",
     "output_type": "stream",
     "text": [
      "Original test1:  [0 1 2 3 4 5 6 7 8 9]\n",
      "Original test2:  [11 12 13 14 15 16 17 18 19 20]\n",
      "Condition:  [ True  True False  True False  True  True  True False  True]\n",
      "Result:  [ 0  1 13  3 15  5  6  7 19  9]\n"
     ]
    }
   ],
   "source": [
    "# Expressing conditional logic as array operations\n",
    "\n",
    "test1 = np.arange(10)\n",
    "test2 = np.arange(11,21)\n",
    "print('Original test1: ', test1)\n",
    "print('Original test2: ', test2)\n",
    "\n",
    "cond = (test1 % 3 == 0) | (test2 % 2 == 0)\n",
    "print('Condition: ',cond)\n",
    "result = np.where(cond, test1, test2) #pick test1 if condition is true, otherwise pick test2\n",
    "print('Result: ',result)\n"
   ]
  },
  {
   "cell_type": "markdown",
   "metadata": {},
   "source": [
    "<b> Mathematical and statistical methods"
   ]
  },
  {
   "cell_type": "markdown",
   "metadata": {},
   "source": [
    "|Method|\tDescription|\n",
    "|--|--|\n",
    "|sum|\tSum of all the elements in the array or along an axis; zero-length arrays have sum 0\n",
    "|mean|\tArithmetic mean; invalid (returns NaN) on zero-length arrays\n",
    "|std, var|\tStandard deviation and variance, respectively\n",
    "|min, max|\tMinimum and maximum\n",
    "|argmin, argmax|\tIndices of minimum and maximum elements, respectively\n",
    "|cumsum|\tCumulative sum of elements starting from 0\n",
    "|cumprod|\tCumulative product of elements starting from 1"
   ]
  },
  {
   "cell_type": "code",
   "execution_count": 37,
   "metadata": {},
   "outputs": [
    {
     "name": "stdout",
     "output_type": "stream",
     "text": [
      "Original test_1d:  [0 1 2 3 4 5 6 7 8 9]\n",
      "Printing test_1d.sum():  45\n",
      "\n",
      "Printing test_2d: \n",
      " [[0 1 2 3 4]\n",
      " [5 6 7 8 9]]\n",
      "\n",
      "Printing test_2d.sum(): \n",
      " 45\n",
      "\n",
      "Printing test_2d.sum(axis=0): \n",
      " [ 5  7  9 11 13]\n",
      "\n",
      "Few other examples:\n",
      "Printing test_1d.mean():  4.5\n",
      "Printing test_1d.std():  2.8722813232690143\n",
      "Printing test_1d.var():  8.25\n",
      "Printing test_1d.max():  9\n",
      "Printing test_1d.min():  0\n",
      "Printing test_1d.argmax():  9\n",
      "Printing test_1d.argmin():  0\n",
      "Printing test_1d.cumsum():  [ 0  1  3  6 10 15 21 28 36 45]\n",
      "Printing test_1d.cumprod():  [0 0 0 0 0 0 0 0 0 0]\n"
     ]
    }
   ],
   "source": [
    "# Mathematical and statistical methods\n",
    "\n",
    "test_1d = np.arange(10)\n",
    "print('Original test_1d: ',test_1d)\n",
    "print('Printing test_1d.sum(): ',test_1d.sum())\n",
    "\n",
    "test_2d = np.arange(10).reshape(2,5)\n",
    "print('\\nPrinting test_2d: \\n', test_2d)\n",
    "print('\\nPrinting test_2d.sum(): \\n',  test_2d.sum())\n",
    "print('\\nPrinting test_2d.sum(axis=0): \\n', test_2d.sum(axis=0))\n",
    "\n",
    "# A few other examples - mean(), std(), max(), min(), argmax(), cumsum(), cumprod()\n",
    "print('\\nFew other examples:')\n",
    "print('Printing test_1d.mean(): ',test_1d.mean())\n",
    "print('Printing test_1d.std(): ',test_1d.std())\n",
    "print('Printing test_1d.var(): ',test_1d.var())\n",
    "print('Printing test_1d.max(): ',test_1d.max())\n",
    "print('Printing test_1d.min(): ', test_1d.min())\n",
    "print('Printing test_1d.argmax(): ', test_1d.argmax())\n",
    "print('Printing test_1d.argmin(): ', test_1d.argmin())\n",
    "print('Printing test_1d.cumsum(): ', test_1d.cumsum())\n",
    "print('Printing test_1d.cumprod(): ', test_1d.cumprod())\n"
   ]
  },
  {
   "cell_type": "code",
   "execution_count": 38,
   "metadata": {},
   "outputs": [
    {
     "name": "stdout",
     "output_type": "stream",
     "text": [
      "Printing test_1d.sum():  2\n",
      "Printing test_1d.any():  True\n",
      "Printing test_1d.all():  False\n"
     ]
    }
   ],
   "source": [
    "# Methods for boolean arrays - any(),all()\n",
    "\n",
    "test_1d = np.array([True, False, True])\n",
    "\n",
    "print('Printing test_1d.sum(): ',test_1d.sum())\n",
    "print('Printing test_1d.any(): ',test_1d.any())\n",
    "print('Printing test_1d.all(): ',test_1d.all())"
   ]
  },
  {
   "cell_type": "code",
   "execution_count": 39,
   "metadata": {},
   "outputs": [
    {
     "name": "stdout",
     "output_type": "stream",
     "text": [
      "Original test1:  [-0.09211114 -0.33772469  1.31466166 -2.0265822  -1.56318465]\n",
      "Sorted test1:  [-2.0265822  -1.56318465 -0.33772469 -0.09211114  1.31466166]\n",
      "Original test2:  [-0.20867509  0.75423659 -0.00626008 -2.03893214  0.12657572]\n",
      "Printing np.sort(test2):  [-2.03893214 -0.20867509 -0.00626008  0.12657572  0.75423659]\n",
      "Printing test2 again:  [-0.20867509  0.75423659 -0.00626008 -2.03893214  0.12657572]\n"
     ]
    }
   ],
   "source": [
    "# Sorting\n",
    "\n",
    "test1 = np.random.randn(5)\n",
    "print('Original test1: ',test1)\n",
    "test1.sort()\n",
    "print('Sorted test1: ',test1)\n",
    "\n",
    "test2 = np.random.randn(5)\n",
    "print('Original test2: ',test2)\n",
    "print('Printing np.sort(test2): ',np.sort(test2)) #using top level np.methods do not change the array inplace\n",
    "print('Printing test2 again: ',test2)"
   ]
  },
  {
   "cell_type": "markdown",
   "metadata": {},
   "source": [
    "<b>Set Operations"
   ]
  },
  {
   "cell_type": "markdown",
   "metadata": {},
   "source": [
    "|Method|\tDescription|\n",
    "|--|--|\n",
    "|unique(x)|\tCompute the sorted, unique elements in x\n",
    "|intersect1d(x, y)|\tCompute the sorted, common elements in x and y\n",
    "|union1d(x, y)|\tCompute the sorted union of elements\n",
    "|in1d(x, y)|\tCompute a Boolean array indicating whether each element of x is contained in y\n",
    "|setdiff1d(x, y)|\tSet difference, elements in x that are not in y\n",
    "|setxor1d(x, y)|\tSet symmetric differences; elements that are in either of the arrays, but not both"
   ]
  },
  {
   "cell_type": "code",
   "execution_count": 40,
   "metadata": {},
   "outputs": [
    {
     "name": "stdout",
     "output_type": "stream",
     "text": [
      "[1 2 3]\n"
     ]
    }
   ],
   "source": [
    "# Set Operations - unique(), intersect1d(), union1d(), in1d(), setdiff1d(), setxor1d() \n",
    "\n",
    "# unique\n",
    "test1 = np.array([1,2,3,1])\n",
    "print(np.unique(test1))"
   ]
  },
  {
   "cell_type": "code",
   "execution_count": 41,
   "metadata": {},
   "outputs": [
    {
     "name": "stdout",
     "output_type": "stream",
     "text": [
      "[1 2]\n"
     ]
    }
   ],
   "source": [
    "# intersect1d\n",
    "test2 = np.array([1,2,4])\n",
    "print(np.intersect1d(test1, test2))\n"
   ]
  },
  {
   "cell_type": "code",
   "execution_count": 42,
   "metadata": {},
   "outputs": [
    {
     "name": "stdout",
     "output_type": "stream",
     "text": [
      "[1 2 3 4]\n"
     ]
    }
   ],
   "source": [
    "# union1d\n",
    "print(np.union1d(test1, test2))\n"
   ]
  },
  {
   "cell_type": "code",
   "execution_count": 43,
   "metadata": {},
   "outputs": [
    {
     "name": "stdout",
     "output_type": "stream",
     "text": [
      "[ True  True False  True]\n"
     ]
    }
   ],
   "source": [
    "# in1d\n",
    "print(np.in1d(test1, test2))\n"
   ]
  },
  {
   "cell_type": "code",
   "execution_count": 44,
   "metadata": {},
   "outputs": [
    {
     "name": "stdout",
     "output_type": "stream",
     "text": [
      "[3]\n"
     ]
    }
   ],
   "source": [
    "# setdiff1d\n",
    "print(np.setdiff1d(test1, test2))\n"
   ]
  },
  {
   "cell_type": "code",
   "execution_count": 45,
   "metadata": {},
   "outputs": [
    {
     "name": "stdout",
     "output_type": "stream",
     "text": [
      "[3 4]\n"
     ]
    }
   ],
   "source": [
    "# setxor1d\n",
    "print(np.setxor1d(test1, test2))"
   ]
  },
  {
   "cell_type": "markdown",
   "metadata": {},
   "source": [
    "[Back to Contents](#top)"
   ]
  },
  {
   "cell_type": "markdown",
   "metadata": {},
   "source": [
    "<a id=\"section-7\"></a>\n",
    "<details open> \n",
    "<summary> 07 - Linear Algebra</summary> <br>\n",
    "    <li>Dot product - multiple ways\n",
    "    <li>Inverse of a matrix\n",
    "</details>"
   ]
  },
  {
   "cell_type": "markdown",
   "metadata": {},
   "source": [
    "|Function|\tDescription|\n",
    "|--|--|\n",
    "|diag|\tReturn the diagonal (or off-diagonal) elements of a square matrix as a 1D array, or convert a 1D array into a square matrix with zeros on the off-diagonal\n",
    "|dot|\tMatrix multiplication\n",
    "|trace|\tCompute the sum of the diagonal elements\n",
    "|det|\tCompute the matrix determinant\n",
    "|eig|\tCompute the eigenvalues and eigenvectors of a square matrix\n",
    "|inv|\tCompute the inverse of a square matrix\n",
    "|pinv|\tCompute the Moore-Penrose pseudoinverse of a matrix\n",
    "|qr|\tCompute the QR decomposition\n",
    "|svd|\tCompute the singular value decomposition (SVD)\n",
    "|solve|\tSolve the linear system Ax = b for x, where A is a square matrix\n",
    "|lstsq|\tCompute the least-squares solution to Ax = b"
   ]
  },
  {
   "cell_type": "code",
   "execution_count": 46,
   "metadata": {},
   "outputs": [
    {
     "name": "stdout",
     "output_type": "stream",
     "text": [
      "11\n",
      "11\n",
      "11\n"
     ]
    }
   ],
   "source": [
    "# Dot product - multiple ways\n",
    "\n",
    "x = np.array([1,2])\n",
    "y = np.array([3,4])\n",
    "\n",
    "print(x.dot(y))\n",
    "print(np.dot(x,y))\n",
    "print(x@y)"
   ]
  },
  {
   "cell_type": "code",
   "execution_count": 47,
   "metadata": {},
   "outputs": [
    {
     "name": "stdout",
     "output_type": "stream",
     "text": [
      "[[-1.5  0.5]\n",
      " [ 1.   0. ]]\n"
     ]
    }
   ],
   "source": [
    "# Inverse of a matrix\n",
    "\n",
    "from numpy.linalg import inv\n",
    "\n",
    "x = np.arange(4).reshape(2,2)\n",
    "print(inv(x))"
   ]
  },
  {
   "cell_type": "markdown",
   "metadata": {},
   "source": [
    "[Back to Contents](#top)"
   ]
  },
  {
   "cell_type": "markdown",
   "metadata": {},
   "source": [
    "<a id=\"section-8\"></a>\n",
    "<details open> \n",
    "<summary> 08 - Pseudorandom Number Generation</summary> <br>\n",
    "    <li>Random nos. generation and using seed()\n",
    "    <li>Other examples - \n",
    "</details>"
   ]
  },
  {
   "cell_type": "code",
   "execution_count": 48,
   "metadata": {},
   "outputs": [
    {
     "name": "stdout",
     "output_type": "stream",
     "text": [
      "[[ 0.66053184 -0.04918544 -1.1879332  -0.58665286]\n",
      " [ 1.83998721 -1.35591601  1.50028918  1.12069971]\n",
      " [ 1.91984279 -0.82113191  1.98826613  0.59578841]\n",
      " [ 1.40077048  0.92004742  1.24622566  0.53250695]]\n",
      "\n",
      "\n",
      "[[ 1.62434536 -0.61175641 -0.52817175 -1.07296862]\n",
      " [ 0.86540763 -2.3015387   1.74481176 -0.7612069 ]\n",
      " [ 0.3190391  -0.24937038  1.46210794 -2.06014071]\n",
      " [-0.3224172  -0.38405435  1.13376944 -1.09989127]]\n",
      "\n",
      "\n",
      "[ 1.3315865   0.71527897 -1.54540029 -0.00838385  0.62133597 -0.72008556\n",
      "  0.26551159  0.10854853  0.00429143 -0.17460021]\n"
     ]
    }
   ],
   "source": [
    "# Random nos. generation and using seed()\n",
    "\n",
    "dist = np.random.normal(size=(4,4))\n",
    "print(dist)\n",
    "\n",
    "np.random.seed(1)\n",
    "dist = np.random.normal(size=(4,4))\n",
    "print('\\n')\n",
    "print(dist)\n",
    "\n",
    "rng = np.random.RandomState(10)\n",
    "print('\\n')\n",
    "print(rng.randn(10))\n"
   ]
  },
  {
   "cell_type": "code",
   "execution_count": 49,
   "metadata": {},
   "outputs": [
    {
     "name": "stdout",
     "output_type": "stream",
     "text": [
      "[ 1.62434536 -0.61175641 -0.52817175 -1.07296862  0.86540763 -2.3015387\n",
      "  1.74481176 -0.7612069   0.3190391  -0.24937038]\n",
      "\n",
      "Perumutation of array: \n",
      " [ 0.3190391  -1.07296862 -2.3015387  -0.24937038  1.62434536  1.74481176\n",
      " -0.61175641 -0.7612069   0.86540763 -0.52817175]\n",
      "\n",
      "Shuffling of array: \n",
      " [-0.52817175  0.86540763 -1.07296862  1.62434536  1.74481176 -0.61175641\n",
      " -2.3015387   0.3190391  -0.7612069  -0.24937038]\n",
      "\n",
      "Binomial distribution: \n",
      " 3\n",
      "\n",
      "Normal distribution: \n",
      " 11.067621824565125\n",
      "\n",
      "Uniform distribution: \n",
      " 5.734677720215863\n"
     ]
    }
   ],
   "source": [
    "# Other examples - permutation(), shuffle(), binomial(), normal(), uniform()\n",
    "\n",
    "np.random.seed(1)\n",
    "dist = np.random.randn(10)\n",
    "print(dist)\n",
    "\n",
    "print('\\nPerumutation of array: \\n', np.random.permutation(dist))\n",
    "np.random.shuffle(dist)\n",
    "print('\\nShuffling of array: \\n', dist)\n",
    "print('\\nBinomial distribution: \\n', np.random.binomial(10, 0.5))\n",
    "print('\\nNormal distribution: \\n', np.random.normal(10, 2))\n",
    "print('\\nUniform distribution: \\n', np.random.uniform(10, 2))\n"
   ]
  },
  {
   "cell_type": "markdown",
   "metadata": {},
   "source": [
    "[Back to Contents](#top)"
   ]
  }
 ],
 "metadata": {
  "kernelspec": {
   "display_name": "ptds",
   "language": "python",
   "name": "python3"
  },
  "language_info": {
   "codemirror_mode": {
    "name": "ipython",
    "version": 3
   },
   "file_extension": ".py",
   "mimetype": "text/x-python",
   "name": "python",
   "nbconvert_exporter": "python",
   "pygments_lexer": "ipython3",
   "version": "3.11.4"
  },
  "orig_nbformat": 4
 },
 "nbformat": 4,
 "nbformat_minor": 2
}
