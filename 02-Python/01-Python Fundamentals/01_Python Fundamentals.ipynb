{
 "cells": [
  {
   "cell_type": "markdown",
   "metadata": {},
   "source": [
    "# Fundamentals - Reference : Python Crash Course"
   ]
  },
  {
   "cell_type": "markdown",
   "metadata": {},
   "source": [
    "### Getting Started"
   ]
  },
  {
   "cell_type": "code",
   "execution_count": 1,
   "metadata": {},
   "outputs": [
    {
     "name": "stdout",
     "output_type": "stream",
     "text": [
      "Hello World!\n"
     ]
    }
   ],
   "source": [
    "print('Hello World!')"
   ]
  },
  {
   "cell_type": "markdown",
   "metadata": {},
   "source": [
    "##### Conda Env Commands\n",
    "\n",
    "<b> Code to create an env</b>\n",
    "<br>conda create -n \"ptds\" python=3.11\n",
    "\n",
    "<b> Code to activate an env</b>\n",
    "<br>conda activate ptds\n",
    "    \n",
    "<b> Code to deactivate an env</b>\n",
    "<br>conda deactivate\n",
    "\n",
    "<b> code to remove a env</b>\n",
    "<br>conda env remove -n \"ptds\""
   ]
  },
  {
   "cell_type": "markdown",
   "metadata": {},
   "source": [
    "### Variables and Simple Data Types"
   ]
  },
  {
   "cell_type": "code",
   "execution_count": 2,
   "metadata": {},
   "outputs": [
    {
     "name": "stdout",
     "output_type": "stream",
     "text": [
      "hi everyone, this is a good start\n",
      "HI EVERYONE, THIS IS A GOOD START\n",
      "Hi Everyone, This Is A Good Start\n"
     ]
    }
   ],
   "source": [
    "# String Manipulation\n",
    "message = 'Hi everyone, this is a good Start'\n",
    "\n",
    "print(message.lower())\n",
    "print(message.upper())\n",
    "print(message.title())\n"
   ]
  },
  {
   "cell_type": "code",
   "execution_count": 3,
   "metadata": {},
   "outputs": [
    {
     "name": "stdout",
     "output_type": "stream",
     "text": [
      "Hi everyone, this is a good Start \n",
      "\t\tBye!\n"
     ]
    }
   ],
   "source": [
    "print(message + \" \\n\\t\\tBye!\")"
   ]
  },
  {
   "cell_type": "code",
   "execution_count": 4,
   "metadata": {},
   "outputs": [
    {
     "name": "stdout",
     "output_type": "stream",
     "text": [
      "\tHi everyone, this is a good Start\n",
      "Hi everyone, this is a good Start\n",
      "Hi everyone, this is a good Start\n"
     ]
    }
   ],
   "source": [
    "new_message = '\\t' + message\n",
    "\n",
    "print(new_message.rstrip())\n",
    "print(new_message.lstrip())\n",
    "print(new_message.strip())"
   ]
  },
  {
   "cell_type": "code",
   "execution_count": 5,
   "metadata": {},
   "outputs": [
    {
     "name": "stdout",
     "output_type": "stream",
     "text": [
      "8\n",
      "8\n",
      "8.0\n",
      "8\n",
      "8\n",
      "Favorite number 7\n"
     ]
    }
   ],
   "source": [
    "# Number Operation\n",
    "print(5+3)\n",
    "print(9-1)\n",
    "print(16/2)\n",
    "print(2*4)\n",
    "print(2**3)\n",
    "\n",
    "fav = 7\n",
    "print(\"Favorite number \" + str(fav))"
   ]
  },
  {
   "cell_type": "code",
   "execution_count": 6,
   "metadata": {},
   "outputs": [
    {
     "name": "stdout",
     "output_type": "stream",
     "text": [
      "The Zen of Python, by Tim Peters\n",
      "\n",
      "Beautiful is better than ugly.\n",
      "Explicit is better than implicit.\n",
      "Simple is better than complex.\n",
      "Complex is better than complicated.\n",
      "Flat is better than nested.\n",
      "Sparse is better than dense.\n",
      "Readability counts.\n",
      "Special cases aren't special enough to break the rules.\n",
      "Although practicality beats purity.\n",
      "Errors should never pass silently.\n",
      "Unless explicitly silenced.\n",
      "In the face of ambiguity, refuse the temptation to guess.\n",
      "There should be one-- and preferably only one --obvious way to do it.\n",
      "Although that way may not be obvious at first unless you're Dutch.\n",
      "Now is better than never.\n",
      "Although never is often better than *right* now.\n",
      "If the implementation is hard to explain, it's a bad idea.\n",
      "If the implementation is easy to explain, it may be a good idea.\n",
      "Namespaces are one honking great idea -- let's do more of those!\n"
     ]
    }
   ],
   "source": [
    "#Zen of Python\n",
    "import this"
   ]
  },
  {
   "cell_type": "markdown",
   "metadata": {},
   "source": [
    "### Chapter 3 - Introducing Lists"
   ]
  },
  {
   "cell_type": "code",
   "execution_count": 7,
   "metadata": {},
   "outputs": [
    {
     "name": "stdout",
     "output_type": "stream",
     "text": [
      "['abc', 'bbb', 'cdef']\n",
      "['first element updated', 'bbb', 'middle', 'cdef', 'at then end']\n",
      "middle\n",
      "at then end\n",
      "['first element updated', 'bbb', 'cdef']\n",
      "['bbb', 'cdef']\n"
     ]
    }
   ],
   "source": [
    "#List Manipulation\n",
    "listname = ['abc','bbb','cdef']\n",
    "print(listname)\n",
    "\n",
    "listname.append('at then end')\n",
    "listname.insert(2,'middle')\n",
    "listname[0] ='first element updated'\n",
    "print(listname)\n",
    "\n",
    "print(listname.pop(2))\n",
    "print(listname.pop())\n",
    "print(listname)\n",
    "\n",
    "del listname[0]\n",
    "print(listname)"
   ]
  },
  {
   "cell_type": "code",
   "execution_count": 8,
   "metadata": {},
   "outputs": [
    {
     "name": "stdout",
     "output_type": "stream",
     "text": [
      "['zzz', 'ab', 'pr', 'ri']\n",
      "['ab', 'pr', 'ri', 'zzz']\n",
      "['zzz', 'ab', 'pr', 'ri']\n",
      "['zzz', 'ri', 'pr', 'ab']\n",
      "['zzz', 'ab', 'pr', 'ri']\n",
      "['ri', 'pr', 'ab', 'zzz']\n",
      "['zzz', 'ab', 'pr', 'ri']\n",
      "['ab', 'pr', 'ri', 'zzz']\n",
      "['zzz', 'ri', 'pr', 'ab']\n",
      "4\n"
     ]
    }
   ],
   "source": [
    "#List Organizing\n",
    "locations = ['zzz','ab', 'pr', 'ri']\n",
    "\n",
    "print(locations)\n",
    "print(sorted(locations))\n",
    "print(locations)\n",
    "print(sorted(locations,reverse=True))\n",
    "print(locations)\n",
    "locations.reverse()\n",
    "print(locations)\n",
    "locations.reverse()\n",
    "print(locations)\n",
    "locations.sort()\n",
    "print(locations)\n",
    "locations.sort(reverse=True)\n",
    "print(locations)\n",
    "\n",
    "print(len(locations))"
   ]
  },
  {
   "cell_type": "markdown",
   "metadata": {},
   "source": [
    "### Chapter 4 - Working with Lists"
   ]
  },
  {
   "cell_type": "code",
   "execution_count": 9,
   "metadata": {},
   "outputs": [
    {
     "name": "stdout",
     "output_type": "stream",
     "text": [
      "abc\n",
      "bbc\n",
      "tds\n"
     ]
    }
   ],
   "source": [
    "#Looping through a list\n",
    "listname = ['abc','bbc','tds']\n",
    "\n",
    "for item in listname:\n",
    "    print(item)"
   ]
  },
  {
   "cell_type": "code",
   "execution_count": 10,
   "metadata": {},
   "outputs": [
    {
     "name": "stdout",
     "output_type": "stream",
     "text": [
      "[1, 3, 5, 7, 9, 11, 13]\n"
     ]
    }
   ],
   "source": [
    "#List Comprehension & Range\n",
    "listname = [ value for value in range(1,15,2)]\n",
    "print(listname)"
   ]
  },
  {
   "cell_type": "code",
   "execution_count": 11,
   "metadata": {},
   "outputs": [
    {
     "name": "stdout",
     "output_type": "stream",
     "text": [
      "[1, 3]\n",
      "[5, 7, 9, 11, 13]\n",
      "[3, 5, 7]\n",
      "[11, 13]\n",
      "1\n",
      "9\n"
     ]
    }
   ],
   "source": [
    "#Slicing a list\n",
    "listname = [ value for value in range(1,15,2)]\n",
    "print(listname[:2])\n",
    "print(listname[2:])\n",
    "print(listname[1:4])\n",
    "print(listname[-2:])\n",
    "\n",
    "for item in listname[0:2]:\n",
    "    print(item**2)"
   ]
  },
  {
   "cell_type": "code",
   "execution_count": 12,
   "metadata": {},
   "outputs": [
    {
     "name": "stdout",
     "output_type": "stream",
     "text": [
      "[1, 3, 5, 7, 9, 11, 13, 100]\n",
      "[1, 3, 5, 7, 9, 11, 13]\n",
      "[1, 3, 5, 7, 9, 11, 13, 100]\n",
      "[1, 3, 5, 7, 9, 11, 13, 100]\n"
     ]
    }
   ],
   "source": [
    "#Copying a list\n",
    "new_copy = listname[:]\n",
    "new_copy.append(100)\n",
    "\n",
    "print(new_copy)\n",
    "print(listname)\n",
    "\n",
    "new_copy = listname\n",
    "new_copy.append(100)\n",
    "\n",
    "print(new_copy)\n",
    "print(listname)\n"
   ]
  },
  {
   "cell_type": "code",
   "execution_count": 13,
   "metadata": {},
   "outputs": [
    {
     "name": "stdout",
     "output_type": "stream",
     "text": [
      "1\n",
      "1\n",
      "2\n"
     ]
    },
    {
     "ename": "TypeError",
     "evalue": "'tuple' object does not support item assignment",
     "output_type": "error",
     "traceback": [
      "\u001b[0;31m---------------------------------------------------------------------------\u001b[0m",
      "\u001b[0;31mTypeError\u001b[0m                                 Traceback (most recent call last)",
      "Cell \u001b[0;32mIn[13], line 7\u001b[0m\n\u001b[1;32m      4\u001b[0m \u001b[39mfor\u001b[39;00m value \u001b[39min\u001b[39;00m mytuple:\n\u001b[1;32m      5\u001b[0m     \u001b[39mprint\u001b[39m(value)\n\u001b[0;32m----> 7\u001b[0m mytuple[\u001b[39m0\u001b[39;49m]\u001b[39m=\u001b[39m\u001b[39m11\u001b[39m\n",
      "\u001b[0;31mTypeError\u001b[0m: 'tuple' object does not support item assignment"
     ]
    }
   ],
   "source": [
    "#Using Tuples\n",
    "mytuple = (1,2)\n",
    "print(mytuple[0])\n",
    "for value in mytuple:\n",
    "    print(value)\n",
    "\n",
    "mytuple[0]=11"
   ]
  },
  {
   "cell_type": "markdown",
   "metadata": {},
   "source": [
    "### Chapter 5 - If Statements"
   ]
  },
  {
   "cell_type": "code",
   "execution_count": 14,
   "metadata": {},
   "outputs": [
    {
     "name": "stdout",
     "output_type": "stream",
     "text": [
      "False\n",
      "True\n",
      "True\n",
      "True\n"
     ]
    }
   ],
   "source": [
    "#If Statements - equality, inequality, relational operators in numerical comparisons\n",
    "\n",
    "a = 'ABC'\n",
    "b = 'abc'\n",
    "c = 1\n",
    "d = 2\n",
    "\n",
    "print(a == b)\n",
    "print(a != b)\n",
    "print(a.lower() == b.lower())\n",
    "print(c < d)"
   ]
  },
  {
   "cell_type": "code",
   "execution_count": 15,
   "metadata": {},
   "outputs": [
    {
     "name": "stdout",
     "output_type": "stream",
     "text": [
      "yes\n"
     ]
    }
   ],
   "source": [
    "#If-elif-else construct\n",
    "listname = ['a','v','d']\n",
    "\n",
    "if 'a' in listname:\n",
    "    print('yes')\n",
    "\n",
    "elif 'v' in listname:\n",
    "    print('yes')\n",
    "\n",
    "else:\n",
    "    print('no')"
   ]
  },
  {
   "cell_type": "code",
   "execution_count": 16,
   "metadata": {},
   "outputs": [
    {
     "name": "stdout",
     "output_type": "stream",
     "text": [
      "yes\n",
      "yes\n"
     ]
    }
   ],
   "source": [
    "#If for multiple conditions, else is omitted\n",
    "listname = ['a','v','d']\n",
    "\n",
    "if 'a' in listname:\n",
    "    print('yes')\n",
    "\n",
    "if 'v' in listname:\n",
    "    print('yes')"
   ]
  },
  {
   "cell_type": "code",
   "execution_count": 17,
   "metadata": {},
   "outputs": [
    {
     "name": "stdout",
     "output_type": "stream",
     "text": [
      "Empty\n"
     ]
    }
   ],
   "source": [
    "listname = []\n",
    "if listname:\n",
    "    print('Not Empty')\n",
    "else:\n",
    "    print('Empty')"
   ]
  },
  {
   "cell_type": "markdown",
   "metadata": {},
   "source": [
    "### Chapter 6 - Dictionaries"
   ]
  },
  {
   "cell_type": "code",
   "execution_count": 18,
   "metadata": {},
   "outputs": [
    {
     "name": "stdout",
     "output_type": "stream",
     "text": [
      "{}\n",
      "{'key': 'value', 'key1': 'value1'}\n",
      "value\n",
      "{'key': 'value', 'key1': 'value2'}\n",
      "{'key': 'value'}\n"
     ]
    }
   ],
   "source": [
    "#initializing and accessing and deleting a value from a dictionary\n",
    "\n",
    "dictname = {}\n",
    "print(dictname)\n",
    "\n",
    "dictname['key'] = 'value'\n",
    "dictname['key1'] = 'value1'\n",
    "print(dictname)\n",
    "\n",
    "print(dictname['key'])\n",
    "\n",
    "dictname['key1'] = 'value2'\n",
    "print(dictname)\n",
    "\n",
    "del dictname['key1']\n",
    "print(dictname)\n"
   ]
  },
  {
   "cell_type": "code",
   "execution_count": 19,
   "metadata": {},
   "outputs": [
    {
     "name": "stdout",
     "output_type": "stream",
     "text": [
      "{}\n",
      "{'key1': 'value1', 'key3': 'value2', 'key2': 'value1'}\n",
      "key1 value1\n",
      "key3 value2\n",
      "key2 value1\n",
      "key1\n",
      "key2\n",
      "key3\n",
      "value2\n",
      "value1\n"
     ]
    }
   ],
   "source": [
    "#Looping through a dictionary\n",
    "\n",
    "dictname = {}\n",
    "print(dictname)\n",
    "\n",
    "dictname['key1'] = 'value1'\n",
    "dictname['key3'] = 'value2'\n",
    "dictname['key2'] = 'value1'\n",
    "\n",
    "print(dictname)\n",
    "\n",
    "for key, value in dictname.items():\n",
    "    print(key, value)\n",
    "\n",
    "for key in sorted(dictname.keys()):\n",
    "    print(key)\n",
    "\n",
    "for value in set(dictname.values()):\n",
    "    print(value)"
   ]
  },
  {
   "cell_type": "code",
   "execution_count": 20,
   "metadata": {},
   "outputs": [
    {
     "name": "stdout",
     "output_type": "stream",
     "text": [
      "key1 value1\n",
      "key2 value2\n",
      "key1 value1\n",
      "key2 value2\n",
      "key1 value1\n",
      "key2 value2\n",
      "1\n",
      "2\n",
      "inner_key value\n"
     ]
    }
   ],
   "source": [
    "#Nesting - a list of dicts, a dict with value as list and a dict with value as dict\n",
    "\n",
    "dict1 = {'key1':'value1','key2':'value2'}\n",
    "dict2 = {'key1':'value1','key2':'value2'}\n",
    "dict3 = {'key1':'value1','key2':'value2'}\n",
    "\n",
    "listname = [dict1,dict2,dict3]\n",
    "\n",
    "for item in listname:\n",
    "    for key, value in item.items():\n",
    "        print(key, value)\n",
    "\n",
    "\n",
    "dictname = {'key': [1,2]}\n",
    "\n",
    "for k in dictname:\n",
    "    for i in dictname[k]:\n",
    "        print(i)\n",
    "\n",
    "dictname = {'key': {'inner_key':'value'}}\n",
    "\n",
    "for key in dictname:\n",
    "    for inner_key in dictname[key]:\n",
    "        print(inner_key,dictname[key][inner_key])"
   ]
  },
  {
   "cell_type": "markdown",
   "metadata": {},
   "source": [
    "### Chapter 7 - User Input and While Statements"
   ]
  },
  {
   "cell_type": "markdown",
   "metadata": {},
   "source": [
    "<b> Getting User Input </b>\n",
    "<br><br>\n",
    "message = input('Give me your message')"
   ]
  },
  {
   "cell_type": "code",
   "execution_count": 21,
   "metadata": {},
   "outputs": [
    {
     "name": "stdout",
     "output_type": "stream",
     "text": [
      "3\n",
      "1\n"
     ]
    }
   ],
   "source": [
    "tr = '2'\n",
    "print(int(tr)+1)\n",
    "print(5%2)"
   ]
  },
  {
   "cell_type": "code",
   "execution_count": 23,
   "metadata": {},
   "outputs": [
    {
     "name": "stdout",
     "output_type": "stream",
     "text": [
      "1\n",
      "2\n",
      "3\n",
      "4\n",
      "5\n"
     ]
    }
   ],
   "source": [
    "#Simple while loop\n",
    "i = 1\n",
    "while i <= 5:\n",
    "    print(i)\n",
    "    i += 1\n"
   ]
  },
  {
   "cell_type": "code",
   "execution_count": 25,
   "metadata": {},
   "outputs": [
    {
     "name": "stdout",
     "output_type": "stream",
     "text": [
      "3\n",
      "4\n",
      "5\n",
      "6\n"
     ]
    }
   ],
   "source": [
    "#Simple while loop with continue\n",
    "i = 1\n",
    "while i <= 5:\n",
    "    i += 1\n",
    "    if i == 2:\n",
    "        continue\n",
    "    print(i)\n"
   ]
  },
  {
   "cell_type": "code",
   "execution_count": 26,
   "metadata": {},
   "outputs": [
    {
     "name": "stdout",
     "output_type": "stream",
     "text": [
      "2\n",
      "3\n"
     ]
    }
   ],
   "source": [
    "#Simple while loop with break\n",
    "i = 1\n",
    "while i <= 5:\n",
    "    i += 1\n",
    "    if i == 4:\n",
    "        break\n",
    "    print(i)"
   ]
  },
  {
   "cell_type": "code",
   "execution_count": 27,
   "metadata": {},
   "outputs": [
    {
     "name": "stdout",
     "output_type": "stream",
     "text": [
      "['a', 'cc', 'd', 'c']\n"
     ]
    }
   ],
   "source": [
    "#Removing all instances of a value from list\n",
    "listname = ['a','bb','cc','bb','d','c']\n",
    "\n",
    "for value in listname:\n",
    "    if value == 'bb':\n",
    "        listname.remove(value)\n",
    "\n",
    "print(listname)"
   ]
  },
  {
   "cell_type": "markdown",
   "metadata": {},
   "source": [
    "### Chapter 8 - Functions"
   ]
  },
  {
   "cell_type": "code",
   "execution_count": 35,
   "metadata": {},
   "outputs": [
    {
     "name": "stdout",
     "output_type": "stream",
     "text": [
      "arg1 arg2 arg3\n",
      "arg1 arg2 arg3\n",
      "arg4\n",
      "arg1 arg2 arg3\n"
     ]
    }
   ],
   "source": [
    "#Function example with positional, keyword and default arguments\n",
    "def function_name(param1, param2, param3='default',param4=''):\n",
    "    print(param1, param2, param3)\n",
    "\n",
    "    if param4:\n",
    "        print(param4)\n",
    "\n",
    "function_name('arg1', 'arg2', 'arg3')\n",
    "function_name('arg1', 'arg2', 'arg3','arg4')\n",
    "function_name(param2='arg2',param1='arg1',param3='arg3')"
   ]
  },
  {
   "cell_type": "code",
   "execution_count": 36,
   "metadata": {},
   "outputs": [
    {
     "name": "stdout",
     "output_type": "stream",
     "text": [
      "(1, 2, 3, 4, 5)\n"
     ]
    }
   ],
   "source": [
    "#Function with arbitary values\n",
    "def function_name(*args):\n",
    "    print(args)\n",
    "\n",
    "function_name(1,2,3,4,5)"
   ]
  },
  {
   "cell_type": "code",
   "execution_count": 37,
   "metadata": {},
   "outputs": [
    {
     "name": "stdout",
     "output_type": "stream",
     "text": [
      "1\n",
      "{'two': 2, 'three': 3}\n"
     ]
    }
   ],
   "source": [
    "#Function with arbitary keyword args\n",
    "def function_name(param1, **args):\n",
    "    print(param1)\n",
    "    print(args)\n",
    "\n",
    "function_name(1,two=2,three=3)"
   ]
  },
  {
   "cell_type": "code",
   "execution_count": null,
   "metadata": {},
   "outputs": [],
   "source": []
  }
 ],
 "metadata": {
  "kernelspec": {
   "display_name": "ptds",
   "language": "python",
   "name": "python3"
  },
  "language_info": {
   "codemirror_mode": {
    "name": "ipython",
    "version": 3
   },
   "file_extension": ".py",
   "mimetype": "text/x-python",
   "name": "python",
   "nbconvert_exporter": "python",
   "pygments_lexer": "ipython3",
   "version": "3.11.4"
  },
  "orig_nbformat": 4
 },
 "nbformat": 4,
 "nbformat_minor": 2
}
