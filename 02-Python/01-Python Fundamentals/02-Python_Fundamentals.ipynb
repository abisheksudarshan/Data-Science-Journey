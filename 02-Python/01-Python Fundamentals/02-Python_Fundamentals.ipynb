{
 "cells": [
  {
   "cell_type": "markdown",
   "metadata": {},
   "source": [
    "# Fundamentals - Reference : Python Crash Course"
   ]
  },
  {
   "cell_type": "markdown",
   "metadata": {},
   "source": [
    "<a id=\"top\"></a>"
   ]
  },
  {
   "cell_type": "markdown",
   "metadata": {},
   "source": [
    "### Contents\n",
    "- [01 - Python Setup : Getting Started](#section-1)\n",
    "- [02 - Variables](#section-2)\n",
    "- [03 - Basic DataTypes](#section-3)\n",
    "- [04 - Lists](#section-4)\n",
    "- [05 - Dictionary](#section-5)\n",
    "- [06 - If Statement](#section-6)\n",
    "- [07 - While Loop & User Input](#section-7)\n",
    "- [08 - Functions](#section-8)\n",
    "- [09 - Classes](#section-9)\n",
    "- [10 - File Operations](#section-10)\n",
    "- [11 - Exceptions](#section-11)\n",
    "- [12 - Testing Your Code](#section-12)\n"
   ]
  },
  {
   "cell_type": "markdown",
   "metadata": {},
   "source": [
    "### 01 - Python Setup : Getting Started <a id=\"section-1\"></a>"
   ]
  },
  {
   "cell_type": "code",
   "execution_count": 1,
   "metadata": {},
   "outputs": [
    {
     "name": "stdout",
     "output_type": "stream",
     "text": [
      "Hello World!\n"
     ]
    }
   ],
   "source": [
    "# Classic Hello World\n",
    "print('Hello World!')"
   ]
  },
  {
   "cell_type": "markdown",
   "metadata": {},
   "source": [
    "##### Conda Env Commands\n",
    "\n",
    "<b> Code to create an env</b>\n",
    "<br>conda create -n \"ptds\" python=3.11\n",
    "\n",
    "<b> Code to activate an env</b>\n",
    "<br>conda activate ptds\n",
    "    \n",
    "<b> Code to deactivate an env</b>\n",
    "<br>conda deactivate\n",
    "\n",
    "<b> code to remove a env</b>\n",
    "<br>conda env remove -n \"ptds\""
   ]
  },
  {
   "cell_type": "markdown",
   "metadata": {},
   "source": [
    "[Back to Contents](#top)"
   ]
  },
  {
   "cell_type": "markdown",
   "metadata": {},
   "source": [
    "### 02 - Variables <a id=\"section-2\"></a>"
   ]
  },
  {
   "cell_type": "code",
   "execution_count": 3,
   "metadata": {},
   "outputs": [
    {
     "ename": "SyntaxError",
     "evalue": "invalid decimal literal (509035761.py, line 4)",
     "output_type": "error",
     "traceback": [
      "\u001b[0;36m  Cell \u001b[0;32mIn[3], line 4\u001b[0;36m\u001b[0m\n\u001b[0;31m    3_var = 1\u001b[0m\n\u001b[0m     ^\u001b[0m\n\u001b[0;31mSyntaxError\u001b[0m\u001b[0;31m:\u001b[0m invalid decimal literal\n"
     ]
    }
   ],
   "source": [
    "# Valid/Invalid variable names\n",
    "temp_var = 5\n",
    "_var1 = 1\n",
    "3_var = 1"
   ]
  },
  {
   "cell_type": "markdown",
   "metadata": {},
   "source": [
    "[Back to Contents](#top)"
   ]
  },
  {
   "cell_type": "markdown",
   "metadata": {},
   "source": [
    "### 03 - Basic Data Types <a id=\"section-3\"></a>"
   ]
  },
  {
   "cell_type": "markdown",
   "metadata": {},
   "source": [
    "#### 3.1 Strings"
   ]
  },
  {
   "cell_type": "code",
   "execution_count": 2,
   "metadata": {},
   "outputs": [
    {
     "name": "stdout",
     "output_type": "stream",
     "text": [
      "hi everyone, this is a good start\n",
      "HI EVERYONE, THIS IS A GOOD START\n",
      "Hi Everyone, This Is A Good Start\n"
     ]
    }
   ],
   "source": [
    "# String Manipulation - .lower(), .upper(), .title()\n",
    "\n",
    "message = 'Hi everyone, this is a good Start'\n",
    "\n",
    "print(message.lower())\n",
    "print(message.upper())\n",
    "print(message.title())\n"
   ]
  },
  {
   "cell_type": "code",
   "execution_count": 4,
   "metadata": {},
   "outputs": [
    {
     "name": "stdout",
     "output_type": "stream",
     "text": [
      "\tHi everyone, this is a good Start\n",
      "Hi everyone, this is a good Start\n",
      "Hi everyone, this is a good Start\n"
     ]
    }
   ],
   "source": [
    "# Removing whitespace using .strip(), .lstrip(), .rstrip()\n",
    "\n",
    "new_message = '\\t' + message\n",
    "\n",
    "print(new_message.rstrip())\n",
    "print(new_message.lstrip())\n",
    "print(new_message.strip())"
   ]
  },
  {
   "cell_type": "markdown",
   "metadata": {},
   "source": [
    "#### 3.2 Numbers"
   ]
  },
  {
   "cell_type": "code",
   "execution_count": 6,
   "metadata": {},
   "outputs": [
    {
     "name": "stdout",
     "output_type": "stream",
     "text": [
      "8\n",
      "8\n",
      "8.0\n",
      "8\n",
      "8\n",
      "2\n",
      "1\n",
      "Favorite number 7\n"
     ]
    }
   ],
   "source": [
    "# Number Operation\n",
    "print(5+3)\n",
    "print(9-1)\n",
    "print(16/2)\n",
    "print(2*4)\n",
    "print(2**3) # Exponent\n",
    "print(8//3) # Getting integer value (quotient) only\n",
    "print(10%3) # Getting remainder\n",
    "\n",
    "fav = 7\n",
    "print(\"Favorite number \" + str(fav)) # str() converts int to string"
   ]
  },
  {
   "cell_type": "code",
   "execution_count": 6,
   "metadata": {},
   "outputs": [
    {
     "name": "stdout",
     "output_type": "stream",
     "text": [
      "The Zen of Python, by Tim Peters\n",
      "\n",
      "Beautiful is better than ugly.\n",
      "Explicit is better than implicit.\n",
      "Simple is better than complex.\n",
      "Complex is better than complicated.\n",
      "Flat is better than nested.\n",
      "Sparse is better than dense.\n",
      "Readability counts.\n",
      "Special cases aren't special enough to break the rules.\n",
      "Although practicality beats purity.\n",
      "Errors should never pass silently.\n",
      "Unless explicitly silenced.\n",
      "In the face of ambiguity, refuse the temptation to guess.\n",
      "There should be one-- and preferably only one --obvious way to do it.\n",
      "Although that way may not be obvious at first unless you're Dutch.\n",
      "Now is better than never.\n",
      "Although never is often better than *right* now.\n",
      "If the implementation is hard to explain, it's a bad idea.\n",
      "If the implementation is easy to explain, it may be a good idea.\n",
      "Namespaces are one honking great idea -- let's do more of those!\n"
     ]
    }
   ],
   "source": [
    "#Zen of Python\n",
    "import this"
   ]
  },
  {
   "cell_type": "markdown",
   "metadata": {},
   "source": [
    "[Back to Contents](#top)"
   ]
  },
  {
   "cell_type": "markdown",
   "metadata": {},
   "source": [
    "### 04 - Lists <a id=\"section-4\"></a>"
   ]
  },
  {
   "cell_type": "code",
   "execution_count": 17,
   "metadata": {},
   "outputs": [
    {
     "name": "stdout",
     "output_type": "stream",
     "text": [
      "['val1', 'val2', 'val3']\n",
      "['first element updated', 'val2', 'middle', 'val3', 'at then end']\n",
      "middle\n",
      "at then end\n",
      "['first element updated', 'val2', 'val3']\n",
      "['val2', 'val3']\n"
     ]
    }
   ],
   "source": [
    "# List Manipulation - .append(), .insert(), .pop(), del\n",
    "\n",
    "listname = []\n",
    "listname.append('val1')\n",
    "listname.append('val2')\n",
    "listname.append('val3')\n",
    "print(listname)\n",
    "\n",
    "listname.append('at then end')\n",
    "listname.insert(2,'middle')\n",
    "listname[0] ='first element updated'\n",
    "print(listname)\n",
    "\n",
    "print(listname.pop(2))\n",
    "print(listname.pop())\n",
    "print(listname)\n",
    "\n",
    "del listname[0]\n",
    "print(listname)"
   ]
  },
  {
   "cell_type": "code",
   "execution_count": 9,
   "metadata": {},
   "outputs": [
    {
     "name": "stdout",
     "output_type": "stream",
     "text": [
      "['India', 'USA', 'Australia', 'Zimbabwe']\n",
      "['Australia', 'India', 'USA', 'Zimbabwe']\n",
      "['India', 'USA', 'Australia', 'Zimbabwe']\n",
      "['Zimbabwe', 'USA', 'India', 'Australia']\n",
      "['India', 'USA', 'Australia', 'Zimbabwe']\n",
      "['Zimbabwe', 'Australia', 'USA', 'India']\n",
      "['India', 'USA', 'Australia', 'Zimbabwe']\n",
      "['Australia', 'India', 'USA', 'Zimbabwe']\n",
      "['Zimbabwe', 'USA', 'India', 'Australia']\n",
      "4\n"
     ]
    }
   ],
   "source": [
    "# List Organizing - .sort(), .reverse(), sorted()\n",
    "locations = ['India','USA', 'Australia', 'Zimbabwe']\n",
    "\n",
    "print(locations)\n",
    "print(sorted(locations)) # sorted() does not change the original list order\n",
    "\n",
    "print(locations)\n",
    "print(sorted(locations,reverse=True))\n",
    "\n",
    "print(locations)\n",
    "locations.reverse()\n",
    "\n",
    "print(locations)\n",
    "locations.reverse()\n",
    "\n",
    "print(locations)\n",
    "locations.sort()\n",
    "\n",
    "print(locations)\n",
    "locations.sort(reverse=True)\n",
    "\n",
    "print(locations)\n",
    "print(len(locations))"
   ]
  },
  {
   "cell_type": "code",
   "execution_count": 10,
   "metadata": {},
   "outputs": [
    {
     "name": "stdout",
     "output_type": "stream",
     "text": [
      "John\n",
      "David\n",
      "Martha\n"
     ]
    }
   ],
   "source": [
    "# Looping through a list\n",
    "listname = ['John','David','Martha']\n",
    "\n",
    "for item in listname:\n",
    "    print(item)"
   ]
  },
  {
   "cell_type": "code",
   "execution_count": 11,
   "metadata": {},
   "outputs": [
    {
     "name": "stdout",
     "output_type": "stream",
     "text": [
      "[1, 3, 5, 7, 9, 11, 13]\n"
     ]
    }
   ],
   "source": [
    "# List Comprehension & Range\n",
    "listname = [ value for value in range(1,15,2)]\n",
    "print(listname)"
   ]
  },
  {
   "cell_type": "code",
   "execution_count": 12,
   "metadata": {},
   "outputs": [
    {
     "name": "stdout",
     "output_type": "stream",
     "text": [
      "[1, 3]\n",
      "[5, 7, 9, 11, 13]\n",
      "[3, 5, 7]\n",
      "[11, 13]\n",
      "1\n",
      "9\n"
     ]
    }
   ],
   "source": [
    "# Slicing a list\n",
    "listname = [ value for value in range(1,15,2)]\n",
    "print(listname[:2])\n",
    "print(listname[2:])\n",
    "print(listname[1:4])\n",
    "print(listname[-2:])\n",
    "\n",
    "for item in listname[0:2]:\n",
    "    print(item**2)"
   ]
  },
  {
   "cell_type": "code",
   "execution_count": 13,
   "metadata": {},
   "outputs": [
    {
     "name": "stdout",
     "output_type": "stream",
     "text": [
      "[1, 3, 5, 7, 9, 11, 13, 100]\n",
      "[1, 3, 5, 7, 9, 11, 13]\n",
      "[1, 3, 5, 7, 9, 11, 13, 100]\n",
      "[1, 3, 5, 7, 9, 11, 13, 100]\n"
     ]
    }
   ],
   "source": [
    "#Copying a list\n",
    "new_copy = listname[:]\n",
    "new_copy.append(100)\n",
    "\n",
    "print(new_copy)\n",
    "print(listname)\n",
    "\n",
    "new_copy = listname\n",
    "new_copy.append(100)\n",
    "\n",
    "print(new_copy)\n",
    "print(listname)\n"
   ]
  },
  {
   "cell_type": "code",
   "execution_count": 14,
   "metadata": {},
   "outputs": [
    {
     "name": "stdout",
     "output_type": "stream",
     "text": [
      "1\n",
      "1\n",
      "2\n"
     ]
    },
    {
     "ename": "TypeError",
     "evalue": "'tuple' object does not support item assignment",
     "output_type": "error",
     "traceback": [
      "\u001b[0;31m---------------------------------------------------------------------------\u001b[0m",
      "\u001b[0;31mTypeError\u001b[0m                                 Traceback (most recent call last)",
      "Cell \u001b[0;32mIn[14], line 7\u001b[0m\n\u001b[1;32m      4\u001b[0m \u001b[39mfor\u001b[39;00m value \u001b[39min\u001b[39;00m mytuple:\n\u001b[1;32m      5\u001b[0m     \u001b[39mprint\u001b[39m(value)\n\u001b[0;32m----> 7\u001b[0m mytuple[\u001b[39m0\u001b[39;49m]\u001b[39m=\u001b[39m\u001b[39m11\u001b[39m\n",
      "\u001b[0;31mTypeError\u001b[0m: 'tuple' object does not support item assignment"
     ]
    }
   ],
   "source": [
    "#Using Tuples\n",
    "mytuple = (1,2)\n",
    "print(mytuple[0])\n",
    "for value in mytuple:\n",
    "    print(value)\n",
    "\n",
    "mytuple[0]=11"
   ]
  },
  {
   "cell_type": "markdown",
   "metadata": {},
   "source": [
    "[Back to Contents](#top)"
   ]
  },
  {
   "cell_type": "markdown",
   "metadata": {},
   "source": [
    "### 05 - Dictionary <a id=\"section-5\"></a>"
   ]
  },
  {
   "cell_type": "code",
   "execution_count": 18,
   "metadata": {},
   "outputs": [
    {
     "name": "stdout",
     "output_type": "stream",
     "text": [
      "{}\n",
      "{'key1': 'value1', 'key2': 'value2'}\n",
      "value1\n",
      "{'key1': 'value1', 'key2': 'value3'}\n",
      "{'key2': 'value3'}\n"
     ]
    }
   ],
   "source": [
    "# Initializing, accessing and deleting a value from a dictionary\n",
    "\n",
    "dictname = {}\n",
    "print(dictname)\n",
    "\n",
    "dictname['key1'] = 'value1'\n",
    "dictname['key2'] = 'value2'\n",
    "print(dictname)\n",
    "\n",
    "print(dictname['key1'])\n",
    "\n",
    "dictname['key2'] = 'value3'\n",
    "print(dictname)\n",
    "\n",
    "del dictname['key1']\n",
    "print(dictname)\n"
   ]
  },
  {
   "cell_type": "code",
   "execution_count": 21,
   "metadata": {},
   "outputs": [
    {
     "name": "stdout",
     "output_type": "stream",
     "text": [
      "{}\n",
      "{'key1': 'value1', 'key2': 'value2', 'key3': 'value1'}\n",
      "key1 value1\n",
      "key2 value2\n",
      "key3 value1\n",
      "key1\n",
      "key2\n",
      "key3\n",
      "value1\n",
      "value2\n"
     ]
    }
   ],
   "source": [
    "# Looping through a dictionary - 3 ways - using key,value; just keys; just values\n",
    "\n",
    "dictname = {}\n",
    "print(dictname)\n",
    "\n",
    "dictname['key1'] = 'value1'\n",
    "dictname['key2'] = 'value2'\n",
    "dictname['key3'] = 'value1'\n",
    "\n",
    "print(dictname)\n",
    "\n",
    "for key, value in dictname.items():\n",
    "    print(key, value)\n",
    "\n",
    "for key in sorted(dictname.keys()):\n",
    "    print(key)\n",
    "\n",
    "for value in set(dictname.values()):\n",
    "    print(value)"
   ]
  },
  {
   "cell_type": "code",
   "execution_count": 22,
   "metadata": {},
   "outputs": [
    {
     "name": "stdout",
     "output_type": "stream",
     "text": [
      "key1 value1\n",
      "key2 value2\n",
      "key1 value1\n",
      "key2 value2\n",
      "key1 value1\n",
      "key2 value2\n",
      "1\n",
      "2\n",
      "inner_key value\n"
     ]
    }
   ],
   "source": [
    "# Nesting - a list of dicts, a dict with value as list and a dict with value as dict\n",
    "\n",
    "dict1 = {'key1':'value1','key2':'value2'}\n",
    "dict2 = {'key1':'value1','key2':'value2'}\n",
    "dict3 = {'key1':'value1','key2':'value2'}\n",
    "\n",
    "listname = [dict1,dict2,dict3]\n",
    "\n",
    "for item in listname:\n",
    "    for key, value in item.items():\n",
    "        print(key, value)\n",
    "\n",
    "\n",
    "dictname = {'key': [1,2]}\n",
    "\n",
    "for k in dictname:\n",
    "    for i in dictname[k]:\n",
    "        print(i)\n",
    "\n",
    "dictname = {'key': {'inner_key':'value'}}\n",
    "\n",
    "for key in dictname:\n",
    "    for inner_key in dictname[key]:\n",
    "        print(inner_key,dictname[key][inner_key])"
   ]
  },
  {
   "cell_type": "markdown",
   "metadata": {},
   "source": [
    "[Back to Contents](#top)"
   ]
  },
  {
   "cell_type": "markdown",
   "metadata": {},
   "source": [
    "### 06 - If Statements <a id=\"section-6\"></a>"
   ]
  },
  {
   "cell_type": "code",
   "execution_count": 14,
   "metadata": {},
   "outputs": [
    {
     "name": "stdout",
     "output_type": "stream",
     "text": [
      "False\n",
      "True\n",
      "True\n",
      "True\n"
     ]
    }
   ],
   "source": [
    "# If Statements - equality, inequality, relational operators in numerical comparisons\n",
    "\n",
    "a = 'ABC'\n",
    "b = 'abc'\n",
    "c = 1\n",
    "d = 2\n",
    "\n",
    "print(a == b)\n",
    "print(a != b)\n",
    "print(a.lower() == b.lower())\n",
    "print(c < d)"
   ]
  },
  {
   "cell_type": "code",
   "execution_count": 15,
   "metadata": {},
   "outputs": [
    {
     "name": "stdout",
     "output_type": "stream",
     "text": [
      "yes\n"
     ]
    }
   ],
   "source": [
    "# If-elif-else construct\n",
    "listname = ['a','v','d']\n",
    "\n",
    "if 'a' in listname:\n",
    "    print('yes')\n",
    "\n",
    "elif 'v' in listname:\n",
    "    print('yes')\n",
    "\n",
    "else:\n",
    "    print('no')"
   ]
  },
  {
   "cell_type": "code",
   "execution_count": 16,
   "metadata": {},
   "outputs": [
    {
     "name": "stdout",
     "output_type": "stream",
     "text": [
      "yes\n",
      "yes\n"
     ]
    }
   ],
   "source": [
    "# If for multiple conditions, else is omitted as it is optional\n",
    "listname = ['a','v','d']\n",
    "\n",
    "if 'a' in listname:\n",
    "    print('yes')\n",
    "\n",
    "if 'v' in listname:\n",
    "    print('yes')"
   ]
  },
  {
   "cell_type": "code",
   "execution_count": 24,
   "metadata": {},
   "outputs": [
    {
     "name": "stdout",
     "output_type": "stream",
     "text": [
      "Empty\n"
     ]
    }
   ],
   "source": [
    "# To check if a list is empty\n",
    "listname = []\n",
    "if listname:\n",
    "    print('Not Empty')\n",
    "else:\n",
    "    print('Empty')"
   ]
  },
  {
   "cell_type": "markdown",
   "metadata": {},
   "source": [
    "[Back to Contents](#top)"
   ]
  },
  {
   "cell_type": "markdown",
   "metadata": {},
   "source": [
    "### 07 - While Loop and User Input <a id=\"section-7\"></a>"
   ]
  },
  {
   "cell_type": "markdown",
   "metadata": {},
   "source": [
    "<b> Getting User Input </b>\n",
    "<br><br>\n",
    "message = input('Give me your message')"
   ]
  },
  {
   "cell_type": "code",
   "execution_count": 25,
   "metadata": {},
   "outputs": [
    {
     "name": "stdout",
     "output_type": "stream",
     "text": [
      "3\n",
      "1\n"
     ]
    }
   ],
   "source": [
    "tr = '2' #assuming the input is received from user. VSCode notebook does not support user input\n",
    "print(int(tr)+1)\n",
    "print(5%2)"
   ]
  },
  {
   "cell_type": "code",
   "execution_count": 26,
   "metadata": {},
   "outputs": [
    {
     "name": "stdout",
     "output_type": "stream",
     "text": [
      "1\n",
      "2\n",
      "3\n",
      "4\n",
      "5\n"
     ]
    }
   ],
   "source": [
    "# Simple while loop\n",
    "i = 1\n",
    "while i <= 5:\n",
    "    print(i)\n",
    "    i += 1\n"
   ]
  },
  {
   "cell_type": "code",
   "execution_count": 27,
   "metadata": {},
   "outputs": [
    {
     "name": "stdout",
     "output_type": "stream",
     "text": [
      "3\n",
      "4\n",
      "5\n",
      "6\n"
     ]
    }
   ],
   "source": [
    "# Simple while loop with continue\n",
    "i = 1\n",
    "while i <= 5:\n",
    "    i += 1\n",
    "    if i == 2:\n",
    "        continue\n",
    "    print(i)\n"
   ]
  },
  {
   "cell_type": "code",
   "execution_count": 29,
   "metadata": {},
   "outputs": [
    {
     "name": "stdout",
     "output_type": "stream",
     "text": [
      "2\n",
      "3\n"
     ]
    }
   ],
   "source": [
    "# Simple while loop with break\n",
    "i = 1\n",
    "while i <= 5:\n",
    "    i += 1\n",
    "    if i == 4:\n",
    "        break\n",
    "    print(i)"
   ]
  },
  {
   "cell_type": "code",
   "execution_count": 36,
   "metadata": {},
   "outputs": [
    {
     "name": "stdout",
     "output_type": "stream",
     "text": [
      "['1', '3', '4', '1']\n"
     ]
    }
   ],
   "source": [
    "# Removing all instances of a value from list\n",
    "listname = ['1','2','2','3','4','1']\n",
    "\n",
    "while '2' in listname:\n",
    "    listname.remove('2')\n",
    "\n",
    "print(listname)"
   ]
  },
  {
   "cell_type": "markdown",
   "metadata": {},
   "source": [
    "[Back to Contents](#top)"
   ]
  },
  {
   "cell_type": "markdown",
   "metadata": {},
   "source": [
    "### 08 - Functions <a id=\"section-8\"></a>"
   ]
  },
  {
   "cell_type": "code",
   "execution_count": 37,
   "metadata": {},
   "outputs": [
    {
     "name": "stdout",
     "output_type": "stream",
     "text": [
      "arg1 arg2 arg3\n",
      "arg1 arg2 arg3\n",
      "arg4\n",
      "arg1 arg2 arg3\n"
     ]
    }
   ],
   "source": [
    "# Function example with positional, keyword and default arguments\n",
    "def function_name(param1, param2, param3='default',param4=''):\n",
    "    \n",
    "    print(param1, param2, param3)\n",
    "\n",
    "    if param4:\n",
    "        print(param4)\n",
    "\n",
    "function_name('arg1', 'arg2', 'arg3') # optional parameter not passed\n",
    "function_name('arg1', 'arg2', 'arg3','arg4') # positional\n",
    "function_name(param2='arg2',param1='arg1',param3='arg3') # keyword"
   ]
  },
  {
   "cell_type": "code",
   "execution_count": 38,
   "metadata": {},
   "outputs": [
    {
     "name": "stdout",
     "output_type": "stream",
     "text": [
      "(1, 2, 3, 4, 5)\n"
     ]
    }
   ],
   "source": [
    "# Function with arbitary values\n",
    "def function_name(*args):\n",
    "    print(args)\n",
    "\n",
    "function_name(1,2,3,4,5)"
   ]
  },
  {
   "cell_type": "code",
   "execution_count": 39,
   "metadata": {},
   "outputs": [
    {
     "name": "stdout",
     "output_type": "stream",
     "text": [
      "1\n",
      "{'two': 2, 'three': 3}\n"
     ]
    }
   ],
   "source": [
    "# Function with arbitary keyword args\n",
    "def function_name(param1, **args):\n",
    "    print(param1)\n",
    "    print(args)\n",
    "\n",
    "function_name(1,two=2,three=3)"
   ]
  },
  {
   "cell_type": "markdown",
   "metadata": {},
   "source": [
    "[Back to Contents](#top)"
   ]
  },
  {
   "cell_type": "markdown",
   "metadata": {},
   "source": [
    "### 09 - Classes <a id=\"section-9\"></a>"
   ]
  },
  {
   "cell_type": "code",
   "execution_count": 41,
   "metadata": {},
   "outputs": [
    {
     "name": "stdout",
     "output_type": "stream",
     "text": [
      "Hi John\n"
     ]
    }
   ],
   "source": [
    "# Implementing a simple class with __init__() method\n",
    "class FirstClass():\n",
    "\n",
    "    def __init__(self, name):\n",
    "        self.name = name\n",
    "\n",
    "    def greet_name(self):\n",
    "        print(\"Hi \" + self.name)\n",
    "\n",
    "f = FirstClass('John')\n",
    "f.greet_name()"
   ]
  },
  {
   "cell_type": "code",
   "execution_count": 50,
   "metadata": {},
   "outputs": [
    {
     "name": "stdout",
     "output_type": "stream",
     "text": [
      "Hi John\n",
      "Salutations John\n"
     ]
    }
   ],
   "source": [
    "# Simple inheritance\n",
    "class SecondClass(FirstClass):\n",
    "\n",
    "    def __init__(self, name, age):\n",
    "        self.age = age\n",
    "        super().__init__(name)\n",
    "\n",
    "    def salute_name(self):\n",
    "        print(\"Salutations \" + self.name)\n",
    "\n",
    "f = SecondClass('John',12)\n",
    "f.greet_name()\n",
    "f.salute_name()"
   ]
  },
  {
   "cell_type": "code",
   "execution_count": 51,
   "metadata": {},
   "outputs": [
    {
     "name": "stdout",
     "output_type": "stream",
     "text": [
      "Salutations John\n"
     ]
    }
   ],
   "source": [
    "# Simple inheritance with function overriding\n",
    "class SecondClass(FirstClass):\n",
    "\n",
    "    def __init__(self, name, age):\n",
    "        self.age = age\n",
    "        super().__init__(name)\n",
    "\n",
    "    def greet_name(self):\n",
    "        print(\"Salutations \" + self.name)\n",
    "\n",
    "f = SecondClass('John',12)\n",
    "f.greet_name()"
   ]
  },
  {
   "cell_type": "code",
   "execution_count": 53,
   "metadata": {},
   "outputs": [
    {
     "name": "stdout",
     "output_type": "stream",
     "text": [
      "Hi John\n"
     ]
    }
   ],
   "source": [
    "# A instance of a class as an attribute\n",
    "\n",
    "class ThirdClass():\n",
    "\n",
    "    def __init__(self, name):\n",
    "        self.f = FirstClass(name)\n",
    "\n",
    "t = ThirdClass('John')\n",
    "t.f.greet_name()"
   ]
  },
  {
   "cell_type": "markdown",
   "metadata": {},
   "source": [
    "[Back to Contents](#top)"
   ]
  },
  {
   "cell_type": "markdown",
   "metadata": {},
   "source": [
    "### 10 - File Operations <a id=\"section-10\"></a>"
   ]
  },
  {
   "cell_type": "code",
   "execution_count": 55,
   "metadata": {},
   "outputs": [],
   "source": [
    "# Writing a text file\n",
    "with open('filename.txt','w') as f:\n",
    "    f.write(\"Hello World!\")"
   ]
  },
  {
   "cell_type": "code",
   "execution_count": 56,
   "metadata": {},
   "outputs": [
    {
     "name": "stdout",
     "output_type": "stream",
     "text": [
      "Hello World!\n"
     ]
    }
   ],
   "source": [
    "# Reading a text file\n",
    "with open('filename.txt') as f:\n",
    "    content = f.read()\n",
    "    print(content)"
   ]
  },
  {
   "cell_type": "code",
   "execution_count": 57,
   "metadata": {},
   "outputs": [],
   "source": [
    "# Writing a json file\n",
    "listname = [1,2,3] \n",
    "\n",
    "import json\n",
    "\n",
    "with open('filename.json','w') as f:\n",
    "    json.dump(listname,f)"
   ]
  },
  {
   "cell_type": "code",
   "execution_count": 58,
   "metadata": {},
   "outputs": [
    {
     "name": "stdout",
     "output_type": "stream",
     "text": [
      "[1, 2, 3]\n"
     ]
    }
   ],
   "source": [
    "# Reading a json file\n",
    "with open('filename.json') as f:\n",
    "    content = json.load(f)\n",
    "    print(content)"
   ]
  },
  {
   "cell_type": "markdown",
   "metadata": {},
   "source": [
    "[Back to Contents](#top)"
   ]
  },
  {
   "cell_type": "markdown",
   "metadata": {},
   "source": [
    "### 11 - Exceptions <a id=\"section-11\"></a>"
   ]
  },
  {
   "cell_type": "code",
   "execution_count": 59,
   "metadata": {},
   "outputs": [
    {
     "ename": "ZeroDivisionError",
     "evalue": "division by zero",
     "output_type": "error",
     "traceback": [
      "\u001b[0;31m---------------------------------------------------------------------------\u001b[0m",
      "\u001b[0;31mZeroDivisionError\u001b[0m                         Traceback (most recent call last)",
      "Cell \u001b[0;32mIn[59], line 1\u001b[0m\n\u001b[0;32m----> 1\u001b[0m \u001b[39m5\u001b[39;49m\u001b[39m/\u001b[39;49m\u001b[39m0\u001b[39;49m\n",
      "\u001b[0;31mZeroDivisionError\u001b[0m: division by zero"
     ]
    }
   ],
   "source": [
    "# Example of an exception\n",
    "5/0"
   ]
  },
  {
   "cell_type": "code",
   "execution_count": 61,
   "metadata": {},
   "outputs": [
    {
     "name": "stdout",
     "output_type": "stream",
     "text": [
      "division by zero\n"
     ]
    }
   ],
   "source": [
    "# Try-Except construct example\n",
    "try:\n",
    "    5/0\n",
    "except ZeroDivisionError as e:\n",
    "    print(e)"
   ]
  },
  {
   "cell_type": "code",
   "execution_count": 62,
   "metadata": {},
   "outputs": [
    {
     "name": "stdout",
     "output_type": "stream",
     "text": [
      "5.0\n"
     ]
    }
   ],
   "source": [
    "# Try-Except-Else construct example\n",
    "a = 10\n",
    "b = 2\n",
    "\n",
    "try:\n",
    "    c = a/b\n",
    "except ZeroDivisionError as e:\n",
    "    print(e)\n",
    "else:\n",
    "    print(c)"
   ]
  },
  {
   "cell_type": "markdown",
   "metadata": {},
   "source": [
    "[Back to Contents](#top)"
   ]
  },
  {
   "cell_type": "markdown",
   "metadata": {},
   "source": [
    "### 12 - Testing Your Code <a id=\"section-12\"></a>"
   ]
  },
  {
   "cell_type": "code",
   "execution_count": 69,
   "metadata": {},
   "outputs": [],
   "source": [
    "# Example of unittest for a function\n",
    "\n",
    "def division_method(a,b):\n",
    "    try:\n",
    "        c = a/b\n",
    "    except ZeroDivisionError as e:\n",
    "        print(e)\n",
    "    else:\n",
    "        return c\n",
    "\n",
    "import unittest\n",
    "\n",
    "class Test(unittest.TestCase):\n",
    "    def test_division(self):\n",
    "        self.assertEqual(division_method(4,2),2)"
   ]
  },
  {
   "cell_type": "code",
   "execution_count": 70,
   "metadata": {},
   "outputs": [
    {
     "name": "stderr",
     "output_type": "stream",
     "text": [
      "test_division (__main__.Test.test_division) ... ok\n",
      "\n",
      "----------------------------------------------------------------------\n",
      "Ran 1 test in 0.002s\n",
      "\n",
      "OK\n"
     ]
    },
    {
     "data": {
      "text/plain": [
       "<unittest.main.TestProgram at 0x10544eb10>"
      ]
     },
     "execution_count": 70,
     "metadata": {},
     "output_type": "execute_result"
    }
   ],
   "source": [
    "unittest.main(argv=[''], verbosity=2, exit=False)"
   ]
  },
  {
   "cell_type": "code",
   "execution_count": 8,
   "metadata": {},
   "outputs": [
    {
     "name": "stderr",
     "output_type": "stream",
     "text": [
      "test_addition (__main__.TestCalculator.test_addition) ... ok\n",
      "test_subtraction (__main__.TestCalculator.test_subtraction) ... ok\n",
      "\n",
      "----------------------------------------------------------------------\n",
      "Ran 2 tests in 0.002s\n",
      "\n",
      "OK\n"
     ]
    },
    {
     "data": {
      "text/plain": [
       "<unittest.main.TestProgram at 0x103ec5450>"
      ]
     },
     "execution_count": 8,
     "metadata": {},
     "output_type": "execute_result"
    }
   ],
   "source": [
    "# Example of unittest for a class and usage of setUp\n",
    "\n",
    "class Calculator():\n",
    "\n",
    "    def __init__(self,a,b):\n",
    "        self.a = a\n",
    "        self.b = b\n",
    "\n",
    "    def addition(self):\n",
    "        return self.a + self.b\n",
    "\n",
    "    def subtraction(self):\n",
    "        return self.a - self.b\n",
    "\n",
    "import unittest\n",
    "\n",
    "class TestCalculator(unittest.TestCase):\n",
    "    \n",
    "    def setUp(self):\n",
    "        self.calc = Calculator(5,2)\n",
    "\n",
    "    def test_addition(self):\n",
    "        self.assertEqual(self.calc.addition(),7)\n",
    "    \n",
    "    def test_subtraction(self):\n",
    "        self.assertEqual(self.calc.subtraction(),3)\n",
    "\n",
    "unittest.main(argv=[''], verbosity=2, exit=False)"
   ]
  },
  {
   "cell_type": "markdown",
   "metadata": {},
   "source": [
    "[Back to Contents](#top)"
   ]
  }
 ],
 "metadata": {
  "kernelspec": {
   "display_name": "ptds",
   "language": "python",
   "name": "python3"
  },
  "language_info": {
   "codemirror_mode": {
    "name": "ipython",
    "version": 3
   },
   "file_extension": ".py",
   "mimetype": "text/x-python",
   "name": "python",
   "nbconvert_exporter": "python",
   "pygments_lexer": "ipython3",
   "version": "3.11.4"
  },
  "orig_nbformat": 4
 },
 "nbformat": 4,
 "nbformat_minor": 2
}
