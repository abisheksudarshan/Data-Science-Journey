{
 "cells": [
  {
   "cell_type": "markdown",
   "metadata": {},
   "source": [
    "___\n",
    "\n",
    "<a href='http://www.pieriandata.com'> <img src='../Pierian_Data_Logo.png' /></a>\n",
    "___\n",
    "# Plotly and Cufflinks"
   ]
  },
  {
   "cell_type": "markdown",
   "metadata": {},
   "source": [
    "Plotly is a library that allows you to create interactive plots that you can use in dashboards or websites (you can save them as html files or static images).\n",
    "\n",
    "## Installation\n",
    "\n",
    "In order for this all to work, you'll need to install plotly and cufflinks to call plots directly off of a pandas dataframe. These libraries are not currently available through **conda** but are available through **pip**. Install the libraries at your command line/terminal using:\n",
    "\n",
    "    pip install plotly\n",
    "    pip install cufflinks\n",
    "\n",
    "** NOTE: Make sure you only have one installation of Python on your computer when you do this, otherwise the installation may not work. **\n",
    "\n",
    "## Imports and Set-up"
   ]
  },
  {
   "cell_type": "code",
   "execution_count": 1,
   "metadata": {},
   "outputs": [],
   "source": [
    "import pandas as pd\n",
    "import numpy as np\n",
    "%matplotlib inline"
   ]
  },
  {
   "cell_type": "code",
   "execution_count": 2,
   "metadata": {},
   "outputs": [
    {
     "name": "stdout",
     "output_type": "stream",
     "text": [
      "4.8.1\n"
     ]
    }
   ],
   "source": [
    "from plotly import __version__\n",
    "from plotly.offline import download_plotlyjs, init_notebook_mode, plot, iplot\n",
    "\n",
    "print(__version__) # requires version >= 1.9.0"
   ]
  },
  {
   "cell_type": "code",
   "execution_count": 3,
   "metadata": {},
   "outputs": [],
   "source": [
    "import cufflinks as cf"
   ]
  },
  {
   "cell_type": "code",
   "execution_count": 4,
   "metadata": {},
   "outputs": [
    {
     "data": {
      "text/html": [
       "        <script type=\"text/javascript\">\n",
       "        window.PlotlyConfig = {MathJaxConfig: 'local'};\n",
       "        if (window.MathJax) {MathJax.Hub.Config({SVG: {font: \"STIX-Web\"}});}\n",
       "        if (typeof require !== 'undefined') {\n",
       "        require.undef(\"plotly\");\n",
       "        requirejs.config({\n",
       "            paths: {\n",
       "                'plotly': ['https://cdn.plot.ly/plotly-latest.min']\n",
       "            }\n",
       "        });\n",
       "        require(['plotly'], function(Plotly) {\n",
       "            window._Plotly = Plotly;\n",
       "        });\n",
       "        }\n",
       "        </script>\n",
       "        "
      ]
     },
     "metadata": {},
     "output_type": "display_data"
    }
   ],
   "source": [
    "# For Notebooks\n",
    "init_notebook_mode(connected=True)"
   ]
  },
  {
   "cell_type": "code",
   "execution_count": 5,
   "metadata": {},
   "outputs": [
    {
     "data": {
      "text/html": [
       "        <script type=\"text/javascript\">\n",
       "        window.PlotlyConfig = {MathJaxConfig: 'local'};\n",
       "        if (window.MathJax) {MathJax.Hub.Config({SVG: {font: \"STIX-Web\"}});}\n",
       "        if (typeof require !== 'undefined') {\n",
       "        require.undef(\"plotly\");\n",
       "        requirejs.config({\n",
       "            paths: {\n",
       "                'plotly': ['https://cdn.plot.ly/plotly-latest.min']\n",
       "            }\n",
       "        });\n",
       "        require(['plotly'], function(Plotly) {\n",
       "            window._Plotly = Plotly;\n",
       "        });\n",
       "        }\n",
       "        </script>\n",
       "        "
      ]
     },
     "metadata": {},
     "output_type": "display_data"
    }
   ],
   "source": [
    "# For offline use\n",
    "cf.go_offline()"
   ]
  },
  {
   "cell_type": "markdown",
   "metadata": {},
   "source": [
    "### Fake Data"
   ]
  },
  {
   "cell_type": "code",
   "execution_count": 6,
   "metadata": {},
   "outputs": [],
   "source": [
    "df = pd.DataFrame(np.random.randn(100,4),columns='A B C D'.split())"
   ]
  },
  {
   "cell_type": "code",
   "execution_count": 7,
   "metadata": {},
   "outputs": [
    {
     "data": {
      "text/html": [
       "<div>\n",
       "<style scoped>\n",
       "    .dataframe tbody tr th:only-of-type {\n",
       "        vertical-align: middle;\n",
       "    }\n",
       "\n",
       "    .dataframe tbody tr th {\n",
       "        vertical-align: top;\n",
       "    }\n",
       "\n",
       "    .dataframe thead th {\n",
       "        text-align: right;\n",
       "    }\n",
       "</style>\n",
       "<table border=\"1\" class=\"dataframe\">\n",
       "  <thead>\n",
       "    <tr style=\"text-align: right;\">\n",
       "      <th></th>\n",
       "      <th>A</th>\n",
       "      <th>B</th>\n",
       "      <th>C</th>\n",
       "      <th>D</th>\n",
       "    </tr>\n",
       "  </thead>\n",
       "  <tbody>\n",
       "    <tr>\n",
       "      <th>0</th>\n",
       "      <td>-1.471246</td>\n",
       "      <td>0.105054</td>\n",
       "      <td>1.325987</td>\n",
       "      <td>-1.687117</td>\n",
       "    </tr>\n",
       "    <tr>\n",
       "      <th>1</th>\n",
       "      <td>-0.608527</td>\n",
       "      <td>0.471167</td>\n",
       "      <td>0.326038</td>\n",
       "      <td>-0.970915</td>\n",
       "    </tr>\n",
       "    <tr>\n",
       "      <th>2</th>\n",
       "      <td>-1.148253</td>\n",
       "      <td>-1.519353</td>\n",
       "      <td>-0.616314</td>\n",
       "      <td>-0.532269</td>\n",
       "    </tr>\n",
       "    <tr>\n",
       "      <th>3</th>\n",
       "      <td>0.262744</td>\n",
       "      <td>1.154705</td>\n",
       "      <td>0.486597</td>\n",
       "      <td>-1.696904</td>\n",
       "    </tr>\n",
       "    <tr>\n",
       "      <th>4</th>\n",
       "      <td>2.083607</td>\n",
       "      <td>1.079817</td>\n",
       "      <td>-0.073847</td>\n",
       "      <td>0.701816</td>\n",
       "    </tr>\n",
       "  </tbody>\n",
       "</table>\n",
       "</div>"
      ],
      "text/plain": [
       "          A         B         C         D\n",
       "0 -1.471246  0.105054  1.325987 -1.687117\n",
       "1 -0.608527  0.471167  0.326038 -0.970915\n",
       "2 -1.148253 -1.519353 -0.616314 -0.532269\n",
       "3  0.262744  1.154705  0.486597 -1.696904\n",
       "4  2.083607  1.079817 -0.073847  0.701816"
      ]
     },
     "execution_count": 7,
     "metadata": {},
     "output_type": "execute_result"
    }
   ],
   "source": [
    "df.head()"
   ]
  },
  {
   "cell_type": "code",
   "execution_count": 8,
   "metadata": {},
   "outputs": [],
   "source": [
    "df2 = pd.DataFrame({'Category':['A','B','C'],'Values':[32,43,50]})"
   ]
  },
  {
   "cell_type": "code",
   "execution_count": 9,
   "metadata": {},
   "outputs": [
    {
     "data": {
      "text/html": [
       "<div>\n",
       "<style scoped>\n",
       "    .dataframe tbody tr th:only-of-type {\n",
       "        vertical-align: middle;\n",
       "    }\n",
       "\n",
       "    .dataframe tbody tr th {\n",
       "        vertical-align: top;\n",
       "    }\n",
       "\n",
       "    .dataframe thead th {\n",
       "        text-align: right;\n",
       "    }\n",
       "</style>\n",
       "<table border=\"1\" class=\"dataframe\">\n",
       "  <thead>\n",
       "    <tr style=\"text-align: right;\">\n",
       "      <th></th>\n",
       "      <th>Category</th>\n",
       "      <th>Values</th>\n",
       "    </tr>\n",
       "  </thead>\n",
       "  <tbody>\n",
       "    <tr>\n",
       "      <th>0</th>\n",
       "      <td>A</td>\n",
       "      <td>32</td>\n",
       "    </tr>\n",
       "    <tr>\n",
       "      <th>1</th>\n",
       "      <td>B</td>\n",
       "      <td>43</td>\n",
       "    </tr>\n",
       "    <tr>\n",
       "      <th>2</th>\n",
       "      <td>C</td>\n",
       "      <td>50</td>\n",
       "    </tr>\n",
       "  </tbody>\n",
       "</table>\n",
       "</div>"
      ],
      "text/plain": [
       "  Category  Values\n",
       "0        A      32\n",
       "1        B      43\n",
       "2        C      50"
      ]
     },
     "execution_count": 9,
     "metadata": {},
     "output_type": "execute_result"
    }
   ],
   "source": [
    "df2.head()"
   ]
  },
  {
   "cell_type": "markdown",
   "metadata": {},
   "source": [
    "## Using Cufflinks and iplot()\n",
    "\n",
    "* scatter\n",
    "* bar\n",
    "* box\n",
    "* spread\n",
    "* ratio\n",
    "* heatmap\n",
    "* surface\n",
    "* histogram\n",
    "* bubble"
   ]
  },
  {
   "cell_type": "markdown",
   "metadata": {},
   "source": [
    "## Scatter"
   ]
  },
  {
   "cell_type": "code",
   "execution_count": 10,
   "metadata": {},
   "outputs": [
    {
     "data": {
      "application/vnd.plotly.v1+json": {
       "config": {
        "linkText": "Export to plot.ly",
        "plotlyServerURL": "https://plot.ly",
        "showLink": true
       },
       "data": [
        {
         "line": {
          "color": "rgba(255, 153, 51, 1.0)",
          "dash": "solid",
          "shape": "linear",
          "width": 1.3
         },
         "marker": {
          "size": 10,
          "symbol": "circle"
         },
         "mode": "markers",
         "name": "B",
         "text": "",
         "type": "scatter",
         "x": [
          -1.471246046471575,
          -0.6085271820559668,
          -1.1482532192046846,
          0.2627438693214284,
          2.0836070829778217,
          1.5631875324236681,
          0.5808382512677437,
          0.100140196384491,
          1.2262718460695798,
          0.8121590295001305,
          -1.638410297853008,
          -1.3542858701443743,
          -0.8859356006558017,
          -0.2117872482653646,
          1.52205049796379,
          1.2017578197554064,
          0.7102810124642632,
          -0.23545767256803746,
          -1.0956352495534225,
          1.6932444882864444,
          -1.1138532343497123,
          -1.5238659046060548,
          0.3737582919650709,
          0.3995610667193977,
          0.9849517979430037,
          -0.41286182514316994,
          0.22013798773369625,
          -0.9940274726090388,
          0.6053300034368934,
          -0.08150224288687338,
          1.530830559698258,
          -0.6660168670760243,
          0.2476162288080035,
          -0.4201157591879683,
          2.513732444208068,
          0.18748712307755722,
          0.7718010241028777,
          -1.0216987493095346,
          0.7359898582102234,
          0.3394424646684741,
          -0.9547001300086784,
          0.26062793395402895,
          0.0012388939276021182,
          -0.7212270021450119,
          -0.15919309376546367,
          1.036045290051301,
          -0.4367341912425072,
          0.4183619167269413,
          -0.9869819473111545,
          0.46415757459025936,
          0.907112493962873,
          0.04747797526445393,
          0.8951683093198934,
          -0.31273978661031654,
          -0.38852459396814915,
          -0.21814853869892967,
          0.06874986096360242,
          -2.046811137503565,
          -0.30188504766584184,
          0.3991831218988143,
          -0.9619090984013201,
          2.0755584226410915,
          -0.13736165791337965,
          -0.861827546842935,
          1.3905627604649047,
          1.0763452474767086,
          -0.2724466161760582,
          -1.136419583125512,
          2.8963094311022544,
          0.998479444147354,
          0.5363394044353359,
          0.2999801214940788,
          -0.20435860562327238,
          -1.5876911915428935,
          0.1689491074557813,
          -0.7550523982876761,
          0.14659326683142235,
          0.3792701864009285,
          -0.4165521378380051,
          0.6274214865629553,
          -0.258635746057425,
          0.04476722623086181,
          -0.43703161466220863,
          1.88969572647376,
          0.5535706370729377,
          -1.135244544453128,
          -0.7426677074998133,
          1.3798865438745822,
          -0.5563918303956908,
          0.09158547419355814,
          1.8855374103668776,
          -0.2805175659360432,
          0.36070102679322347,
          0.10638652573921481,
          0.44057146595893387,
          0.814903887602294,
          1.0939625067681231,
          0.05500910372074003,
          1.1314784533017157,
          -0.09953238829157161
         ],
         "y": [
          0.10505382992684024,
          0.4711673041743314,
          -1.519353471102839,
          1.1547053822403741,
          1.0798174585278013,
          -1.3167731816914818,
          0.7135520626011459,
          1.228071405621988,
          -0.1352699013682691,
          -0.7225275214145852,
          0.8549518116578393,
          -0.20588106476691267,
          -0.06703596762655907,
          1.6484770738363472,
          0.36286227096868406,
          0.05563320312264835,
          0.6254057338704384,
          -0.012960080959064806,
          -2.12932614521523,
          -0.4157931861958631,
          0.7506360034867958,
          -0.13983300982709157,
          -0.5900443492432567,
          0.7044782303155932,
          0.19890230651938576,
          -0.19836350350683987,
          0.8759308313682472,
          0.19836962628705404,
          0.27848831138959357,
          -1.1694296316366262,
          0.3267781091861249,
          0.38581311088033404,
          0.5471026752728532,
          -0.3146860226848104,
          -1.6035633201468595,
          0.06543919850911806,
          0.19351698419231203,
          -2.386767407875937,
          1.0703757940939813,
          0.7152544617480363,
          -0.8402296964975069,
          1.4438748000559085,
          1.1597873193139467,
          -1.1095184085909982,
          1.6063077829929273,
          -1.085090818463112,
          -2.022548824739018,
          0.4053807585208205,
          -0.40761135212598976,
          0.7499089719721762,
          -0.5654299320552335,
          -1.1633044453417187,
          -0.8681796271541423,
          -2.9092295914484128,
          -0.9005417099015383,
          0.9211926455003557,
          0.5479235918234407,
          0.3674219082707484,
          -0.7334914066505491,
          -0.19254775033259586,
          -0.14348719988088504,
          -2.329163688940016,
          0.15057290599191409,
          0.1237678929312007,
          0.683541160275602,
          -0.5466460611187319,
          -0.04691790105302972,
          -0.30891159038861526,
          0.7099401236493103,
          -0.002099768581509483,
          -0.41139758529350595,
          -0.5335970457156773,
          -1.30774488435812,
          -0.36710599583404435,
          -1.0930940248488794,
          0.023844045404288774,
          2.0924380613371363,
          0.30331932358411845,
          0.476086299481217,
          1.384076360250985,
          0.5766365706062448,
          2.6165270527132005,
          0.5821109662236247,
          -0.15557530418785975,
          -0.436490142585925,
          0.22184656251316986,
          0.15768753650025366,
          0.48078788358232516,
          0.6292641638456508,
          -0.692412043888579,
          -0.95302121836286,
          -1.2292609401152632,
          -0.2634772944023692,
          -0.7325543666146409,
          -0.7984410176142024,
          -0.1336532721123046,
          -0.6412326522647541,
          1.054147966339015,
          -1.2572779777281884,
          -0.015239046068296734
         ]
        }
       ],
       "layout": {
        "legend": {
         "bgcolor": "#F5F6F9",
         "font": {
          "color": "#4D5663"
         }
        },
        "paper_bgcolor": "#F5F6F9",
        "plot_bgcolor": "#F5F6F9",
        "template": {
         "data": {
          "bar": [
           {
            "error_x": {
             "color": "#2a3f5f"
            },
            "error_y": {
             "color": "#2a3f5f"
            },
            "marker": {
             "line": {
              "color": "#E5ECF6",
              "width": 0.5
             }
            },
            "type": "bar"
           }
          ],
          "barpolar": [
           {
            "marker": {
             "line": {
              "color": "#E5ECF6",
              "width": 0.5
             }
            },
            "type": "barpolar"
           }
          ],
          "carpet": [
           {
            "aaxis": {
             "endlinecolor": "#2a3f5f",
             "gridcolor": "white",
             "linecolor": "white",
             "minorgridcolor": "white",
             "startlinecolor": "#2a3f5f"
            },
            "baxis": {
             "endlinecolor": "#2a3f5f",
             "gridcolor": "white",
             "linecolor": "white",
             "minorgridcolor": "white",
             "startlinecolor": "#2a3f5f"
            },
            "type": "carpet"
           }
          ],
          "choropleth": [
           {
            "colorbar": {
             "outlinewidth": 0,
             "ticks": ""
            },
            "type": "choropleth"
           }
          ],
          "contour": [
           {
            "colorbar": {
             "outlinewidth": 0,
             "ticks": ""
            },
            "colorscale": [
             [
              0,
              "#0d0887"
             ],
             [
              0.1111111111111111,
              "#46039f"
             ],
             [
              0.2222222222222222,
              "#7201a8"
             ],
             [
              0.3333333333333333,
              "#9c179e"
             ],
             [
              0.4444444444444444,
              "#bd3786"
             ],
             [
              0.5555555555555556,
              "#d8576b"
             ],
             [
              0.6666666666666666,
              "#ed7953"
             ],
             [
              0.7777777777777778,
              "#fb9f3a"
             ],
             [
              0.8888888888888888,
              "#fdca26"
             ],
             [
              1,
              "#f0f921"
             ]
            ],
            "type": "contour"
           }
          ],
          "contourcarpet": [
           {
            "colorbar": {
             "outlinewidth": 0,
             "ticks": ""
            },
            "type": "contourcarpet"
           }
          ],
          "heatmap": [
           {
            "colorbar": {
             "outlinewidth": 0,
             "ticks": ""
            },
            "colorscale": [
             [
              0,
              "#0d0887"
             ],
             [
              0.1111111111111111,
              "#46039f"
             ],
             [
              0.2222222222222222,
              "#7201a8"
             ],
             [
              0.3333333333333333,
              "#9c179e"
             ],
             [
              0.4444444444444444,
              "#bd3786"
             ],
             [
              0.5555555555555556,
              "#d8576b"
             ],
             [
              0.6666666666666666,
              "#ed7953"
             ],
             [
              0.7777777777777778,
              "#fb9f3a"
             ],
             [
              0.8888888888888888,
              "#fdca26"
             ],
             [
              1,
              "#f0f921"
             ]
            ],
            "type": "heatmap"
           }
          ],
          "heatmapgl": [
           {
            "colorbar": {
             "outlinewidth": 0,
             "ticks": ""
            },
            "colorscale": [
             [
              0,
              "#0d0887"
             ],
             [
              0.1111111111111111,
              "#46039f"
             ],
             [
              0.2222222222222222,
              "#7201a8"
             ],
             [
              0.3333333333333333,
              "#9c179e"
             ],
             [
              0.4444444444444444,
              "#bd3786"
             ],
             [
              0.5555555555555556,
              "#d8576b"
             ],
             [
              0.6666666666666666,
              "#ed7953"
             ],
             [
              0.7777777777777778,
              "#fb9f3a"
             ],
             [
              0.8888888888888888,
              "#fdca26"
             ],
             [
              1,
              "#f0f921"
             ]
            ],
            "type": "heatmapgl"
           }
          ],
          "histogram": [
           {
            "marker": {
             "colorbar": {
              "outlinewidth": 0,
              "ticks": ""
             }
            },
            "type": "histogram"
           }
          ],
          "histogram2d": [
           {
            "colorbar": {
             "outlinewidth": 0,
             "ticks": ""
            },
            "colorscale": [
             [
              0,
              "#0d0887"
             ],
             [
              0.1111111111111111,
              "#46039f"
             ],
             [
              0.2222222222222222,
              "#7201a8"
             ],
             [
              0.3333333333333333,
              "#9c179e"
             ],
             [
              0.4444444444444444,
              "#bd3786"
             ],
             [
              0.5555555555555556,
              "#d8576b"
             ],
             [
              0.6666666666666666,
              "#ed7953"
             ],
             [
              0.7777777777777778,
              "#fb9f3a"
             ],
             [
              0.8888888888888888,
              "#fdca26"
             ],
             [
              1,
              "#f0f921"
             ]
            ],
            "type": "histogram2d"
           }
          ],
          "histogram2dcontour": [
           {
            "colorbar": {
             "outlinewidth": 0,
             "ticks": ""
            },
            "colorscale": [
             [
              0,
              "#0d0887"
             ],
             [
              0.1111111111111111,
              "#46039f"
             ],
             [
              0.2222222222222222,
              "#7201a8"
             ],
             [
              0.3333333333333333,
              "#9c179e"
             ],
             [
              0.4444444444444444,
              "#bd3786"
             ],
             [
              0.5555555555555556,
              "#d8576b"
             ],
             [
              0.6666666666666666,
              "#ed7953"
             ],
             [
              0.7777777777777778,
              "#fb9f3a"
             ],
             [
              0.8888888888888888,
              "#fdca26"
             ],
             [
              1,
              "#f0f921"
             ]
            ],
            "type": "histogram2dcontour"
           }
          ],
          "mesh3d": [
           {
            "colorbar": {
             "outlinewidth": 0,
             "ticks": ""
            },
            "type": "mesh3d"
           }
          ],
          "parcoords": [
           {
            "line": {
             "colorbar": {
              "outlinewidth": 0,
              "ticks": ""
             }
            },
            "type": "parcoords"
           }
          ],
          "pie": [
           {
            "automargin": true,
            "type": "pie"
           }
          ],
          "scatter": [
           {
            "marker": {
             "colorbar": {
              "outlinewidth": 0,
              "ticks": ""
             }
            },
            "type": "scatter"
           }
          ],
          "scatter3d": [
           {
            "line": {
             "colorbar": {
              "outlinewidth": 0,
              "ticks": ""
             }
            },
            "marker": {
             "colorbar": {
              "outlinewidth": 0,
              "ticks": ""
             }
            },
            "type": "scatter3d"
           }
          ],
          "scattercarpet": [
           {
            "marker": {
             "colorbar": {
              "outlinewidth": 0,
              "ticks": ""
             }
            },
            "type": "scattercarpet"
           }
          ],
          "scattergeo": [
           {
            "marker": {
             "colorbar": {
              "outlinewidth": 0,
              "ticks": ""
             }
            },
            "type": "scattergeo"
           }
          ],
          "scattergl": [
           {
            "marker": {
             "colorbar": {
              "outlinewidth": 0,
              "ticks": ""
             }
            },
            "type": "scattergl"
           }
          ],
          "scattermapbox": [
           {
            "marker": {
             "colorbar": {
              "outlinewidth": 0,
              "ticks": ""
             }
            },
            "type": "scattermapbox"
           }
          ],
          "scatterpolar": [
           {
            "marker": {
             "colorbar": {
              "outlinewidth": 0,
              "ticks": ""
             }
            },
            "type": "scatterpolar"
           }
          ],
          "scatterpolargl": [
           {
            "marker": {
             "colorbar": {
              "outlinewidth": 0,
              "ticks": ""
             }
            },
            "type": "scatterpolargl"
           }
          ],
          "scatterternary": [
           {
            "marker": {
             "colorbar": {
              "outlinewidth": 0,
              "ticks": ""
             }
            },
            "type": "scatterternary"
           }
          ],
          "surface": [
           {
            "colorbar": {
             "outlinewidth": 0,
             "ticks": ""
            },
            "colorscale": [
             [
              0,
              "#0d0887"
             ],
             [
              0.1111111111111111,
              "#46039f"
             ],
             [
              0.2222222222222222,
              "#7201a8"
             ],
             [
              0.3333333333333333,
              "#9c179e"
             ],
             [
              0.4444444444444444,
              "#bd3786"
             ],
             [
              0.5555555555555556,
              "#d8576b"
             ],
             [
              0.6666666666666666,
              "#ed7953"
             ],
             [
              0.7777777777777778,
              "#fb9f3a"
             ],
             [
              0.8888888888888888,
              "#fdca26"
             ],
             [
              1,
              "#f0f921"
             ]
            ],
            "type": "surface"
           }
          ],
          "table": [
           {
            "cells": {
             "fill": {
              "color": "#EBF0F8"
             },
             "line": {
              "color": "white"
             }
            },
            "header": {
             "fill": {
              "color": "#C8D4E3"
             },
             "line": {
              "color": "white"
             }
            },
            "type": "table"
           }
          ]
         },
         "layout": {
          "annotationdefaults": {
           "arrowcolor": "#2a3f5f",
           "arrowhead": 0,
           "arrowwidth": 1
          },
          "coloraxis": {
           "colorbar": {
            "outlinewidth": 0,
            "ticks": ""
           }
          },
          "colorscale": {
           "diverging": [
            [
             0,
             "#8e0152"
            ],
            [
             0.1,
             "#c51b7d"
            ],
            [
             0.2,
             "#de77ae"
            ],
            [
             0.3,
             "#f1b6da"
            ],
            [
             0.4,
             "#fde0ef"
            ],
            [
             0.5,
             "#f7f7f7"
            ],
            [
             0.6,
             "#e6f5d0"
            ],
            [
             0.7,
             "#b8e186"
            ],
            [
             0.8,
             "#7fbc41"
            ],
            [
             0.9,
             "#4d9221"
            ],
            [
             1,
             "#276419"
            ]
           ],
           "sequential": [
            [
             0,
             "#0d0887"
            ],
            [
             0.1111111111111111,
             "#46039f"
            ],
            [
             0.2222222222222222,
             "#7201a8"
            ],
            [
             0.3333333333333333,
             "#9c179e"
            ],
            [
             0.4444444444444444,
             "#bd3786"
            ],
            [
             0.5555555555555556,
             "#d8576b"
            ],
            [
             0.6666666666666666,
             "#ed7953"
            ],
            [
             0.7777777777777778,
             "#fb9f3a"
            ],
            [
             0.8888888888888888,
             "#fdca26"
            ],
            [
             1,
             "#f0f921"
            ]
           ],
           "sequentialminus": [
            [
             0,
             "#0d0887"
            ],
            [
             0.1111111111111111,
             "#46039f"
            ],
            [
             0.2222222222222222,
             "#7201a8"
            ],
            [
             0.3333333333333333,
             "#9c179e"
            ],
            [
             0.4444444444444444,
             "#bd3786"
            ],
            [
             0.5555555555555556,
             "#d8576b"
            ],
            [
             0.6666666666666666,
             "#ed7953"
            ],
            [
             0.7777777777777778,
             "#fb9f3a"
            ],
            [
             0.8888888888888888,
             "#fdca26"
            ],
            [
             1,
             "#f0f921"
            ]
           ]
          },
          "colorway": [
           "#636efa",
           "#EF553B",
           "#00cc96",
           "#ab63fa",
           "#FFA15A",
           "#19d3f3",
           "#FF6692",
           "#B6E880",
           "#FF97FF",
           "#FECB52"
          ],
          "font": {
           "color": "#2a3f5f"
          },
          "geo": {
           "bgcolor": "white",
           "lakecolor": "white",
           "landcolor": "#E5ECF6",
           "showlakes": true,
           "showland": true,
           "subunitcolor": "white"
          },
          "hoverlabel": {
           "align": "left"
          },
          "hovermode": "closest",
          "mapbox": {
           "style": "light"
          },
          "paper_bgcolor": "white",
          "plot_bgcolor": "#E5ECF6",
          "polar": {
           "angularaxis": {
            "gridcolor": "white",
            "linecolor": "white",
            "ticks": ""
           },
           "bgcolor": "#E5ECF6",
           "radialaxis": {
            "gridcolor": "white",
            "linecolor": "white",
            "ticks": ""
           }
          },
          "scene": {
           "xaxis": {
            "backgroundcolor": "#E5ECF6",
            "gridcolor": "white",
            "gridwidth": 2,
            "linecolor": "white",
            "showbackground": true,
            "ticks": "",
            "zerolinecolor": "white"
           },
           "yaxis": {
            "backgroundcolor": "#E5ECF6",
            "gridcolor": "white",
            "gridwidth": 2,
            "linecolor": "white",
            "showbackground": true,
            "ticks": "",
            "zerolinecolor": "white"
           },
           "zaxis": {
            "backgroundcolor": "#E5ECF6",
            "gridcolor": "white",
            "gridwidth": 2,
            "linecolor": "white",
            "showbackground": true,
            "ticks": "",
            "zerolinecolor": "white"
           }
          },
          "shapedefaults": {
           "line": {
            "color": "#2a3f5f"
           }
          },
          "ternary": {
           "aaxis": {
            "gridcolor": "white",
            "linecolor": "white",
            "ticks": ""
           },
           "baxis": {
            "gridcolor": "white",
            "linecolor": "white",
            "ticks": ""
           },
           "bgcolor": "#E5ECF6",
           "caxis": {
            "gridcolor": "white",
            "linecolor": "white",
            "ticks": ""
           }
          },
          "title": {
           "x": 0.05
          },
          "xaxis": {
           "automargin": true,
           "gridcolor": "white",
           "linecolor": "white",
           "ticks": "",
           "title": {
            "standoff": 15
           },
           "zerolinecolor": "white",
           "zerolinewidth": 2
          },
          "yaxis": {
           "automargin": true,
           "gridcolor": "white",
           "linecolor": "white",
           "ticks": "",
           "title": {
            "standoff": 15
           },
           "zerolinecolor": "white",
           "zerolinewidth": 2
          }
         }
        },
        "title": {
         "font": {
          "color": "#4D5663"
         }
        },
        "xaxis": {
         "gridcolor": "#E1E5ED",
         "showgrid": true,
         "tickfont": {
          "color": "#4D5663"
         },
         "title": {
          "font": {
           "color": "#4D5663"
          },
          "text": ""
         },
         "zerolinecolor": "#E1E5ED"
        },
        "yaxis": {
         "gridcolor": "#E1E5ED",
         "showgrid": true,
         "tickfont": {
          "color": "#4D5663"
         },
         "title": {
          "font": {
           "color": "#4D5663"
          },
          "text": ""
         },
         "zerolinecolor": "#E1E5ED"
        }
       }
      },
      "text/html": [
       "<div>\n",
       "        \n",
       "        \n",
       "            <div id=\"710e9b66-37e8-46b2-bdd4-23ee9d0da1f5\" class=\"plotly-graph-div\" style=\"height:525px; width:100%;\"></div>\n",
       "            <script type=\"text/javascript\">\n",
       "                require([\"plotly\"], function(Plotly) {\n",
       "                    window.PLOTLYENV=window.PLOTLYENV || {};\n",
       "                    window.PLOTLYENV.BASE_URL='https://plot.ly';\n",
       "                    \n",
       "                if (document.getElementById(\"710e9b66-37e8-46b2-bdd4-23ee9d0da1f5\")) {\n",
       "                    Plotly.newPlot(\n",
       "                        '710e9b66-37e8-46b2-bdd4-23ee9d0da1f5',\n",
       "                        [{\"line\": {\"color\": \"rgba(255, 153, 51, 1.0)\", \"dash\": \"solid\", \"shape\": \"linear\", \"width\": 1.3}, \"marker\": {\"size\": 10, \"symbol\": \"circle\"}, \"mode\": \"markers\", \"name\": \"B\", \"text\": \"\", \"type\": \"scatter\", \"x\": [-1.471246046471575, -0.6085271820559668, -1.1482532192046846, 0.2627438693214284, 2.0836070829778217, 1.5631875324236681, 0.5808382512677437, 0.100140196384491, 1.2262718460695798, 0.8121590295001305, -1.638410297853008, -1.3542858701443743, -0.8859356006558017, -0.2117872482653646, 1.52205049796379, 1.2017578197554064, 0.7102810124642632, -0.23545767256803746, -1.0956352495534225, 1.6932444882864444, -1.1138532343497123, -1.5238659046060548, 0.3737582919650709, 0.3995610667193977, 0.9849517979430037, -0.41286182514316994, 0.22013798773369625, -0.9940274726090388, 0.6053300034368934, -0.08150224288687338, 1.530830559698258, -0.6660168670760243, 0.2476162288080035, -0.4201157591879683, 2.513732444208068, 0.18748712307755722, 0.7718010241028777, -1.0216987493095346, 0.7359898582102234, 0.3394424646684741, -0.9547001300086784, 0.26062793395402895, 0.0012388939276021182, -0.7212270021450119, -0.15919309376546367, 1.036045290051301, -0.4367341912425072, 0.4183619167269413, -0.9869819473111545, 0.46415757459025936, 0.907112493962873, 0.04747797526445393, 0.8951683093198934, -0.31273978661031654, -0.38852459396814915, -0.21814853869892967, 0.06874986096360242, -2.046811137503565, -0.30188504766584184, 0.3991831218988143, -0.9619090984013201, 2.0755584226410915, -0.13736165791337965, -0.861827546842935, 1.3905627604649047, 1.0763452474767086, -0.2724466161760582, -1.136419583125512, 2.8963094311022544, 0.998479444147354, 0.5363394044353359, 0.2999801214940788, -0.20435860562327238, -1.5876911915428935, 0.1689491074557813, -0.7550523982876761, 0.14659326683142235, 0.3792701864009285, -0.4165521378380051, 0.6274214865629553, -0.258635746057425, 0.04476722623086181, -0.43703161466220863, 1.88969572647376, 0.5535706370729377, -1.135244544453128, -0.7426677074998133, 1.3798865438745822, -0.5563918303956908, 0.09158547419355814, 1.8855374103668776, -0.2805175659360432, 0.36070102679322347, 0.10638652573921481, 0.44057146595893387, 0.814903887602294, 1.0939625067681231, 0.05500910372074003, 1.1314784533017157, -0.09953238829157161], \"y\": [0.10505382992684024, 0.4711673041743314, -1.519353471102839, 1.1547053822403741, 1.0798174585278013, -1.3167731816914818, 0.7135520626011459, 1.228071405621988, -0.1352699013682691, -0.7225275214145852, 0.8549518116578393, -0.20588106476691267, -0.06703596762655907, 1.6484770738363472, 0.36286227096868406, 0.05563320312264835, 0.6254057338704384, -0.012960080959064806, -2.12932614521523, -0.4157931861958631, 0.7506360034867958, -0.13983300982709157, -0.5900443492432567, 0.7044782303155932, 0.19890230651938576, -0.19836350350683987, 0.8759308313682472, 0.19836962628705404, 0.27848831138959357, -1.1694296316366262, 0.3267781091861249, 0.38581311088033404, 0.5471026752728532, -0.3146860226848104, -1.6035633201468595, 0.06543919850911806, 0.19351698419231203, -2.386767407875937, 1.0703757940939813, 0.7152544617480363, -0.8402296964975069, 1.4438748000559085, 1.1597873193139467, -1.1095184085909982, 1.6063077829929273, -1.085090818463112, -2.022548824739018, 0.4053807585208205, -0.40761135212598976, 0.7499089719721762, -0.5654299320552335, -1.1633044453417187, -0.8681796271541423, -2.9092295914484128, -0.9005417099015383, 0.9211926455003557, 0.5479235918234407, 0.3674219082707484, -0.7334914066505491, -0.19254775033259586, -0.14348719988088504, -2.329163688940016, 0.15057290599191409, 0.1237678929312007, 0.683541160275602, -0.5466460611187319, -0.04691790105302972, -0.30891159038861526, 0.7099401236493103, -0.002099768581509483, -0.41139758529350595, -0.5335970457156773, -1.30774488435812, -0.36710599583404435, -1.0930940248488794, 0.023844045404288774, 2.0924380613371363, 0.30331932358411845, 0.476086299481217, 1.384076360250985, 0.5766365706062448, 2.6165270527132005, 0.5821109662236247, -0.15557530418785975, -0.436490142585925, 0.22184656251316986, 0.15768753650025366, 0.48078788358232516, 0.6292641638456508, -0.692412043888579, -0.95302121836286, -1.2292609401152632, -0.2634772944023692, -0.7325543666146409, -0.7984410176142024, -0.1336532721123046, -0.6412326522647541, 1.054147966339015, -1.2572779777281884, -0.015239046068296734]}],\n",
       "                        {\"legend\": {\"bgcolor\": \"#F5F6F9\", \"font\": {\"color\": \"#4D5663\"}}, \"paper_bgcolor\": \"#F5F6F9\", \"plot_bgcolor\": \"#F5F6F9\", \"template\": {\"data\": {\"bar\": [{\"error_x\": {\"color\": \"#2a3f5f\"}, \"error_y\": {\"color\": \"#2a3f5f\"}, \"marker\": {\"line\": {\"color\": \"#E5ECF6\", \"width\": 0.5}}, \"type\": \"bar\"}], \"barpolar\": [{\"marker\": {\"line\": {\"color\": \"#E5ECF6\", \"width\": 0.5}}, \"type\": \"barpolar\"}], \"carpet\": [{\"aaxis\": {\"endlinecolor\": \"#2a3f5f\", \"gridcolor\": \"white\", \"linecolor\": \"white\", \"minorgridcolor\": \"white\", \"startlinecolor\": \"#2a3f5f\"}, \"baxis\": {\"endlinecolor\": \"#2a3f5f\", \"gridcolor\": \"white\", \"linecolor\": \"white\", \"minorgridcolor\": \"white\", \"startlinecolor\": \"#2a3f5f\"}, \"type\": \"carpet\"}], \"choropleth\": [{\"colorbar\": {\"outlinewidth\": 0, \"ticks\": \"\"}, \"type\": \"choropleth\"}], \"contour\": [{\"colorbar\": {\"outlinewidth\": 0, \"ticks\": \"\"}, \"colorscale\": [[0.0, \"#0d0887\"], [0.1111111111111111, \"#46039f\"], [0.2222222222222222, \"#7201a8\"], [0.3333333333333333, \"#9c179e\"], [0.4444444444444444, \"#bd3786\"], [0.5555555555555556, \"#d8576b\"], [0.6666666666666666, \"#ed7953\"], [0.7777777777777778, \"#fb9f3a\"], [0.8888888888888888, \"#fdca26\"], [1.0, \"#f0f921\"]], \"type\": \"contour\"}], \"contourcarpet\": [{\"colorbar\": {\"outlinewidth\": 0, \"ticks\": \"\"}, \"type\": \"contourcarpet\"}], \"heatmap\": [{\"colorbar\": {\"outlinewidth\": 0, \"ticks\": \"\"}, \"colorscale\": [[0.0, \"#0d0887\"], [0.1111111111111111, \"#46039f\"], [0.2222222222222222, \"#7201a8\"], [0.3333333333333333, \"#9c179e\"], [0.4444444444444444, \"#bd3786\"], [0.5555555555555556, \"#d8576b\"], [0.6666666666666666, \"#ed7953\"], [0.7777777777777778, \"#fb9f3a\"], [0.8888888888888888, \"#fdca26\"], [1.0, \"#f0f921\"]], \"type\": \"heatmap\"}], \"heatmapgl\": [{\"colorbar\": {\"outlinewidth\": 0, \"ticks\": \"\"}, \"colorscale\": [[0.0, \"#0d0887\"], [0.1111111111111111, \"#46039f\"], [0.2222222222222222, \"#7201a8\"], [0.3333333333333333, \"#9c179e\"], [0.4444444444444444, \"#bd3786\"], [0.5555555555555556, \"#d8576b\"], [0.6666666666666666, \"#ed7953\"], [0.7777777777777778, \"#fb9f3a\"], [0.8888888888888888, \"#fdca26\"], [1.0, \"#f0f921\"]], \"type\": \"heatmapgl\"}], \"histogram\": [{\"marker\": {\"colorbar\": {\"outlinewidth\": 0, \"ticks\": \"\"}}, \"type\": \"histogram\"}], \"histogram2d\": [{\"colorbar\": {\"outlinewidth\": 0, \"ticks\": \"\"}, \"colorscale\": [[0.0, \"#0d0887\"], [0.1111111111111111, \"#46039f\"], [0.2222222222222222, \"#7201a8\"], [0.3333333333333333, \"#9c179e\"], [0.4444444444444444, \"#bd3786\"], [0.5555555555555556, \"#d8576b\"], [0.6666666666666666, \"#ed7953\"], [0.7777777777777778, \"#fb9f3a\"], [0.8888888888888888, \"#fdca26\"], [1.0, \"#f0f921\"]], \"type\": \"histogram2d\"}], \"histogram2dcontour\": [{\"colorbar\": {\"outlinewidth\": 0, \"ticks\": \"\"}, \"colorscale\": [[0.0, \"#0d0887\"], [0.1111111111111111, \"#46039f\"], [0.2222222222222222, \"#7201a8\"], [0.3333333333333333, \"#9c179e\"], [0.4444444444444444, \"#bd3786\"], [0.5555555555555556, \"#d8576b\"], [0.6666666666666666, \"#ed7953\"], [0.7777777777777778, \"#fb9f3a\"], [0.8888888888888888, \"#fdca26\"], [1.0, \"#f0f921\"]], \"type\": \"histogram2dcontour\"}], \"mesh3d\": [{\"colorbar\": {\"outlinewidth\": 0, \"ticks\": \"\"}, \"type\": \"mesh3d\"}], \"parcoords\": [{\"line\": {\"colorbar\": {\"outlinewidth\": 0, \"ticks\": \"\"}}, \"type\": \"parcoords\"}], \"pie\": [{\"automargin\": true, \"type\": \"pie\"}], \"scatter\": [{\"marker\": {\"colorbar\": {\"outlinewidth\": 0, \"ticks\": \"\"}}, \"type\": \"scatter\"}], \"scatter3d\": [{\"line\": {\"colorbar\": {\"outlinewidth\": 0, \"ticks\": \"\"}}, \"marker\": {\"colorbar\": {\"outlinewidth\": 0, \"ticks\": \"\"}}, \"type\": \"scatter3d\"}], \"scattercarpet\": [{\"marker\": {\"colorbar\": {\"outlinewidth\": 0, \"ticks\": \"\"}}, \"type\": \"scattercarpet\"}], \"scattergeo\": [{\"marker\": {\"colorbar\": {\"outlinewidth\": 0, \"ticks\": \"\"}}, \"type\": \"scattergeo\"}], \"scattergl\": [{\"marker\": {\"colorbar\": {\"outlinewidth\": 0, \"ticks\": \"\"}}, \"type\": \"scattergl\"}], \"scattermapbox\": [{\"marker\": {\"colorbar\": {\"outlinewidth\": 0, \"ticks\": \"\"}}, \"type\": \"scattermapbox\"}], \"scatterpolar\": [{\"marker\": {\"colorbar\": {\"outlinewidth\": 0, \"ticks\": \"\"}}, \"type\": \"scatterpolar\"}], \"scatterpolargl\": [{\"marker\": {\"colorbar\": {\"outlinewidth\": 0, \"ticks\": \"\"}}, \"type\": \"scatterpolargl\"}], \"scatterternary\": [{\"marker\": {\"colorbar\": {\"outlinewidth\": 0, \"ticks\": \"\"}}, \"type\": \"scatterternary\"}], \"surface\": [{\"colorbar\": {\"outlinewidth\": 0, \"ticks\": \"\"}, \"colorscale\": [[0.0, \"#0d0887\"], [0.1111111111111111, \"#46039f\"], [0.2222222222222222, \"#7201a8\"], [0.3333333333333333, \"#9c179e\"], [0.4444444444444444, \"#bd3786\"], [0.5555555555555556, \"#d8576b\"], [0.6666666666666666, \"#ed7953\"], [0.7777777777777778, \"#fb9f3a\"], [0.8888888888888888, \"#fdca26\"], [1.0, \"#f0f921\"]], \"type\": \"surface\"}], \"table\": [{\"cells\": {\"fill\": {\"color\": \"#EBF0F8\"}, \"line\": {\"color\": \"white\"}}, \"header\": {\"fill\": {\"color\": \"#C8D4E3\"}, \"line\": {\"color\": \"white\"}}, \"type\": \"table\"}]}, \"layout\": {\"annotationdefaults\": {\"arrowcolor\": \"#2a3f5f\", \"arrowhead\": 0, \"arrowwidth\": 1}, \"coloraxis\": {\"colorbar\": {\"outlinewidth\": 0, \"ticks\": \"\"}}, \"colorscale\": {\"diverging\": [[0, \"#8e0152\"], [0.1, \"#c51b7d\"], [0.2, \"#de77ae\"], [0.3, \"#f1b6da\"], [0.4, \"#fde0ef\"], [0.5, \"#f7f7f7\"], [0.6, \"#e6f5d0\"], [0.7, \"#b8e186\"], [0.8, \"#7fbc41\"], [0.9, \"#4d9221\"], [1, \"#276419\"]], \"sequential\": [[0.0, \"#0d0887\"], [0.1111111111111111, \"#46039f\"], [0.2222222222222222, \"#7201a8\"], [0.3333333333333333, \"#9c179e\"], [0.4444444444444444, \"#bd3786\"], [0.5555555555555556, \"#d8576b\"], [0.6666666666666666, \"#ed7953\"], [0.7777777777777778, \"#fb9f3a\"], [0.8888888888888888, \"#fdca26\"], [1.0, \"#f0f921\"]], \"sequentialminus\": [[0.0, \"#0d0887\"], [0.1111111111111111, \"#46039f\"], [0.2222222222222222, \"#7201a8\"], [0.3333333333333333, \"#9c179e\"], [0.4444444444444444, \"#bd3786\"], [0.5555555555555556, \"#d8576b\"], [0.6666666666666666, \"#ed7953\"], [0.7777777777777778, \"#fb9f3a\"], [0.8888888888888888, \"#fdca26\"], [1.0, \"#f0f921\"]]}, \"colorway\": [\"#636efa\", \"#EF553B\", \"#00cc96\", \"#ab63fa\", \"#FFA15A\", \"#19d3f3\", \"#FF6692\", \"#B6E880\", \"#FF97FF\", \"#FECB52\"], \"font\": {\"color\": \"#2a3f5f\"}, \"geo\": {\"bgcolor\": \"white\", \"lakecolor\": \"white\", \"landcolor\": \"#E5ECF6\", \"showlakes\": true, \"showland\": true, \"subunitcolor\": \"white\"}, \"hoverlabel\": {\"align\": \"left\"}, \"hovermode\": \"closest\", \"mapbox\": {\"style\": \"light\"}, \"paper_bgcolor\": \"white\", \"plot_bgcolor\": \"#E5ECF6\", \"polar\": {\"angularaxis\": {\"gridcolor\": \"white\", \"linecolor\": \"white\", \"ticks\": \"\"}, \"bgcolor\": \"#E5ECF6\", \"radialaxis\": {\"gridcolor\": \"white\", \"linecolor\": \"white\", \"ticks\": \"\"}}, \"scene\": {\"xaxis\": {\"backgroundcolor\": \"#E5ECF6\", \"gridcolor\": \"white\", \"gridwidth\": 2, \"linecolor\": \"white\", \"showbackground\": true, \"ticks\": \"\", \"zerolinecolor\": \"white\"}, \"yaxis\": {\"backgroundcolor\": \"#E5ECF6\", \"gridcolor\": \"white\", \"gridwidth\": 2, \"linecolor\": \"white\", \"showbackground\": true, \"ticks\": \"\", \"zerolinecolor\": \"white\"}, \"zaxis\": {\"backgroundcolor\": \"#E5ECF6\", \"gridcolor\": \"white\", \"gridwidth\": 2, \"linecolor\": \"white\", \"showbackground\": true, \"ticks\": \"\", \"zerolinecolor\": \"white\"}}, \"shapedefaults\": {\"line\": {\"color\": \"#2a3f5f\"}}, \"ternary\": {\"aaxis\": {\"gridcolor\": \"white\", \"linecolor\": \"white\", \"ticks\": \"\"}, \"baxis\": {\"gridcolor\": \"white\", \"linecolor\": \"white\", \"ticks\": \"\"}, \"bgcolor\": \"#E5ECF6\", \"caxis\": {\"gridcolor\": \"white\", \"linecolor\": \"white\", \"ticks\": \"\"}}, \"title\": {\"x\": 0.05}, \"xaxis\": {\"automargin\": true, \"gridcolor\": \"white\", \"linecolor\": \"white\", \"ticks\": \"\", \"title\": {\"standoff\": 15}, \"zerolinecolor\": \"white\", \"zerolinewidth\": 2}, \"yaxis\": {\"automargin\": true, \"gridcolor\": \"white\", \"linecolor\": \"white\", \"ticks\": \"\", \"title\": {\"standoff\": 15}, \"zerolinecolor\": \"white\", \"zerolinewidth\": 2}}}, \"title\": {\"font\": {\"color\": \"#4D5663\"}}, \"xaxis\": {\"gridcolor\": \"#E1E5ED\", \"showgrid\": true, \"tickfont\": {\"color\": \"#4D5663\"}, \"title\": {\"font\": {\"color\": \"#4D5663\"}, \"text\": \"\"}, \"zerolinecolor\": \"#E1E5ED\"}, \"yaxis\": {\"gridcolor\": \"#E1E5ED\", \"showgrid\": true, \"tickfont\": {\"color\": \"#4D5663\"}, \"title\": {\"font\": {\"color\": \"#4D5663\"}, \"text\": \"\"}, \"zerolinecolor\": \"#E1E5ED\"}},\n",
       "                        {\"showLink\": true, \"linkText\": \"Export to plot.ly\", \"plotlyServerURL\": \"https://plot.ly\", \"responsive\": true}\n",
       "                    ).then(function(){\n",
       "                            \n",
       "var gd = document.getElementById('710e9b66-37e8-46b2-bdd4-23ee9d0da1f5');\n",
       "var x = new MutationObserver(function (mutations, observer) {{\n",
       "        var display = window.getComputedStyle(gd).display;\n",
       "        if (!display || display === 'none') {{\n",
       "            console.log([gd, 'removed!']);\n",
       "            Plotly.purge(gd);\n",
       "            observer.disconnect();\n",
       "        }}\n",
       "}});\n",
       "\n",
       "// Listen for the removal of the full notebook cells\n",
       "var notebookContainer = gd.closest('#notebook-container');\n",
       "if (notebookContainer) {{\n",
       "    x.observe(notebookContainer, {childList: true});\n",
       "}}\n",
       "\n",
       "// Listen for the clearing of the current output cell\n",
       "var outputEl = gd.closest('.output');\n",
       "if (outputEl) {{\n",
       "    x.observe(outputEl, {childList: true});\n",
       "}}\n",
       "\n",
       "                        })\n",
       "                };\n",
       "                });\n",
       "            </script>\n",
       "        </div>"
      ]
     },
     "metadata": {},
     "output_type": "display_data"
    }
   ],
   "source": [
    "df.iplot(kind='scatter',x='A',y='B',mode='markers',size=10)"
   ]
  },
  {
   "cell_type": "markdown",
   "metadata": {},
   "source": [
    "## Bar Plots"
   ]
  },
  {
   "cell_type": "code",
   "execution_count": 11,
   "metadata": {},
   "outputs": [
    {
     "data": {
      "application/vnd.plotly.v1+json": {
       "config": {
        "linkText": "Export to plot.ly",
        "plotlyServerURL": "https://plot.ly",
        "showLink": true
       },
       "data": [
        {
         "marker": {
          "color": "rgba(255, 153, 51, 0.6)",
          "line": {
           "color": "rgba(255, 153, 51, 1.0)",
           "width": 1
          }
         },
         "name": "Values",
         "orientation": "v",
         "text": "",
         "type": "bar",
         "x": [
          "A",
          "B",
          "C"
         ],
         "y": [
          32,
          43,
          50
         ]
        }
       ],
       "layout": {
        "legend": {
         "bgcolor": "#F5F6F9",
         "font": {
          "color": "#4D5663"
         }
        },
        "paper_bgcolor": "#F5F6F9",
        "plot_bgcolor": "#F5F6F9",
        "template": {
         "data": {
          "bar": [
           {
            "error_x": {
             "color": "#2a3f5f"
            },
            "error_y": {
             "color": "#2a3f5f"
            },
            "marker": {
             "line": {
              "color": "#E5ECF6",
              "width": 0.5
             }
            },
            "type": "bar"
           }
          ],
          "barpolar": [
           {
            "marker": {
             "line": {
              "color": "#E5ECF6",
              "width": 0.5
             }
            },
            "type": "barpolar"
           }
          ],
          "carpet": [
           {
            "aaxis": {
             "endlinecolor": "#2a3f5f",
             "gridcolor": "white",
             "linecolor": "white",
             "minorgridcolor": "white",
             "startlinecolor": "#2a3f5f"
            },
            "baxis": {
             "endlinecolor": "#2a3f5f",
             "gridcolor": "white",
             "linecolor": "white",
             "minorgridcolor": "white",
             "startlinecolor": "#2a3f5f"
            },
            "type": "carpet"
           }
          ],
          "choropleth": [
           {
            "colorbar": {
             "outlinewidth": 0,
             "ticks": ""
            },
            "type": "choropleth"
           }
          ],
          "contour": [
           {
            "colorbar": {
             "outlinewidth": 0,
             "ticks": ""
            },
            "colorscale": [
             [
              0,
              "#0d0887"
             ],
             [
              0.1111111111111111,
              "#46039f"
             ],
             [
              0.2222222222222222,
              "#7201a8"
             ],
             [
              0.3333333333333333,
              "#9c179e"
             ],
             [
              0.4444444444444444,
              "#bd3786"
             ],
             [
              0.5555555555555556,
              "#d8576b"
             ],
             [
              0.6666666666666666,
              "#ed7953"
             ],
             [
              0.7777777777777778,
              "#fb9f3a"
             ],
             [
              0.8888888888888888,
              "#fdca26"
             ],
             [
              1,
              "#f0f921"
             ]
            ],
            "type": "contour"
           }
          ],
          "contourcarpet": [
           {
            "colorbar": {
             "outlinewidth": 0,
             "ticks": ""
            },
            "type": "contourcarpet"
           }
          ],
          "heatmap": [
           {
            "colorbar": {
             "outlinewidth": 0,
             "ticks": ""
            },
            "colorscale": [
             [
              0,
              "#0d0887"
             ],
             [
              0.1111111111111111,
              "#46039f"
             ],
             [
              0.2222222222222222,
              "#7201a8"
             ],
             [
              0.3333333333333333,
              "#9c179e"
             ],
             [
              0.4444444444444444,
              "#bd3786"
             ],
             [
              0.5555555555555556,
              "#d8576b"
             ],
             [
              0.6666666666666666,
              "#ed7953"
             ],
             [
              0.7777777777777778,
              "#fb9f3a"
             ],
             [
              0.8888888888888888,
              "#fdca26"
             ],
             [
              1,
              "#f0f921"
             ]
            ],
            "type": "heatmap"
           }
          ],
          "heatmapgl": [
           {
            "colorbar": {
             "outlinewidth": 0,
             "ticks": ""
            },
            "colorscale": [
             [
              0,
              "#0d0887"
             ],
             [
              0.1111111111111111,
              "#46039f"
             ],
             [
              0.2222222222222222,
              "#7201a8"
             ],
             [
              0.3333333333333333,
              "#9c179e"
             ],
             [
              0.4444444444444444,
              "#bd3786"
             ],
             [
              0.5555555555555556,
              "#d8576b"
             ],
             [
              0.6666666666666666,
              "#ed7953"
             ],
             [
              0.7777777777777778,
              "#fb9f3a"
             ],
             [
              0.8888888888888888,
              "#fdca26"
             ],
             [
              1,
              "#f0f921"
             ]
            ],
            "type": "heatmapgl"
           }
          ],
          "histogram": [
           {
            "marker": {
             "colorbar": {
              "outlinewidth": 0,
              "ticks": ""
             }
            },
            "type": "histogram"
           }
          ],
          "histogram2d": [
           {
            "colorbar": {
             "outlinewidth": 0,
             "ticks": ""
            },
            "colorscale": [
             [
              0,
              "#0d0887"
             ],
             [
              0.1111111111111111,
              "#46039f"
             ],
             [
              0.2222222222222222,
              "#7201a8"
             ],
             [
              0.3333333333333333,
              "#9c179e"
             ],
             [
              0.4444444444444444,
              "#bd3786"
             ],
             [
              0.5555555555555556,
              "#d8576b"
             ],
             [
              0.6666666666666666,
              "#ed7953"
             ],
             [
              0.7777777777777778,
              "#fb9f3a"
             ],
             [
              0.8888888888888888,
              "#fdca26"
             ],
             [
              1,
              "#f0f921"
             ]
            ],
            "type": "histogram2d"
           }
          ],
          "histogram2dcontour": [
           {
            "colorbar": {
             "outlinewidth": 0,
             "ticks": ""
            },
            "colorscale": [
             [
              0,
              "#0d0887"
             ],
             [
              0.1111111111111111,
              "#46039f"
             ],
             [
              0.2222222222222222,
              "#7201a8"
             ],
             [
              0.3333333333333333,
              "#9c179e"
             ],
             [
              0.4444444444444444,
              "#bd3786"
             ],
             [
              0.5555555555555556,
              "#d8576b"
             ],
             [
              0.6666666666666666,
              "#ed7953"
             ],
             [
              0.7777777777777778,
              "#fb9f3a"
             ],
             [
              0.8888888888888888,
              "#fdca26"
             ],
             [
              1,
              "#f0f921"
             ]
            ],
            "type": "histogram2dcontour"
           }
          ],
          "mesh3d": [
           {
            "colorbar": {
             "outlinewidth": 0,
             "ticks": ""
            },
            "type": "mesh3d"
           }
          ],
          "parcoords": [
           {
            "line": {
             "colorbar": {
              "outlinewidth": 0,
              "ticks": ""
             }
            },
            "type": "parcoords"
           }
          ],
          "pie": [
           {
            "automargin": true,
            "type": "pie"
           }
          ],
          "scatter": [
           {
            "marker": {
             "colorbar": {
              "outlinewidth": 0,
              "ticks": ""
             }
            },
            "type": "scatter"
           }
          ],
          "scatter3d": [
           {
            "line": {
             "colorbar": {
              "outlinewidth": 0,
              "ticks": ""
             }
            },
            "marker": {
             "colorbar": {
              "outlinewidth": 0,
              "ticks": ""
             }
            },
            "type": "scatter3d"
           }
          ],
          "scattercarpet": [
           {
            "marker": {
             "colorbar": {
              "outlinewidth": 0,
              "ticks": ""
             }
            },
            "type": "scattercarpet"
           }
          ],
          "scattergeo": [
           {
            "marker": {
             "colorbar": {
              "outlinewidth": 0,
              "ticks": ""
             }
            },
            "type": "scattergeo"
           }
          ],
          "scattergl": [
           {
            "marker": {
             "colorbar": {
              "outlinewidth": 0,
              "ticks": ""
             }
            },
            "type": "scattergl"
           }
          ],
          "scattermapbox": [
           {
            "marker": {
             "colorbar": {
              "outlinewidth": 0,
              "ticks": ""
             }
            },
            "type": "scattermapbox"
           }
          ],
          "scatterpolar": [
           {
            "marker": {
             "colorbar": {
              "outlinewidth": 0,
              "ticks": ""
             }
            },
            "type": "scatterpolar"
           }
          ],
          "scatterpolargl": [
           {
            "marker": {
             "colorbar": {
              "outlinewidth": 0,
              "ticks": ""
             }
            },
            "type": "scatterpolargl"
           }
          ],
          "scatterternary": [
           {
            "marker": {
             "colorbar": {
              "outlinewidth": 0,
              "ticks": ""
             }
            },
            "type": "scatterternary"
           }
          ],
          "surface": [
           {
            "colorbar": {
             "outlinewidth": 0,
             "ticks": ""
            },
            "colorscale": [
             [
              0,
              "#0d0887"
             ],
             [
              0.1111111111111111,
              "#46039f"
             ],
             [
              0.2222222222222222,
              "#7201a8"
             ],
             [
              0.3333333333333333,
              "#9c179e"
             ],
             [
              0.4444444444444444,
              "#bd3786"
             ],
             [
              0.5555555555555556,
              "#d8576b"
             ],
             [
              0.6666666666666666,
              "#ed7953"
             ],
             [
              0.7777777777777778,
              "#fb9f3a"
             ],
             [
              0.8888888888888888,
              "#fdca26"
             ],
             [
              1,
              "#f0f921"
             ]
            ],
            "type": "surface"
           }
          ],
          "table": [
           {
            "cells": {
             "fill": {
              "color": "#EBF0F8"
             },
             "line": {
              "color": "white"
             }
            },
            "header": {
             "fill": {
              "color": "#C8D4E3"
             },
             "line": {
              "color": "white"
             }
            },
            "type": "table"
           }
          ]
         },
         "layout": {
          "annotationdefaults": {
           "arrowcolor": "#2a3f5f",
           "arrowhead": 0,
           "arrowwidth": 1
          },
          "coloraxis": {
           "colorbar": {
            "outlinewidth": 0,
            "ticks": ""
           }
          },
          "colorscale": {
           "diverging": [
            [
             0,
             "#8e0152"
            ],
            [
             0.1,
             "#c51b7d"
            ],
            [
             0.2,
             "#de77ae"
            ],
            [
             0.3,
             "#f1b6da"
            ],
            [
             0.4,
             "#fde0ef"
            ],
            [
             0.5,
             "#f7f7f7"
            ],
            [
             0.6,
             "#e6f5d0"
            ],
            [
             0.7,
             "#b8e186"
            ],
            [
             0.8,
             "#7fbc41"
            ],
            [
             0.9,
             "#4d9221"
            ],
            [
             1,
             "#276419"
            ]
           ],
           "sequential": [
            [
             0,
             "#0d0887"
            ],
            [
             0.1111111111111111,
             "#46039f"
            ],
            [
             0.2222222222222222,
             "#7201a8"
            ],
            [
             0.3333333333333333,
             "#9c179e"
            ],
            [
             0.4444444444444444,
             "#bd3786"
            ],
            [
             0.5555555555555556,
             "#d8576b"
            ],
            [
             0.6666666666666666,
             "#ed7953"
            ],
            [
             0.7777777777777778,
             "#fb9f3a"
            ],
            [
             0.8888888888888888,
             "#fdca26"
            ],
            [
             1,
             "#f0f921"
            ]
           ],
           "sequentialminus": [
            [
             0,
             "#0d0887"
            ],
            [
             0.1111111111111111,
             "#46039f"
            ],
            [
             0.2222222222222222,
             "#7201a8"
            ],
            [
             0.3333333333333333,
             "#9c179e"
            ],
            [
             0.4444444444444444,
             "#bd3786"
            ],
            [
             0.5555555555555556,
             "#d8576b"
            ],
            [
             0.6666666666666666,
             "#ed7953"
            ],
            [
             0.7777777777777778,
             "#fb9f3a"
            ],
            [
             0.8888888888888888,
             "#fdca26"
            ],
            [
             1,
             "#f0f921"
            ]
           ]
          },
          "colorway": [
           "#636efa",
           "#EF553B",
           "#00cc96",
           "#ab63fa",
           "#FFA15A",
           "#19d3f3",
           "#FF6692",
           "#B6E880",
           "#FF97FF",
           "#FECB52"
          ],
          "font": {
           "color": "#2a3f5f"
          },
          "geo": {
           "bgcolor": "white",
           "lakecolor": "white",
           "landcolor": "#E5ECF6",
           "showlakes": true,
           "showland": true,
           "subunitcolor": "white"
          },
          "hoverlabel": {
           "align": "left"
          },
          "hovermode": "closest",
          "mapbox": {
           "style": "light"
          },
          "paper_bgcolor": "white",
          "plot_bgcolor": "#E5ECF6",
          "polar": {
           "angularaxis": {
            "gridcolor": "white",
            "linecolor": "white",
            "ticks": ""
           },
           "bgcolor": "#E5ECF6",
           "radialaxis": {
            "gridcolor": "white",
            "linecolor": "white",
            "ticks": ""
           }
          },
          "scene": {
           "xaxis": {
            "backgroundcolor": "#E5ECF6",
            "gridcolor": "white",
            "gridwidth": 2,
            "linecolor": "white",
            "showbackground": true,
            "ticks": "",
            "zerolinecolor": "white"
           },
           "yaxis": {
            "backgroundcolor": "#E5ECF6",
            "gridcolor": "white",
            "gridwidth": 2,
            "linecolor": "white",
            "showbackground": true,
            "ticks": "",
            "zerolinecolor": "white"
           },
           "zaxis": {
            "backgroundcolor": "#E5ECF6",
            "gridcolor": "white",
            "gridwidth": 2,
            "linecolor": "white",
            "showbackground": true,
            "ticks": "",
            "zerolinecolor": "white"
           }
          },
          "shapedefaults": {
           "line": {
            "color": "#2a3f5f"
           }
          },
          "ternary": {
           "aaxis": {
            "gridcolor": "white",
            "linecolor": "white",
            "ticks": ""
           },
           "baxis": {
            "gridcolor": "white",
            "linecolor": "white",
            "ticks": ""
           },
           "bgcolor": "#E5ECF6",
           "caxis": {
            "gridcolor": "white",
            "linecolor": "white",
            "ticks": ""
           }
          },
          "title": {
           "x": 0.05
          },
          "xaxis": {
           "automargin": true,
           "gridcolor": "white",
           "linecolor": "white",
           "ticks": "",
           "title": {
            "standoff": 15
           },
           "zerolinecolor": "white",
           "zerolinewidth": 2
          },
          "yaxis": {
           "automargin": true,
           "gridcolor": "white",
           "linecolor": "white",
           "ticks": "",
           "title": {
            "standoff": 15
           },
           "zerolinecolor": "white",
           "zerolinewidth": 2
          }
         }
        },
        "title": {
         "font": {
          "color": "#4D5663"
         }
        },
        "xaxis": {
         "gridcolor": "#E1E5ED",
         "showgrid": true,
         "tickfont": {
          "color": "#4D5663"
         },
         "title": {
          "font": {
           "color": "#4D5663"
          },
          "text": ""
         },
         "zerolinecolor": "#E1E5ED"
        },
        "yaxis": {
         "gridcolor": "#E1E5ED",
         "showgrid": true,
         "tickfont": {
          "color": "#4D5663"
         },
         "title": {
          "font": {
           "color": "#4D5663"
          },
          "text": ""
         },
         "zerolinecolor": "#E1E5ED"
        }
       }
      },
      "text/html": [
       "<div>\n",
       "        \n",
       "        \n",
       "            <div id=\"8a8b90c0-3a71-4a21-b599-674f354e0095\" class=\"plotly-graph-div\" style=\"height:525px; width:100%;\"></div>\n",
       "            <script type=\"text/javascript\">\n",
       "                require([\"plotly\"], function(Plotly) {\n",
       "                    window.PLOTLYENV=window.PLOTLYENV || {};\n",
       "                    window.PLOTLYENV.BASE_URL='https://plot.ly';\n",
       "                    \n",
       "                if (document.getElementById(\"8a8b90c0-3a71-4a21-b599-674f354e0095\")) {\n",
       "                    Plotly.newPlot(\n",
       "                        '8a8b90c0-3a71-4a21-b599-674f354e0095',\n",
       "                        [{\"marker\": {\"color\": \"rgba(255, 153, 51, 0.6)\", \"line\": {\"color\": \"rgba(255, 153, 51, 1.0)\", \"width\": 1}}, \"name\": \"Values\", \"orientation\": \"v\", \"text\": \"\", \"type\": \"bar\", \"x\": [\"A\", \"B\", \"C\"], \"y\": [32, 43, 50]}],\n",
       "                        {\"legend\": {\"bgcolor\": \"#F5F6F9\", \"font\": {\"color\": \"#4D5663\"}}, \"paper_bgcolor\": \"#F5F6F9\", \"plot_bgcolor\": \"#F5F6F9\", \"template\": {\"data\": {\"bar\": [{\"error_x\": {\"color\": \"#2a3f5f\"}, \"error_y\": {\"color\": \"#2a3f5f\"}, \"marker\": {\"line\": {\"color\": \"#E5ECF6\", \"width\": 0.5}}, \"type\": \"bar\"}], \"barpolar\": [{\"marker\": {\"line\": {\"color\": \"#E5ECF6\", \"width\": 0.5}}, \"type\": \"barpolar\"}], \"carpet\": [{\"aaxis\": {\"endlinecolor\": \"#2a3f5f\", \"gridcolor\": \"white\", \"linecolor\": \"white\", \"minorgridcolor\": \"white\", \"startlinecolor\": \"#2a3f5f\"}, \"baxis\": {\"endlinecolor\": \"#2a3f5f\", \"gridcolor\": \"white\", \"linecolor\": \"white\", \"minorgridcolor\": \"white\", \"startlinecolor\": \"#2a3f5f\"}, \"type\": \"carpet\"}], \"choropleth\": [{\"colorbar\": {\"outlinewidth\": 0, \"ticks\": \"\"}, \"type\": \"choropleth\"}], \"contour\": [{\"colorbar\": {\"outlinewidth\": 0, \"ticks\": \"\"}, \"colorscale\": [[0.0, \"#0d0887\"], [0.1111111111111111, \"#46039f\"], [0.2222222222222222, \"#7201a8\"], [0.3333333333333333, \"#9c179e\"], [0.4444444444444444, \"#bd3786\"], [0.5555555555555556, \"#d8576b\"], [0.6666666666666666, \"#ed7953\"], [0.7777777777777778, \"#fb9f3a\"], [0.8888888888888888, \"#fdca26\"], [1.0, \"#f0f921\"]], \"type\": \"contour\"}], \"contourcarpet\": [{\"colorbar\": {\"outlinewidth\": 0, \"ticks\": \"\"}, \"type\": \"contourcarpet\"}], \"heatmap\": [{\"colorbar\": {\"outlinewidth\": 0, \"ticks\": \"\"}, \"colorscale\": [[0.0, \"#0d0887\"], [0.1111111111111111, \"#46039f\"], [0.2222222222222222, \"#7201a8\"], [0.3333333333333333, \"#9c179e\"], [0.4444444444444444, \"#bd3786\"], [0.5555555555555556, \"#d8576b\"], [0.6666666666666666, \"#ed7953\"], [0.7777777777777778, \"#fb9f3a\"], [0.8888888888888888, \"#fdca26\"], [1.0, \"#f0f921\"]], \"type\": \"heatmap\"}], \"heatmapgl\": [{\"colorbar\": {\"outlinewidth\": 0, \"ticks\": \"\"}, \"colorscale\": [[0.0, \"#0d0887\"], [0.1111111111111111, \"#46039f\"], [0.2222222222222222, \"#7201a8\"], [0.3333333333333333, \"#9c179e\"], [0.4444444444444444, \"#bd3786\"], [0.5555555555555556, \"#d8576b\"], [0.6666666666666666, \"#ed7953\"], [0.7777777777777778, \"#fb9f3a\"], [0.8888888888888888, \"#fdca26\"], [1.0, \"#f0f921\"]], \"type\": \"heatmapgl\"}], \"histogram\": [{\"marker\": {\"colorbar\": {\"outlinewidth\": 0, \"ticks\": \"\"}}, \"type\": \"histogram\"}], \"histogram2d\": [{\"colorbar\": {\"outlinewidth\": 0, \"ticks\": \"\"}, \"colorscale\": [[0.0, \"#0d0887\"], [0.1111111111111111, \"#46039f\"], [0.2222222222222222, \"#7201a8\"], [0.3333333333333333, \"#9c179e\"], [0.4444444444444444, \"#bd3786\"], [0.5555555555555556, \"#d8576b\"], [0.6666666666666666, \"#ed7953\"], [0.7777777777777778, \"#fb9f3a\"], [0.8888888888888888, \"#fdca26\"], [1.0, \"#f0f921\"]], \"type\": \"histogram2d\"}], \"histogram2dcontour\": [{\"colorbar\": {\"outlinewidth\": 0, \"ticks\": \"\"}, \"colorscale\": [[0.0, \"#0d0887\"], [0.1111111111111111, \"#46039f\"], [0.2222222222222222, \"#7201a8\"], [0.3333333333333333, \"#9c179e\"], [0.4444444444444444, \"#bd3786\"], [0.5555555555555556, \"#d8576b\"], [0.6666666666666666, \"#ed7953\"], [0.7777777777777778, \"#fb9f3a\"], [0.8888888888888888, \"#fdca26\"], [1.0, \"#f0f921\"]], \"type\": \"histogram2dcontour\"}], \"mesh3d\": [{\"colorbar\": {\"outlinewidth\": 0, \"ticks\": \"\"}, \"type\": \"mesh3d\"}], \"parcoords\": [{\"line\": {\"colorbar\": {\"outlinewidth\": 0, \"ticks\": \"\"}}, \"type\": \"parcoords\"}], \"pie\": [{\"automargin\": true, \"type\": \"pie\"}], \"scatter\": [{\"marker\": {\"colorbar\": {\"outlinewidth\": 0, \"ticks\": \"\"}}, \"type\": \"scatter\"}], \"scatter3d\": [{\"line\": {\"colorbar\": {\"outlinewidth\": 0, \"ticks\": \"\"}}, \"marker\": {\"colorbar\": {\"outlinewidth\": 0, \"ticks\": \"\"}}, \"type\": \"scatter3d\"}], \"scattercarpet\": [{\"marker\": {\"colorbar\": {\"outlinewidth\": 0, \"ticks\": \"\"}}, \"type\": \"scattercarpet\"}], \"scattergeo\": [{\"marker\": {\"colorbar\": {\"outlinewidth\": 0, \"ticks\": \"\"}}, \"type\": \"scattergeo\"}], \"scattergl\": [{\"marker\": {\"colorbar\": {\"outlinewidth\": 0, \"ticks\": \"\"}}, \"type\": \"scattergl\"}], \"scattermapbox\": [{\"marker\": {\"colorbar\": {\"outlinewidth\": 0, \"ticks\": \"\"}}, \"type\": \"scattermapbox\"}], \"scatterpolar\": [{\"marker\": {\"colorbar\": {\"outlinewidth\": 0, \"ticks\": \"\"}}, \"type\": \"scatterpolar\"}], \"scatterpolargl\": [{\"marker\": {\"colorbar\": {\"outlinewidth\": 0, \"ticks\": \"\"}}, \"type\": \"scatterpolargl\"}], \"scatterternary\": [{\"marker\": {\"colorbar\": {\"outlinewidth\": 0, \"ticks\": \"\"}}, \"type\": \"scatterternary\"}], \"surface\": [{\"colorbar\": {\"outlinewidth\": 0, \"ticks\": \"\"}, \"colorscale\": [[0.0, \"#0d0887\"], [0.1111111111111111, \"#46039f\"], [0.2222222222222222, \"#7201a8\"], [0.3333333333333333, \"#9c179e\"], [0.4444444444444444, \"#bd3786\"], [0.5555555555555556, \"#d8576b\"], [0.6666666666666666, \"#ed7953\"], [0.7777777777777778, \"#fb9f3a\"], [0.8888888888888888, \"#fdca26\"], [1.0, \"#f0f921\"]], \"type\": \"surface\"}], \"table\": [{\"cells\": {\"fill\": {\"color\": \"#EBF0F8\"}, \"line\": {\"color\": \"white\"}}, \"header\": {\"fill\": {\"color\": \"#C8D4E3\"}, \"line\": {\"color\": \"white\"}}, \"type\": \"table\"}]}, \"layout\": {\"annotationdefaults\": {\"arrowcolor\": \"#2a3f5f\", \"arrowhead\": 0, \"arrowwidth\": 1}, \"coloraxis\": {\"colorbar\": {\"outlinewidth\": 0, \"ticks\": \"\"}}, \"colorscale\": {\"diverging\": [[0, \"#8e0152\"], [0.1, \"#c51b7d\"], [0.2, \"#de77ae\"], [0.3, \"#f1b6da\"], [0.4, \"#fde0ef\"], [0.5, \"#f7f7f7\"], [0.6, \"#e6f5d0\"], [0.7, \"#b8e186\"], [0.8, \"#7fbc41\"], [0.9, \"#4d9221\"], [1, \"#276419\"]], \"sequential\": [[0.0, \"#0d0887\"], [0.1111111111111111, \"#46039f\"], [0.2222222222222222, \"#7201a8\"], [0.3333333333333333, \"#9c179e\"], [0.4444444444444444, \"#bd3786\"], [0.5555555555555556, \"#d8576b\"], [0.6666666666666666, \"#ed7953\"], [0.7777777777777778, \"#fb9f3a\"], [0.8888888888888888, \"#fdca26\"], [1.0, \"#f0f921\"]], \"sequentialminus\": [[0.0, \"#0d0887\"], [0.1111111111111111, \"#46039f\"], [0.2222222222222222, \"#7201a8\"], [0.3333333333333333, \"#9c179e\"], [0.4444444444444444, \"#bd3786\"], [0.5555555555555556, \"#d8576b\"], [0.6666666666666666, \"#ed7953\"], [0.7777777777777778, \"#fb9f3a\"], [0.8888888888888888, \"#fdca26\"], [1.0, \"#f0f921\"]]}, \"colorway\": [\"#636efa\", \"#EF553B\", \"#00cc96\", \"#ab63fa\", \"#FFA15A\", \"#19d3f3\", \"#FF6692\", \"#B6E880\", \"#FF97FF\", \"#FECB52\"], \"font\": {\"color\": \"#2a3f5f\"}, \"geo\": {\"bgcolor\": \"white\", \"lakecolor\": \"white\", \"landcolor\": \"#E5ECF6\", \"showlakes\": true, \"showland\": true, \"subunitcolor\": \"white\"}, \"hoverlabel\": {\"align\": \"left\"}, \"hovermode\": \"closest\", \"mapbox\": {\"style\": \"light\"}, \"paper_bgcolor\": \"white\", \"plot_bgcolor\": \"#E5ECF6\", \"polar\": {\"angularaxis\": {\"gridcolor\": \"white\", \"linecolor\": \"white\", \"ticks\": \"\"}, \"bgcolor\": \"#E5ECF6\", \"radialaxis\": {\"gridcolor\": \"white\", \"linecolor\": \"white\", \"ticks\": \"\"}}, \"scene\": {\"xaxis\": {\"backgroundcolor\": \"#E5ECF6\", \"gridcolor\": \"white\", \"gridwidth\": 2, \"linecolor\": \"white\", \"showbackground\": true, \"ticks\": \"\", \"zerolinecolor\": \"white\"}, \"yaxis\": {\"backgroundcolor\": \"#E5ECF6\", \"gridcolor\": \"white\", \"gridwidth\": 2, \"linecolor\": \"white\", \"showbackground\": true, \"ticks\": \"\", \"zerolinecolor\": \"white\"}, \"zaxis\": {\"backgroundcolor\": \"#E5ECF6\", \"gridcolor\": \"white\", \"gridwidth\": 2, \"linecolor\": \"white\", \"showbackground\": true, \"ticks\": \"\", \"zerolinecolor\": \"white\"}}, \"shapedefaults\": {\"line\": {\"color\": \"#2a3f5f\"}}, \"ternary\": {\"aaxis\": {\"gridcolor\": \"white\", \"linecolor\": \"white\", \"ticks\": \"\"}, \"baxis\": {\"gridcolor\": \"white\", \"linecolor\": \"white\", \"ticks\": \"\"}, \"bgcolor\": \"#E5ECF6\", \"caxis\": {\"gridcolor\": \"white\", \"linecolor\": \"white\", \"ticks\": \"\"}}, \"title\": {\"x\": 0.05}, \"xaxis\": {\"automargin\": true, \"gridcolor\": \"white\", \"linecolor\": \"white\", \"ticks\": \"\", \"title\": {\"standoff\": 15}, \"zerolinecolor\": \"white\", \"zerolinewidth\": 2}, \"yaxis\": {\"automargin\": true, \"gridcolor\": \"white\", \"linecolor\": \"white\", \"ticks\": \"\", \"title\": {\"standoff\": 15}, \"zerolinecolor\": \"white\", \"zerolinewidth\": 2}}}, \"title\": {\"font\": {\"color\": \"#4D5663\"}}, \"xaxis\": {\"gridcolor\": \"#E1E5ED\", \"showgrid\": true, \"tickfont\": {\"color\": \"#4D5663\"}, \"title\": {\"font\": {\"color\": \"#4D5663\"}, \"text\": \"\"}, \"zerolinecolor\": \"#E1E5ED\"}, \"yaxis\": {\"gridcolor\": \"#E1E5ED\", \"showgrid\": true, \"tickfont\": {\"color\": \"#4D5663\"}, \"title\": {\"font\": {\"color\": \"#4D5663\"}, \"text\": \"\"}, \"zerolinecolor\": \"#E1E5ED\"}},\n",
       "                        {\"showLink\": true, \"linkText\": \"Export to plot.ly\", \"plotlyServerURL\": \"https://plot.ly\", \"responsive\": true}\n",
       "                    ).then(function(){\n",
       "                            \n",
       "var gd = document.getElementById('8a8b90c0-3a71-4a21-b599-674f354e0095');\n",
       "var x = new MutationObserver(function (mutations, observer) {{\n",
       "        var display = window.getComputedStyle(gd).display;\n",
       "        if (!display || display === 'none') {{\n",
       "            console.log([gd, 'removed!']);\n",
       "            Plotly.purge(gd);\n",
       "            observer.disconnect();\n",
       "        }}\n",
       "}});\n",
       "\n",
       "// Listen for the removal of the full notebook cells\n",
       "var notebookContainer = gd.closest('#notebook-container');\n",
       "if (notebookContainer) {{\n",
       "    x.observe(notebookContainer, {childList: true});\n",
       "}}\n",
       "\n",
       "// Listen for the clearing of the current output cell\n",
       "var outputEl = gd.closest('.output');\n",
       "if (outputEl) {{\n",
       "    x.observe(outputEl, {childList: true});\n",
       "}}\n",
       "\n",
       "                        })\n",
       "                };\n",
       "                });\n",
       "            </script>\n",
       "        </div>"
      ]
     },
     "metadata": {},
     "output_type": "display_data"
    }
   ],
   "source": [
    "df2.iplot(kind='bar',x='Category',y='Values')"
   ]
  },
  {
   "cell_type": "code",
   "execution_count": 12,
   "metadata": {},
   "outputs": [
    {
     "data": {
      "application/vnd.plotly.v1+json": {
       "config": {
        "linkText": "Export to plot.ly",
        "plotlyServerURL": "https://plot.ly",
        "showLink": true
       },
       "data": [
        {
         "marker": {
          "color": "rgba(255, 153, 51, 0.6)",
          "line": {
           "color": "rgba(255, 153, 51, 1.0)",
           "width": 1
          }
         },
         "name": "None",
         "orientation": "v",
         "text": "",
         "type": "bar",
         "x": [
          "A",
          "B",
          "C",
          "D"
         ],
         "y": [
          100,
          100,
          100,
          100
         ]
        }
       ],
       "layout": {
        "legend": {
         "bgcolor": "#F5F6F9",
         "font": {
          "color": "#4D5663"
         }
        },
        "paper_bgcolor": "#F5F6F9",
        "plot_bgcolor": "#F5F6F9",
        "template": {
         "data": {
          "bar": [
           {
            "error_x": {
             "color": "#2a3f5f"
            },
            "error_y": {
             "color": "#2a3f5f"
            },
            "marker": {
             "line": {
              "color": "#E5ECF6",
              "width": 0.5
             }
            },
            "type": "bar"
           }
          ],
          "barpolar": [
           {
            "marker": {
             "line": {
              "color": "#E5ECF6",
              "width": 0.5
             }
            },
            "type": "barpolar"
           }
          ],
          "carpet": [
           {
            "aaxis": {
             "endlinecolor": "#2a3f5f",
             "gridcolor": "white",
             "linecolor": "white",
             "minorgridcolor": "white",
             "startlinecolor": "#2a3f5f"
            },
            "baxis": {
             "endlinecolor": "#2a3f5f",
             "gridcolor": "white",
             "linecolor": "white",
             "minorgridcolor": "white",
             "startlinecolor": "#2a3f5f"
            },
            "type": "carpet"
           }
          ],
          "choropleth": [
           {
            "colorbar": {
             "outlinewidth": 0,
             "ticks": ""
            },
            "type": "choropleth"
           }
          ],
          "contour": [
           {
            "colorbar": {
             "outlinewidth": 0,
             "ticks": ""
            },
            "colorscale": [
             [
              0,
              "#0d0887"
             ],
             [
              0.1111111111111111,
              "#46039f"
             ],
             [
              0.2222222222222222,
              "#7201a8"
             ],
             [
              0.3333333333333333,
              "#9c179e"
             ],
             [
              0.4444444444444444,
              "#bd3786"
             ],
             [
              0.5555555555555556,
              "#d8576b"
             ],
             [
              0.6666666666666666,
              "#ed7953"
             ],
             [
              0.7777777777777778,
              "#fb9f3a"
             ],
             [
              0.8888888888888888,
              "#fdca26"
             ],
             [
              1,
              "#f0f921"
             ]
            ],
            "type": "contour"
           }
          ],
          "contourcarpet": [
           {
            "colorbar": {
             "outlinewidth": 0,
             "ticks": ""
            },
            "type": "contourcarpet"
           }
          ],
          "heatmap": [
           {
            "colorbar": {
             "outlinewidth": 0,
             "ticks": ""
            },
            "colorscale": [
             [
              0,
              "#0d0887"
             ],
             [
              0.1111111111111111,
              "#46039f"
             ],
             [
              0.2222222222222222,
              "#7201a8"
             ],
             [
              0.3333333333333333,
              "#9c179e"
             ],
             [
              0.4444444444444444,
              "#bd3786"
             ],
             [
              0.5555555555555556,
              "#d8576b"
             ],
             [
              0.6666666666666666,
              "#ed7953"
             ],
             [
              0.7777777777777778,
              "#fb9f3a"
             ],
             [
              0.8888888888888888,
              "#fdca26"
             ],
             [
              1,
              "#f0f921"
             ]
            ],
            "type": "heatmap"
           }
          ],
          "heatmapgl": [
           {
            "colorbar": {
             "outlinewidth": 0,
             "ticks": ""
            },
            "colorscale": [
             [
              0,
              "#0d0887"
             ],
             [
              0.1111111111111111,
              "#46039f"
             ],
             [
              0.2222222222222222,
              "#7201a8"
             ],
             [
              0.3333333333333333,
              "#9c179e"
             ],
             [
              0.4444444444444444,
              "#bd3786"
             ],
             [
              0.5555555555555556,
              "#d8576b"
             ],
             [
              0.6666666666666666,
              "#ed7953"
             ],
             [
              0.7777777777777778,
              "#fb9f3a"
             ],
             [
              0.8888888888888888,
              "#fdca26"
             ],
             [
              1,
              "#f0f921"
             ]
            ],
            "type": "heatmapgl"
           }
          ],
          "histogram": [
           {
            "marker": {
             "colorbar": {
              "outlinewidth": 0,
              "ticks": ""
             }
            },
            "type": "histogram"
           }
          ],
          "histogram2d": [
           {
            "colorbar": {
             "outlinewidth": 0,
             "ticks": ""
            },
            "colorscale": [
             [
              0,
              "#0d0887"
             ],
             [
              0.1111111111111111,
              "#46039f"
             ],
             [
              0.2222222222222222,
              "#7201a8"
             ],
             [
              0.3333333333333333,
              "#9c179e"
             ],
             [
              0.4444444444444444,
              "#bd3786"
             ],
             [
              0.5555555555555556,
              "#d8576b"
             ],
             [
              0.6666666666666666,
              "#ed7953"
             ],
             [
              0.7777777777777778,
              "#fb9f3a"
             ],
             [
              0.8888888888888888,
              "#fdca26"
             ],
             [
              1,
              "#f0f921"
             ]
            ],
            "type": "histogram2d"
           }
          ],
          "histogram2dcontour": [
           {
            "colorbar": {
             "outlinewidth": 0,
             "ticks": ""
            },
            "colorscale": [
             [
              0,
              "#0d0887"
             ],
             [
              0.1111111111111111,
              "#46039f"
             ],
             [
              0.2222222222222222,
              "#7201a8"
             ],
             [
              0.3333333333333333,
              "#9c179e"
             ],
             [
              0.4444444444444444,
              "#bd3786"
             ],
             [
              0.5555555555555556,
              "#d8576b"
             ],
             [
              0.6666666666666666,
              "#ed7953"
             ],
             [
              0.7777777777777778,
              "#fb9f3a"
             ],
             [
              0.8888888888888888,
              "#fdca26"
             ],
             [
              1,
              "#f0f921"
             ]
            ],
            "type": "histogram2dcontour"
           }
          ],
          "mesh3d": [
           {
            "colorbar": {
             "outlinewidth": 0,
             "ticks": ""
            },
            "type": "mesh3d"
           }
          ],
          "parcoords": [
           {
            "line": {
             "colorbar": {
              "outlinewidth": 0,
              "ticks": ""
             }
            },
            "type": "parcoords"
           }
          ],
          "pie": [
           {
            "automargin": true,
            "type": "pie"
           }
          ],
          "scatter": [
           {
            "marker": {
             "colorbar": {
              "outlinewidth": 0,
              "ticks": ""
             }
            },
            "type": "scatter"
           }
          ],
          "scatter3d": [
           {
            "line": {
             "colorbar": {
              "outlinewidth": 0,
              "ticks": ""
             }
            },
            "marker": {
             "colorbar": {
              "outlinewidth": 0,
              "ticks": ""
             }
            },
            "type": "scatter3d"
           }
          ],
          "scattercarpet": [
           {
            "marker": {
             "colorbar": {
              "outlinewidth": 0,
              "ticks": ""
             }
            },
            "type": "scattercarpet"
           }
          ],
          "scattergeo": [
           {
            "marker": {
             "colorbar": {
              "outlinewidth": 0,
              "ticks": ""
             }
            },
            "type": "scattergeo"
           }
          ],
          "scattergl": [
           {
            "marker": {
             "colorbar": {
              "outlinewidth": 0,
              "ticks": ""
             }
            },
            "type": "scattergl"
           }
          ],
          "scattermapbox": [
           {
            "marker": {
             "colorbar": {
              "outlinewidth": 0,
              "ticks": ""
             }
            },
            "type": "scattermapbox"
           }
          ],
          "scatterpolar": [
           {
            "marker": {
             "colorbar": {
              "outlinewidth": 0,
              "ticks": ""
             }
            },
            "type": "scatterpolar"
           }
          ],
          "scatterpolargl": [
           {
            "marker": {
             "colorbar": {
              "outlinewidth": 0,
              "ticks": ""
             }
            },
            "type": "scatterpolargl"
           }
          ],
          "scatterternary": [
           {
            "marker": {
             "colorbar": {
              "outlinewidth": 0,
              "ticks": ""
             }
            },
            "type": "scatterternary"
           }
          ],
          "surface": [
           {
            "colorbar": {
             "outlinewidth": 0,
             "ticks": ""
            },
            "colorscale": [
             [
              0,
              "#0d0887"
             ],
             [
              0.1111111111111111,
              "#46039f"
             ],
             [
              0.2222222222222222,
              "#7201a8"
             ],
             [
              0.3333333333333333,
              "#9c179e"
             ],
             [
              0.4444444444444444,
              "#bd3786"
             ],
             [
              0.5555555555555556,
              "#d8576b"
             ],
             [
              0.6666666666666666,
              "#ed7953"
             ],
             [
              0.7777777777777778,
              "#fb9f3a"
             ],
             [
              0.8888888888888888,
              "#fdca26"
             ],
             [
              1,
              "#f0f921"
             ]
            ],
            "type": "surface"
           }
          ],
          "table": [
           {
            "cells": {
             "fill": {
              "color": "#EBF0F8"
             },
             "line": {
              "color": "white"
             }
            },
            "header": {
             "fill": {
              "color": "#C8D4E3"
             },
             "line": {
              "color": "white"
             }
            },
            "type": "table"
           }
          ]
         },
         "layout": {
          "annotationdefaults": {
           "arrowcolor": "#2a3f5f",
           "arrowhead": 0,
           "arrowwidth": 1
          },
          "coloraxis": {
           "colorbar": {
            "outlinewidth": 0,
            "ticks": ""
           }
          },
          "colorscale": {
           "diverging": [
            [
             0,
             "#8e0152"
            ],
            [
             0.1,
             "#c51b7d"
            ],
            [
             0.2,
             "#de77ae"
            ],
            [
             0.3,
             "#f1b6da"
            ],
            [
             0.4,
             "#fde0ef"
            ],
            [
             0.5,
             "#f7f7f7"
            ],
            [
             0.6,
             "#e6f5d0"
            ],
            [
             0.7,
             "#b8e186"
            ],
            [
             0.8,
             "#7fbc41"
            ],
            [
             0.9,
             "#4d9221"
            ],
            [
             1,
             "#276419"
            ]
           ],
           "sequential": [
            [
             0,
             "#0d0887"
            ],
            [
             0.1111111111111111,
             "#46039f"
            ],
            [
             0.2222222222222222,
             "#7201a8"
            ],
            [
             0.3333333333333333,
             "#9c179e"
            ],
            [
             0.4444444444444444,
             "#bd3786"
            ],
            [
             0.5555555555555556,
             "#d8576b"
            ],
            [
             0.6666666666666666,
             "#ed7953"
            ],
            [
             0.7777777777777778,
             "#fb9f3a"
            ],
            [
             0.8888888888888888,
             "#fdca26"
            ],
            [
             1,
             "#f0f921"
            ]
           ],
           "sequentialminus": [
            [
             0,
             "#0d0887"
            ],
            [
             0.1111111111111111,
             "#46039f"
            ],
            [
             0.2222222222222222,
             "#7201a8"
            ],
            [
             0.3333333333333333,
             "#9c179e"
            ],
            [
             0.4444444444444444,
             "#bd3786"
            ],
            [
             0.5555555555555556,
             "#d8576b"
            ],
            [
             0.6666666666666666,
             "#ed7953"
            ],
            [
             0.7777777777777778,
             "#fb9f3a"
            ],
            [
             0.8888888888888888,
             "#fdca26"
            ],
            [
             1,
             "#f0f921"
            ]
           ]
          },
          "colorway": [
           "#636efa",
           "#EF553B",
           "#00cc96",
           "#ab63fa",
           "#FFA15A",
           "#19d3f3",
           "#FF6692",
           "#B6E880",
           "#FF97FF",
           "#FECB52"
          ],
          "font": {
           "color": "#2a3f5f"
          },
          "geo": {
           "bgcolor": "white",
           "lakecolor": "white",
           "landcolor": "#E5ECF6",
           "showlakes": true,
           "showland": true,
           "subunitcolor": "white"
          },
          "hoverlabel": {
           "align": "left"
          },
          "hovermode": "closest",
          "mapbox": {
           "style": "light"
          },
          "paper_bgcolor": "white",
          "plot_bgcolor": "#E5ECF6",
          "polar": {
           "angularaxis": {
            "gridcolor": "white",
            "linecolor": "white",
            "ticks": ""
           },
           "bgcolor": "#E5ECF6",
           "radialaxis": {
            "gridcolor": "white",
            "linecolor": "white",
            "ticks": ""
           }
          },
          "scene": {
           "xaxis": {
            "backgroundcolor": "#E5ECF6",
            "gridcolor": "white",
            "gridwidth": 2,
            "linecolor": "white",
            "showbackground": true,
            "ticks": "",
            "zerolinecolor": "white"
           },
           "yaxis": {
            "backgroundcolor": "#E5ECF6",
            "gridcolor": "white",
            "gridwidth": 2,
            "linecolor": "white",
            "showbackground": true,
            "ticks": "",
            "zerolinecolor": "white"
           },
           "zaxis": {
            "backgroundcolor": "#E5ECF6",
            "gridcolor": "white",
            "gridwidth": 2,
            "linecolor": "white",
            "showbackground": true,
            "ticks": "",
            "zerolinecolor": "white"
           }
          },
          "shapedefaults": {
           "line": {
            "color": "#2a3f5f"
           }
          },
          "ternary": {
           "aaxis": {
            "gridcolor": "white",
            "linecolor": "white",
            "ticks": ""
           },
           "baxis": {
            "gridcolor": "white",
            "linecolor": "white",
            "ticks": ""
           },
           "bgcolor": "#E5ECF6",
           "caxis": {
            "gridcolor": "white",
            "linecolor": "white",
            "ticks": ""
           }
          },
          "title": {
           "x": 0.05
          },
          "xaxis": {
           "automargin": true,
           "gridcolor": "white",
           "linecolor": "white",
           "ticks": "",
           "title": {
            "standoff": 15
           },
           "zerolinecolor": "white",
           "zerolinewidth": 2
          },
          "yaxis": {
           "automargin": true,
           "gridcolor": "white",
           "linecolor": "white",
           "ticks": "",
           "title": {
            "standoff": 15
           },
           "zerolinecolor": "white",
           "zerolinewidth": 2
          }
         }
        },
        "title": {
         "font": {
          "color": "#4D5663"
         }
        },
        "xaxis": {
         "gridcolor": "#E1E5ED",
         "showgrid": true,
         "tickfont": {
          "color": "#4D5663"
         },
         "title": {
          "font": {
           "color": "#4D5663"
          },
          "text": ""
         },
         "zerolinecolor": "#E1E5ED"
        },
        "yaxis": {
         "gridcolor": "#E1E5ED",
         "showgrid": true,
         "tickfont": {
          "color": "#4D5663"
         },
         "title": {
          "font": {
           "color": "#4D5663"
          },
          "text": ""
         },
         "zerolinecolor": "#E1E5ED"
        }
       }
      },
      "text/html": [
       "<div>\n",
       "        \n",
       "        \n",
       "            <div id=\"9d734d3e-611e-4ab7-91ea-b565505bc701\" class=\"plotly-graph-div\" style=\"height:525px; width:100%;\"></div>\n",
       "            <script type=\"text/javascript\">\n",
       "                require([\"plotly\"], function(Plotly) {\n",
       "                    window.PLOTLYENV=window.PLOTLYENV || {};\n",
       "                    window.PLOTLYENV.BASE_URL='https://plot.ly';\n",
       "                    \n",
       "                if (document.getElementById(\"9d734d3e-611e-4ab7-91ea-b565505bc701\")) {\n",
       "                    Plotly.newPlot(\n",
       "                        '9d734d3e-611e-4ab7-91ea-b565505bc701',\n",
       "                        [{\"marker\": {\"color\": \"rgba(255, 153, 51, 0.6)\", \"line\": {\"color\": \"rgba(255, 153, 51, 1.0)\", \"width\": 1}}, \"name\": \"None\", \"orientation\": \"v\", \"text\": \"\", \"type\": \"bar\", \"x\": [\"A\", \"B\", \"C\", \"D\"], \"y\": [100, 100, 100, 100]}],\n",
       "                        {\"legend\": {\"bgcolor\": \"#F5F6F9\", \"font\": {\"color\": \"#4D5663\"}}, \"paper_bgcolor\": \"#F5F6F9\", \"plot_bgcolor\": \"#F5F6F9\", \"template\": {\"data\": {\"bar\": [{\"error_x\": {\"color\": \"#2a3f5f\"}, \"error_y\": {\"color\": \"#2a3f5f\"}, \"marker\": {\"line\": {\"color\": \"#E5ECF6\", \"width\": 0.5}}, \"type\": \"bar\"}], \"barpolar\": [{\"marker\": {\"line\": {\"color\": \"#E5ECF6\", \"width\": 0.5}}, \"type\": \"barpolar\"}], \"carpet\": [{\"aaxis\": {\"endlinecolor\": \"#2a3f5f\", \"gridcolor\": \"white\", \"linecolor\": \"white\", \"minorgridcolor\": \"white\", \"startlinecolor\": \"#2a3f5f\"}, \"baxis\": {\"endlinecolor\": \"#2a3f5f\", \"gridcolor\": \"white\", \"linecolor\": \"white\", \"minorgridcolor\": \"white\", \"startlinecolor\": \"#2a3f5f\"}, \"type\": \"carpet\"}], \"choropleth\": [{\"colorbar\": {\"outlinewidth\": 0, \"ticks\": \"\"}, \"type\": \"choropleth\"}], \"contour\": [{\"colorbar\": {\"outlinewidth\": 0, \"ticks\": \"\"}, \"colorscale\": [[0.0, \"#0d0887\"], [0.1111111111111111, \"#46039f\"], [0.2222222222222222, \"#7201a8\"], [0.3333333333333333, \"#9c179e\"], [0.4444444444444444, \"#bd3786\"], [0.5555555555555556, \"#d8576b\"], [0.6666666666666666, \"#ed7953\"], [0.7777777777777778, \"#fb9f3a\"], [0.8888888888888888, \"#fdca26\"], [1.0, \"#f0f921\"]], \"type\": \"contour\"}], \"contourcarpet\": [{\"colorbar\": {\"outlinewidth\": 0, \"ticks\": \"\"}, \"type\": \"contourcarpet\"}], \"heatmap\": [{\"colorbar\": {\"outlinewidth\": 0, \"ticks\": \"\"}, \"colorscale\": [[0.0, \"#0d0887\"], [0.1111111111111111, \"#46039f\"], [0.2222222222222222, \"#7201a8\"], [0.3333333333333333, \"#9c179e\"], [0.4444444444444444, \"#bd3786\"], [0.5555555555555556, \"#d8576b\"], [0.6666666666666666, \"#ed7953\"], [0.7777777777777778, \"#fb9f3a\"], [0.8888888888888888, \"#fdca26\"], [1.0, \"#f0f921\"]], \"type\": \"heatmap\"}], \"heatmapgl\": [{\"colorbar\": {\"outlinewidth\": 0, \"ticks\": \"\"}, \"colorscale\": [[0.0, \"#0d0887\"], [0.1111111111111111, \"#46039f\"], [0.2222222222222222, \"#7201a8\"], [0.3333333333333333, \"#9c179e\"], [0.4444444444444444, \"#bd3786\"], [0.5555555555555556, \"#d8576b\"], [0.6666666666666666, \"#ed7953\"], [0.7777777777777778, \"#fb9f3a\"], [0.8888888888888888, \"#fdca26\"], [1.0, \"#f0f921\"]], \"type\": \"heatmapgl\"}], \"histogram\": [{\"marker\": {\"colorbar\": {\"outlinewidth\": 0, \"ticks\": \"\"}}, \"type\": \"histogram\"}], \"histogram2d\": [{\"colorbar\": {\"outlinewidth\": 0, \"ticks\": \"\"}, \"colorscale\": [[0.0, \"#0d0887\"], [0.1111111111111111, \"#46039f\"], [0.2222222222222222, \"#7201a8\"], [0.3333333333333333, \"#9c179e\"], [0.4444444444444444, \"#bd3786\"], [0.5555555555555556, \"#d8576b\"], [0.6666666666666666, \"#ed7953\"], [0.7777777777777778, \"#fb9f3a\"], [0.8888888888888888, \"#fdca26\"], [1.0, \"#f0f921\"]], \"type\": \"histogram2d\"}], \"histogram2dcontour\": [{\"colorbar\": {\"outlinewidth\": 0, \"ticks\": \"\"}, \"colorscale\": [[0.0, \"#0d0887\"], [0.1111111111111111, \"#46039f\"], [0.2222222222222222, \"#7201a8\"], [0.3333333333333333, \"#9c179e\"], [0.4444444444444444, \"#bd3786\"], [0.5555555555555556, \"#d8576b\"], [0.6666666666666666, \"#ed7953\"], [0.7777777777777778, \"#fb9f3a\"], [0.8888888888888888, \"#fdca26\"], [1.0, \"#f0f921\"]], \"type\": \"histogram2dcontour\"}], \"mesh3d\": [{\"colorbar\": {\"outlinewidth\": 0, \"ticks\": \"\"}, \"type\": \"mesh3d\"}], \"parcoords\": [{\"line\": {\"colorbar\": {\"outlinewidth\": 0, \"ticks\": \"\"}}, \"type\": \"parcoords\"}], \"pie\": [{\"automargin\": true, \"type\": \"pie\"}], \"scatter\": [{\"marker\": {\"colorbar\": {\"outlinewidth\": 0, \"ticks\": \"\"}}, \"type\": \"scatter\"}], \"scatter3d\": [{\"line\": {\"colorbar\": {\"outlinewidth\": 0, \"ticks\": \"\"}}, \"marker\": {\"colorbar\": {\"outlinewidth\": 0, \"ticks\": \"\"}}, \"type\": \"scatter3d\"}], \"scattercarpet\": [{\"marker\": {\"colorbar\": {\"outlinewidth\": 0, \"ticks\": \"\"}}, \"type\": \"scattercarpet\"}], \"scattergeo\": [{\"marker\": {\"colorbar\": {\"outlinewidth\": 0, \"ticks\": \"\"}}, \"type\": \"scattergeo\"}], \"scattergl\": [{\"marker\": {\"colorbar\": {\"outlinewidth\": 0, \"ticks\": \"\"}}, \"type\": \"scattergl\"}], \"scattermapbox\": [{\"marker\": {\"colorbar\": {\"outlinewidth\": 0, \"ticks\": \"\"}}, \"type\": \"scattermapbox\"}], \"scatterpolar\": [{\"marker\": {\"colorbar\": {\"outlinewidth\": 0, \"ticks\": \"\"}}, \"type\": \"scatterpolar\"}], \"scatterpolargl\": [{\"marker\": {\"colorbar\": {\"outlinewidth\": 0, \"ticks\": \"\"}}, \"type\": \"scatterpolargl\"}], \"scatterternary\": [{\"marker\": {\"colorbar\": {\"outlinewidth\": 0, \"ticks\": \"\"}}, \"type\": \"scatterternary\"}], \"surface\": [{\"colorbar\": {\"outlinewidth\": 0, \"ticks\": \"\"}, \"colorscale\": [[0.0, \"#0d0887\"], [0.1111111111111111, \"#46039f\"], [0.2222222222222222, \"#7201a8\"], [0.3333333333333333, \"#9c179e\"], [0.4444444444444444, \"#bd3786\"], [0.5555555555555556, \"#d8576b\"], [0.6666666666666666, \"#ed7953\"], [0.7777777777777778, \"#fb9f3a\"], [0.8888888888888888, \"#fdca26\"], [1.0, \"#f0f921\"]], \"type\": \"surface\"}], \"table\": [{\"cells\": {\"fill\": {\"color\": \"#EBF0F8\"}, \"line\": {\"color\": \"white\"}}, \"header\": {\"fill\": {\"color\": \"#C8D4E3\"}, \"line\": {\"color\": \"white\"}}, \"type\": \"table\"}]}, \"layout\": {\"annotationdefaults\": {\"arrowcolor\": \"#2a3f5f\", \"arrowhead\": 0, \"arrowwidth\": 1}, \"coloraxis\": {\"colorbar\": {\"outlinewidth\": 0, \"ticks\": \"\"}}, \"colorscale\": {\"diverging\": [[0, \"#8e0152\"], [0.1, \"#c51b7d\"], [0.2, \"#de77ae\"], [0.3, \"#f1b6da\"], [0.4, \"#fde0ef\"], [0.5, \"#f7f7f7\"], [0.6, \"#e6f5d0\"], [0.7, \"#b8e186\"], [0.8, \"#7fbc41\"], [0.9, \"#4d9221\"], [1, \"#276419\"]], \"sequential\": [[0.0, \"#0d0887\"], [0.1111111111111111, \"#46039f\"], [0.2222222222222222, \"#7201a8\"], [0.3333333333333333, \"#9c179e\"], [0.4444444444444444, \"#bd3786\"], [0.5555555555555556, \"#d8576b\"], [0.6666666666666666, \"#ed7953\"], [0.7777777777777778, \"#fb9f3a\"], [0.8888888888888888, \"#fdca26\"], [1.0, \"#f0f921\"]], \"sequentialminus\": [[0.0, \"#0d0887\"], [0.1111111111111111, \"#46039f\"], [0.2222222222222222, \"#7201a8\"], [0.3333333333333333, \"#9c179e\"], [0.4444444444444444, \"#bd3786\"], [0.5555555555555556, \"#d8576b\"], [0.6666666666666666, \"#ed7953\"], [0.7777777777777778, \"#fb9f3a\"], [0.8888888888888888, \"#fdca26\"], [1.0, \"#f0f921\"]]}, \"colorway\": [\"#636efa\", \"#EF553B\", \"#00cc96\", \"#ab63fa\", \"#FFA15A\", \"#19d3f3\", \"#FF6692\", \"#B6E880\", \"#FF97FF\", \"#FECB52\"], \"font\": {\"color\": \"#2a3f5f\"}, \"geo\": {\"bgcolor\": \"white\", \"lakecolor\": \"white\", \"landcolor\": \"#E5ECF6\", \"showlakes\": true, \"showland\": true, \"subunitcolor\": \"white\"}, \"hoverlabel\": {\"align\": \"left\"}, \"hovermode\": \"closest\", \"mapbox\": {\"style\": \"light\"}, \"paper_bgcolor\": \"white\", \"plot_bgcolor\": \"#E5ECF6\", \"polar\": {\"angularaxis\": {\"gridcolor\": \"white\", \"linecolor\": \"white\", \"ticks\": \"\"}, \"bgcolor\": \"#E5ECF6\", \"radialaxis\": {\"gridcolor\": \"white\", \"linecolor\": \"white\", \"ticks\": \"\"}}, \"scene\": {\"xaxis\": {\"backgroundcolor\": \"#E5ECF6\", \"gridcolor\": \"white\", \"gridwidth\": 2, \"linecolor\": \"white\", \"showbackground\": true, \"ticks\": \"\", \"zerolinecolor\": \"white\"}, \"yaxis\": {\"backgroundcolor\": \"#E5ECF6\", \"gridcolor\": \"white\", \"gridwidth\": 2, \"linecolor\": \"white\", \"showbackground\": true, \"ticks\": \"\", \"zerolinecolor\": \"white\"}, \"zaxis\": {\"backgroundcolor\": \"#E5ECF6\", \"gridcolor\": \"white\", \"gridwidth\": 2, \"linecolor\": \"white\", \"showbackground\": true, \"ticks\": \"\", \"zerolinecolor\": \"white\"}}, \"shapedefaults\": {\"line\": {\"color\": \"#2a3f5f\"}}, \"ternary\": {\"aaxis\": {\"gridcolor\": \"white\", \"linecolor\": \"white\", \"ticks\": \"\"}, \"baxis\": {\"gridcolor\": \"white\", \"linecolor\": \"white\", \"ticks\": \"\"}, \"bgcolor\": \"#E5ECF6\", \"caxis\": {\"gridcolor\": \"white\", \"linecolor\": \"white\", \"ticks\": \"\"}}, \"title\": {\"x\": 0.05}, \"xaxis\": {\"automargin\": true, \"gridcolor\": \"white\", \"linecolor\": \"white\", \"ticks\": \"\", \"title\": {\"standoff\": 15}, \"zerolinecolor\": \"white\", \"zerolinewidth\": 2}, \"yaxis\": {\"automargin\": true, \"gridcolor\": \"white\", \"linecolor\": \"white\", \"ticks\": \"\", \"title\": {\"standoff\": 15}, \"zerolinecolor\": \"white\", \"zerolinewidth\": 2}}}, \"title\": {\"font\": {\"color\": \"#4D5663\"}}, \"xaxis\": {\"gridcolor\": \"#E1E5ED\", \"showgrid\": true, \"tickfont\": {\"color\": \"#4D5663\"}, \"title\": {\"font\": {\"color\": \"#4D5663\"}, \"text\": \"\"}, \"zerolinecolor\": \"#E1E5ED\"}, \"yaxis\": {\"gridcolor\": \"#E1E5ED\", \"showgrid\": true, \"tickfont\": {\"color\": \"#4D5663\"}, \"title\": {\"font\": {\"color\": \"#4D5663\"}, \"text\": \"\"}, \"zerolinecolor\": \"#E1E5ED\"}},\n",
       "                        {\"showLink\": true, \"linkText\": \"Export to plot.ly\", \"plotlyServerURL\": \"https://plot.ly\", \"responsive\": true}\n",
       "                    ).then(function(){\n",
       "                            \n",
       "var gd = document.getElementById('9d734d3e-611e-4ab7-91ea-b565505bc701');\n",
       "var x = new MutationObserver(function (mutations, observer) {{\n",
       "        var display = window.getComputedStyle(gd).display;\n",
       "        if (!display || display === 'none') {{\n",
       "            console.log([gd, 'removed!']);\n",
       "            Plotly.purge(gd);\n",
       "            observer.disconnect();\n",
       "        }}\n",
       "}});\n",
       "\n",
       "// Listen for the removal of the full notebook cells\n",
       "var notebookContainer = gd.closest('#notebook-container');\n",
       "if (notebookContainer) {{\n",
       "    x.observe(notebookContainer, {childList: true});\n",
       "}}\n",
       "\n",
       "// Listen for the clearing of the current output cell\n",
       "var outputEl = gd.closest('.output');\n",
       "if (outputEl) {{\n",
       "    x.observe(outputEl, {childList: true});\n",
       "}}\n",
       "\n",
       "                        })\n",
       "                };\n",
       "                });\n",
       "            </script>\n",
       "        </div>"
      ]
     },
     "metadata": {},
     "output_type": "display_data"
    }
   ],
   "source": [
    "df.count().iplot(kind='bar')"
   ]
  },
  {
   "cell_type": "markdown",
   "metadata": {},
   "source": [
    "## Boxplots"
   ]
  },
  {
   "cell_type": "code",
   "execution_count": 13,
   "metadata": {},
   "outputs": [
    {
     "data": {
      "application/vnd.plotly.v1+json": {
       "config": {
        "linkText": "Export to plot.ly",
        "plotlyServerURL": "https://plot.ly",
        "showLink": true
       },
       "data": [
        {
         "boxpoints": false,
         "line": {
          "width": 1.3
         },
         "marker": {
          "color": "rgba(255, 153, 51, 1.0)"
         },
         "name": "A",
         "orientation": "v",
         "type": "box",
         "y": [
          -1.471246046471575,
          -0.6085271820559668,
          -1.1482532192046846,
          0.2627438693214284,
          2.0836070829778217,
          1.5631875324236681,
          0.5808382512677437,
          0.100140196384491,
          1.2262718460695798,
          0.8121590295001305,
          -1.638410297853008,
          -1.3542858701443743,
          -0.8859356006558017,
          -0.2117872482653646,
          1.52205049796379,
          1.2017578197554064,
          0.7102810124642632,
          -0.23545767256803746,
          -1.0956352495534225,
          1.6932444882864444,
          -1.1138532343497123,
          -1.5238659046060548,
          0.3737582919650709,
          0.3995610667193977,
          0.9849517979430037,
          -0.41286182514316994,
          0.22013798773369625,
          -0.9940274726090388,
          0.6053300034368934,
          -0.08150224288687338,
          1.530830559698258,
          -0.6660168670760243,
          0.2476162288080035,
          -0.4201157591879683,
          2.513732444208068,
          0.18748712307755722,
          0.7718010241028777,
          -1.0216987493095346,
          0.7359898582102234,
          0.3394424646684741,
          -0.9547001300086784,
          0.26062793395402895,
          0.0012388939276021182,
          -0.7212270021450119,
          -0.15919309376546367,
          1.036045290051301,
          -0.4367341912425072,
          0.4183619167269413,
          -0.9869819473111545,
          0.46415757459025936,
          0.907112493962873,
          0.04747797526445393,
          0.8951683093198934,
          -0.31273978661031654,
          -0.38852459396814915,
          -0.21814853869892967,
          0.06874986096360242,
          -2.046811137503565,
          -0.30188504766584184,
          0.3991831218988143,
          -0.9619090984013201,
          2.0755584226410915,
          -0.13736165791337965,
          -0.861827546842935,
          1.3905627604649047,
          1.0763452474767086,
          -0.2724466161760582,
          -1.136419583125512,
          2.8963094311022544,
          0.998479444147354,
          0.5363394044353359,
          0.2999801214940788,
          -0.20435860562327238,
          -1.5876911915428935,
          0.1689491074557813,
          -0.7550523982876761,
          0.14659326683142235,
          0.3792701864009285,
          -0.4165521378380051,
          0.6274214865629553,
          -0.258635746057425,
          0.04476722623086181,
          -0.43703161466220863,
          1.88969572647376,
          0.5535706370729377,
          -1.135244544453128,
          -0.7426677074998133,
          1.3798865438745822,
          -0.5563918303956908,
          0.09158547419355814,
          1.8855374103668776,
          -0.2805175659360432,
          0.36070102679322347,
          0.10638652573921481,
          0.44057146595893387,
          0.814903887602294,
          1.0939625067681231,
          0.05500910372074003,
          1.1314784533017157,
          -0.09953238829157161
         ]
        },
        {
         "boxpoints": false,
         "line": {
          "width": 1.3
         },
         "marker": {
          "color": "rgba(55, 128, 191, 1.0)"
         },
         "name": "B",
         "orientation": "v",
         "type": "box",
         "y": [
          0.10505382992684024,
          0.4711673041743314,
          -1.519353471102839,
          1.1547053822403741,
          1.0798174585278013,
          -1.3167731816914818,
          0.7135520626011459,
          1.228071405621988,
          -0.1352699013682691,
          -0.7225275214145852,
          0.8549518116578393,
          -0.20588106476691267,
          -0.06703596762655907,
          1.6484770738363472,
          0.36286227096868406,
          0.05563320312264835,
          0.6254057338704384,
          -0.012960080959064806,
          -2.12932614521523,
          -0.4157931861958631,
          0.7506360034867958,
          -0.13983300982709157,
          -0.5900443492432567,
          0.7044782303155932,
          0.19890230651938576,
          -0.19836350350683987,
          0.8759308313682472,
          0.19836962628705404,
          0.27848831138959357,
          -1.1694296316366262,
          0.3267781091861249,
          0.38581311088033404,
          0.5471026752728532,
          -0.3146860226848104,
          -1.6035633201468595,
          0.06543919850911806,
          0.19351698419231203,
          -2.386767407875937,
          1.0703757940939813,
          0.7152544617480363,
          -0.8402296964975069,
          1.4438748000559085,
          1.1597873193139467,
          -1.1095184085909982,
          1.6063077829929273,
          -1.085090818463112,
          -2.022548824739018,
          0.4053807585208205,
          -0.40761135212598976,
          0.7499089719721762,
          -0.5654299320552335,
          -1.1633044453417187,
          -0.8681796271541423,
          -2.9092295914484128,
          -0.9005417099015383,
          0.9211926455003557,
          0.5479235918234407,
          0.3674219082707484,
          -0.7334914066505491,
          -0.19254775033259586,
          -0.14348719988088504,
          -2.329163688940016,
          0.15057290599191409,
          0.1237678929312007,
          0.683541160275602,
          -0.5466460611187319,
          -0.04691790105302972,
          -0.30891159038861526,
          0.7099401236493103,
          -0.002099768581509483,
          -0.41139758529350595,
          -0.5335970457156773,
          -1.30774488435812,
          -0.36710599583404435,
          -1.0930940248488794,
          0.023844045404288774,
          2.0924380613371363,
          0.30331932358411845,
          0.476086299481217,
          1.384076360250985,
          0.5766365706062448,
          2.6165270527132005,
          0.5821109662236247,
          -0.15557530418785975,
          -0.436490142585925,
          0.22184656251316986,
          0.15768753650025366,
          0.48078788358232516,
          0.6292641638456508,
          -0.692412043888579,
          -0.95302121836286,
          -1.2292609401152632,
          -0.2634772944023692,
          -0.7325543666146409,
          -0.7984410176142024,
          -0.1336532721123046,
          -0.6412326522647541,
          1.054147966339015,
          -1.2572779777281884,
          -0.015239046068296734
         ]
        },
        {
         "boxpoints": false,
         "line": {
          "width": 1.3
         },
         "marker": {
          "color": "rgba(50, 171, 96, 1.0)"
         },
         "name": "C",
         "orientation": "v",
         "type": "box",
         "y": [
          1.325986951306397,
          0.3260379678254021,
          -0.6163141446218504,
          0.4865973906254282,
          -0.07384714793910596,
          -2.128247649858157,
          0.9899786707681009,
          0.14390188488075562,
          0.5336971821513533,
          0.4330008788577454,
          1.4452855469916024,
          -0.24384767262997345,
          1.1847648177497783,
          0.7799653705182154,
          -0.6574537627718967,
          0.27867216167241443,
          0.07588461288882492,
          -0.054931609777654565,
          -0.3897119807407454,
          -0.6956935853181346,
          1.1816183034522831,
          -1.1341849733544478,
          -0.7761928446286821,
          -0.33419641397345046,
          1.8029064600206193,
          -0.41126648853461406,
          0.1013433435335912,
          -0.7183074617106701,
          -0.9670050965595579,
          -1.6207257672281554,
          0.7954284285550257,
          -0.6734527329075558,
          -0.09187453740053732,
          -0.10535460398852417,
          1.0139817857216846,
          -1.2006436182800866,
          0.46800207960460516,
          -0.049311319918309025,
          -1.5417472465743782,
          0.7771450432253827,
          0.686136729790617,
          0.08923433437150162,
          0.05371058934124575,
          -0.21846160736961995,
          -0.2265002951523715,
          0.23520569975094874,
          -1.0796353950980793,
          0.362596291957928,
          0.09283659392817996,
          -2.5489346064706813,
          -0.057141943766571474,
          -0.9424839599164069,
          0.4001259193237537,
          -1.8698119344867443,
          0.2925367384240569,
          1.331267574686436,
          1.864571910544436,
          -0.7743132267142006,
          1.1670841105410528,
          -0.4950983601309821,
          0.33485479537762813,
          -0.799765405259079,
          -0.5802842439486725,
          -0.09426345017889004,
          0.42376844450748985,
          0.7309860802256991,
          -0.06359644700751567,
          0.5365761776278535,
          1.2439735218033796,
          -0.6382846187613946,
          0.3863512889639779,
          -1.1746670984970677,
          -0.37923214184639314,
          0.9018058454431247,
          -0.10664807931447579,
          -0.31121323608409596,
          0.10832582480128584,
          1.115439114527776,
          -2.031404005566909,
          -0.12889886456592117,
          0.9056694380957064,
          -0.09804614447182573,
          -0.523195433240164,
          1.19199643787691,
          1.0215520940845166,
          0.6393485638374208,
          -0.6848970885709333,
          -1.179477655610947,
          1.7627636217745741,
          -1.4971944888621254,
          0.4829579797475712,
          0.8682296601800666,
          -1.2501150710128046,
          -1.5417147550758254,
          -0.4234705537455407,
          0.19729208563905898,
          -0.37372792440213,
          -0.5091185358749735,
          0.08993672459993808,
          -1.8830749902412796
         ]
        },
        {
         "boxpoints": false,
         "line": {
          "width": 1.3
         },
         "marker": {
          "color": "rgba(128, 0, 128, 1.0)"
         },
         "name": "D",
         "orientation": "v",
         "type": "box",
         "y": [
          -1.6871166152710537,
          -0.9709146074308888,
          -0.5322687464826751,
          -1.6969044654616137,
          0.7018157212462957,
          0.9890954159029299,
          -0.4702174322607677,
          -0.24929570482905708,
          0.3524966518991849,
          -0.7227365763521281,
          -1.4483138832116238,
          -0.5050505653111883,
          0.4404702119730967,
          -0.656458520091939,
          -1.3499073526001655,
          0.5107501454794654,
          -0.885194562273592,
          1.193129915575867,
          -0.30421983227978533,
          -1.2574239056063228,
          0.7508696903541667,
          -1.9985018939930543,
          0.03425003934745889,
          -0.6153295531228291,
          0.7223070194201905,
          0.8616393716838515,
          0.8820365750281605,
          -0.9930005394602255,
          0.37014383508428567,
          1.5027419249381913,
          -0.471380520807196,
          -0.29084224788858515,
          -0.26044546542940417,
          0.8539609395064646,
          -0.4805021629999128,
          1.4240455241041656,
          -1.5412081455412912,
          -0.5458634616042313,
          -1.628079942459507,
          -0.6209367076435095,
          0.04600294829541975,
          0.3728183058942605,
          0.5976505352052968,
          -0.14286910087644122,
          -0.44875522549010516,
          -0.22474917871122074,
          0.009461892310466116,
          -0.660179455861578,
          0.07397956783829993,
          0.8466637287763911,
          -1.3234384495945357,
          -0.635962540855323,
          -1.1678012205692707,
          -1.4465013591047111,
          -0.14216286294785316,
          0.662408676756327,
          0.012322378508136372,
          -0.6791340352131084,
          -0.399513561915407,
          1.7069048108155547,
          -0.08557883992246046,
          -0.8540168724982593,
          -0.38877723003686493,
          0.5221342900851099,
          0.38995860461647136,
          0.6518837539021461,
          0.6617211729627388,
          1.4977735186716319,
          -1.552861353779272,
          -0.8668378088231466,
          -0.5438853001361091,
          0.916330945434475,
          0.1253157187887894,
          -0.49852395379171893,
          -0.1124279985582431,
          0.8480276998382047,
          1.6748397162748503,
          -0.6397636666884824,
          1.5256103272594805,
          0.9572907516938183,
          -0.25187559722114633,
          -0.1796614147649597,
          0.23321839917916154,
          -0.4174270901150401,
          -0.11002827398015526,
          1.025764367521651,
          0.4943326831140443,
          -1.5913397501504867,
          0.2721769464952303,
          -0.5300161224993246,
          -1.1819066014832864,
          -2.87294669199844,
          -0.8690188264419709,
          0.037336100302141156,
          -0.9833889977259772,
          -0.9607778938055418,
          -1.0564344370656864,
          0.5204201260016412,
          1.0520151247197016,
          -1.28171408051971
         ]
        }
       ],
       "layout": {
        "legend": {
         "bgcolor": "#F5F6F9",
         "font": {
          "color": "#4D5663"
         }
        },
        "paper_bgcolor": "#F5F6F9",
        "plot_bgcolor": "#F5F6F9",
        "template": {
         "data": {
          "bar": [
           {
            "error_x": {
             "color": "#2a3f5f"
            },
            "error_y": {
             "color": "#2a3f5f"
            },
            "marker": {
             "line": {
              "color": "#E5ECF6",
              "width": 0.5
             }
            },
            "type": "bar"
           }
          ],
          "barpolar": [
           {
            "marker": {
             "line": {
              "color": "#E5ECF6",
              "width": 0.5
             }
            },
            "type": "barpolar"
           }
          ],
          "carpet": [
           {
            "aaxis": {
             "endlinecolor": "#2a3f5f",
             "gridcolor": "white",
             "linecolor": "white",
             "minorgridcolor": "white",
             "startlinecolor": "#2a3f5f"
            },
            "baxis": {
             "endlinecolor": "#2a3f5f",
             "gridcolor": "white",
             "linecolor": "white",
             "minorgridcolor": "white",
             "startlinecolor": "#2a3f5f"
            },
            "type": "carpet"
           }
          ],
          "choropleth": [
           {
            "colorbar": {
             "outlinewidth": 0,
             "ticks": ""
            },
            "type": "choropleth"
           }
          ],
          "contour": [
           {
            "colorbar": {
             "outlinewidth": 0,
             "ticks": ""
            },
            "colorscale": [
             [
              0,
              "#0d0887"
             ],
             [
              0.1111111111111111,
              "#46039f"
             ],
             [
              0.2222222222222222,
              "#7201a8"
             ],
             [
              0.3333333333333333,
              "#9c179e"
             ],
             [
              0.4444444444444444,
              "#bd3786"
             ],
             [
              0.5555555555555556,
              "#d8576b"
             ],
             [
              0.6666666666666666,
              "#ed7953"
             ],
             [
              0.7777777777777778,
              "#fb9f3a"
             ],
             [
              0.8888888888888888,
              "#fdca26"
             ],
             [
              1,
              "#f0f921"
             ]
            ],
            "type": "contour"
           }
          ],
          "contourcarpet": [
           {
            "colorbar": {
             "outlinewidth": 0,
             "ticks": ""
            },
            "type": "contourcarpet"
           }
          ],
          "heatmap": [
           {
            "colorbar": {
             "outlinewidth": 0,
             "ticks": ""
            },
            "colorscale": [
             [
              0,
              "#0d0887"
             ],
             [
              0.1111111111111111,
              "#46039f"
             ],
             [
              0.2222222222222222,
              "#7201a8"
             ],
             [
              0.3333333333333333,
              "#9c179e"
             ],
             [
              0.4444444444444444,
              "#bd3786"
             ],
             [
              0.5555555555555556,
              "#d8576b"
             ],
             [
              0.6666666666666666,
              "#ed7953"
             ],
             [
              0.7777777777777778,
              "#fb9f3a"
             ],
             [
              0.8888888888888888,
              "#fdca26"
             ],
             [
              1,
              "#f0f921"
             ]
            ],
            "type": "heatmap"
           }
          ],
          "heatmapgl": [
           {
            "colorbar": {
             "outlinewidth": 0,
             "ticks": ""
            },
            "colorscale": [
             [
              0,
              "#0d0887"
             ],
             [
              0.1111111111111111,
              "#46039f"
             ],
             [
              0.2222222222222222,
              "#7201a8"
             ],
             [
              0.3333333333333333,
              "#9c179e"
             ],
             [
              0.4444444444444444,
              "#bd3786"
             ],
             [
              0.5555555555555556,
              "#d8576b"
             ],
             [
              0.6666666666666666,
              "#ed7953"
             ],
             [
              0.7777777777777778,
              "#fb9f3a"
             ],
             [
              0.8888888888888888,
              "#fdca26"
             ],
             [
              1,
              "#f0f921"
             ]
            ],
            "type": "heatmapgl"
           }
          ],
          "histogram": [
           {
            "marker": {
             "colorbar": {
              "outlinewidth": 0,
              "ticks": ""
             }
            },
            "type": "histogram"
           }
          ],
          "histogram2d": [
           {
            "colorbar": {
             "outlinewidth": 0,
             "ticks": ""
            },
            "colorscale": [
             [
              0,
              "#0d0887"
             ],
             [
              0.1111111111111111,
              "#46039f"
             ],
             [
              0.2222222222222222,
              "#7201a8"
             ],
             [
              0.3333333333333333,
              "#9c179e"
             ],
             [
              0.4444444444444444,
              "#bd3786"
             ],
             [
              0.5555555555555556,
              "#d8576b"
             ],
             [
              0.6666666666666666,
              "#ed7953"
             ],
             [
              0.7777777777777778,
              "#fb9f3a"
             ],
             [
              0.8888888888888888,
              "#fdca26"
             ],
             [
              1,
              "#f0f921"
             ]
            ],
            "type": "histogram2d"
           }
          ],
          "histogram2dcontour": [
           {
            "colorbar": {
             "outlinewidth": 0,
             "ticks": ""
            },
            "colorscale": [
             [
              0,
              "#0d0887"
             ],
             [
              0.1111111111111111,
              "#46039f"
             ],
             [
              0.2222222222222222,
              "#7201a8"
             ],
             [
              0.3333333333333333,
              "#9c179e"
             ],
             [
              0.4444444444444444,
              "#bd3786"
             ],
             [
              0.5555555555555556,
              "#d8576b"
             ],
             [
              0.6666666666666666,
              "#ed7953"
             ],
             [
              0.7777777777777778,
              "#fb9f3a"
             ],
             [
              0.8888888888888888,
              "#fdca26"
             ],
             [
              1,
              "#f0f921"
             ]
            ],
            "type": "histogram2dcontour"
           }
          ],
          "mesh3d": [
           {
            "colorbar": {
             "outlinewidth": 0,
             "ticks": ""
            },
            "type": "mesh3d"
           }
          ],
          "parcoords": [
           {
            "line": {
             "colorbar": {
              "outlinewidth": 0,
              "ticks": ""
             }
            },
            "type": "parcoords"
           }
          ],
          "pie": [
           {
            "automargin": true,
            "type": "pie"
           }
          ],
          "scatter": [
           {
            "marker": {
             "colorbar": {
              "outlinewidth": 0,
              "ticks": ""
             }
            },
            "type": "scatter"
           }
          ],
          "scatter3d": [
           {
            "line": {
             "colorbar": {
              "outlinewidth": 0,
              "ticks": ""
             }
            },
            "marker": {
             "colorbar": {
              "outlinewidth": 0,
              "ticks": ""
             }
            },
            "type": "scatter3d"
           }
          ],
          "scattercarpet": [
           {
            "marker": {
             "colorbar": {
              "outlinewidth": 0,
              "ticks": ""
             }
            },
            "type": "scattercarpet"
           }
          ],
          "scattergeo": [
           {
            "marker": {
             "colorbar": {
              "outlinewidth": 0,
              "ticks": ""
             }
            },
            "type": "scattergeo"
           }
          ],
          "scattergl": [
           {
            "marker": {
             "colorbar": {
              "outlinewidth": 0,
              "ticks": ""
             }
            },
            "type": "scattergl"
           }
          ],
          "scattermapbox": [
           {
            "marker": {
             "colorbar": {
              "outlinewidth": 0,
              "ticks": ""
             }
            },
            "type": "scattermapbox"
           }
          ],
          "scatterpolar": [
           {
            "marker": {
             "colorbar": {
              "outlinewidth": 0,
              "ticks": ""
             }
            },
            "type": "scatterpolar"
           }
          ],
          "scatterpolargl": [
           {
            "marker": {
             "colorbar": {
              "outlinewidth": 0,
              "ticks": ""
             }
            },
            "type": "scatterpolargl"
           }
          ],
          "scatterternary": [
           {
            "marker": {
             "colorbar": {
              "outlinewidth": 0,
              "ticks": ""
             }
            },
            "type": "scatterternary"
           }
          ],
          "surface": [
           {
            "colorbar": {
             "outlinewidth": 0,
             "ticks": ""
            },
            "colorscale": [
             [
              0,
              "#0d0887"
             ],
             [
              0.1111111111111111,
              "#46039f"
             ],
             [
              0.2222222222222222,
              "#7201a8"
             ],
             [
              0.3333333333333333,
              "#9c179e"
             ],
             [
              0.4444444444444444,
              "#bd3786"
             ],
             [
              0.5555555555555556,
              "#d8576b"
             ],
             [
              0.6666666666666666,
              "#ed7953"
             ],
             [
              0.7777777777777778,
              "#fb9f3a"
             ],
             [
              0.8888888888888888,
              "#fdca26"
             ],
             [
              1,
              "#f0f921"
             ]
            ],
            "type": "surface"
           }
          ],
          "table": [
           {
            "cells": {
             "fill": {
              "color": "#EBF0F8"
             },
             "line": {
              "color": "white"
             }
            },
            "header": {
             "fill": {
              "color": "#C8D4E3"
             },
             "line": {
              "color": "white"
             }
            },
            "type": "table"
           }
          ]
         },
         "layout": {
          "annotationdefaults": {
           "arrowcolor": "#2a3f5f",
           "arrowhead": 0,
           "arrowwidth": 1
          },
          "coloraxis": {
           "colorbar": {
            "outlinewidth": 0,
            "ticks": ""
           }
          },
          "colorscale": {
           "diverging": [
            [
             0,
             "#8e0152"
            ],
            [
             0.1,
             "#c51b7d"
            ],
            [
             0.2,
             "#de77ae"
            ],
            [
             0.3,
             "#f1b6da"
            ],
            [
             0.4,
             "#fde0ef"
            ],
            [
             0.5,
             "#f7f7f7"
            ],
            [
             0.6,
             "#e6f5d0"
            ],
            [
             0.7,
             "#b8e186"
            ],
            [
             0.8,
             "#7fbc41"
            ],
            [
             0.9,
             "#4d9221"
            ],
            [
             1,
             "#276419"
            ]
           ],
           "sequential": [
            [
             0,
             "#0d0887"
            ],
            [
             0.1111111111111111,
             "#46039f"
            ],
            [
             0.2222222222222222,
             "#7201a8"
            ],
            [
             0.3333333333333333,
             "#9c179e"
            ],
            [
             0.4444444444444444,
             "#bd3786"
            ],
            [
             0.5555555555555556,
             "#d8576b"
            ],
            [
             0.6666666666666666,
             "#ed7953"
            ],
            [
             0.7777777777777778,
             "#fb9f3a"
            ],
            [
             0.8888888888888888,
             "#fdca26"
            ],
            [
             1,
             "#f0f921"
            ]
           ],
           "sequentialminus": [
            [
             0,
             "#0d0887"
            ],
            [
             0.1111111111111111,
             "#46039f"
            ],
            [
             0.2222222222222222,
             "#7201a8"
            ],
            [
             0.3333333333333333,
             "#9c179e"
            ],
            [
             0.4444444444444444,
             "#bd3786"
            ],
            [
             0.5555555555555556,
             "#d8576b"
            ],
            [
             0.6666666666666666,
             "#ed7953"
            ],
            [
             0.7777777777777778,
             "#fb9f3a"
            ],
            [
             0.8888888888888888,
             "#fdca26"
            ],
            [
             1,
             "#f0f921"
            ]
           ]
          },
          "colorway": [
           "#636efa",
           "#EF553B",
           "#00cc96",
           "#ab63fa",
           "#FFA15A",
           "#19d3f3",
           "#FF6692",
           "#B6E880",
           "#FF97FF",
           "#FECB52"
          ],
          "font": {
           "color": "#2a3f5f"
          },
          "geo": {
           "bgcolor": "white",
           "lakecolor": "white",
           "landcolor": "#E5ECF6",
           "showlakes": true,
           "showland": true,
           "subunitcolor": "white"
          },
          "hoverlabel": {
           "align": "left"
          },
          "hovermode": "closest",
          "mapbox": {
           "style": "light"
          },
          "paper_bgcolor": "white",
          "plot_bgcolor": "#E5ECF6",
          "polar": {
           "angularaxis": {
            "gridcolor": "white",
            "linecolor": "white",
            "ticks": ""
           },
           "bgcolor": "#E5ECF6",
           "radialaxis": {
            "gridcolor": "white",
            "linecolor": "white",
            "ticks": ""
           }
          },
          "scene": {
           "xaxis": {
            "backgroundcolor": "#E5ECF6",
            "gridcolor": "white",
            "gridwidth": 2,
            "linecolor": "white",
            "showbackground": true,
            "ticks": "",
            "zerolinecolor": "white"
           },
           "yaxis": {
            "backgroundcolor": "#E5ECF6",
            "gridcolor": "white",
            "gridwidth": 2,
            "linecolor": "white",
            "showbackground": true,
            "ticks": "",
            "zerolinecolor": "white"
           },
           "zaxis": {
            "backgroundcolor": "#E5ECF6",
            "gridcolor": "white",
            "gridwidth": 2,
            "linecolor": "white",
            "showbackground": true,
            "ticks": "",
            "zerolinecolor": "white"
           }
          },
          "shapedefaults": {
           "line": {
            "color": "#2a3f5f"
           }
          },
          "ternary": {
           "aaxis": {
            "gridcolor": "white",
            "linecolor": "white",
            "ticks": ""
           },
           "baxis": {
            "gridcolor": "white",
            "linecolor": "white",
            "ticks": ""
           },
           "bgcolor": "#E5ECF6",
           "caxis": {
            "gridcolor": "white",
            "linecolor": "white",
            "ticks": ""
           }
          },
          "title": {
           "x": 0.05
          },
          "xaxis": {
           "automargin": true,
           "gridcolor": "white",
           "linecolor": "white",
           "ticks": "",
           "title": {
            "standoff": 15
           },
           "zerolinecolor": "white",
           "zerolinewidth": 2
          },
          "yaxis": {
           "automargin": true,
           "gridcolor": "white",
           "linecolor": "white",
           "ticks": "",
           "title": {
            "standoff": 15
           },
           "zerolinecolor": "white",
           "zerolinewidth": 2
          }
         }
        },
        "title": {
         "font": {
          "color": "#4D5663"
         }
        },
        "xaxis": {
         "gridcolor": "#E1E5ED",
         "showgrid": true,
         "tickfont": {
          "color": "#4D5663"
         },
         "title": {
          "font": {
           "color": "#4D5663"
          },
          "text": ""
         },
         "zerolinecolor": "#E1E5ED"
        },
        "yaxis": {
         "gridcolor": "#E1E5ED",
         "showgrid": true,
         "tickfont": {
          "color": "#4D5663"
         },
         "title": {
          "font": {
           "color": "#4D5663"
          },
          "text": ""
         },
         "zerolinecolor": "#E1E5ED"
        }
       }
      },
      "text/html": [
       "<div>\n",
       "        \n",
       "        \n",
       "            <div id=\"5c48d8b5-ca62-42d6-8e0e-98dd730a9ce9\" class=\"plotly-graph-div\" style=\"height:525px; width:100%;\"></div>\n",
       "            <script type=\"text/javascript\">\n",
       "                require([\"plotly\"], function(Plotly) {\n",
       "                    window.PLOTLYENV=window.PLOTLYENV || {};\n",
       "                    window.PLOTLYENV.BASE_URL='https://plot.ly';\n",
       "                    \n",
       "                if (document.getElementById(\"5c48d8b5-ca62-42d6-8e0e-98dd730a9ce9\")) {\n",
       "                    Plotly.newPlot(\n",
       "                        '5c48d8b5-ca62-42d6-8e0e-98dd730a9ce9',\n",
       "                        [{\"boxpoints\": false, \"line\": {\"width\": 1.3}, \"marker\": {\"color\": \"rgba(255, 153, 51, 1.0)\"}, \"name\": \"A\", \"orientation\": \"v\", \"type\": \"box\", \"y\": [-1.471246046471575, -0.6085271820559668, -1.1482532192046846, 0.2627438693214284, 2.0836070829778217, 1.5631875324236681, 0.5808382512677437, 0.100140196384491, 1.2262718460695798, 0.8121590295001305, -1.638410297853008, -1.3542858701443743, -0.8859356006558017, -0.2117872482653646, 1.52205049796379, 1.2017578197554064, 0.7102810124642632, -0.23545767256803746, -1.0956352495534225, 1.6932444882864444, -1.1138532343497123, -1.5238659046060548, 0.3737582919650709, 0.3995610667193977, 0.9849517979430037, -0.41286182514316994, 0.22013798773369625, -0.9940274726090388, 0.6053300034368934, -0.08150224288687338, 1.530830559698258, -0.6660168670760243, 0.2476162288080035, -0.4201157591879683, 2.513732444208068, 0.18748712307755722, 0.7718010241028777, -1.0216987493095346, 0.7359898582102234, 0.3394424646684741, -0.9547001300086784, 0.26062793395402895, 0.0012388939276021182, -0.7212270021450119, -0.15919309376546367, 1.036045290051301, -0.4367341912425072, 0.4183619167269413, -0.9869819473111545, 0.46415757459025936, 0.907112493962873, 0.04747797526445393, 0.8951683093198934, -0.31273978661031654, -0.38852459396814915, -0.21814853869892967, 0.06874986096360242, -2.046811137503565, -0.30188504766584184, 0.3991831218988143, -0.9619090984013201, 2.0755584226410915, -0.13736165791337965, -0.861827546842935, 1.3905627604649047, 1.0763452474767086, -0.2724466161760582, -1.136419583125512, 2.8963094311022544, 0.998479444147354, 0.5363394044353359, 0.2999801214940788, -0.20435860562327238, -1.5876911915428935, 0.1689491074557813, -0.7550523982876761, 0.14659326683142235, 0.3792701864009285, -0.4165521378380051, 0.6274214865629553, -0.258635746057425, 0.04476722623086181, -0.43703161466220863, 1.88969572647376, 0.5535706370729377, -1.135244544453128, -0.7426677074998133, 1.3798865438745822, -0.5563918303956908, 0.09158547419355814, 1.8855374103668776, -0.2805175659360432, 0.36070102679322347, 0.10638652573921481, 0.44057146595893387, 0.814903887602294, 1.0939625067681231, 0.05500910372074003, 1.1314784533017157, -0.09953238829157161]}, {\"boxpoints\": false, \"line\": {\"width\": 1.3}, \"marker\": {\"color\": \"rgba(55, 128, 191, 1.0)\"}, \"name\": \"B\", \"orientation\": \"v\", \"type\": \"box\", \"y\": [0.10505382992684024, 0.4711673041743314, -1.519353471102839, 1.1547053822403741, 1.0798174585278013, -1.3167731816914818, 0.7135520626011459, 1.228071405621988, -0.1352699013682691, -0.7225275214145852, 0.8549518116578393, -0.20588106476691267, -0.06703596762655907, 1.6484770738363472, 0.36286227096868406, 0.05563320312264835, 0.6254057338704384, -0.012960080959064806, -2.12932614521523, -0.4157931861958631, 0.7506360034867958, -0.13983300982709157, -0.5900443492432567, 0.7044782303155932, 0.19890230651938576, -0.19836350350683987, 0.8759308313682472, 0.19836962628705404, 0.27848831138959357, -1.1694296316366262, 0.3267781091861249, 0.38581311088033404, 0.5471026752728532, -0.3146860226848104, -1.6035633201468595, 0.06543919850911806, 0.19351698419231203, -2.386767407875937, 1.0703757940939813, 0.7152544617480363, -0.8402296964975069, 1.4438748000559085, 1.1597873193139467, -1.1095184085909982, 1.6063077829929273, -1.085090818463112, -2.022548824739018, 0.4053807585208205, -0.40761135212598976, 0.7499089719721762, -0.5654299320552335, -1.1633044453417187, -0.8681796271541423, -2.9092295914484128, -0.9005417099015383, 0.9211926455003557, 0.5479235918234407, 0.3674219082707484, -0.7334914066505491, -0.19254775033259586, -0.14348719988088504, -2.329163688940016, 0.15057290599191409, 0.1237678929312007, 0.683541160275602, -0.5466460611187319, -0.04691790105302972, -0.30891159038861526, 0.7099401236493103, -0.002099768581509483, -0.41139758529350595, -0.5335970457156773, -1.30774488435812, -0.36710599583404435, -1.0930940248488794, 0.023844045404288774, 2.0924380613371363, 0.30331932358411845, 0.476086299481217, 1.384076360250985, 0.5766365706062448, 2.6165270527132005, 0.5821109662236247, -0.15557530418785975, -0.436490142585925, 0.22184656251316986, 0.15768753650025366, 0.48078788358232516, 0.6292641638456508, -0.692412043888579, -0.95302121836286, -1.2292609401152632, -0.2634772944023692, -0.7325543666146409, -0.7984410176142024, -0.1336532721123046, -0.6412326522647541, 1.054147966339015, -1.2572779777281884, -0.015239046068296734]}, {\"boxpoints\": false, \"line\": {\"width\": 1.3}, \"marker\": {\"color\": \"rgba(50, 171, 96, 1.0)\"}, \"name\": \"C\", \"orientation\": \"v\", \"type\": \"box\", \"y\": [1.325986951306397, 0.3260379678254021, -0.6163141446218504, 0.4865973906254282, -0.07384714793910596, -2.128247649858157, 0.9899786707681009, 0.14390188488075562, 0.5336971821513533, 0.4330008788577454, 1.4452855469916024, -0.24384767262997345, 1.1847648177497783, 0.7799653705182154, -0.6574537627718967, 0.27867216167241443, 0.07588461288882492, -0.054931609777654565, -0.3897119807407454, -0.6956935853181346, 1.1816183034522831, -1.1341849733544478, -0.7761928446286821, -0.33419641397345046, 1.8029064600206193, -0.41126648853461406, 0.1013433435335912, -0.7183074617106701, -0.9670050965595579, -1.6207257672281554, 0.7954284285550257, -0.6734527329075558, -0.09187453740053732, -0.10535460398852417, 1.0139817857216846, -1.2006436182800866, 0.46800207960460516, -0.049311319918309025, -1.5417472465743782, 0.7771450432253827, 0.686136729790617, 0.08923433437150162, 0.05371058934124575, -0.21846160736961995, -0.2265002951523715, 0.23520569975094874, -1.0796353950980793, 0.362596291957928, 0.09283659392817996, -2.5489346064706813, -0.057141943766571474, -0.9424839599164069, 0.4001259193237537, -1.8698119344867443, 0.2925367384240569, 1.331267574686436, 1.864571910544436, -0.7743132267142006, 1.1670841105410528, -0.4950983601309821, 0.33485479537762813, -0.799765405259079, -0.5802842439486725, -0.09426345017889004, 0.42376844450748985, 0.7309860802256991, -0.06359644700751567, 0.5365761776278535, 1.2439735218033796, -0.6382846187613946, 0.3863512889639779, -1.1746670984970677, -0.37923214184639314, 0.9018058454431247, -0.10664807931447579, -0.31121323608409596, 0.10832582480128584, 1.115439114527776, -2.031404005566909, -0.12889886456592117, 0.9056694380957064, -0.09804614447182573, -0.523195433240164, 1.19199643787691, 1.0215520940845166, 0.6393485638374208, -0.6848970885709333, -1.179477655610947, 1.7627636217745741, -1.4971944888621254, 0.4829579797475712, 0.8682296601800666, -1.2501150710128046, -1.5417147550758254, -0.4234705537455407, 0.19729208563905898, -0.37372792440213, -0.5091185358749735, 0.08993672459993808, -1.8830749902412796]}, {\"boxpoints\": false, \"line\": {\"width\": 1.3}, \"marker\": {\"color\": \"rgba(128, 0, 128, 1.0)\"}, \"name\": \"D\", \"orientation\": \"v\", \"type\": \"box\", \"y\": [-1.6871166152710537, -0.9709146074308888, -0.5322687464826751, -1.6969044654616137, 0.7018157212462957, 0.9890954159029299, -0.4702174322607677, -0.24929570482905708, 0.3524966518991849, -0.7227365763521281, -1.4483138832116238, -0.5050505653111883, 0.4404702119730967, -0.656458520091939, -1.3499073526001655, 0.5107501454794654, -0.885194562273592, 1.193129915575867, -0.30421983227978533, -1.2574239056063228, 0.7508696903541667, -1.9985018939930543, 0.03425003934745889, -0.6153295531228291, 0.7223070194201905, 0.8616393716838515, 0.8820365750281605, -0.9930005394602255, 0.37014383508428567, 1.5027419249381913, -0.471380520807196, -0.29084224788858515, -0.26044546542940417, 0.8539609395064646, -0.4805021629999128, 1.4240455241041656, -1.5412081455412912, -0.5458634616042313, -1.628079942459507, -0.6209367076435095, 0.04600294829541975, 0.3728183058942605, 0.5976505352052968, -0.14286910087644122, -0.44875522549010516, -0.22474917871122074, 0.009461892310466116, -0.660179455861578, 0.07397956783829993, 0.8466637287763911, -1.3234384495945357, -0.635962540855323, -1.1678012205692707, -1.4465013591047111, -0.14216286294785316, 0.662408676756327, 0.012322378508136372, -0.6791340352131084, -0.399513561915407, 1.7069048108155547, -0.08557883992246046, -0.8540168724982593, -0.38877723003686493, 0.5221342900851099, 0.38995860461647136, 0.6518837539021461, 0.6617211729627388, 1.4977735186716319, -1.552861353779272, -0.8668378088231466, -0.5438853001361091, 0.916330945434475, 0.1253157187887894, -0.49852395379171893, -0.1124279985582431, 0.8480276998382047, 1.6748397162748503, -0.6397636666884824, 1.5256103272594805, 0.9572907516938183, -0.25187559722114633, -0.1796614147649597, 0.23321839917916154, -0.4174270901150401, -0.11002827398015526, 1.025764367521651, 0.4943326831140443, -1.5913397501504867, 0.2721769464952303, -0.5300161224993246, -1.1819066014832864, -2.87294669199844, -0.8690188264419709, 0.037336100302141156, -0.9833889977259772, -0.9607778938055418, -1.0564344370656864, 0.5204201260016412, 1.0520151247197016, -1.28171408051971]}],\n",
       "                        {\"legend\": {\"bgcolor\": \"#F5F6F9\", \"font\": {\"color\": \"#4D5663\"}}, \"paper_bgcolor\": \"#F5F6F9\", \"plot_bgcolor\": \"#F5F6F9\", \"template\": {\"data\": {\"bar\": [{\"error_x\": {\"color\": \"#2a3f5f\"}, \"error_y\": {\"color\": \"#2a3f5f\"}, \"marker\": {\"line\": {\"color\": \"#E5ECF6\", \"width\": 0.5}}, \"type\": \"bar\"}], \"barpolar\": [{\"marker\": {\"line\": {\"color\": \"#E5ECF6\", \"width\": 0.5}}, \"type\": \"barpolar\"}], \"carpet\": [{\"aaxis\": {\"endlinecolor\": \"#2a3f5f\", \"gridcolor\": \"white\", \"linecolor\": \"white\", \"minorgridcolor\": \"white\", \"startlinecolor\": \"#2a3f5f\"}, \"baxis\": {\"endlinecolor\": \"#2a3f5f\", \"gridcolor\": \"white\", \"linecolor\": \"white\", \"minorgridcolor\": \"white\", \"startlinecolor\": \"#2a3f5f\"}, \"type\": \"carpet\"}], \"choropleth\": [{\"colorbar\": {\"outlinewidth\": 0, \"ticks\": \"\"}, \"type\": \"choropleth\"}], \"contour\": [{\"colorbar\": {\"outlinewidth\": 0, \"ticks\": \"\"}, \"colorscale\": [[0.0, \"#0d0887\"], [0.1111111111111111, \"#46039f\"], [0.2222222222222222, \"#7201a8\"], [0.3333333333333333, \"#9c179e\"], [0.4444444444444444, \"#bd3786\"], [0.5555555555555556, \"#d8576b\"], [0.6666666666666666, \"#ed7953\"], [0.7777777777777778, \"#fb9f3a\"], [0.8888888888888888, \"#fdca26\"], [1.0, \"#f0f921\"]], \"type\": \"contour\"}], \"contourcarpet\": [{\"colorbar\": {\"outlinewidth\": 0, \"ticks\": \"\"}, \"type\": \"contourcarpet\"}], \"heatmap\": [{\"colorbar\": {\"outlinewidth\": 0, \"ticks\": \"\"}, \"colorscale\": [[0.0, \"#0d0887\"], [0.1111111111111111, \"#46039f\"], [0.2222222222222222, \"#7201a8\"], [0.3333333333333333, \"#9c179e\"], [0.4444444444444444, \"#bd3786\"], [0.5555555555555556, \"#d8576b\"], [0.6666666666666666, \"#ed7953\"], [0.7777777777777778, \"#fb9f3a\"], [0.8888888888888888, \"#fdca26\"], [1.0, \"#f0f921\"]], \"type\": \"heatmap\"}], \"heatmapgl\": [{\"colorbar\": {\"outlinewidth\": 0, \"ticks\": \"\"}, \"colorscale\": [[0.0, \"#0d0887\"], [0.1111111111111111, \"#46039f\"], [0.2222222222222222, \"#7201a8\"], [0.3333333333333333, \"#9c179e\"], [0.4444444444444444, \"#bd3786\"], [0.5555555555555556, \"#d8576b\"], [0.6666666666666666, \"#ed7953\"], [0.7777777777777778, \"#fb9f3a\"], [0.8888888888888888, \"#fdca26\"], [1.0, \"#f0f921\"]], \"type\": \"heatmapgl\"}], \"histogram\": [{\"marker\": {\"colorbar\": {\"outlinewidth\": 0, \"ticks\": \"\"}}, \"type\": \"histogram\"}], \"histogram2d\": [{\"colorbar\": {\"outlinewidth\": 0, \"ticks\": \"\"}, \"colorscale\": [[0.0, \"#0d0887\"], [0.1111111111111111, \"#46039f\"], [0.2222222222222222, \"#7201a8\"], [0.3333333333333333, \"#9c179e\"], [0.4444444444444444, \"#bd3786\"], [0.5555555555555556, \"#d8576b\"], [0.6666666666666666, \"#ed7953\"], [0.7777777777777778, \"#fb9f3a\"], [0.8888888888888888, \"#fdca26\"], [1.0, \"#f0f921\"]], \"type\": \"histogram2d\"}], \"histogram2dcontour\": [{\"colorbar\": {\"outlinewidth\": 0, \"ticks\": \"\"}, \"colorscale\": [[0.0, \"#0d0887\"], [0.1111111111111111, \"#46039f\"], [0.2222222222222222, \"#7201a8\"], [0.3333333333333333, \"#9c179e\"], [0.4444444444444444, \"#bd3786\"], [0.5555555555555556, \"#d8576b\"], [0.6666666666666666, \"#ed7953\"], [0.7777777777777778, \"#fb9f3a\"], [0.8888888888888888, \"#fdca26\"], [1.0, \"#f0f921\"]], \"type\": \"histogram2dcontour\"}], \"mesh3d\": [{\"colorbar\": {\"outlinewidth\": 0, \"ticks\": \"\"}, \"type\": \"mesh3d\"}], \"parcoords\": [{\"line\": {\"colorbar\": {\"outlinewidth\": 0, \"ticks\": \"\"}}, \"type\": \"parcoords\"}], \"pie\": [{\"automargin\": true, \"type\": \"pie\"}], \"scatter\": [{\"marker\": {\"colorbar\": {\"outlinewidth\": 0, \"ticks\": \"\"}}, \"type\": \"scatter\"}], \"scatter3d\": [{\"line\": {\"colorbar\": {\"outlinewidth\": 0, \"ticks\": \"\"}}, \"marker\": {\"colorbar\": {\"outlinewidth\": 0, \"ticks\": \"\"}}, \"type\": \"scatter3d\"}], \"scattercarpet\": [{\"marker\": {\"colorbar\": {\"outlinewidth\": 0, \"ticks\": \"\"}}, \"type\": \"scattercarpet\"}], \"scattergeo\": [{\"marker\": {\"colorbar\": {\"outlinewidth\": 0, \"ticks\": \"\"}}, \"type\": \"scattergeo\"}], \"scattergl\": [{\"marker\": {\"colorbar\": {\"outlinewidth\": 0, \"ticks\": \"\"}}, \"type\": \"scattergl\"}], \"scattermapbox\": [{\"marker\": {\"colorbar\": {\"outlinewidth\": 0, \"ticks\": \"\"}}, \"type\": \"scattermapbox\"}], \"scatterpolar\": [{\"marker\": {\"colorbar\": {\"outlinewidth\": 0, \"ticks\": \"\"}}, \"type\": \"scatterpolar\"}], \"scatterpolargl\": [{\"marker\": {\"colorbar\": {\"outlinewidth\": 0, \"ticks\": \"\"}}, \"type\": \"scatterpolargl\"}], \"scatterternary\": [{\"marker\": {\"colorbar\": {\"outlinewidth\": 0, \"ticks\": \"\"}}, \"type\": \"scatterternary\"}], \"surface\": [{\"colorbar\": {\"outlinewidth\": 0, \"ticks\": \"\"}, \"colorscale\": [[0.0, \"#0d0887\"], [0.1111111111111111, \"#46039f\"], [0.2222222222222222, \"#7201a8\"], [0.3333333333333333, \"#9c179e\"], [0.4444444444444444, \"#bd3786\"], [0.5555555555555556, \"#d8576b\"], [0.6666666666666666, \"#ed7953\"], [0.7777777777777778, \"#fb9f3a\"], [0.8888888888888888, \"#fdca26\"], [1.0, \"#f0f921\"]], \"type\": \"surface\"}], \"table\": [{\"cells\": {\"fill\": {\"color\": \"#EBF0F8\"}, \"line\": {\"color\": \"white\"}}, \"header\": {\"fill\": {\"color\": \"#C8D4E3\"}, \"line\": {\"color\": \"white\"}}, \"type\": \"table\"}]}, \"layout\": {\"annotationdefaults\": {\"arrowcolor\": \"#2a3f5f\", \"arrowhead\": 0, \"arrowwidth\": 1}, \"coloraxis\": {\"colorbar\": {\"outlinewidth\": 0, \"ticks\": \"\"}}, \"colorscale\": {\"diverging\": [[0, \"#8e0152\"], [0.1, \"#c51b7d\"], [0.2, \"#de77ae\"], [0.3, \"#f1b6da\"], [0.4, \"#fde0ef\"], [0.5, \"#f7f7f7\"], [0.6, \"#e6f5d0\"], [0.7, \"#b8e186\"], [0.8, \"#7fbc41\"], [0.9, \"#4d9221\"], [1, \"#276419\"]], \"sequential\": [[0.0, \"#0d0887\"], [0.1111111111111111, \"#46039f\"], [0.2222222222222222, \"#7201a8\"], [0.3333333333333333, \"#9c179e\"], [0.4444444444444444, \"#bd3786\"], [0.5555555555555556, \"#d8576b\"], [0.6666666666666666, \"#ed7953\"], [0.7777777777777778, \"#fb9f3a\"], [0.8888888888888888, \"#fdca26\"], [1.0, \"#f0f921\"]], \"sequentialminus\": [[0.0, \"#0d0887\"], [0.1111111111111111, \"#46039f\"], [0.2222222222222222, \"#7201a8\"], [0.3333333333333333, \"#9c179e\"], [0.4444444444444444, \"#bd3786\"], [0.5555555555555556, \"#d8576b\"], [0.6666666666666666, \"#ed7953\"], [0.7777777777777778, \"#fb9f3a\"], [0.8888888888888888, \"#fdca26\"], [1.0, \"#f0f921\"]]}, \"colorway\": [\"#636efa\", \"#EF553B\", \"#00cc96\", \"#ab63fa\", \"#FFA15A\", \"#19d3f3\", \"#FF6692\", \"#B6E880\", \"#FF97FF\", \"#FECB52\"], \"font\": {\"color\": \"#2a3f5f\"}, \"geo\": {\"bgcolor\": \"white\", \"lakecolor\": \"white\", \"landcolor\": \"#E5ECF6\", \"showlakes\": true, \"showland\": true, \"subunitcolor\": \"white\"}, \"hoverlabel\": {\"align\": \"left\"}, \"hovermode\": \"closest\", \"mapbox\": {\"style\": \"light\"}, \"paper_bgcolor\": \"white\", \"plot_bgcolor\": \"#E5ECF6\", \"polar\": {\"angularaxis\": {\"gridcolor\": \"white\", \"linecolor\": \"white\", \"ticks\": \"\"}, \"bgcolor\": \"#E5ECF6\", \"radialaxis\": {\"gridcolor\": \"white\", \"linecolor\": \"white\", \"ticks\": \"\"}}, \"scene\": {\"xaxis\": {\"backgroundcolor\": \"#E5ECF6\", \"gridcolor\": \"white\", \"gridwidth\": 2, \"linecolor\": \"white\", \"showbackground\": true, \"ticks\": \"\", \"zerolinecolor\": \"white\"}, \"yaxis\": {\"backgroundcolor\": \"#E5ECF6\", \"gridcolor\": \"white\", \"gridwidth\": 2, \"linecolor\": \"white\", \"showbackground\": true, \"ticks\": \"\", \"zerolinecolor\": \"white\"}, \"zaxis\": {\"backgroundcolor\": \"#E5ECF6\", \"gridcolor\": \"white\", \"gridwidth\": 2, \"linecolor\": \"white\", \"showbackground\": true, \"ticks\": \"\", \"zerolinecolor\": \"white\"}}, \"shapedefaults\": {\"line\": {\"color\": \"#2a3f5f\"}}, \"ternary\": {\"aaxis\": {\"gridcolor\": \"white\", \"linecolor\": \"white\", \"ticks\": \"\"}, \"baxis\": {\"gridcolor\": \"white\", \"linecolor\": \"white\", \"ticks\": \"\"}, \"bgcolor\": \"#E5ECF6\", \"caxis\": {\"gridcolor\": \"white\", \"linecolor\": \"white\", \"ticks\": \"\"}}, \"title\": {\"x\": 0.05}, \"xaxis\": {\"automargin\": true, \"gridcolor\": \"white\", \"linecolor\": \"white\", \"ticks\": \"\", \"title\": {\"standoff\": 15}, \"zerolinecolor\": \"white\", \"zerolinewidth\": 2}, \"yaxis\": {\"automargin\": true, \"gridcolor\": \"white\", \"linecolor\": \"white\", \"ticks\": \"\", \"title\": {\"standoff\": 15}, \"zerolinecolor\": \"white\", \"zerolinewidth\": 2}}}, \"title\": {\"font\": {\"color\": \"#4D5663\"}}, \"xaxis\": {\"gridcolor\": \"#E1E5ED\", \"showgrid\": true, \"tickfont\": {\"color\": \"#4D5663\"}, \"title\": {\"font\": {\"color\": \"#4D5663\"}, \"text\": \"\"}, \"zerolinecolor\": \"#E1E5ED\"}, \"yaxis\": {\"gridcolor\": \"#E1E5ED\", \"showgrid\": true, \"tickfont\": {\"color\": \"#4D5663\"}, \"title\": {\"font\": {\"color\": \"#4D5663\"}, \"text\": \"\"}, \"zerolinecolor\": \"#E1E5ED\"}},\n",
       "                        {\"showLink\": true, \"linkText\": \"Export to plot.ly\", \"plotlyServerURL\": \"https://plot.ly\", \"responsive\": true}\n",
       "                    ).then(function(){\n",
       "                            \n",
       "var gd = document.getElementById('5c48d8b5-ca62-42d6-8e0e-98dd730a9ce9');\n",
       "var x = new MutationObserver(function (mutations, observer) {{\n",
       "        var display = window.getComputedStyle(gd).display;\n",
       "        if (!display || display === 'none') {{\n",
       "            console.log([gd, 'removed!']);\n",
       "            Plotly.purge(gd);\n",
       "            observer.disconnect();\n",
       "        }}\n",
       "}});\n",
       "\n",
       "// Listen for the removal of the full notebook cells\n",
       "var notebookContainer = gd.closest('#notebook-container');\n",
       "if (notebookContainer) {{\n",
       "    x.observe(notebookContainer, {childList: true});\n",
       "}}\n",
       "\n",
       "// Listen for the clearing of the current output cell\n",
       "var outputEl = gd.closest('.output');\n",
       "if (outputEl) {{\n",
       "    x.observe(outputEl, {childList: true});\n",
       "}}\n",
       "\n",
       "                        })\n",
       "                };\n",
       "                });\n",
       "            </script>\n",
       "        </div>"
      ]
     },
     "metadata": {},
     "output_type": "display_data"
    }
   ],
   "source": [
    "df.iplot(kind='box')"
   ]
  },
  {
   "cell_type": "markdown",
   "metadata": {},
   "source": [
    "## 3d Surface"
   ]
  },
  {
   "cell_type": "code",
   "execution_count": 14,
   "metadata": {},
   "outputs": [
    {
     "data": {
      "application/vnd.plotly.v1+json": {
       "config": {
        "linkText": "Export to plot.ly",
        "plotlyServerURL": "https://plot.ly",
        "showLink": true
       },
       "data": [
        {
         "colorscale": [
          [
           0,
           "rgb(165,0,38)"
          ],
          [
           0.1,
           "rgb(215,48,39)"
          ],
          [
           0.2,
           "rgb(244,109,67)"
          ],
          [
           0.3,
           "rgb(253,174,97)"
          ],
          [
           0.4,
           "rgb(254,224,144)"
          ],
          [
           0.5,
           "rgb(255,255,191)"
          ],
          [
           0.6,
           "rgb(224,243,248)"
          ],
          [
           0.7,
           "rgb(171,217,233)"
          ],
          [
           0.8,
           "rgb(116,173,209)"
          ],
          [
           0.9,
           "rgb(69,117,180)"
          ],
          [
           1,
           "rgb(49,54,149)"
          ]
         ],
         "type": "surface",
         "x": [
          0,
          1,
          2,
          3,
          4
         ],
         "y": [
          "x",
          "y",
          "z"
         ],
         "z": [
          [
           1,
           2,
           3,
           4,
           5
          ],
          [
           10,
           20,
           30,
           20,
           10
          ],
          [
           5,
           4,
           3,
           2,
           1
          ]
         ]
        }
       ],
       "layout": {
        "legend": {
         "bgcolor": "#F5F6F9",
         "font": {
          "color": "#4D5663"
         }
        },
        "paper_bgcolor": "#F5F6F9",
        "plot_bgcolor": "#F5F6F9",
        "template": {
         "data": {
          "bar": [
           {
            "error_x": {
             "color": "#2a3f5f"
            },
            "error_y": {
             "color": "#2a3f5f"
            },
            "marker": {
             "line": {
              "color": "#E5ECF6",
              "width": 0.5
             }
            },
            "type": "bar"
           }
          ],
          "barpolar": [
           {
            "marker": {
             "line": {
              "color": "#E5ECF6",
              "width": 0.5
             }
            },
            "type": "barpolar"
           }
          ],
          "carpet": [
           {
            "aaxis": {
             "endlinecolor": "#2a3f5f",
             "gridcolor": "white",
             "linecolor": "white",
             "minorgridcolor": "white",
             "startlinecolor": "#2a3f5f"
            },
            "baxis": {
             "endlinecolor": "#2a3f5f",
             "gridcolor": "white",
             "linecolor": "white",
             "minorgridcolor": "white",
             "startlinecolor": "#2a3f5f"
            },
            "type": "carpet"
           }
          ],
          "choropleth": [
           {
            "colorbar": {
             "outlinewidth": 0,
             "ticks": ""
            },
            "type": "choropleth"
           }
          ],
          "contour": [
           {
            "colorbar": {
             "outlinewidth": 0,
             "ticks": ""
            },
            "colorscale": [
             [
              0,
              "#0d0887"
             ],
             [
              0.1111111111111111,
              "#46039f"
             ],
             [
              0.2222222222222222,
              "#7201a8"
             ],
             [
              0.3333333333333333,
              "#9c179e"
             ],
             [
              0.4444444444444444,
              "#bd3786"
             ],
             [
              0.5555555555555556,
              "#d8576b"
             ],
             [
              0.6666666666666666,
              "#ed7953"
             ],
             [
              0.7777777777777778,
              "#fb9f3a"
             ],
             [
              0.8888888888888888,
              "#fdca26"
             ],
             [
              1,
              "#f0f921"
             ]
            ],
            "type": "contour"
           }
          ],
          "contourcarpet": [
           {
            "colorbar": {
             "outlinewidth": 0,
             "ticks": ""
            },
            "type": "contourcarpet"
           }
          ],
          "heatmap": [
           {
            "colorbar": {
             "outlinewidth": 0,
             "ticks": ""
            },
            "colorscale": [
             [
              0,
              "#0d0887"
             ],
             [
              0.1111111111111111,
              "#46039f"
             ],
             [
              0.2222222222222222,
              "#7201a8"
             ],
             [
              0.3333333333333333,
              "#9c179e"
             ],
             [
              0.4444444444444444,
              "#bd3786"
             ],
             [
              0.5555555555555556,
              "#d8576b"
             ],
             [
              0.6666666666666666,
              "#ed7953"
             ],
             [
              0.7777777777777778,
              "#fb9f3a"
             ],
             [
              0.8888888888888888,
              "#fdca26"
             ],
             [
              1,
              "#f0f921"
             ]
            ],
            "type": "heatmap"
           }
          ],
          "heatmapgl": [
           {
            "colorbar": {
             "outlinewidth": 0,
             "ticks": ""
            },
            "colorscale": [
             [
              0,
              "#0d0887"
             ],
             [
              0.1111111111111111,
              "#46039f"
             ],
             [
              0.2222222222222222,
              "#7201a8"
             ],
             [
              0.3333333333333333,
              "#9c179e"
             ],
             [
              0.4444444444444444,
              "#bd3786"
             ],
             [
              0.5555555555555556,
              "#d8576b"
             ],
             [
              0.6666666666666666,
              "#ed7953"
             ],
             [
              0.7777777777777778,
              "#fb9f3a"
             ],
             [
              0.8888888888888888,
              "#fdca26"
             ],
             [
              1,
              "#f0f921"
             ]
            ],
            "type": "heatmapgl"
           }
          ],
          "histogram": [
           {
            "marker": {
             "colorbar": {
              "outlinewidth": 0,
              "ticks": ""
             }
            },
            "type": "histogram"
           }
          ],
          "histogram2d": [
           {
            "colorbar": {
             "outlinewidth": 0,
             "ticks": ""
            },
            "colorscale": [
             [
              0,
              "#0d0887"
             ],
             [
              0.1111111111111111,
              "#46039f"
             ],
             [
              0.2222222222222222,
              "#7201a8"
             ],
             [
              0.3333333333333333,
              "#9c179e"
             ],
             [
              0.4444444444444444,
              "#bd3786"
             ],
             [
              0.5555555555555556,
              "#d8576b"
             ],
             [
              0.6666666666666666,
              "#ed7953"
             ],
             [
              0.7777777777777778,
              "#fb9f3a"
             ],
             [
              0.8888888888888888,
              "#fdca26"
             ],
             [
              1,
              "#f0f921"
             ]
            ],
            "type": "histogram2d"
           }
          ],
          "histogram2dcontour": [
           {
            "colorbar": {
             "outlinewidth": 0,
             "ticks": ""
            },
            "colorscale": [
             [
              0,
              "#0d0887"
             ],
             [
              0.1111111111111111,
              "#46039f"
             ],
             [
              0.2222222222222222,
              "#7201a8"
             ],
             [
              0.3333333333333333,
              "#9c179e"
             ],
             [
              0.4444444444444444,
              "#bd3786"
             ],
             [
              0.5555555555555556,
              "#d8576b"
             ],
             [
              0.6666666666666666,
              "#ed7953"
             ],
             [
              0.7777777777777778,
              "#fb9f3a"
             ],
             [
              0.8888888888888888,
              "#fdca26"
             ],
             [
              1,
              "#f0f921"
             ]
            ],
            "type": "histogram2dcontour"
           }
          ],
          "mesh3d": [
           {
            "colorbar": {
             "outlinewidth": 0,
             "ticks": ""
            },
            "type": "mesh3d"
           }
          ],
          "parcoords": [
           {
            "line": {
             "colorbar": {
              "outlinewidth": 0,
              "ticks": ""
             }
            },
            "type": "parcoords"
           }
          ],
          "pie": [
           {
            "automargin": true,
            "type": "pie"
           }
          ],
          "scatter": [
           {
            "marker": {
             "colorbar": {
              "outlinewidth": 0,
              "ticks": ""
             }
            },
            "type": "scatter"
           }
          ],
          "scatter3d": [
           {
            "line": {
             "colorbar": {
              "outlinewidth": 0,
              "ticks": ""
             }
            },
            "marker": {
             "colorbar": {
              "outlinewidth": 0,
              "ticks": ""
             }
            },
            "type": "scatter3d"
           }
          ],
          "scattercarpet": [
           {
            "marker": {
             "colorbar": {
              "outlinewidth": 0,
              "ticks": ""
             }
            },
            "type": "scattercarpet"
           }
          ],
          "scattergeo": [
           {
            "marker": {
             "colorbar": {
              "outlinewidth": 0,
              "ticks": ""
             }
            },
            "type": "scattergeo"
           }
          ],
          "scattergl": [
           {
            "marker": {
             "colorbar": {
              "outlinewidth": 0,
              "ticks": ""
             }
            },
            "type": "scattergl"
           }
          ],
          "scattermapbox": [
           {
            "marker": {
             "colorbar": {
              "outlinewidth": 0,
              "ticks": ""
             }
            },
            "type": "scattermapbox"
           }
          ],
          "scatterpolar": [
           {
            "marker": {
             "colorbar": {
              "outlinewidth": 0,
              "ticks": ""
             }
            },
            "type": "scatterpolar"
           }
          ],
          "scatterpolargl": [
           {
            "marker": {
             "colorbar": {
              "outlinewidth": 0,
              "ticks": ""
             }
            },
            "type": "scatterpolargl"
           }
          ],
          "scatterternary": [
           {
            "marker": {
             "colorbar": {
              "outlinewidth": 0,
              "ticks": ""
             }
            },
            "type": "scatterternary"
           }
          ],
          "surface": [
           {
            "colorbar": {
             "outlinewidth": 0,
             "ticks": ""
            },
            "colorscale": [
             [
              0,
              "#0d0887"
             ],
             [
              0.1111111111111111,
              "#46039f"
             ],
             [
              0.2222222222222222,
              "#7201a8"
             ],
             [
              0.3333333333333333,
              "#9c179e"
             ],
             [
              0.4444444444444444,
              "#bd3786"
             ],
             [
              0.5555555555555556,
              "#d8576b"
             ],
             [
              0.6666666666666666,
              "#ed7953"
             ],
             [
              0.7777777777777778,
              "#fb9f3a"
             ],
             [
              0.8888888888888888,
              "#fdca26"
             ],
             [
              1,
              "#f0f921"
             ]
            ],
            "type": "surface"
           }
          ],
          "table": [
           {
            "cells": {
             "fill": {
              "color": "#EBF0F8"
             },
             "line": {
              "color": "white"
             }
            },
            "header": {
             "fill": {
              "color": "#C8D4E3"
             },
             "line": {
              "color": "white"
             }
            },
            "type": "table"
           }
          ]
         },
         "layout": {
          "annotationdefaults": {
           "arrowcolor": "#2a3f5f",
           "arrowhead": 0,
           "arrowwidth": 1
          },
          "coloraxis": {
           "colorbar": {
            "outlinewidth": 0,
            "ticks": ""
           }
          },
          "colorscale": {
           "diverging": [
            [
             0,
             "#8e0152"
            ],
            [
             0.1,
             "#c51b7d"
            ],
            [
             0.2,
             "#de77ae"
            ],
            [
             0.3,
             "#f1b6da"
            ],
            [
             0.4,
             "#fde0ef"
            ],
            [
             0.5,
             "#f7f7f7"
            ],
            [
             0.6,
             "#e6f5d0"
            ],
            [
             0.7,
             "#b8e186"
            ],
            [
             0.8,
             "#7fbc41"
            ],
            [
             0.9,
             "#4d9221"
            ],
            [
             1,
             "#276419"
            ]
           ],
           "sequential": [
            [
             0,
             "#0d0887"
            ],
            [
             0.1111111111111111,
             "#46039f"
            ],
            [
             0.2222222222222222,
             "#7201a8"
            ],
            [
             0.3333333333333333,
             "#9c179e"
            ],
            [
             0.4444444444444444,
             "#bd3786"
            ],
            [
             0.5555555555555556,
             "#d8576b"
            ],
            [
             0.6666666666666666,
             "#ed7953"
            ],
            [
             0.7777777777777778,
             "#fb9f3a"
            ],
            [
             0.8888888888888888,
             "#fdca26"
            ],
            [
             1,
             "#f0f921"
            ]
           ],
           "sequentialminus": [
            [
             0,
             "#0d0887"
            ],
            [
             0.1111111111111111,
             "#46039f"
            ],
            [
             0.2222222222222222,
             "#7201a8"
            ],
            [
             0.3333333333333333,
             "#9c179e"
            ],
            [
             0.4444444444444444,
             "#bd3786"
            ],
            [
             0.5555555555555556,
             "#d8576b"
            ],
            [
             0.6666666666666666,
             "#ed7953"
            ],
            [
             0.7777777777777778,
             "#fb9f3a"
            ],
            [
             0.8888888888888888,
             "#fdca26"
            ],
            [
             1,
             "#f0f921"
            ]
           ]
          },
          "colorway": [
           "#636efa",
           "#EF553B",
           "#00cc96",
           "#ab63fa",
           "#FFA15A",
           "#19d3f3",
           "#FF6692",
           "#B6E880",
           "#FF97FF",
           "#FECB52"
          ],
          "font": {
           "color": "#2a3f5f"
          },
          "geo": {
           "bgcolor": "white",
           "lakecolor": "white",
           "landcolor": "#E5ECF6",
           "showlakes": true,
           "showland": true,
           "subunitcolor": "white"
          },
          "hoverlabel": {
           "align": "left"
          },
          "hovermode": "closest",
          "mapbox": {
           "style": "light"
          },
          "paper_bgcolor": "white",
          "plot_bgcolor": "#E5ECF6",
          "polar": {
           "angularaxis": {
            "gridcolor": "white",
            "linecolor": "white",
            "ticks": ""
           },
           "bgcolor": "#E5ECF6",
           "radialaxis": {
            "gridcolor": "white",
            "linecolor": "white",
            "ticks": ""
           }
          },
          "scene": {
           "xaxis": {
            "backgroundcolor": "#E5ECF6",
            "gridcolor": "white",
            "gridwidth": 2,
            "linecolor": "white",
            "showbackground": true,
            "ticks": "",
            "zerolinecolor": "white"
           },
           "yaxis": {
            "backgroundcolor": "#E5ECF6",
            "gridcolor": "white",
            "gridwidth": 2,
            "linecolor": "white",
            "showbackground": true,
            "ticks": "",
            "zerolinecolor": "white"
           },
           "zaxis": {
            "backgroundcolor": "#E5ECF6",
            "gridcolor": "white",
            "gridwidth": 2,
            "linecolor": "white",
            "showbackground": true,
            "ticks": "",
            "zerolinecolor": "white"
           }
          },
          "shapedefaults": {
           "line": {
            "color": "#2a3f5f"
           }
          },
          "ternary": {
           "aaxis": {
            "gridcolor": "white",
            "linecolor": "white",
            "ticks": ""
           },
           "baxis": {
            "gridcolor": "white",
            "linecolor": "white",
            "ticks": ""
           },
           "bgcolor": "#E5ECF6",
           "caxis": {
            "gridcolor": "white",
            "linecolor": "white",
            "ticks": ""
           }
          },
          "title": {
           "x": 0.05
          },
          "xaxis": {
           "automargin": true,
           "gridcolor": "white",
           "linecolor": "white",
           "ticks": "",
           "title": {
            "standoff": 15
           },
           "zerolinecolor": "white",
           "zerolinewidth": 2
          },
          "yaxis": {
           "automargin": true,
           "gridcolor": "white",
           "linecolor": "white",
           "ticks": "",
           "title": {
            "standoff": 15
           },
           "zerolinecolor": "white",
           "zerolinewidth": 2
          }
         }
        },
        "title": {
         "font": {
          "color": "#4D5663"
         }
        },
        "xaxis": {
         "gridcolor": "#E1E5ED",
         "showgrid": true,
         "tickfont": {
          "color": "#4D5663"
         },
         "title": {
          "font": {
           "color": "#4D5663"
          },
          "text": ""
         },
         "zerolinecolor": "#E1E5ED"
        },
        "yaxis": {
         "gridcolor": "#E1E5ED",
         "showgrid": true,
         "tickfont": {
          "color": "#4D5663"
         },
         "title": {
          "font": {
           "color": "#4D5663"
          },
          "text": ""
         },
         "zerolinecolor": "#E1E5ED"
        }
       }
      },
      "text/html": [
       "<div>\n",
       "        \n",
       "        \n",
       "            <div id=\"50fa38d5-4cca-44aa-87d1-ae329784332b\" class=\"plotly-graph-div\" style=\"height:525px; width:100%;\"></div>\n",
       "            <script type=\"text/javascript\">\n",
       "                require([\"plotly\"], function(Plotly) {\n",
       "                    window.PLOTLYENV=window.PLOTLYENV || {};\n",
       "                    window.PLOTLYENV.BASE_URL='https://plot.ly';\n",
       "                    \n",
       "                if (document.getElementById(\"50fa38d5-4cca-44aa-87d1-ae329784332b\")) {\n",
       "                    Plotly.newPlot(\n",
       "                        '50fa38d5-4cca-44aa-87d1-ae329784332b',\n",
       "                        [{\"colorscale\": [[0.0, \"rgb(165,0,38)\"], [0.1, \"rgb(215,48,39)\"], [0.2, \"rgb(244,109,67)\"], [0.3, \"rgb(253,174,97)\"], [0.4, \"rgb(254,224,144)\"], [0.5, \"rgb(255,255,191)\"], [0.6, \"rgb(224,243,248)\"], [0.7, \"rgb(171,217,233)\"], [0.8, \"rgb(116,173,209)\"], [0.9, \"rgb(69,117,180)\"], [1.0, \"rgb(49,54,149)\"]], \"type\": \"surface\", \"x\": [0, 1, 2, 3, 4], \"y\": [\"x\", \"y\", \"z\"], \"z\": [[1, 2, 3, 4, 5], [10, 20, 30, 20, 10], [5, 4, 3, 2, 1]]}],\n",
       "                        {\"legend\": {\"bgcolor\": \"#F5F6F9\", \"font\": {\"color\": \"#4D5663\"}}, \"paper_bgcolor\": \"#F5F6F9\", \"plot_bgcolor\": \"#F5F6F9\", \"template\": {\"data\": {\"bar\": [{\"error_x\": {\"color\": \"#2a3f5f\"}, \"error_y\": {\"color\": \"#2a3f5f\"}, \"marker\": {\"line\": {\"color\": \"#E5ECF6\", \"width\": 0.5}}, \"type\": \"bar\"}], \"barpolar\": [{\"marker\": {\"line\": {\"color\": \"#E5ECF6\", \"width\": 0.5}}, \"type\": \"barpolar\"}], \"carpet\": [{\"aaxis\": {\"endlinecolor\": \"#2a3f5f\", \"gridcolor\": \"white\", \"linecolor\": \"white\", \"minorgridcolor\": \"white\", \"startlinecolor\": \"#2a3f5f\"}, \"baxis\": {\"endlinecolor\": \"#2a3f5f\", \"gridcolor\": \"white\", \"linecolor\": \"white\", \"minorgridcolor\": \"white\", \"startlinecolor\": \"#2a3f5f\"}, \"type\": \"carpet\"}], \"choropleth\": [{\"colorbar\": {\"outlinewidth\": 0, \"ticks\": \"\"}, \"type\": \"choropleth\"}], \"contour\": [{\"colorbar\": {\"outlinewidth\": 0, \"ticks\": \"\"}, \"colorscale\": [[0.0, \"#0d0887\"], [0.1111111111111111, \"#46039f\"], [0.2222222222222222, \"#7201a8\"], [0.3333333333333333, \"#9c179e\"], [0.4444444444444444, \"#bd3786\"], [0.5555555555555556, \"#d8576b\"], [0.6666666666666666, \"#ed7953\"], [0.7777777777777778, \"#fb9f3a\"], [0.8888888888888888, \"#fdca26\"], [1.0, \"#f0f921\"]], \"type\": \"contour\"}], \"contourcarpet\": [{\"colorbar\": {\"outlinewidth\": 0, \"ticks\": \"\"}, \"type\": \"contourcarpet\"}], \"heatmap\": [{\"colorbar\": {\"outlinewidth\": 0, \"ticks\": \"\"}, \"colorscale\": [[0.0, \"#0d0887\"], [0.1111111111111111, \"#46039f\"], [0.2222222222222222, \"#7201a8\"], [0.3333333333333333, \"#9c179e\"], [0.4444444444444444, \"#bd3786\"], [0.5555555555555556, \"#d8576b\"], [0.6666666666666666, \"#ed7953\"], [0.7777777777777778, \"#fb9f3a\"], [0.8888888888888888, \"#fdca26\"], [1.0, \"#f0f921\"]], \"type\": \"heatmap\"}], \"heatmapgl\": [{\"colorbar\": {\"outlinewidth\": 0, \"ticks\": \"\"}, \"colorscale\": [[0.0, \"#0d0887\"], [0.1111111111111111, \"#46039f\"], [0.2222222222222222, \"#7201a8\"], [0.3333333333333333, \"#9c179e\"], [0.4444444444444444, \"#bd3786\"], [0.5555555555555556, \"#d8576b\"], [0.6666666666666666, \"#ed7953\"], [0.7777777777777778, \"#fb9f3a\"], [0.8888888888888888, \"#fdca26\"], [1.0, \"#f0f921\"]], \"type\": \"heatmapgl\"}], \"histogram\": [{\"marker\": {\"colorbar\": {\"outlinewidth\": 0, \"ticks\": \"\"}}, \"type\": \"histogram\"}], \"histogram2d\": [{\"colorbar\": {\"outlinewidth\": 0, \"ticks\": \"\"}, \"colorscale\": [[0.0, \"#0d0887\"], [0.1111111111111111, \"#46039f\"], [0.2222222222222222, \"#7201a8\"], [0.3333333333333333, \"#9c179e\"], [0.4444444444444444, \"#bd3786\"], [0.5555555555555556, \"#d8576b\"], [0.6666666666666666, \"#ed7953\"], [0.7777777777777778, \"#fb9f3a\"], [0.8888888888888888, \"#fdca26\"], [1.0, \"#f0f921\"]], \"type\": \"histogram2d\"}], \"histogram2dcontour\": [{\"colorbar\": {\"outlinewidth\": 0, \"ticks\": \"\"}, \"colorscale\": [[0.0, \"#0d0887\"], [0.1111111111111111, \"#46039f\"], [0.2222222222222222, \"#7201a8\"], [0.3333333333333333, \"#9c179e\"], [0.4444444444444444, \"#bd3786\"], [0.5555555555555556, \"#d8576b\"], [0.6666666666666666, \"#ed7953\"], [0.7777777777777778, \"#fb9f3a\"], [0.8888888888888888, \"#fdca26\"], [1.0, \"#f0f921\"]], \"type\": \"histogram2dcontour\"}], \"mesh3d\": [{\"colorbar\": {\"outlinewidth\": 0, \"ticks\": \"\"}, \"type\": \"mesh3d\"}], \"parcoords\": [{\"line\": {\"colorbar\": {\"outlinewidth\": 0, \"ticks\": \"\"}}, \"type\": \"parcoords\"}], \"pie\": [{\"automargin\": true, \"type\": \"pie\"}], \"scatter\": [{\"marker\": {\"colorbar\": {\"outlinewidth\": 0, \"ticks\": \"\"}}, \"type\": \"scatter\"}], \"scatter3d\": [{\"line\": {\"colorbar\": {\"outlinewidth\": 0, \"ticks\": \"\"}}, \"marker\": {\"colorbar\": {\"outlinewidth\": 0, \"ticks\": \"\"}}, \"type\": \"scatter3d\"}], \"scattercarpet\": [{\"marker\": {\"colorbar\": {\"outlinewidth\": 0, \"ticks\": \"\"}}, \"type\": \"scattercarpet\"}], \"scattergeo\": [{\"marker\": {\"colorbar\": {\"outlinewidth\": 0, \"ticks\": \"\"}}, \"type\": \"scattergeo\"}], \"scattergl\": [{\"marker\": {\"colorbar\": {\"outlinewidth\": 0, \"ticks\": \"\"}}, \"type\": \"scattergl\"}], \"scattermapbox\": [{\"marker\": {\"colorbar\": {\"outlinewidth\": 0, \"ticks\": \"\"}}, \"type\": \"scattermapbox\"}], \"scatterpolar\": [{\"marker\": {\"colorbar\": {\"outlinewidth\": 0, \"ticks\": \"\"}}, \"type\": \"scatterpolar\"}], \"scatterpolargl\": [{\"marker\": {\"colorbar\": {\"outlinewidth\": 0, \"ticks\": \"\"}}, \"type\": \"scatterpolargl\"}], \"scatterternary\": [{\"marker\": {\"colorbar\": {\"outlinewidth\": 0, \"ticks\": \"\"}}, \"type\": \"scatterternary\"}], \"surface\": [{\"colorbar\": {\"outlinewidth\": 0, \"ticks\": \"\"}, \"colorscale\": [[0.0, \"#0d0887\"], [0.1111111111111111, \"#46039f\"], [0.2222222222222222, \"#7201a8\"], [0.3333333333333333, \"#9c179e\"], [0.4444444444444444, \"#bd3786\"], [0.5555555555555556, \"#d8576b\"], [0.6666666666666666, \"#ed7953\"], [0.7777777777777778, \"#fb9f3a\"], [0.8888888888888888, \"#fdca26\"], [1.0, \"#f0f921\"]], \"type\": \"surface\"}], \"table\": [{\"cells\": {\"fill\": {\"color\": \"#EBF0F8\"}, \"line\": {\"color\": \"white\"}}, \"header\": {\"fill\": {\"color\": \"#C8D4E3\"}, \"line\": {\"color\": \"white\"}}, \"type\": \"table\"}]}, \"layout\": {\"annotationdefaults\": {\"arrowcolor\": \"#2a3f5f\", \"arrowhead\": 0, \"arrowwidth\": 1}, \"coloraxis\": {\"colorbar\": {\"outlinewidth\": 0, \"ticks\": \"\"}}, \"colorscale\": {\"diverging\": [[0, \"#8e0152\"], [0.1, \"#c51b7d\"], [0.2, \"#de77ae\"], [0.3, \"#f1b6da\"], [0.4, \"#fde0ef\"], [0.5, \"#f7f7f7\"], [0.6, \"#e6f5d0\"], [0.7, \"#b8e186\"], [0.8, \"#7fbc41\"], [0.9, \"#4d9221\"], [1, \"#276419\"]], \"sequential\": [[0.0, \"#0d0887\"], [0.1111111111111111, \"#46039f\"], [0.2222222222222222, \"#7201a8\"], [0.3333333333333333, \"#9c179e\"], [0.4444444444444444, \"#bd3786\"], [0.5555555555555556, \"#d8576b\"], [0.6666666666666666, \"#ed7953\"], [0.7777777777777778, \"#fb9f3a\"], [0.8888888888888888, \"#fdca26\"], [1.0, \"#f0f921\"]], \"sequentialminus\": [[0.0, \"#0d0887\"], [0.1111111111111111, \"#46039f\"], [0.2222222222222222, \"#7201a8\"], [0.3333333333333333, \"#9c179e\"], [0.4444444444444444, \"#bd3786\"], [0.5555555555555556, \"#d8576b\"], [0.6666666666666666, \"#ed7953\"], [0.7777777777777778, \"#fb9f3a\"], [0.8888888888888888, \"#fdca26\"], [1.0, \"#f0f921\"]]}, \"colorway\": [\"#636efa\", \"#EF553B\", \"#00cc96\", \"#ab63fa\", \"#FFA15A\", \"#19d3f3\", \"#FF6692\", \"#B6E880\", \"#FF97FF\", \"#FECB52\"], \"font\": {\"color\": \"#2a3f5f\"}, \"geo\": {\"bgcolor\": \"white\", \"lakecolor\": \"white\", \"landcolor\": \"#E5ECF6\", \"showlakes\": true, \"showland\": true, \"subunitcolor\": \"white\"}, \"hoverlabel\": {\"align\": \"left\"}, \"hovermode\": \"closest\", \"mapbox\": {\"style\": \"light\"}, \"paper_bgcolor\": \"white\", \"plot_bgcolor\": \"#E5ECF6\", \"polar\": {\"angularaxis\": {\"gridcolor\": \"white\", \"linecolor\": \"white\", \"ticks\": \"\"}, \"bgcolor\": \"#E5ECF6\", \"radialaxis\": {\"gridcolor\": \"white\", \"linecolor\": \"white\", \"ticks\": \"\"}}, \"scene\": {\"xaxis\": {\"backgroundcolor\": \"#E5ECF6\", \"gridcolor\": \"white\", \"gridwidth\": 2, \"linecolor\": \"white\", \"showbackground\": true, \"ticks\": \"\", \"zerolinecolor\": \"white\"}, \"yaxis\": {\"backgroundcolor\": \"#E5ECF6\", \"gridcolor\": \"white\", \"gridwidth\": 2, \"linecolor\": \"white\", \"showbackground\": true, \"ticks\": \"\", \"zerolinecolor\": \"white\"}, \"zaxis\": {\"backgroundcolor\": \"#E5ECF6\", \"gridcolor\": \"white\", \"gridwidth\": 2, \"linecolor\": \"white\", \"showbackground\": true, \"ticks\": \"\", \"zerolinecolor\": \"white\"}}, \"shapedefaults\": {\"line\": {\"color\": \"#2a3f5f\"}}, \"ternary\": {\"aaxis\": {\"gridcolor\": \"white\", \"linecolor\": \"white\", \"ticks\": \"\"}, \"baxis\": {\"gridcolor\": \"white\", \"linecolor\": \"white\", \"ticks\": \"\"}, \"bgcolor\": \"#E5ECF6\", \"caxis\": {\"gridcolor\": \"white\", \"linecolor\": \"white\", \"ticks\": \"\"}}, \"title\": {\"x\": 0.05}, \"xaxis\": {\"automargin\": true, \"gridcolor\": \"white\", \"linecolor\": \"white\", \"ticks\": \"\", \"title\": {\"standoff\": 15}, \"zerolinecolor\": \"white\", \"zerolinewidth\": 2}, \"yaxis\": {\"automargin\": true, \"gridcolor\": \"white\", \"linecolor\": \"white\", \"ticks\": \"\", \"title\": {\"standoff\": 15}, \"zerolinecolor\": \"white\", \"zerolinewidth\": 2}}}, \"title\": {\"font\": {\"color\": \"#4D5663\"}}, \"xaxis\": {\"gridcolor\": \"#E1E5ED\", \"showgrid\": true, \"tickfont\": {\"color\": \"#4D5663\"}, \"title\": {\"font\": {\"color\": \"#4D5663\"}, \"text\": \"\"}, \"zerolinecolor\": \"#E1E5ED\"}, \"yaxis\": {\"gridcolor\": \"#E1E5ED\", \"showgrid\": true, \"tickfont\": {\"color\": \"#4D5663\"}, \"title\": {\"font\": {\"color\": \"#4D5663\"}, \"text\": \"\"}, \"zerolinecolor\": \"#E1E5ED\"}},\n",
       "                        {\"showLink\": true, \"linkText\": \"Export to plot.ly\", \"plotlyServerURL\": \"https://plot.ly\", \"responsive\": true}\n",
       "                    ).then(function(){\n",
       "                            \n",
       "var gd = document.getElementById('50fa38d5-4cca-44aa-87d1-ae329784332b');\n",
       "var x = new MutationObserver(function (mutations, observer) {{\n",
       "        var display = window.getComputedStyle(gd).display;\n",
       "        if (!display || display === 'none') {{\n",
       "            console.log([gd, 'removed!']);\n",
       "            Plotly.purge(gd);\n",
       "            observer.disconnect();\n",
       "        }}\n",
       "}});\n",
       "\n",
       "// Listen for the removal of the full notebook cells\n",
       "var notebookContainer = gd.closest('#notebook-container');\n",
       "if (notebookContainer) {{\n",
       "    x.observe(notebookContainer, {childList: true});\n",
       "}}\n",
       "\n",
       "// Listen for the clearing of the current output cell\n",
       "var outputEl = gd.closest('.output');\n",
       "if (outputEl) {{\n",
       "    x.observe(outputEl, {childList: true});\n",
       "}}\n",
       "\n",
       "                        })\n",
       "                };\n",
       "                });\n",
       "            </script>\n",
       "        </div>"
      ]
     },
     "metadata": {},
     "output_type": "display_data"
    }
   ],
   "source": [
    "df3 = pd.DataFrame({'x':[1,2,3,4,5],'y':[10,20,30,20,10],'z':[5,4,3,2,1]})\n",
    "df3.iplot(kind='surface',colorscale='rdylbu')"
   ]
  },
  {
   "cell_type": "markdown",
   "metadata": {},
   "source": [
    "## Spread"
   ]
  },
  {
   "cell_type": "code",
   "execution_count": 15,
   "metadata": {},
   "outputs": [
    {
     "name": "stderr",
     "output_type": "stream",
     "text": [
      "/home/abishek/anaconda3/lib/python3.7/site-packages/cufflinks/plotlytools.py:849: FutureWarning:\n",
      "\n",
      "The pandas.np module is deprecated and will be removed from pandas in a future version. Import numpy directly instead\n",
      "\n",
      "/home/abishek/anaconda3/lib/python3.7/site-packages/cufflinks/plotlytools.py:850: FutureWarning:\n",
      "\n",
      "The pandas.np module is deprecated and will be removed from pandas in a future version. Import numpy directly instead\n",
      "\n"
     ]
    },
    {
     "data": {
      "application/vnd.plotly.v1+json": {
       "config": {
        "linkText": "Export to plot.ly",
        "plotlyServerURL": "https://plot.ly",
        "showLink": true
       },
       "data": [
        {
         "line": {
          "color": "rgba(255, 153, 51, 1.0)",
          "dash": "solid",
          "shape": "linear",
          "width": 1.3
         },
         "mode": "lines",
         "name": "A",
         "text": "",
         "type": "scatter",
         "x": [
          0,
          1,
          2,
          3,
          4,
          5,
          6,
          7,
          8,
          9,
          10,
          11,
          12,
          13,
          14,
          15,
          16,
          17,
          18,
          19,
          20,
          21,
          22,
          23,
          24,
          25,
          26,
          27,
          28,
          29,
          30,
          31,
          32,
          33,
          34,
          35,
          36,
          37,
          38,
          39,
          40,
          41,
          42,
          43,
          44,
          45,
          46,
          47,
          48,
          49,
          50,
          51,
          52,
          53,
          54,
          55,
          56,
          57,
          58,
          59,
          60,
          61,
          62,
          63,
          64,
          65,
          66,
          67,
          68,
          69,
          70,
          71,
          72,
          73,
          74,
          75,
          76,
          77,
          78,
          79,
          80,
          81,
          82,
          83,
          84,
          85,
          86,
          87,
          88,
          89,
          90,
          91,
          92,
          93,
          94,
          95,
          96,
          97,
          98,
          99
         ],
         "y": [
          -1.471246046471575,
          -0.6085271820559668,
          -1.1482532192046846,
          0.2627438693214284,
          2.0836070829778217,
          1.5631875324236681,
          0.5808382512677437,
          0.100140196384491,
          1.2262718460695798,
          0.8121590295001305,
          -1.638410297853008,
          -1.3542858701443743,
          -0.8859356006558017,
          -0.2117872482653646,
          1.52205049796379,
          1.2017578197554064,
          0.7102810124642632,
          -0.23545767256803746,
          -1.0956352495534225,
          1.6932444882864444,
          -1.1138532343497123,
          -1.5238659046060548,
          0.3737582919650709,
          0.3995610667193977,
          0.9849517979430037,
          -0.41286182514316994,
          0.22013798773369625,
          -0.9940274726090388,
          0.6053300034368934,
          -0.08150224288687338,
          1.530830559698258,
          -0.6660168670760243,
          0.2476162288080035,
          -0.4201157591879683,
          2.513732444208068,
          0.18748712307755722,
          0.7718010241028777,
          -1.0216987493095346,
          0.7359898582102234,
          0.3394424646684741,
          -0.9547001300086784,
          0.26062793395402895,
          0.0012388939276021182,
          -0.7212270021450119,
          -0.15919309376546367,
          1.036045290051301,
          -0.4367341912425072,
          0.4183619167269413,
          -0.9869819473111545,
          0.46415757459025936,
          0.907112493962873,
          0.04747797526445393,
          0.8951683093198934,
          -0.31273978661031654,
          -0.38852459396814915,
          -0.21814853869892967,
          0.06874986096360242,
          -2.046811137503565,
          -0.30188504766584184,
          0.3991831218988143,
          -0.9619090984013201,
          2.0755584226410915,
          -0.13736165791337965,
          -0.861827546842935,
          1.3905627604649047,
          1.0763452474767086,
          -0.2724466161760582,
          -1.136419583125512,
          2.8963094311022544,
          0.998479444147354,
          0.5363394044353359,
          0.2999801214940788,
          -0.20435860562327238,
          -1.5876911915428935,
          0.1689491074557813,
          -0.7550523982876761,
          0.14659326683142235,
          0.3792701864009285,
          -0.4165521378380051,
          0.6274214865629553,
          -0.258635746057425,
          0.04476722623086181,
          -0.43703161466220863,
          1.88969572647376,
          0.5535706370729377,
          -1.135244544453128,
          -0.7426677074998133,
          1.3798865438745822,
          -0.5563918303956908,
          0.09158547419355814,
          1.8855374103668776,
          -0.2805175659360432,
          0.36070102679322347,
          0.10638652573921481,
          0.44057146595893387,
          0.814903887602294,
          1.0939625067681231,
          0.05500910372074003,
          1.1314784533017157,
          -0.09953238829157161
         ]
        },
        {
         "line": {
          "color": "rgba(55, 128, 191, 1.0)",
          "dash": "solid",
          "shape": "linear",
          "width": 1.3
         },
         "mode": "lines",
         "name": "B",
         "text": "",
         "type": "scatter",
         "x": [
          0,
          1,
          2,
          3,
          4,
          5,
          6,
          7,
          8,
          9,
          10,
          11,
          12,
          13,
          14,
          15,
          16,
          17,
          18,
          19,
          20,
          21,
          22,
          23,
          24,
          25,
          26,
          27,
          28,
          29,
          30,
          31,
          32,
          33,
          34,
          35,
          36,
          37,
          38,
          39,
          40,
          41,
          42,
          43,
          44,
          45,
          46,
          47,
          48,
          49,
          50,
          51,
          52,
          53,
          54,
          55,
          56,
          57,
          58,
          59,
          60,
          61,
          62,
          63,
          64,
          65,
          66,
          67,
          68,
          69,
          70,
          71,
          72,
          73,
          74,
          75,
          76,
          77,
          78,
          79,
          80,
          81,
          82,
          83,
          84,
          85,
          86,
          87,
          88,
          89,
          90,
          91,
          92,
          93,
          94,
          95,
          96,
          97,
          98,
          99
         ],
         "y": [
          0.10505382992684024,
          0.4711673041743314,
          -1.519353471102839,
          1.1547053822403741,
          1.0798174585278013,
          -1.3167731816914818,
          0.7135520626011459,
          1.228071405621988,
          -0.1352699013682691,
          -0.7225275214145852,
          0.8549518116578393,
          -0.20588106476691267,
          -0.06703596762655907,
          1.6484770738363472,
          0.36286227096868406,
          0.05563320312264835,
          0.6254057338704384,
          -0.012960080959064806,
          -2.12932614521523,
          -0.4157931861958631,
          0.7506360034867958,
          -0.13983300982709157,
          -0.5900443492432567,
          0.7044782303155932,
          0.19890230651938576,
          -0.19836350350683987,
          0.8759308313682472,
          0.19836962628705404,
          0.27848831138959357,
          -1.1694296316366262,
          0.3267781091861249,
          0.38581311088033404,
          0.5471026752728532,
          -0.3146860226848104,
          -1.6035633201468595,
          0.06543919850911806,
          0.19351698419231203,
          -2.386767407875937,
          1.0703757940939813,
          0.7152544617480363,
          -0.8402296964975069,
          1.4438748000559085,
          1.1597873193139467,
          -1.1095184085909982,
          1.6063077829929273,
          -1.085090818463112,
          -2.022548824739018,
          0.4053807585208205,
          -0.40761135212598976,
          0.7499089719721762,
          -0.5654299320552335,
          -1.1633044453417187,
          -0.8681796271541423,
          -2.9092295914484128,
          -0.9005417099015383,
          0.9211926455003557,
          0.5479235918234407,
          0.3674219082707484,
          -0.7334914066505491,
          -0.19254775033259586,
          -0.14348719988088504,
          -2.329163688940016,
          0.15057290599191409,
          0.1237678929312007,
          0.683541160275602,
          -0.5466460611187319,
          -0.04691790105302972,
          -0.30891159038861526,
          0.7099401236493103,
          -0.002099768581509483,
          -0.41139758529350595,
          -0.5335970457156773,
          -1.30774488435812,
          -0.36710599583404435,
          -1.0930940248488794,
          0.023844045404288774,
          2.0924380613371363,
          0.30331932358411845,
          0.476086299481217,
          1.384076360250985,
          0.5766365706062448,
          2.6165270527132005,
          0.5821109662236247,
          -0.15557530418785975,
          -0.436490142585925,
          0.22184656251316986,
          0.15768753650025366,
          0.48078788358232516,
          0.6292641638456508,
          -0.692412043888579,
          -0.95302121836286,
          -1.2292609401152632,
          -0.2634772944023692,
          -0.7325543666146409,
          -0.7984410176142024,
          -0.1336532721123046,
          -0.6412326522647541,
          1.054147966339015,
          -1.2572779777281884,
          -0.015239046068296734
         ]
        },
        {
         "connectgaps": false,
         "fill": "tozeroy",
         "line": {
          "color": "green",
          "dash": "solid",
          "shape": "linear",
          "width": 0.5
         },
         "mode": "lines",
         "name": "Spread",
         "showlegend": false,
         "type": "scatter",
         "x": [
          0,
          1,
          2,
          3,
          4,
          5,
          6,
          7,
          8,
          9,
          10,
          11,
          12,
          13,
          14,
          15,
          16,
          17,
          18,
          19,
          20,
          21,
          22,
          23,
          24,
          25,
          26,
          27,
          28,
          29,
          30,
          31,
          32,
          33,
          34,
          35,
          36,
          37,
          38,
          39,
          40,
          41,
          42,
          43,
          44,
          45,
          46,
          47,
          48,
          49,
          50,
          51,
          52,
          53,
          54,
          55,
          56,
          57,
          58,
          59,
          60,
          61,
          62,
          63,
          64,
          65,
          66,
          67,
          68,
          69,
          70,
          71,
          72,
          73,
          74,
          75,
          76,
          77,
          78,
          79,
          80,
          81,
          82,
          83,
          84,
          85,
          86,
          87,
          88,
          89,
          90,
          91,
          92,
          93,
          94,
          95,
          96,
          97,
          98,
          99
         ],
         "xaxis": "x2",
         "y": [
          "",
          "",
          0.3711002518981543,
          "",
          1.0037896244500204,
          2.8799607141151498,
          "",
          "",
          1.3615417474378488,
          1.5346865509147158,
          "",
          "",
          "",
          "",
          1.1591882269951062,
          1.146124616632758,
          0.08487527859382482,
          "",
          1.0336908956618074,
          2.1090376744823076,
          "",
          "",
          0.9638026412083276,
          "",
          0.7860494914236179,
          "",
          "",
          "",
          0.3268416920472998,
          1.0879273887497527,
          1.2040524505121333,
          "",
          "",
          "",
          4.117295764354928,
          0.12204792456843916,
          0.5782840399105657,
          1.3650686585664022,
          "",
          "",
          "",
          "",
          "",
          0.38829140644598625,
          "",
          2.1211361085144134,
          1.5858146334965109,
          0.01298115820612078,
          "",
          "",
          1.4725424260181064,
          1.2107824206061726,
          1.7633479364740356,
          2.596489804838096,
          0.512017115933389,
          "",
          "",
          "",
          0.4316063589847073,
          0.5917308722314101,
          "",
          4.4047221115811075,
          "",
          "",
          0.7070216001893027,
          1.6229913085954406,
          "",
          "",
          2.186369307452944,
          1.0005792127288635,
          0.9477369897288419,
          0.8335771672097562,
          1.1033862787348476,
          "",
          1.2620431323046608,
          "",
          "",
          0.07595086281681007,
          "",
          "",
          "",
          "",
          "",
          2.0452710306616195,
          0.9900607796588627,
          "",
          "",
          0.899098660292257,
          "",
          0.7839975180821371,
          2.8385586287297375,
          0.94874337417922,
          0.6241783211955927,
          0.8389408923538557,
          1.2390124835731362,
          0.9485571597145986,
          1.7351951590328771,
          "",
          2.388756431029904,
          ""
         ],
         "yaxis": "y2"
        },
        {
         "connectgaps": false,
         "fill": "tozeroy",
         "line": {
          "color": "red",
          "dash": "solid",
          "shape": "linear",
          "width": 0.5
         },
         "mode": "lines",
         "name": "Spread",
         "showlegend": false,
         "type": "scatter",
         "x": [
          0,
          1,
          2,
          3,
          4,
          5,
          6,
          7,
          8,
          9,
          10,
          11,
          12,
          13,
          14,
          15,
          16,
          17,
          18,
          19,
          20,
          21,
          22,
          23,
          24,
          25,
          26,
          27,
          28,
          29,
          30,
          31,
          32,
          33,
          34,
          35,
          36,
          37,
          38,
          39,
          40,
          41,
          42,
          43,
          44,
          45,
          46,
          47,
          48,
          49,
          50,
          51,
          52,
          53,
          54,
          55,
          56,
          57,
          58,
          59,
          60,
          61,
          62,
          63,
          64,
          65,
          66,
          67,
          68,
          69,
          70,
          71,
          72,
          73,
          74,
          75,
          76,
          77,
          78,
          79,
          80,
          81,
          82,
          83,
          84,
          85,
          86,
          87,
          88,
          89,
          90,
          91,
          92,
          93,
          94,
          95,
          96,
          97,
          98,
          99
         ],
         "xaxis": "x2",
         "y": [
          -1.5762998763984153,
          -1.0796944862302982,
          "",
          -0.8919615129189458,
          "",
          "",
          -0.1327138113334022,
          -1.127931209237497,
          "",
          "",
          -2.4933621095108474,
          -1.1484048053774616,
          -0.8188996330292426,
          -1.8602643221017119,
          "",
          "",
          "",
          -0.22249759160897264,
          "",
          "",
          -1.864489237836508,
          -1.3840328947789633,
          "",
          -0.30491716359619553,
          "",
          -0.21449832163633006,
          -0.655792843634551,
          -1.1923970988960928,
          "",
          "",
          "",
          -1.0518299779563582,
          -0.2994864464648497,
          -0.1054297365031579,
          "",
          "",
          "",
          "",
          -0.33438593588375787,
          -0.3758119970795622,
          -0.11447043351117148,
          -1.1832468661018796,
          -1.1585484253863447,
          "",
          -1.765500876758391,
          "",
          "",
          "",
          -0.5793705951851648,
          -0.28575139738191685,
          "",
          "",
          "",
          "",
          "",
          -1.1393411841992853,
          -0.47917373085983833,
          -2.4142330457743135,
          "",
          "",
          -0.818421898520435,
          "",
          -0.2879345639052937,
          -0.9855954397741358,
          "",
          "",
          -0.22552871512302847,
          -0.8275079927368967,
          "",
          "",
          "",
          "",
          "",
          -1.2205851957088492,
          "",
          -0.7788964436919649,
          -1.945844794505714,
          "",
          -0.8926384373192221,
          -0.7566548736880296,
          -0.8352723166636699,
          -2.5717598264823387,
          -1.0191425808858332,
          "",
          "",
          -1.3570911069662979,
          -0.900355244000067,
          "",
          -1.1856559942413416,
          "",
          "",
          "",
          "",
          "",
          "",
          "",
          "",
          -0.9991388626182749,
          "",
          -0.08429334222327488
         ],
         "yaxis": "y2"
        }
       ],
       "layout": {
        "hovermode": "x",
        "legend": {
         "bgcolor": "#F5F6F9",
         "font": {
          "color": "#4D5663"
         }
        },
        "paper_bgcolor": "#F5F6F9",
        "plot_bgcolor": "#F5F6F9",
        "template": {
         "data": {
          "bar": [
           {
            "error_x": {
             "color": "#2a3f5f"
            },
            "error_y": {
             "color": "#2a3f5f"
            },
            "marker": {
             "line": {
              "color": "#E5ECF6",
              "width": 0.5
             }
            },
            "type": "bar"
           }
          ],
          "barpolar": [
           {
            "marker": {
             "line": {
              "color": "#E5ECF6",
              "width": 0.5
             }
            },
            "type": "barpolar"
           }
          ],
          "carpet": [
           {
            "aaxis": {
             "endlinecolor": "#2a3f5f",
             "gridcolor": "white",
             "linecolor": "white",
             "minorgridcolor": "white",
             "startlinecolor": "#2a3f5f"
            },
            "baxis": {
             "endlinecolor": "#2a3f5f",
             "gridcolor": "white",
             "linecolor": "white",
             "minorgridcolor": "white",
             "startlinecolor": "#2a3f5f"
            },
            "type": "carpet"
           }
          ],
          "choropleth": [
           {
            "colorbar": {
             "outlinewidth": 0,
             "ticks": ""
            },
            "type": "choropleth"
           }
          ],
          "contour": [
           {
            "colorbar": {
             "outlinewidth": 0,
             "ticks": ""
            },
            "colorscale": [
             [
              0,
              "#0d0887"
             ],
             [
              0.1111111111111111,
              "#46039f"
             ],
             [
              0.2222222222222222,
              "#7201a8"
             ],
             [
              0.3333333333333333,
              "#9c179e"
             ],
             [
              0.4444444444444444,
              "#bd3786"
             ],
             [
              0.5555555555555556,
              "#d8576b"
             ],
             [
              0.6666666666666666,
              "#ed7953"
             ],
             [
              0.7777777777777778,
              "#fb9f3a"
             ],
             [
              0.8888888888888888,
              "#fdca26"
             ],
             [
              1,
              "#f0f921"
             ]
            ],
            "type": "contour"
           }
          ],
          "contourcarpet": [
           {
            "colorbar": {
             "outlinewidth": 0,
             "ticks": ""
            },
            "type": "contourcarpet"
           }
          ],
          "heatmap": [
           {
            "colorbar": {
             "outlinewidth": 0,
             "ticks": ""
            },
            "colorscale": [
             [
              0,
              "#0d0887"
             ],
             [
              0.1111111111111111,
              "#46039f"
             ],
             [
              0.2222222222222222,
              "#7201a8"
             ],
             [
              0.3333333333333333,
              "#9c179e"
             ],
             [
              0.4444444444444444,
              "#bd3786"
             ],
             [
              0.5555555555555556,
              "#d8576b"
             ],
             [
              0.6666666666666666,
              "#ed7953"
             ],
             [
              0.7777777777777778,
              "#fb9f3a"
             ],
             [
              0.8888888888888888,
              "#fdca26"
             ],
             [
              1,
              "#f0f921"
             ]
            ],
            "type": "heatmap"
           }
          ],
          "heatmapgl": [
           {
            "colorbar": {
             "outlinewidth": 0,
             "ticks": ""
            },
            "colorscale": [
             [
              0,
              "#0d0887"
             ],
             [
              0.1111111111111111,
              "#46039f"
             ],
             [
              0.2222222222222222,
              "#7201a8"
             ],
             [
              0.3333333333333333,
              "#9c179e"
             ],
             [
              0.4444444444444444,
              "#bd3786"
             ],
             [
              0.5555555555555556,
              "#d8576b"
             ],
             [
              0.6666666666666666,
              "#ed7953"
             ],
             [
              0.7777777777777778,
              "#fb9f3a"
             ],
             [
              0.8888888888888888,
              "#fdca26"
             ],
             [
              1,
              "#f0f921"
             ]
            ],
            "type": "heatmapgl"
           }
          ],
          "histogram": [
           {
            "marker": {
             "colorbar": {
              "outlinewidth": 0,
              "ticks": ""
             }
            },
            "type": "histogram"
           }
          ],
          "histogram2d": [
           {
            "colorbar": {
             "outlinewidth": 0,
             "ticks": ""
            },
            "colorscale": [
             [
              0,
              "#0d0887"
             ],
             [
              0.1111111111111111,
              "#46039f"
             ],
             [
              0.2222222222222222,
              "#7201a8"
             ],
             [
              0.3333333333333333,
              "#9c179e"
             ],
             [
              0.4444444444444444,
              "#bd3786"
             ],
             [
              0.5555555555555556,
              "#d8576b"
             ],
             [
              0.6666666666666666,
              "#ed7953"
             ],
             [
              0.7777777777777778,
              "#fb9f3a"
             ],
             [
              0.8888888888888888,
              "#fdca26"
             ],
             [
              1,
              "#f0f921"
             ]
            ],
            "type": "histogram2d"
           }
          ],
          "histogram2dcontour": [
           {
            "colorbar": {
             "outlinewidth": 0,
             "ticks": ""
            },
            "colorscale": [
             [
              0,
              "#0d0887"
             ],
             [
              0.1111111111111111,
              "#46039f"
             ],
             [
              0.2222222222222222,
              "#7201a8"
             ],
             [
              0.3333333333333333,
              "#9c179e"
             ],
             [
              0.4444444444444444,
              "#bd3786"
             ],
             [
              0.5555555555555556,
              "#d8576b"
             ],
             [
              0.6666666666666666,
              "#ed7953"
             ],
             [
              0.7777777777777778,
              "#fb9f3a"
             ],
             [
              0.8888888888888888,
              "#fdca26"
             ],
             [
              1,
              "#f0f921"
             ]
            ],
            "type": "histogram2dcontour"
           }
          ],
          "mesh3d": [
           {
            "colorbar": {
             "outlinewidth": 0,
             "ticks": ""
            },
            "type": "mesh3d"
           }
          ],
          "parcoords": [
           {
            "line": {
             "colorbar": {
              "outlinewidth": 0,
              "ticks": ""
             }
            },
            "type": "parcoords"
           }
          ],
          "pie": [
           {
            "automargin": true,
            "type": "pie"
           }
          ],
          "scatter": [
           {
            "marker": {
             "colorbar": {
              "outlinewidth": 0,
              "ticks": ""
             }
            },
            "type": "scatter"
           }
          ],
          "scatter3d": [
           {
            "line": {
             "colorbar": {
              "outlinewidth": 0,
              "ticks": ""
             }
            },
            "marker": {
             "colorbar": {
              "outlinewidth": 0,
              "ticks": ""
             }
            },
            "type": "scatter3d"
           }
          ],
          "scattercarpet": [
           {
            "marker": {
             "colorbar": {
              "outlinewidth": 0,
              "ticks": ""
             }
            },
            "type": "scattercarpet"
           }
          ],
          "scattergeo": [
           {
            "marker": {
             "colorbar": {
              "outlinewidth": 0,
              "ticks": ""
             }
            },
            "type": "scattergeo"
           }
          ],
          "scattergl": [
           {
            "marker": {
             "colorbar": {
              "outlinewidth": 0,
              "ticks": ""
             }
            },
            "type": "scattergl"
           }
          ],
          "scattermapbox": [
           {
            "marker": {
             "colorbar": {
              "outlinewidth": 0,
              "ticks": ""
             }
            },
            "type": "scattermapbox"
           }
          ],
          "scatterpolar": [
           {
            "marker": {
             "colorbar": {
              "outlinewidth": 0,
              "ticks": ""
             }
            },
            "type": "scatterpolar"
           }
          ],
          "scatterpolargl": [
           {
            "marker": {
             "colorbar": {
              "outlinewidth": 0,
              "ticks": ""
             }
            },
            "type": "scatterpolargl"
           }
          ],
          "scatterternary": [
           {
            "marker": {
             "colorbar": {
              "outlinewidth": 0,
              "ticks": ""
             }
            },
            "type": "scatterternary"
           }
          ],
          "surface": [
           {
            "colorbar": {
             "outlinewidth": 0,
             "ticks": ""
            },
            "colorscale": [
             [
              0,
              "#0d0887"
             ],
             [
              0.1111111111111111,
              "#46039f"
             ],
             [
              0.2222222222222222,
              "#7201a8"
             ],
             [
              0.3333333333333333,
              "#9c179e"
             ],
             [
              0.4444444444444444,
              "#bd3786"
             ],
             [
              0.5555555555555556,
              "#d8576b"
             ],
             [
              0.6666666666666666,
              "#ed7953"
             ],
             [
              0.7777777777777778,
              "#fb9f3a"
             ],
             [
              0.8888888888888888,
              "#fdca26"
             ],
             [
              1,
              "#f0f921"
             ]
            ],
            "type": "surface"
           }
          ],
          "table": [
           {
            "cells": {
             "fill": {
              "color": "#EBF0F8"
             },
             "line": {
              "color": "white"
             }
            },
            "header": {
             "fill": {
              "color": "#C8D4E3"
             },
             "line": {
              "color": "white"
             }
            },
            "type": "table"
           }
          ]
         },
         "layout": {
          "annotationdefaults": {
           "arrowcolor": "#2a3f5f",
           "arrowhead": 0,
           "arrowwidth": 1
          },
          "coloraxis": {
           "colorbar": {
            "outlinewidth": 0,
            "ticks": ""
           }
          },
          "colorscale": {
           "diverging": [
            [
             0,
             "#8e0152"
            ],
            [
             0.1,
             "#c51b7d"
            ],
            [
             0.2,
             "#de77ae"
            ],
            [
             0.3,
             "#f1b6da"
            ],
            [
             0.4,
             "#fde0ef"
            ],
            [
             0.5,
             "#f7f7f7"
            ],
            [
             0.6,
             "#e6f5d0"
            ],
            [
             0.7,
             "#b8e186"
            ],
            [
             0.8,
             "#7fbc41"
            ],
            [
             0.9,
             "#4d9221"
            ],
            [
             1,
             "#276419"
            ]
           ],
           "sequential": [
            [
             0,
             "#0d0887"
            ],
            [
             0.1111111111111111,
             "#46039f"
            ],
            [
             0.2222222222222222,
             "#7201a8"
            ],
            [
             0.3333333333333333,
             "#9c179e"
            ],
            [
             0.4444444444444444,
             "#bd3786"
            ],
            [
             0.5555555555555556,
             "#d8576b"
            ],
            [
             0.6666666666666666,
             "#ed7953"
            ],
            [
             0.7777777777777778,
             "#fb9f3a"
            ],
            [
             0.8888888888888888,
             "#fdca26"
            ],
            [
             1,
             "#f0f921"
            ]
           ],
           "sequentialminus": [
            [
             0,
             "#0d0887"
            ],
            [
             0.1111111111111111,
             "#46039f"
            ],
            [
             0.2222222222222222,
             "#7201a8"
            ],
            [
             0.3333333333333333,
             "#9c179e"
            ],
            [
             0.4444444444444444,
             "#bd3786"
            ],
            [
             0.5555555555555556,
             "#d8576b"
            ],
            [
             0.6666666666666666,
             "#ed7953"
            ],
            [
             0.7777777777777778,
             "#fb9f3a"
            ],
            [
             0.8888888888888888,
             "#fdca26"
            ],
            [
             1,
             "#f0f921"
            ]
           ]
          },
          "colorway": [
           "#636efa",
           "#EF553B",
           "#00cc96",
           "#ab63fa",
           "#FFA15A",
           "#19d3f3",
           "#FF6692",
           "#B6E880",
           "#FF97FF",
           "#FECB52"
          ],
          "font": {
           "color": "#2a3f5f"
          },
          "geo": {
           "bgcolor": "white",
           "lakecolor": "white",
           "landcolor": "#E5ECF6",
           "showlakes": true,
           "showland": true,
           "subunitcolor": "white"
          },
          "hoverlabel": {
           "align": "left"
          },
          "hovermode": "closest",
          "mapbox": {
           "style": "light"
          },
          "paper_bgcolor": "white",
          "plot_bgcolor": "#E5ECF6",
          "polar": {
           "angularaxis": {
            "gridcolor": "white",
            "linecolor": "white",
            "ticks": ""
           },
           "bgcolor": "#E5ECF6",
           "radialaxis": {
            "gridcolor": "white",
            "linecolor": "white",
            "ticks": ""
           }
          },
          "scene": {
           "xaxis": {
            "backgroundcolor": "#E5ECF6",
            "gridcolor": "white",
            "gridwidth": 2,
            "linecolor": "white",
            "showbackground": true,
            "ticks": "",
            "zerolinecolor": "white"
           },
           "yaxis": {
            "backgroundcolor": "#E5ECF6",
            "gridcolor": "white",
            "gridwidth": 2,
            "linecolor": "white",
            "showbackground": true,
            "ticks": "",
            "zerolinecolor": "white"
           },
           "zaxis": {
            "backgroundcolor": "#E5ECF6",
            "gridcolor": "white",
            "gridwidth": 2,
            "linecolor": "white",
            "showbackground": true,
            "ticks": "",
            "zerolinecolor": "white"
           }
          },
          "shapedefaults": {
           "line": {
            "color": "#2a3f5f"
           }
          },
          "ternary": {
           "aaxis": {
            "gridcolor": "white",
            "linecolor": "white",
            "ticks": ""
           },
           "baxis": {
            "gridcolor": "white",
            "linecolor": "white",
            "ticks": ""
           },
           "bgcolor": "#E5ECF6",
           "caxis": {
            "gridcolor": "white",
            "linecolor": "white",
            "ticks": ""
           }
          },
          "title": {
           "x": 0.05
          },
          "xaxis": {
           "automargin": true,
           "gridcolor": "white",
           "linecolor": "white",
           "ticks": "",
           "title": {
            "standoff": 15
           },
           "zerolinecolor": "white",
           "zerolinewidth": 2
          },
          "yaxis": {
           "automargin": true,
           "gridcolor": "white",
           "linecolor": "white",
           "ticks": "",
           "title": {
            "standoff": 15
           },
           "zerolinecolor": "white",
           "zerolinewidth": 2
          }
         }
        },
        "title": {
         "font": {
          "color": "#4D5663"
         }
        },
        "xaxis": {
         "gridcolor": "#E1E5ED",
         "showgrid": true,
         "tickfont": {
          "color": "#4D5663"
         },
         "title": {
          "font": {
           "color": "#4D5663"
          },
          "text": ""
         },
         "zerolinecolor": "#E1E5ED"
        },
        "xaxis2": {
         "anchor": "y2",
         "gridcolor": "#E1E5ED",
         "showgrid": true,
         "showticklabels": false,
         "tickfont": {
          "color": "#4D5663"
         },
         "title": {
          "font": {
           "color": "#4D5663"
          },
          "text": ""
         },
         "zerolinecolor": "#E1E5ED"
        },
        "yaxis": {
         "domain": [
          0.3,
          1
         ],
         "gridcolor": "#E1E5ED",
         "showgrid": true,
         "tickfont": {
          "color": "#4D5663"
         },
         "title": {
          "font": {
           "color": "#4D5663"
          },
          "text": ""
         },
         "zerolinecolor": "#E1E5ED"
        },
        "yaxis2": {
         "domain": [
          0,
          0.25
         ],
         "gridcolor": "#E1E5ED",
         "showgrid": true,
         "tickfont": {
          "color": "#4D5663"
         },
         "title": {
          "font": {
           "color": "#4D5663"
          },
          "text": "Spread"
         },
         "zerolinecolor": "#E1E5ED"
        }
       }
      },
      "text/html": [
       "<div>\n",
       "        \n",
       "        \n",
       "            <div id=\"d2069057-6bbd-4ba7-a30f-01fa60097630\" class=\"plotly-graph-div\" style=\"height:525px; width:100%;\"></div>\n",
       "            <script type=\"text/javascript\">\n",
       "                require([\"plotly\"], function(Plotly) {\n",
       "                    window.PLOTLYENV=window.PLOTLYENV || {};\n",
       "                    window.PLOTLYENV.BASE_URL='https://plot.ly';\n",
       "                    \n",
       "                if (document.getElementById(\"d2069057-6bbd-4ba7-a30f-01fa60097630\")) {\n",
       "                    Plotly.newPlot(\n",
       "                        'd2069057-6bbd-4ba7-a30f-01fa60097630',\n",
       "                        [{\"line\": {\"color\": \"rgba(255, 153, 51, 1.0)\", \"dash\": \"solid\", \"shape\": \"linear\", \"width\": 1.3}, \"mode\": \"lines\", \"name\": \"A\", \"text\": \"\", \"type\": \"scatter\", \"x\": [0, 1, 2, 3, 4, 5, 6, 7, 8, 9, 10, 11, 12, 13, 14, 15, 16, 17, 18, 19, 20, 21, 22, 23, 24, 25, 26, 27, 28, 29, 30, 31, 32, 33, 34, 35, 36, 37, 38, 39, 40, 41, 42, 43, 44, 45, 46, 47, 48, 49, 50, 51, 52, 53, 54, 55, 56, 57, 58, 59, 60, 61, 62, 63, 64, 65, 66, 67, 68, 69, 70, 71, 72, 73, 74, 75, 76, 77, 78, 79, 80, 81, 82, 83, 84, 85, 86, 87, 88, 89, 90, 91, 92, 93, 94, 95, 96, 97, 98, 99], \"y\": [-1.471246046471575, -0.6085271820559668, -1.1482532192046846, 0.2627438693214284, 2.0836070829778217, 1.5631875324236681, 0.5808382512677437, 0.100140196384491, 1.2262718460695798, 0.8121590295001305, -1.638410297853008, -1.3542858701443743, -0.8859356006558017, -0.2117872482653646, 1.52205049796379, 1.2017578197554064, 0.7102810124642632, -0.23545767256803746, -1.0956352495534225, 1.6932444882864444, -1.1138532343497123, -1.5238659046060548, 0.3737582919650709, 0.3995610667193977, 0.9849517979430037, -0.41286182514316994, 0.22013798773369625, -0.9940274726090388, 0.6053300034368934, -0.08150224288687338, 1.530830559698258, -0.6660168670760243, 0.2476162288080035, -0.4201157591879683, 2.513732444208068, 0.18748712307755722, 0.7718010241028777, -1.0216987493095346, 0.7359898582102234, 0.3394424646684741, -0.9547001300086784, 0.26062793395402895, 0.0012388939276021182, -0.7212270021450119, -0.15919309376546367, 1.036045290051301, -0.4367341912425072, 0.4183619167269413, -0.9869819473111545, 0.46415757459025936, 0.907112493962873, 0.04747797526445393, 0.8951683093198934, -0.31273978661031654, -0.38852459396814915, -0.21814853869892967, 0.06874986096360242, -2.046811137503565, -0.30188504766584184, 0.3991831218988143, -0.9619090984013201, 2.0755584226410915, -0.13736165791337965, -0.861827546842935, 1.3905627604649047, 1.0763452474767086, -0.2724466161760582, -1.136419583125512, 2.8963094311022544, 0.998479444147354, 0.5363394044353359, 0.2999801214940788, -0.20435860562327238, -1.5876911915428935, 0.1689491074557813, -0.7550523982876761, 0.14659326683142235, 0.3792701864009285, -0.4165521378380051, 0.6274214865629553, -0.258635746057425, 0.04476722623086181, -0.43703161466220863, 1.88969572647376, 0.5535706370729377, -1.135244544453128, -0.7426677074998133, 1.3798865438745822, -0.5563918303956908, 0.09158547419355814, 1.8855374103668776, -0.2805175659360432, 0.36070102679322347, 0.10638652573921481, 0.44057146595893387, 0.814903887602294, 1.0939625067681231, 0.05500910372074003, 1.1314784533017157, -0.09953238829157161]}, {\"line\": {\"color\": \"rgba(55, 128, 191, 1.0)\", \"dash\": \"solid\", \"shape\": \"linear\", \"width\": 1.3}, \"mode\": \"lines\", \"name\": \"B\", \"text\": \"\", \"type\": \"scatter\", \"x\": [0, 1, 2, 3, 4, 5, 6, 7, 8, 9, 10, 11, 12, 13, 14, 15, 16, 17, 18, 19, 20, 21, 22, 23, 24, 25, 26, 27, 28, 29, 30, 31, 32, 33, 34, 35, 36, 37, 38, 39, 40, 41, 42, 43, 44, 45, 46, 47, 48, 49, 50, 51, 52, 53, 54, 55, 56, 57, 58, 59, 60, 61, 62, 63, 64, 65, 66, 67, 68, 69, 70, 71, 72, 73, 74, 75, 76, 77, 78, 79, 80, 81, 82, 83, 84, 85, 86, 87, 88, 89, 90, 91, 92, 93, 94, 95, 96, 97, 98, 99], \"y\": [0.10505382992684024, 0.4711673041743314, -1.519353471102839, 1.1547053822403741, 1.0798174585278013, -1.3167731816914818, 0.7135520626011459, 1.228071405621988, -0.1352699013682691, -0.7225275214145852, 0.8549518116578393, -0.20588106476691267, -0.06703596762655907, 1.6484770738363472, 0.36286227096868406, 0.05563320312264835, 0.6254057338704384, -0.012960080959064806, -2.12932614521523, -0.4157931861958631, 0.7506360034867958, -0.13983300982709157, -0.5900443492432567, 0.7044782303155932, 0.19890230651938576, -0.19836350350683987, 0.8759308313682472, 0.19836962628705404, 0.27848831138959357, -1.1694296316366262, 0.3267781091861249, 0.38581311088033404, 0.5471026752728532, -0.3146860226848104, -1.6035633201468595, 0.06543919850911806, 0.19351698419231203, -2.386767407875937, 1.0703757940939813, 0.7152544617480363, -0.8402296964975069, 1.4438748000559085, 1.1597873193139467, -1.1095184085909982, 1.6063077829929273, -1.085090818463112, -2.022548824739018, 0.4053807585208205, -0.40761135212598976, 0.7499089719721762, -0.5654299320552335, -1.1633044453417187, -0.8681796271541423, -2.9092295914484128, -0.9005417099015383, 0.9211926455003557, 0.5479235918234407, 0.3674219082707484, -0.7334914066505491, -0.19254775033259586, -0.14348719988088504, -2.329163688940016, 0.15057290599191409, 0.1237678929312007, 0.683541160275602, -0.5466460611187319, -0.04691790105302972, -0.30891159038861526, 0.7099401236493103, -0.002099768581509483, -0.41139758529350595, -0.5335970457156773, -1.30774488435812, -0.36710599583404435, -1.0930940248488794, 0.023844045404288774, 2.0924380613371363, 0.30331932358411845, 0.476086299481217, 1.384076360250985, 0.5766365706062448, 2.6165270527132005, 0.5821109662236247, -0.15557530418785975, -0.436490142585925, 0.22184656251316986, 0.15768753650025366, 0.48078788358232516, 0.6292641638456508, -0.692412043888579, -0.95302121836286, -1.2292609401152632, -0.2634772944023692, -0.7325543666146409, -0.7984410176142024, -0.1336532721123046, -0.6412326522647541, 1.054147966339015, -1.2572779777281884, -0.015239046068296734]}, {\"connectgaps\": false, \"fill\": \"tozeroy\", \"line\": {\"color\": \"green\", \"dash\": \"solid\", \"shape\": \"linear\", \"width\": 0.5}, \"mode\": \"lines\", \"name\": \"Spread\", \"showlegend\": false, \"type\": \"scatter\", \"x\": [0, 1, 2, 3, 4, 5, 6, 7, 8, 9, 10, 11, 12, 13, 14, 15, 16, 17, 18, 19, 20, 21, 22, 23, 24, 25, 26, 27, 28, 29, 30, 31, 32, 33, 34, 35, 36, 37, 38, 39, 40, 41, 42, 43, 44, 45, 46, 47, 48, 49, 50, 51, 52, 53, 54, 55, 56, 57, 58, 59, 60, 61, 62, 63, 64, 65, 66, 67, 68, 69, 70, 71, 72, 73, 74, 75, 76, 77, 78, 79, 80, 81, 82, 83, 84, 85, 86, 87, 88, 89, 90, 91, 92, 93, 94, 95, 96, 97, 98, 99], \"xaxis\": \"x2\", \"y\": [\"\", \"\", 0.3711002518981543, \"\", 1.0037896244500204, 2.8799607141151498, \"\", \"\", 1.3615417474378488, 1.5346865509147158, \"\", \"\", \"\", \"\", 1.1591882269951062, 1.146124616632758, 0.08487527859382482, \"\", 1.0336908956618074, 2.1090376744823076, \"\", \"\", 0.9638026412083276, \"\", 0.7860494914236179, \"\", \"\", \"\", 0.3268416920472998, 1.0879273887497527, 1.2040524505121333, \"\", \"\", \"\", 4.117295764354928, 0.12204792456843916, 0.5782840399105657, 1.3650686585664022, \"\", \"\", \"\", \"\", \"\", 0.38829140644598625, \"\", 2.1211361085144134, 1.5858146334965109, 0.01298115820612078, \"\", \"\", 1.4725424260181064, 1.2107824206061726, 1.7633479364740356, 2.596489804838096, 0.512017115933389, \"\", \"\", \"\", 0.4316063589847073, 0.5917308722314101, \"\", 4.4047221115811075, \"\", \"\", 0.7070216001893027, 1.6229913085954406, \"\", \"\", 2.186369307452944, 1.0005792127288635, 0.9477369897288419, 0.8335771672097562, 1.1033862787348476, \"\", 1.2620431323046608, \"\", \"\", 0.07595086281681007, \"\", \"\", \"\", \"\", \"\", 2.0452710306616195, 0.9900607796588627, \"\", \"\", 0.899098660292257, \"\", 0.7839975180821371, 2.8385586287297375, 0.94874337417922, 0.6241783211955927, 0.8389408923538557, 1.2390124835731362, 0.9485571597145986, 1.7351951590328771, \"\", 2.388756431029904, \"\"], \"yaxis\": \"y2\"}, {\"connectgaps\": false, \"fill\": \"tozeroy\", \"line\": {\"color\": \"red\", \"dash\": \"solid\", \"shape\": \"linear\", \"width\": 0.5}, \"mode\": \"lines\", \"name\": \"Spread\", \"showlegend\": false, \"type\": \"scatter\", \"x\": [0, 1, 2, 3, 4, 5, 6, 7, 8, 9, 10, 11, 12, 13, 14, 15, 16, 17, 18, 19, 20, 21, 22, 23, 24, 25, 26, 27, 28, 29, 30, 31, 32, 33, 34, 35, 36, 37, 38, 39, 40, 41, 42, 43, 44, 45, 46, 47, 48, 49, 50, 51, 52, 53, 54, 55, 56, 57, 58, 59, 60, 61, 62, 63, 64, 65, 66, 67, 68, 69, 70, 71, 72, 73, 74, 75, 76, 77, 78, 79, 80, 81, 82, 83, 84, 85, 86, 87, 88, 89, 90, 91, 92, 93, 94, 95, 96, 97, 98, 99], \"xaxis\": \"x2\", \"y\": [-1.5762998763984153, -1.0796944862302982, \"\", -0.8919615129189458, \"\", \"\", -0.1327138113334022, -1.127931209237497, \"\", \"\", -2.4933621095108474, -1.1484048053774616, -0.8188996330292426, -1.8602643221017119, \"\", \"\", \"\", -0.22249759160897264, \"\", \"\", -1.864489237836508, -1.3840328947789633, \"\", -0.30491716359619553, \"\", -0.21449832163633006, -0.655792843634551, -1.1923970988960928, \"\", \"\", \"\", -1.0518299779563582, -0.2994864464648497, -0.1054297365031579, \"\", \"\", \"\", \"\", -0.33438593588375787, -0.3758119970795622, -0.11447043351117148, -1.1832468661018796, -1.1585484253863447, \"\", -1.765500876758391, \"\", \"\", \"\", -0.5793705951851648, -0.28575139738191685, \"\", \"\", \"\", \"\", \"\", -1.1393411841992853, -0.47917373085983833, -2.4142330457743135, \"\", \"\", -0.818421898520435, \"\", -0.2879345639052937, -0.9855954397741358, \"\", \"\", -0.22552871512302847, -0.8275079927368967, \"\", \"\", \"\", \"\", \"\", -1.2205851957088492, \"\", -0.7788964436919649, -1.945844794505714, \"\", -0.8926384373192221, -0.7566548736880296, -0.8352723166636699, -2.5717598264823387, -1.0191425808858332, \"\", \"\", -1.3570911069662979, -0.900355244000067, \"\", -1.1856559942413416, \"\", \"\", \"\", \"\", \"\", \"\", \"\", \"\", -0.9991388626182749, \"\", -0.08429334222327488], \"yaxis\": \"y2\"}],\n",
       "                        {\"hovermode\": \"x\", \"legend\": {\"bgcolor\": \"#F5F6F9\", \"font\": {\"color\": \"#4D5663\"}}, \"paper_bgcolor\": \"#F5F6F9\", \"plot_bgcolor\": \"#F5F6F9\", \"template\": {\"data\": {\"bar\": [{\"error_x\": {\"color\": \"#2a3f5f\"}, \"error_y\": {\"color\": \"#2a3f5f\"}, \"marker\": {\"line\": {\"color\": \"#E5ECF6\", \"width\": 0.5}}, \"type\": \"bar\"}], \"barpolar\": [{\"marker\": {\"line\": {\"color\": \"#E5ECF6\", \"width\": 0.5}}, \"type\": \"barpolar\"}], \"carpet\": [{\"aaxis\": {\"endlinecolor\": \"#2a3f5f\", \"gridcolor\": \"white\", \"linecolor\": \"white\", \"minorgridcolor\": \"white\", \"startlinecolor\": \"#2a3f5f\"}, \"baxis\": {\"endlinecolor\": \"#2a3f5f\", \"gridcolor\": \"white\", \"linecolor\": \"white\", \"minorgridcolor\": \"white\", \"startlinecolor\": \"#2a3f5f\"}, \"type\": \"carpet\"}], \"choropleth\": [{\"colorbar\": {\"outlinewidth\": 0, \"ticks\": \"\"}, \"type\": \"choropleth\"}], \"contour\": [{\"colorbar\": {\"outlinewidth\": 0, \"ticks\": \"\"}, \"colorscale\": [[0.0, \"#0d0887\"], [0.1111111111111111, \"#46039f\"], [0.2222222222222222, \"#7201a8\"], [0.3333333333333333, \"#9c179e\"], [0.4444444444444444, \"#bd3786\"], [0.5555555555555556, \"#d8576b\"], [0.6666666666666666, \"#ed7953\"], [0.7777777777777778, \"#fb9f3a\"], [0.8888888888888888, \"#fdca26\"], [1.0, \"#f0f921\"]], \"type\": \"contour\"}], \"contourcarpet\": [{\"colorbar\": {\"outlinewidth\": 0, \"ticks\": \"\"}, \"type\": \"contourcarpet\"}], \"heatmap\": [{\"colorbar\": {\"outlinewidth\": 0, \"ticks\": \"\"}, \"colorscale\": [[0.0, \"#0d0887\"], [0.1111111111111111, \"#46039f\"], [0.2222222222222222, \"#7201a8\"], [0.3333333333333333, \"#9c179e\"], [0.4444444444444444, \"#bd3786\"], [0.5555555555555556, \"#d8576b\"], [0.6666666666666666, \"#ed7953\"], [0.7777777777777778, \"#fb9f3a\"], [0.8888888888888888, \"#fdca26\"], [1.0, \"#f0f921\"]], \"type\": \"heatmap\"}], \"heatmapgl\": [{\"colorbar\": {\"outlinewidth\": 0, \"ticks\": \"\"}, \"colorscale\": [[0.0, \"#0d0887\"], [0.1111111111111111, \"#46039f\"], [0.2222222222222222, \"#7201a8\"], [0.3333333333333333, \"#9c179e\"], [0.4444444444444444, \"#bd3786\"], [0.5555555555555556, \"#d8576b\"], [0.6666666666666666, \"#ed7953\"], [0.7777777777777778, \"#fb9f3a\"], [0.8888888888888888, \"#fdca26\"], [1.0, \"#f0f921\"]], \"type\": \"heatmapgl\"}], \"histogram\": [{\"marker\": {\"colorbar\": {\"outlinewidth\": 0, \"ticks\": \"\"}}, \"type\": \"histogram\"}], \"histogram2d\": [{\"colorbar\": {\"outlinewidth\": 0, \"ticks\": \"\"}, \"colorscale\": [[0.0, \"#0d0887\"], [0.1111111111111111, \"#46039f\"], [0.2222222222222222, \"#7201a8\"], [0.3333333333333333, \"#9c179e\"], [0.4444444444444444, \"#bd3786\"], [0.5555555555555556, \"#d8576b\"], [0.6666666666666666, \"#ed7953\"], [0.7777777777777778, \"#fb9f3a\"], [0.8888888888888888, \"#fdca26\"], [1.0, \"#f0f921\"]], \"type\": \"histogram2d\"}], \"histogram2dcontour\": [{\"colorbar\": {\"outlinewidth\": 0, \"ticks\": \"\"}, \"colorscale\": [[0.0, \"#0d0887\"], [0.1111111111111111, \"#46039f\"], [0.2222222222222222, \"#7201a8\"], [0.3333333333333333, \"#9c179e\"], [0.4444444444444444, \"#bd3786\"], [0.5555555555555556, \"#d8576b\"], [0.6666666666666666, \"#ed7953\"], [0.7777777777777778, \"#fb9f3a\"], [0.8888888888888888, \"#fdca26\"], [1.0, \"#f0f921\"]], \"type\": \"histogram2dcontour\"}], \"mesh3d\": [{\"colorbar\": {\"outlinewidth\": 0, \"ticks\": \"\"}, \"type\": \"mesh3d\"}], \"parcoords\": [{\"line\": {\"colorbar\": {\"outlinewidth\": 0, \"ticks\": \"\"}}, \"type\": \"parcoords\"}], \"pie\": [{\"automargin\": true, \"type\": \"pie\"}], \"scatter\": [{\"marker\": {\"colorbar\": {\"outlinewidth\": 0, \"ticks\": \"\"}}, \"type\": \"scatter\"}], \"scatter3d\": [{\"line\": {\"colorbar\": {\"outlinewidth\": 0, \"ticks\": \"\"}}, \"marker\": {\"colorbar\": {\"outlinewidth\": 0, \"ticks\": \"\"}}, \"type\": \"scatter3d\"}], \"scattercarpet\": [{\"marker\": {\"colorbar\": {\"outlinewidth\": 0, \"ticks\": \"\"}}, \"type\": \"scattercarpet\"}], \"scattergeo\": [{\"marker\": {\"colorbar\": {\"outlinewidth\": 0, \"ticks\": \"\"}}, \"type\": \"scattergeo\"}], \"scattergl\": [{\"marker\": {\"colorbar\": {\"outlinewidth\": 0, \"ticks\": \"\"}}, \"type\": \"scattergl\"}], \"scattermapbox\": [{\"marker\": {\"colorbar\": {\"outlinewidth\": 0, \"ticks\": \"\"}}, \"type\": \"scattermapbox\"}], \"scatterpolar\": [{\"marker\": {\"colorbar\": {\"outlinewidth\": 0, \"ticks\": \"\"}}, \"type\": \"scatterpolar\"}], \"scatterpolargl\": [{\"marker\": {\"colorbar\": {\"outlinewidth\": 0, \"ticks\": \"\"}}, \"type\": \"scatterpolargl\"}], \"scatterternary\": [{\"marker\": {\"colorbar\": {\"outlinewidth\": 0, \"ticks\": \"\"}}, \"type\": \"scatterternary\"}], \"surface\": [{\"colorbar\": {\"outlinewidth\": 0, \"ticks\": \"\"}, \"colorscale\": [[0.0, \"#0d0887\"], [0.1111111111111111, \"#46039f\"], [0.2222222222222222, \"#7201a8\"], [0.3333333333333333, \"#9c179e\"], [0.4444444444444444, \"#bd3786\"], [0.5555555555555556, \"#d8576b\"], [0.6666666666666666, \"#ed7953\"], [0.7777777777777778, \"#fb9f3a\"], [0.8888888888888888, \"#fdca26\"], [1.0, \"#f0f921\"]], \"type\": \"surface\"}], \"table\": [{\"cells\": {\"fill\": {\"color\": \"#EBF0F8\"}, \"line\": {\"color\": \"white\"}}, \"header\": {\"fill\": {\"color\": \"#C8D4E3\"}, \"line\": {\"color\": \"white\"}}, \"type\": \"table\"}]}, \"layout\": {\"annotationdefaults\": {\"arrowcolor\": \"#2a3f5f\", \"arrowhead\": 0, \"arrowwidth\": 1}, \"coloraxis\": {\"colorbar\": {\"outlinewidth\": 0, \"ticks\": \"\"}}, \"colorscale\": {\"diverging\": [[0, \"#8e0152\"], [0.1, \"#c51b7d\"], [0.2, \"#de77ae\"], [0.3, \"#f1b6da\"], [0.4, \"#fde0ef\"], [0.5, \"#f7f7f7\"], [0.6, \"#e6f5d0\"], [0.7, \"#b8e186\"], [0.8, \"#7fbc41\"], [0.9, \"#4d9221\"], [1, \"#276419\"]], \"sequential\": [[0.0, \"#0d0887\"], [0.1111111111111111, \"#46039f\"], [0.2222222222222222, \"#7201a8\"], [0.3333333333333333, \"#9c179e\"], [0.4444444444444444, \"#bd3786\"], [0.5555555555555556, \"#d8576b\"], [0.6666666666666666, \"#ed7953\"], [0.7777777777777778, \"#fb9f3a\"], [0.8888888888888888, \"#fdca26\"], [1.0, \"#f0f921\"]], \"sequentialminus\": [[0.0, \"#0d0887\"], [0.1111111111111111, \"#46039f\"], [0.2222222222222222, \"#7201a8\"], [0.3333333333333333, \"#9c179e\"], [0.4444444444444444, \"#bd3786\"], [0.5555555555555556, \"#d8576b\"], [0.6666666666666666, \"#ed7953\"], [0.7777777777777778, \"#fb9f3a\"], [0.8888888888888888, \"#fdca26\"], [1.0, \"#f0f921\"]]}, \"colorway\": [\"#636efa\", \"#EF553B\", \"#00cc96\", \"#ab63fa\", \"#FFA15A\", \"#19d3f3\", \"#FF6692\", \"#B6E880\", \"#FF97FF\", \"#FECB52\"], \"font\": {\"color\": \"#2a3f5f\"}, \"geo\": {\"bgcolor\": \"white\", \"lakecolor\": \"white\", \"landcolor\": \"#E5ECF6\", \"showlakes\": true, \"showland\": true, \"subunitcolor\": \"white\"}, \"hoverlabel\": {\"align\": \"left\"}, \"hovermode\": \"closest\", \"mapbox\": {\"style\": \"light\"}, \"paper_bgcolor\": \"white\", \"plot_bgcolor\": \"#E5ECF6\", \"polar\": {\"angularaxis\": {\"gridcolor\": \"white\", \"linecolor\": \"white\", \"ticks\": \"\"}, \"bgcolor\": \"#E5ECF6\", \"radialaxis\": {\"gridcolor\": \"white\", \"linecolor\": \"white\", \"ticks\": \"\"}}, \"scene\": {\"xaxis\": {\"backgroundcolor\": \"#E5ECF6\", \"gridcolor\": \"white\", \"gridwidth\": 2, \"linecolor\": \"white\", \"showbackground\": true, \"ticks\": \"\", \"zerolinecolor\": \"white\"}, \"yaxis\": {\"backgroundcolor\": \"#E5ECF6\", \"gridcolor\": \"white\", \"gridwidth\": 2, \"linecolor\": \"white\", \"showbackground\": true, \"ticks\": \"\", \"zerolinecolor\": \"white\"}, \"zaxis\": {\"backgroundcolor\": \"#E5ECF6\", \"gridcolor\": \"white\", \"gridwidth\": 2, \"linecolor\": \"white\", \"showbackground\": true, \"ticks\": \"\", \"zerolinecolor\": \"white\"}}, \"shapedefaults\": {\"line\": {\"color\": \"#2a3f5f\"}}, \"ternary\": {\"aaxis\": {\"gridcolor\": \"white\", \"linecolor\": \"white\", \"ticks\": \"\"}, \"baxis\": {\"gridcolor\": \"white\", \"linecolor\": \"white\", \"ticks\": \"\"}, \"bgcolor\": \"#E5ECF6\", \"caxis\": {\"gridcolor\": \"white\", \"linecolor\": \"white\", \"ticks\": \"\"}}, \"title\": {\"x\": 0.05}, \"xaxis\": {\"automargin\": true, \"gridcolor\": \"white\", \"linecolor\": \"white\", \"ticks\": \"\", \"title\": {\"standoff\": 15}, \"zerolinecolor\": \"white\", \"zerolinewidth\": 2}, \"yaxis\": {\"automargin\": true, \"gridcolor\": \"white\", \"linecolor\": \"white\", \"ticks\": \"\", \"title\": {\"standoff\": 15}, \"zerolinecolor\": \"white\", \"zerolinewidth\": 2}}}, \"title\": {\"font\": {\"color\": \"#4D5663\"}}, \"xaxis\": {\"gridcolor\": \"#E1E5ED\", \"showgrid\": true, \"tickfont\": {\"color\": \"#4D5663\"}, \"title\": {\"font\": {\"color\": \"#4D5663\"}, \"text\": \"\"}, \"zerolinecolor\": \"#E1E5ED\"}, \"xaxis2\": {\"anchor\": \"y2\", \"gridcolor\": \"#E1E5ED\", \"showgrid\": true, \"showticklabels\": false, \"tickfont\": {\"color\": \"#4D5663\"}, \"title\": {\"font\": {\"color\": \"#4D5663\"}, \"text\": \"\"}, \"zerolinecolor\": \"#E1E5ED\"}, \"yaxis\": {\"domain\": [0.3, 1], \"gridcolor\": \"#E1E5ED\", \"showgrid\": true, \"tickfont\": {\"color\": \"#4D5663\"}, \"title\": {\"font\": {\"color\": \"#4D5663\"}, \"text\": \"\"}, \"zerolinecolor\": \"#E1E5ED\"}, \"yaxis2\": {\"domain\": [0, 0.25], \"gridcolor\": \"#E1E5ED\", \"showgrid\": true, \"tickfont\": {\"color\": \"#4D5663\"}, \"title\": {\"font\": {\"color\": \"#4D5663\"}, \"text\": \"Spread\"}, \"zerolinecolor\": \"#E1E5ED\"}},\n",
       "                        {\"showLink\": true, \"linkText\": \"Export to plot.ly\", \"plotlyServerURL\": \"https://plot.ly\", \"responsive\": true}\n",
       "                    ).then(function(){\n",
       "                            \n",
       "var gd = document.getElementById('d2069057-6bbd-4ba7-a30f-01fa60097630');\n",
       "var x = new MutationObserver(function (mutations, observer) {{\n",
       "        var display = window.getComputedStyle(gd).display;\n",
       "        if (!display || display === 'none') {{\n",
       "            console.log([gd, 'removed!']);\n",
       "            Plotly.purge(gd);\n",
       "            observer.disconnect();\n",
       "        }}\n",
       "}});\n",
       "\n",
       "// Listen for the removal of the full notebook cells\n",
       "var notebookContainer = gd.closest('#notebook-container');\n",
       "if (notebookContainer) {{\n",
       "    x.observe(notebookContainer, {childList: true});\n",
       "}}\n",
       "\n",
       "// Listen for the clearing of the current output cell\n",
       "var outputEl = gd.closest('.output');\n",
       "if (outputEl) {{\n",
       "    x.observe(outputEl, {childList: true});\n",
       "}}\n",
       "\n",
       "                        })\n",
       "                };\n",
       "                });\n",
       "            </script>\n",
       "        </div>"
      ]
     },
     "metadata": {},
     "output_type": "display_data"
    }
   ],
   "source": [
    "df[['A','B']].iplot(kind='spread')"
   ]
  },
  {
   "cell_type": "markdown",
   "metadata": {},
   "source": [
    "## histogram"
   ]
  },
  {
   "cell_type": "code",
   "execution_count": 16,
   "metadata": {},
   "outputs": [
    {
     "data": {
      "application/vnd.plotly.v1+json": {
       "config": {
        "linkText": "Export to plot.ly",
        "plotlyServerURL": "https://plot.ly",
        "showLink": true
       },
       "data": [
        {
         "histfunc": "count",
         "histnorm": "",
         "marker": {
          "color": "rgba(255, 153, 51, 1.0)",
          "line": {
           "color": "#4D5663",
           "width": 1.3
          }
         },
         "name": "A",
         "nbinsx": 25,
         "opacity": 0.8,
         "orientation": "v",
         "type": "histogram",
         "x": [
          -1.471246046471575,
          -0.6085271820559668,
          -1.1482532192046846,
          0.2627438693214284,
          2.0836070829778217,
          1.5631875324236681,
          0.5808382512677437,
          0.100140196384491,
          1.2262718460695798,
          0.8121590295001305,
          -1.638410297853008,
          -1.3542858701443743,
          -0.8859356006558017,
          -0.2117872482653646,
          1.52205049796379,
          1.2017578197554064,
          0.7102810124642632,
          -0.23545767256803746,
          -1.0956352495534225,
          1.6932444882864444,
          -1.1138532343497123,
          -1.5238659046060548,
          0.3737582919650709,
          0.3995610667193977,
          0.9849517979430037,
          -0.41286182514316994,
          0.22013798773369625,
          -0.9940274726090388,
          0.6053300034368934,
          -0.08150224288687338,
          1.530830559698258,
          -0.6660168670760243,
          0.2476162288080035,
          -0.4201157591879683,
          2.513732444208068,
          0.18748712307755722,
          0.7718010241028777,
          -1.0216987493095346,
          0.7359898582102234,
          0.3394424646684741,
          -0.9547001300086784,
          0.26062793395402895,
          0.0012388939276021182,
          -0.7212270021450119,
          -0.15919309376546367,
          1.036045290051301,
          -0.4367341912425072,
          0.4183619167269413,
          -0.9869819473111545,
          0.46415757459025936,
          0.907112493962873,
          0.04747797526445393,
          0.8951683093198934,
          -0.31273978661031654,
          -0.38852459396814915,
          -0.21814853869892967,
          0.06874986096360242,
          -2.046811137503565,
          -0.30188504766584184,
          0.3991831218988143,
          -0.9619090984013201,
          2.0755584226410915,
          -0.13736165791337965,
          -0.861827546842935,
          1.3905627604649047,
          1.0763452474767086,
          -0.2724466161760582,
          -1.136419583125512,
          2.8963094311022544,
          0.998479444147354,
          0.5363394044353359,
          0.2999801214940788,
          -0.20435860562327238,
          -1.5876911915428935,
          0.1689491074557813,
          -0.7550523982876761,
          0.14659326683142235,
          0.3792701864009285,
          -0.4165521378380051,
          0.6274214865629553,
          -0.258635746057425,
          0.04476722623086181,
          -0.43703161466220863,
          1.88969572647376,
          0.5535706370729377,
          -1.135244544453128,
          -0.7426677074998133,
          1.3798865438745822,
          -0.5563918303956908,
          0.09158547419355814,
          1.8855374103668776,
          -0.2805175659360432,
          0.36070102679322347,
          0.10638652573921481,
          0.44057146595893387,
          0.814903887602294,
          1.0939625067681231,
          0.05500910372074003,
          1.1314784533017157,
          -0.09953238829157161
         ]
        }
       ],
       "layout": {
        "barmode": "overlay",
        "legend": {
         "bgcolor": "#F5F6F9",
         "font": {
          "color": "#4D5663"
         }
        },
        "paper_bgcolor": "#F5F6F9",
        "plot_bgcolor": "#F5F6F9",
        "template": {
         "data": {
          "bar": [
           {
            "error_x": {
             "color": "#2a3f5f"
            },
            "error_y": {
             "color": "#2a3f5f"
            },
            "marker": {
             "line": {
              "color": "#E5ECF6",
              "width": 0.5
             }
            },
            "type": "bar"
           }
          ],
          "barpolar": [
           {
            "marker": {
             "line": {
              "color": "#E5ECF6",
              "width": 0.5
             }
            },
            "type": "barpolar"
           }
          ],
          "carpet": [
           {
            "aaxis": {
             "endlinecolor": "#2a3f5f",
             "gridcolor": "white",
             "linecolor": "white",
             "minorgridcolor": "white",
             "startlinecolor": "#2a3f5f"
            },
            "baxis": {
             "endlinecolor": "#2a3f5f",
             "gridcolor": "white",
             "linecolor": "white",
             "minorgridcolor": "white",
             "startlinecolor": "#2a3f5f"
            },
            "type": "carpet"
           }
          ],
          "choropleth": [
           {
            "colorbar": {
             "outlinewidth": 0,
             "ticks": ""
            },
            "type": "choropleth"
           }
          ],
          "contour": [
           {
            "colorbar": {
             "outlinewidth": 0,
             "ticks": ""
            },
            "colorscale": [
             [
              0,
              "#0d0887"
             ],
             [
              0.1111111111111111,
              "#46039f"
             ],
             [
              0.2222222222222222,
              "#7201a8"
             ],
             [
              0.3333333333333333,
              "#9c179e"
             ],
             [
              0.4444444444444444,
              "#bd3786"
             ],
             [
              0.5555555555555556,
              "#d8576b"
             ],
             [
              0.6666666666666666,
              "#ed7953"
             ],
             [
              0.7777777777777778,
              "#fb9f3a"
             ],
             [
              0.8888888888888888,
              "#fdca26"
             ],
             [
              1,
              "#f0f921"
             ]
            ],
            "type": "contour"
           }
          ],
          "contourcarpet": [
           {
            "colorbar": {
             "outlinewidth": 0,
             "ticks": ""
            },
            "type": "contourcarpet"
           }
          ],
          "heatmap": [
           {
            "colorbar": {
             "outlinewidth": 0,
             "ticks": ""
            },
            "colorscale": [
             [
              0,
              "#0d0887"
             ],
             [
              0.1111111111111111,
              "#46039f"
             ],
             [
              0.2222222222222222,
              "#7201a8"
             ],
             [
              0.3333333333333333,
              "#9c179e"
             ],
             [
              0.4444444444444444,
              "#bd3786"
             ],
             [
              0.5555555555555556,
              "#d8576b"
             ],
             [
              0.6666666666666666,
              "#ed7953"
             ],
             [
              0.7777777777777778,
              "#fb9f3a"
             ],
             [
              0.8888888888888888,
              "#fdca26"
             ],
             [
              1,
              "#f0f921"
             ]
            ],
            "type": "heatmap"
           }
          ],
          "heatmapgl": [
           {
            "colorbar": {
             "outlinewidth": 0,
             "ticks": ""
            },
            "colorscale": [
             [
              0,
              "#0d0887"
             ],
             [
              0.1111111111111111,
              "#46039f"
             ],
             [
              0.2222222222222222,
              "#7201a8"
             ],
             [
              0.3333333333333333,
              "#9c179e"
             ],
             [
              0.4444444444444444,
              "#bd3786"
             ],
             [
              0.5555555555555556,
              "#d8576b"
             ],
             [
              0.6666666666666666,
              "#ed7953"
             ],
             [
              0.7777777777777778,
              "#fb9f3a"
             ],
             [
              0.8888888888888888,
              "#fdca26"
             ],
             [
              1,
              "#f0f921"
             ]
            ],
            "type": "heatmapgl"
           }
          ],
          "histogram": [
           {
            "marker": {
             "colorbar": {
              "outlinewidth": 0,
              "ticks": ""
             }
            },
            "type": "histogram"
           }
          ],
          "histogram2d": [
           {
            "colorbar": {
             "outlinewidth": 0,
             "ticks": ""
            },
            "colorscale": [
             [
              0,
              "#0d0887"
             ],
             [
              0.1111111111111111,
              "#46039f"
             ],
             [
              0.2222222222222222,
              "#7201a8"
             ],
             [
              0.3333333333333333,
              "#9c179e"
             ],
             [
              0.4444444444444444,
              "#bd3786"
             ],
             [
              0.5555555555555556,
              "#d8576b"
             ],
             [
              0.6666666666666666,
              "#ed7953"
             ],
             [
              0.7777777777777778,
              "#fb9f3a"
             ],
             [
              0.8888888888888888,
              "#fdca26"
             ],
             [
              1,
              "#f0f921"
             ]
            ],
            "type": "histogram2d"
           }
          ],
          "histogram2dcontour": [
           {
            "colorbar": {
             "outlinewidth": 0,
             "ticks": ""
            },
            "colorscale": [
             [
              0,
              "#0d0887"
             ],
             [
              0.1111111111111111,
              "#46039f"
             ],
             [
              0.2222222222222222,
              "#7201a8"
             ],
             [
              0.3333333333333333,
              "#9c179e"
             ],
             [
              0.4444444444444444,
              "#bd3786"
             ],
             [
              0.5555555555555556,
              "#d8576b"
             ],
             [
              0.6666666666666666,
              "#ed7953"
             ],
             [
              0.7777777777777778,
              "#fb9f3a"
             ],
             [
              0.8888888888888888,
              "#fdca26"
             ],
             [
              1,
              "#f0f921"
             ]
            ],
            "type": "histogram2dcontour"
           }
          ],
          "mesh3d": [
           {
            "colorbar": {
             "outlinewidth": 0,
             "ticks": ""
            },
            "type": "mesh3d"
           }
          ],
          "parcoords": [
           {
            "line": {
             "colorbar": {
              "outlinewidth": 0,
              "ticks": ""
             }
            },
            "type": "parcoords"
           }
          ],
          "pie": [
           {
            "automargin": true,
            "type": "pie"
           }
          ],
          "scatter": [
           {
            "marker": {
             "colorbar": {
              "outlinewidth": 0,
              "ticks": ""
             }
            },
            "type": "scatter"
           }
          ],
          "scatter3d": [
           {
            "line": {
             "colorbar": {
              "outlinewidth": 0,
              "ticks": ""
             }
            },
            "marker": {
             "colorbar": {
              "outlinewidth": 0,
              "ticks": ""
             }
            },
            "type": "scatter3d"
           }
          ],
          "scattercarpet": [
           {
            "marker": {
             "colorbar": {
              "outlinewidth": 0,
              "ticks": ""
             }
            },
            "type": "scattercarpet"
           }
          ],
          "scattergeo": [
           {
            "marker": {
             "colorbar": {
              "outlinewidth": 0,
              "ticks": ""
             }
            },
            "type": "scattergeo"
           }
          ],
          "scattergl": [
           {
            "marker": {
             "colorbar": {
              "outlinewidth": 0,
              "ticks": ""
             }
            },
            "type": "scattergl"
           }
          ],
          "scattermapbox": [
           {
            "marker": {
             "colorbar": {
              "outlinewidth": 0,
              "ticks": ""
             }
            },
            "type": "scattermapbox"
           }
          ],
          "scatterpolar": [
           {
            "marker": {
             "colorbar": {
              "outlinewidth": 0,
              "ticks": ""
             }
            },
            "type": "scatterpolar"
           }
          ],
          "scatterpolargl": [
           {
            "marker": {
             "colorbar": {
              "outlinewidth": 0,
              "ticks": ""
             }
            },
            "type": "scatterpolargl"
           }
          ],
          "scatterternary": [
           {
            "marker": {
             "colorbar": {
              "outlinewidth": 0,
              "ticks": ""
             }
            },
            "type": "scatterternary"
           }
          ],
          "surface": [
           {
            "colorbar": {
             "outlinewidth": 0,
             "ticks": ""
            },
            "colorscale": [
             [
              0,
              "#0d0887"
             ],
             [
              0.1111111111111111,
              "#46039f"
             ],
             [
              0.2222222222222222,
              "#7201a8"
             ],
             [
              0.3333333333333333,
              "#9c179e"
             ],
             [
              0.4444444444444444,
              "#bd3786"
             ],
             [
              0.5555555555555556,
              "#d8576b"
             ],
             [
              0.6666666666666666,
              "#ed7953"
             ],
             [
              0.7777777777777778,
              "#fb9f3a"
             ],
             [
              0.8888888888888888,
              "#fdca26"
             ],
             [
              1,
              "#f0f921"
             ]
            ],
            "type": "surface"
           }
          ],
          "table": [
           {
            "cells": {
             "fill": {
              "color": "#EBF0F8"
             },
             "line": {
              "color": "white"
             }
            },
            "header": {
             "fill": {
              "color": "#C8D4E3"
             },
             "line": {
              "color": "white"
             }
            },
            "type": "table"
           }
          ]
         },
         "layout": {
          "annotationdefaults": {
           "arrowcolor": "#2a3f5f",
           "arrowhead": 0,
           "arrowwidth": 1
          },
          "coloraxis": {
           "colorbar": {
            "outlinewidth": 0,
            "ticks": ""
           }
          },
          "colorscale": {
           "diverging": [
            [
             0,
             "#8e0152"
            ],
            [
             0.1,
             "#c51b7d"
            ],
            [
             0.2,
             "#de77ae"
            ],
            [
             0.3,
             "#f1b6da"
            ],
            [
             0.4,
             "#fde0ef"
            ],
            [
             0.5,
             "#f7f7f7"
            ],
            [
             0.6,
             "#e6f5d0"
            ],
            [
             0.7,
             "#b8e186"
            ],
            [
             0.8,
             "#7fbc41"
            ],
            [
             0.9,
             "#4d9221"
            ],
            [
             1,
             "#276419"
            ]
           ],
           "sequential": [
            [
             0,
             "#0d0887"
            ],
            [
             0.1111111111111111,
             "#46039f"
            ],
            [
             0.2222222222222222,
             "#7201a8"
            ],
            [
             0.3333333333333333,
             "#9c179e"
            ],
            [
             0.4444444444444444,
             "#bd3786"
            ],
            [
             0.5555555555555556,
             "#d8576b"
            ],
            [
             0.6666666666666666,
             "#ed7953"
            ],
            [
             0.7777777777777778,
             "#fb9f3a"
            ],
            [
             0.8888888888888888,
             "#fdca26"
            ],
            [
             1,
             "#f0f921"
            ]
           ],
           "sequentialminus": [
            [
             0,
             "#0d0887"
            ],
            [
             0.1111111111111111,
             "#46039f"
            ],
            [
             0.2222222222222222,
             "#7201a8"
            ],
            [
             0.3333333333333333,
             "#9c179e"
            ],
            [
             0.4444444444444444,
             "#bd3786"
            ],
            [
             0.5555555555555556,
             "#d8576b"
            ],
            [
             0.6666666666666666,
             "#ed7953"
            ],
            [
             0.7777777777777778,
             "#fb9f3a"
            ],
            [
             0.8888888888888888,
             "#fdca26"
            ],
            [
             1,
             "#f0f921"
            ]
           ]
          },
          "colorway": [
           "#636efa",
           "#EF553B",
           "#00cc96",
           "#ab63fa",
           "#FFA15A",
           "#19d3f3",
           "#FF6692",
           "#B6E880",
           "#FF97FF",
           "#FECB52"
          ],
          "font": {
           "color": "#2a3f5f"
          },
          "geo": {
           "bgcolor": "white",
           "lakecolor": "white",
           "landcolor": "#E5ECF6",
           "showlakes": true,
           "showland": true,
           "subunitcolor": "white"
          },
          "hoverlabel": {
           "align": "left"
          },
          "hovermode": "closest",
          "mapbox": {
           "style": "light"
          },
          "paper_bgcolor": "white",
          "plot_bgcolor": "#E5ECF6",
          "polar": {
           "angularaxis": {
            "gridcolor": "white",
            "linecolor": "white",
            "ticks": ""
           },
           "bgcolor": "#E5ECF6",
           "radialaxis": {
            "gridcolor": "white",
            "linecolor": "white",
            "ticks": ""
           }
          },
          "scene": {
           "xaxis": {
            "backgroundcolor": "#E5ECF6",
            "gridcolor": "white",
            "gridwidth": 2,
            "linecolor": "white",
            "showbackground": true,
            "ticks": "",
            "zerolinecolor": "white"
           },
           "yaxis": {
            "backgroundcolor": "#E5ECF6",
            "gridcolor": "white",
            "gridwidth": 2,
            "linecolor": "white",
            "showbackground": true,
            "ticks": "",
            "zerolinecolor": "white"
           },
           "zaxis": {
            "backgroundcolor": "#E5ECF6",
            "gridcolor": "white",
            "gridwidth": 2,
            "linecolor": "white",
            "showbackground": true,
            "ticks": "",
            "zerolinecolor": "white"
           }
          },
          "shapedefaults": {
           "line": {
            "color": "#2a3f5f"
           }
          },
          "ternary": {
           "aaxis": {
            "gridcolor": "white",
            "linecolor": "white",
            "ticks": ""
           },
           "baxis": {
            "gridcolor": "white",
            "linecolor": "white",
            "ticks": ""
           },
           "bgcolor": "#E5ECF6",
           "caxis": {
            "gridcolor": "white",
            "linecolor": "white",
            "ticks": ""
           }
          },
          "title": {
           "x": 0.05
          },
          "xaxis": {
           "automargin": true,
           "gridcolor": "white",
           "linecolor": "white",
           "ticks": "",
           "title": {
            "standoff": 15
           },
           "zerolinecolor": "white",
           "zerolinewidth": 2
          },
          "yaxis": {
           "automargin": true,
           "gridcolor": "white",
           "linecolor": "white",
           "ticks": "",
           "title": {
            "standoff": 15
           },
           "zerolinecolor": "white",
           "zerolinewidth": 2
          }
         }
        },
        "title": {
         "font": {
          "color": "#4D5663"
         }
        },
        "xaxis": {
         "gridcolor": "#E1E5ED",
         "showgrid": true,
         "tickfont": {
          "color": "#4D5663"
         },
         "title": {
          "font": {
           "color": "#4D5663"
          },
          "text": ""
         },
         "zerolinecolor": "#E1E5ED"
        },
        "yaxis": {
         "gridcolor": "#E1E5ED",
         "showgrid": true,
         "tickfont": {
          "color": "#4D5663"
         },
         "title": {
          "font": {
           "color": "#4D5663"
          },
          "text": ""
         },
         "zerolinecolor": "#E1E5ED"
        }
       }
      },
      "text/html": [
       "<div>\n",
       "        \n",
       "        \n",
       "            <div id=\"e3adcd88-d235-4d12-b71a-6a80d5620e16\" class=\"plotly-graph-div\" style=\"height:525px; width:100%;\"></div>\n",
       "            <script type=\"text/javascript\">\n",
       "                require([\"plotly\"], function(Plotly) {\n",
       "                    window.PLOTLYENV=window.PLOTLYENV || {};\n",
       "                    window.PLOTLYENV.BASE_URL='https://plot.ly';\n",
       "                    \n",
       "                if (document.getElementById(\"e3adcd88-d235-4d12-b71a-6a80d5620e16\")) {\n",
       "                    Plotly.newPlot(\n",
       "                        'e3adcd88-d235-4d12-b71a-6a80d5620e16',\n",
       "                        [{\"histfunc\": \"count\", \"histnorm\": \"\", \"marker\": {\"color\": \"rgba(255, 153, 51, 1.0)\", \"line\": {\"color\": \"#4D5663\", \"width\": 1.3}}, \"name\": \"A\", \"nbinsx\": 25, \"opacity\": 0.8, \"orientation\": \"v\", \"type\": \"histogram\", \"x\": [-1.471246046471575, -0.6085271820559668, -1.1482532192046846, 0.2627438693214284, 2.0836070829778217, 1.5631875324236681, 0.5808382512677437, 0.100140196384491, 1.2262718460695798, 0.8121590295001305, -1.638410297853008, -1.3542858701443743, -0.8859356006558017, -0.2117872482653646, 1.52205049796379, 1.2017578197554064, 0.7102810124642632, -0.23545767256803746, -1.0956352495534225, 1.6932444882864444, -1.1138532343497123, -1.5238659046060548, 0.3737582919650709, 0.3995610667193977, 0.9849517979430037, -0.41286182514316994, 0.22013798773369625, -0.9940274726090388, 0.6053300034368934, -0.08150224288687338, 1.530830559698258, -0.6660168670760243, 0.2476162288080035, -0.4201157591879683, 2.513732444208068, 0.18748712307755722, 0.7718010241028777, -1.0216987493095346, 0.7359898582102234, 0.3394424646684741, -0.9547001300086784, 0.26062793395402895, 0.0012388939276021182, -0.7212270021450119, -0.15919309376546367, 1.036045290051301, -0.4367341912425072, 0.4183619167269413, -0.9869819473111545, 0.46415757459025936, 0.907112493962873, 0.04747797526445393, 0.8951683093198934, -0.31273978661031654, -0.38852459396814915, -0.21814853869892967, 0.06874986096360242, -2.046811137503565, -0.30188504766584184, 0.3991831218988143, -0.9619090984013201, 2.0755584226410915, -0.13736165791337965, -0.861827546842935, 1.3905627604649047, 1.0763452474767086, -0.2724466161760582, -1.136419583125512, 2.8963094311022544, 0.998479444147354, 0.5363394044353359, 0.2999801214940788, -0.20435860562327238, -1.5876911915428935, 0.1689491074557813, -0.7550523982876761, 0.14659326683142235, 0.3792701864009285, -0.4165521378380051, 0.6274214865629553, -0.258635746057425, 0.04476722623086181, -0.43703161466220863, 1.88969572647376, 0.5535706370729377, -1.135244544453128, -0.7426677074998133, 1.3798865438745822, -0.5563918303956908, 0.09158547419355814, 1.8855374103668776, -0.2805175659360432, 0.36070102679322347, 0.10638652573921481, 0.44057146595893387, 0.814903887602294, 1.0939625067681231, 0.05500910372074003, 1.1314784533017157, -0.09953238829157161]}],\n",
       "                        {\"barmode\": \"overlay\", \"legend\": {\"bgcolor\": \"#F5F6F9\", \"font\": {\"color\": \"#4D5663\"}}, \"paper_bgcolor\": \"#F5F6F9\", \"plot_bgcolor\": \"#F5F6F9\", \"template\": {\"data\": {\"bar\": [{\"error_x\": {\"color\": \"#2a3f5f\"}, \"error_y\": {\"color\": \"#2a3f5f\"}, \"marker\": {\"line\": {\"color\": \"#E5ECF6\", \"width\": 0.5}}, \"type\": \"bar\"}], \"barpolar\": [{\"marker\": {\"line\": {\"color\": \"#E5ECF6\", \"width\": 0.5}}, \"type\": \"barpolar\"}], \"carpet\": [{\"aaxis\": {\"endlinecolor\": \"#2a3f5f\", \"gridcolor\": \"white\", \"linecolor\": \"white\", \"minorgridcolor\": \"white\", \"startlinecolor\": \"#2a3f5f\"}, \"baxis\": {\"endlinecolor\": \"#2a3f5f\", \"gridcolor\": \"white\", \"linecolor\": \"white\", \"minorgridcolor\": \"white\", \"startlinecolor\": \"#2a3f5f\"}, \"type\": \"carpet\"}], \"choropleth\": [{\"colorbar\": {\"outlinewidth\": 0, \"ticks\": \"\"}, \"type\": \"choropleth\"}], \"contour\": [{\"colorbar\": {\"outlinewidth\": 0, \"ticks\": \"\"}, \"colorscale\": [[0.0, \"#0d0887\"], [0.1111111111111111, \"#46039f\"], [0.2222222222222222, \"#7201a8\"], [0.3333333333333333, \"#9c179e\"], [0.4444444444444444, \"#bd3786\"], [0.5555555555555556, \"#d8576b\"], [0.6666666666666666, \"#ed7953\"], [0.7777777777777778, \"#fb9f3a\"], [0.8888888888888888, \"#fdca26\"], [1.0, \"#f0f921\"]], \"type\": \"contour\"}], \"contourcarpet\": [{\"colorbar\": {\"outlinewidth\": 0, \"ticks\": \"\"}, \"type\": \"contourcarpet\"}], \"heatmap\": [{\"colorbar\": {\"outlinewidth\": 0, \"ticks\": \"\"}, \"colorscale\": [[0.0, \"#0d0887\"], [0.1111111111111111, \"#46039f\"], [0.2222222222222222, \"#7201a8\"], [0.3333333333333333, \"#9c179e\"], [0.4444444444444444, \"#bd3786\"], [0.5555555555555556, \"#d8576b\"], [0.6666666666666666, \"#ed7953\"], [0.7777777777777778, \"#fb9f3a\"], [0.8888888888888888, \"#fdca26\"], [1.0, \"#f0f921\"]], \"type\": \"heatmap\"}], \"heatmapgl\": [{\"colorbar\": {\"outlinewidth\": 0, \"ticks\": \"\"}, \"colorscale\": [[0.0, \"#0d0887\"], [0.1111111111111111, \"#46039f\"], [0.2222222222222222, \"#7201a8\"], [0.3333333333333333, \"#9c179e\"], [0.4444444444444444, \"#bd3786\"], [0.5555555555555556, \"#d8576b\"], [0.6666666666666666, \"#ed7953\"], [0.7777777777777778, \"#fb9f3a\"], [0.8888888888888888, \"#fdca26\"], [1.0, \"#f0f921\"]], \"type\": \"heatmapgl\"}], \"histogram\": [{\"marker\": {\"colorbar\": {\"outlinewidth\": 0, \"ticks\": \"\"}}, \"type\": \"histogram\"}], \"histogram2d\": [{\"colorbar\": {\"outlinewidth\": 0, \"ticks\": \"\"}, \"colorscale\": [[0.0, \"#0d0887\"], [0.1111111111111111, \"#46039f\"], [0.2222222222222222, \"#7201a8\"], [0.3333333333333333, \"#9c179e\"], [0.4444444444444444, \"#bd3786\"], [0.5555555555555556, \"#d8576b\"], [0.6666666666666666, \"#ed7953\"], [0.7777777777777778, \"#fb9f3a\"], [0.8888888888888888, \"#fdca26\"], [1.0, \"#f0f921\"]], \"type\": \"histogram2d\"}], \"histogram2dcontour\": [{\"colorbar\": {\"outlinewidth\": 0, \"ticks\": \"\"}, \"colorscale\": [[0.0, \"#0d0887\"], [0.1111111111111111, \"#46039f\"], [0.2222222222222222, \"#7201a8\"], [0.3333333333333333, \"#9c179e\"], [0.4444444444444444, \"#bd3786\"], [0.5555555555555556, \"#d8576b\"], [0.6666666666666666, \"#ed7953\"], [0.7777777777777778, \"#fb9f3a\"], [0.8888888888888888, \"#fdca26\"], [1.0, \"#f0f921\"]], \"type\": \"histogram2dcontour\"}], \"mesh3d\": [{\"colorbar\": {\"outlinewidth\": 0, \"ticks\": \"\"}, \"type\": \"mesh3d\"}], \"parcoords\": [{\"line\": {\"colorbar\": {\"outlinewidth\": 0, \"ticks\": \"\"}}, \"type\": \"parcoords\"}], \"pie\": [{\"automargin\": true, \"type\": \"pie\"}], \"scatter\": [{\"marker\": {\"colorbar\": {\"outlinewidth\": 0, \"ticks\": \"\"}}, \"type\": \"scatter\"}], \"scatter3d\": [{\"line\": {\"colorbar\": {\"outlinewidth\": 0, \"ticks\": \"\"}}, \"marker\": {\"colorbar\": {\"outlinewidth\": 0, \"ticks\": \"\"}}, \"type\": \"scatter3d\"}], \"scattercarpet\": [{\"marker\": {\"colorbar\": {\"outlinewidth\": 0, \"ticks\": \"\"}}, \"type\": \"scattercarpet\"}], \"scattergeo\": [{\"marker\": {\"colorbar\": {\"outlinewidth\": 0, \"ticks\": \"\"}}, \"type\": \"scattergeo\"}], \"scattergl\": [{\"marker\": {\"colorbar\": {\"outlinewidth\": 0, \"ticks\": \"\"}}, \"type\": \"scattergl\"}], \"scattermapbox\": [{\"marker\": {\"colorbar\": {\"outlinewidth\": 0, \"ticks\": \"\"}}, \"type\": \"scattermapbox\"}], \"scatterpolar\": [{\"marker\": {\"colorbar\": {\"outlinewidth\": 0, \"ticks\": \"\"}}, \"type\": \"scatterpolar\"}], \"scatterpolargl\": [{\"marker\": {\"colorbar\": {\"outlinewidth\": 0, \"ticks\": \"\"}}, \"type\": \"scatterpolargl\"}], \"scatterternary\": [{\"marker\": {\"colorbar\": {\"outlinewidth\": 0, \"ticks\": \"\"}}, \"type\": \"scatterternary\"}], \"surface\": [{\"colorbar\": {\"outlinewidth\": 0, \"ticks\": \"\"}, \"colorscale\": [[0.0, \"#0d0887\"], [0.1111111111111111, \"#46039f\"], [0.2222222222222222, \"#7201a8\"], [0.3333333333333333, \"#9c179e\"], [0.4444444444444444, \"#bd3786\"], [0.5555555555555556, \"#d8576b\"], [0.6666666666666666, \"#ed7953\"], [0.7777777777777778, \"#fb9f3a\"], [0.8888888888888888, \"#fdca26\"], [1.0, \"#f0f921\"]], \"type\": \"surface\"}], \"table\": [{\"cells\": {\"fill\": {\"color\": \"#EBF0F8\"}, \"line\": {\"color\": \"white\"}}, \"header\": {\"fill\": {\"color\": \"#C8D4E3\"}, \"line\": {\"color\": \"white\"}}, \"type\": \"table\"}]}, \"layout\": {\"annotationdefaults\": {\"arrowcolor\": \"#2a3f5f\", \"arrowhead\": 0, \"arrowwidth\": 1}, \"coloraxis\": {\"colorbar\": {\"outlinewidth\": 0, \"ticks\": \"\"}}, \"colorscale\": {\"diverging\": [[0, \"#8e0152\"], [0.1, \"#c51b7d\"], [0.2, \"#de77ae\"], [0.3, \"#f1b6da\"], [0.4, \"#fde0ef\"], [0.5, \"#f7f7f7\"], [0.6, \"#e6f5d0\"], [0.7, \"#b8e186\"], [0.8, \"#7fbc41\"], [0.9, \"#4d9221\"], [1, \"#276419\"]], \"sequential\": [[0.0, \"#0d0887\"], [0.1111111111111111, \"#46039f\"], [0.2222222222222222, \"#7201a8\"], [0.3333333333333333, \"#9c179e\"], [0.4444444444444444, \"#bd3786\"], [0.5555555555555556, \"#d8576b\"], [0.6666666666666666, \"#ed7953\"], [0.7777777777777778, \"#fb9f3a\"], [0.8888888888888888, \"#fdca26\"], [1.0, \"#f0f921\"]], \"sequentialminus\": [[0.0, \"#0d0887\"], [0.1111111111111111, \"#46039f\"], [0.2222222222222222, \"#7201a8\"], [0.3333333333333333, \"#9c179e\"], [0.4444444444444444, \"#bd3786\"], [0.5555555555555556, \"#d8576b\"], [0.6666666666666666, \"#ed7953\"], [0.7777777777777778, \"#fb9f3a\"], [0.8888888888888888, \"#fdca26\"], [1.0, \"#f0f921\"]]}, \"colorway\": [\"#636efa\", \"#EF553B\", \"#00cc96\", \"#ab63fa\", \"#FFA15A\", \"#19d3f3\", \"#FF6692\", \"#B6E880\", \"#FF97FF\", \"#FECB52\"], \"font\": {\"color\": \"#2a3f5f\"}, \"geo\": {\"bgcolor\": \"white\", \"lakecolor\": \"white\", \"landcolor\": \"#E5ECF6\", \"showlakes\": true, \"showland\": true, \"subunitcolor\": \"white\"}, \"hoverlabel\": {\"align\": \"left\"}, \"hovermode\": \"closest\", \"mapbox\": {\"style\": \"light\"}, \"paper_bgcolor\": \"white\", \"plot_bgcolor\": \"#E5ECF6\", \"polar\": {\"angularaxis\": {\"gridcolor\": \"white\", \"linecolor\": \"white\", \"ticks\": \"\"}, \"bgcolor\": \"#E5ECF6\", \"radialaxis\": {\"gridcolor\": \"white\", \"linecolor\": \"white\", \"ticks\": \"\"}}, \"scene\": {\"xaxis\": {\"backgroundcolor\": \"#E5ECF6\", \"gridcolor\": \"white\", \"gridwidth\": 2, \"linecolor\": \"white\", \"showbackground\": true, \"ticks\": \"\", \"zerolinecolor\": \"white\"}, \"yaxis\": {\"backgroundcolor\": \"#E5ECF6\", \"gridcolor\": \"white\", \"gridwidth\": 2, \"linecolor\": \"white\", \"showbackground\": true, \"ticks\": \"\", \"zerolinecolor\": \"white\"}, \"zaxis\": {\"backgroundcolor\": \"#E5ECF6\", \"gridcolor\": \"white\", \"gridwidth\": 2, \"linecolor\": \"white\", \"showbackground\": true, \"ticks\": \"\", \"zerolinecolor\": \"white\"}}, \"shapedefaults\": {\"line\": {\"color\": \"#2a3f5f\"}}, \"ternary\": {\"aaxis\": {\"gridcolor\": \"white\", \"linecolor\": \"white\", \"ticks\": \"\"}, \"baxis\": {\"gridcolor\": \"white\", \"linecolor\": \"white\", \"ticks\": \"\"}, \"bgcolor\": \"#E5ECF6\", \"caxis\": {\"gridcolor\": \"white\", \"linecolor\": \"white\", \"ticks\": \"\"}}, \"title\": {\"x\": 0.05}, \"xaxis\": {\"automargin\": true, \"gridcolor\": \"white\", \"linecolor\": \"white\", \"ticks\": \"\", \"title\": {\"standoff\": 15}, \"zerolinecolor\": \"white\", \"zerolinewidth\": 2}, \"yaxis\": {\"automargin\": true, \"gridcolor\": \"white\", \"linecolor\": \"white\", \"ticks\": \"\", \"title\": {\"standoff\": 15}, \"zerolinecolor\": \"white\", \"zerolinewidth\": 2}}}, \"title\": {\"font\": {\"color\": \"#4D5663\"}}, \"xaxis\": {\"gridcolor\": \"#E1E5ED\", \"showgrid\": true, \"tickfont\": {\"color\": \"#4D5663\"}, \"title\": {\"font\": {\"color\": \"#4D5663\"}, \"text\": \"\"}, \"zerolinecolor\": \"#E1E5ED\"}, \"yaxis\": {\"gridcolor\": \"#E1E5ED\", \"showgrid\": true, \"tickfont\": {\"color\": \"#4D5663\"}, \"title\": {\"font\": {\"color\": \"#4D5663\"}, \"text\": \"\"}, \"zerolinecolor\": \"#E1E5ED\"}},\n",
       "                        {\"showLink\": true, \"linkText\": \"Export to plot.ly\", \"plotlyServerURL\": \"https://plot.ly\", \"responsive\": true}\n",
       "                    ).then(function(){\n",
       "                            \n",
       "var gd = document.getElementById('e3adcd88-d235-4d12-b71a-6a80d5620e16');\n",
       "var x = new MutationObserver(function (mutations, observer) {{\n",
       "        var display = window.getComputedStyle(gd).display;\n",
       "        if (!display || display === 'none') {{\n",
       "            console.log([gd, 'removed!']);\n",
       "            Plotly.purge(gd);\n",
       "            observer.disconnect();\n",
       "        }}\n",
       "}});\n",
       "\n",
       "// Listen for the removal of the full notebook cells\n",
       "var notebookContainer = gd.closest('#notebook-container');\n",
       "if (notebookContainer) {{\n",
       "    x.observe(notebookContainer, {childList: true});\n",
       "}}\n",
       "\n",
       "// Listen for the clearing of the current output cell\n",
       "var outputEl = gd.closest('.output');\n",
       "if (outputEl) {{\n",
       "    x.observe(outputEl, {childList: true});\n",
       "}}\n",
       "\n",
       "                        })\n",
       "                };\n",
       "                });\n",
       "            </script>\n",
       "        </div>"
      ]
     },
     "metadata": {},
     "output_type": "display_data"
    }
   ],
   "source": [
    "df['A'].iplot(kind='hist',bins=25)"
   ]
  },
  {
   "cell_type": "code",
   "execution_count": 17,
   "metadata": {},
   "outputs": [
    {
     "data": {
      "application/vnd.plotly.v1+json": {
       "config": {
        "linkText": "Export to plot.ly",
        "plotlyServerURL": "https://plot.ly",
        "showLink": true
       },
       "data": [
        {
         "marker": {
          "color": [
           "rgb(255, 153, 51)",
           "rgb(55, 128, 191)",
           "rgb(50, 171, 96)",
           "rgb(128, 0, 128)",
           "rgb(219, 64, 82)",
           "rgb(0, 128, 128)",
           "rgb(255, 255, 51)",
           "rgb(128, 128, 0)",
           "rgb(251, 128, 114)",
           "rgb(128, 177, 211)"
          ],
          "line": {
           "width": 1.3
          },
          "size": [
           99,
           77,
           55,
           80,
           68,
           21,
           92,
           73,
           81,
           79,
           102,
           64,
           96,
           87,
           54,
           76,
           71,
           68,
           60,
           53,
           96,
           44,
           52,
           62,
           110,
           60,
           72,
           53,
           47,
           33,
           87,
           54,
           67,
           67,
           92,
           42,
           80,
           68,
           34,
           87,
           85,
           71,
           70,
           64,
           64,
           75,
           45,
           77,
           71,
           12,
           68,
           48,
           78,
           27,
           76,
           99,
           112,
           52,
           96,
           58,
           77,
           51,
           56,
           67,
           79,
           86,
           68,
           81,
           97,
           55,
           78,
           43,
           61,
           90,
           67,
           62,
           72,
           95,
           23,
           66,
           90,
           67,
           57,
           96,
           92,
           84,
           54,
           43,
           109,
           35,
           80,
           89,
           41,
           34,
           60,
           74,
           61,
           58,
           71,
           27
          ],
          "symbol": "circle"
         },
         "mode": "markers",
         "text": "",
         "type": "scatter",
         "x": [
          -1.471246046471575,
          -0.6085271820559668,
          -1.1482532192046846,
          0.2627438693214284,
          2.0836070829778217,
          1.5631875324236681,
          0.5808382512677437,
          0.100140196384491,
          1.2262718460695798,
          0.8121590295001305,
          -1.638410297853008,
          -1.3542858701443743,
          -0.8859356006558017,
          -0.2117872482653646,
          1.52205049796379,
          1.2017578197554064,
          0.7102810124642632,
          -0.23545767256803746,
          -1.0956352495534225,
          1.6932444882864444,
          -1.1138532343497123,
          -1.5238659046060548,
          0.3737582919650709,
          0.3995610667193977,
          0.9849517979430037,
          -0.41286182514316994,
          0.22013798773369625,
          -0.9940274726090388,
          0.6053300034368934,
          -0.08150224288687338,
          1.530830559698258,
          -0.6660168670760243,
          0.2476162288080035,
          -0.4201157591879683,
          2.513732444208068,
          0.18748712307755722,
          0.7718010241028777,
          -1.0216987493095346,
          0.7359898582102234,
          0.3394424646684741,
          -0.9547001300086784,
          0.26062793395402895,
          0.0012388939276021182,
          -0.7212270021450119,
          -0.15919309376546367,
          1.036045290051301,
          -0.4367341912425072,
          0.4183619167269413,
          -0.9869819473111545,
          0.46415757459025936,
          0.907112493962873,
          0.04747797526445393,
          0.8951683093198934,
          -0.31273978661031654,
          -0.38852459396814915,
          -0.21814853869892967,
          0.06874986096360242,
          -2.046811137503565,
          -0.30188504766584184,
          0.3991831218988143,
          -0.9619090984013201,
          2.0755584226410915,
          -0.13736165791337965,
          -0.861827546842935,
          1.3905627604649047,
          1.0763452474767086,
          -0.2724466161760582,
          -1.136419583125512,
          2.8963094311022544,
          0.998479444147354,
          0.5363394044353359,
          0.2999801214940788,
          -0.20435860562327238,
          -1.5876911915428935,
          0.1689491074557813,
          -0.7550523982876761,
          0.14659326683142235,
          0.3792701864009285,
          -0.4165521378380051,
          0.6274214865629553,
          -0.258635746057425,
          0.04476722623086181,
          -0.43703161466220863,
          1.88969572647376,
          0.5535706370729377,
          -1.135244544453128,
          -0.7426677074998133,
          1.3798865438745822,
          -0.5563918303956908,
          0.09158547419355814,
          1.8855374103668776,
          -0.2805175659360432,
          0.36070102679322347,
          0.10638652573921481,
          0.44057146595893387,
          0.814903887602294,
          1.0939625067681231,
          0.05500910372074003,
          1.1314784533017157,
          -0.09953238829157161
         ],
         "y": [
          0.10505382992684024,
          0.4711673041743314,
          -1.519353471102839,
          1.1547053822403741,
          1.0798174585278013,
          -1.3167731816914818,
          0.7135520626011459,
          1.228071405621988,
          -0.1352699013682691,
          -0.7225275214145852,
          0.8549518116578393,
          -0.20588106476691267,
          -0.06703596762655907,
          1.6484770738363472,
          0.36286227096868406,
          0.05563320312264835,
          0.6254057338704384,
          -0.012960080959064806,
          -2.12932614521523,
          -0.4157931861958631,
          0.7506360034867958,
          -0.13983300982709157,
          -0.5900443492432567,
          0.7044782303155932,
          0.19890230651938576,
          -0.19836350350683987,
          0.8759308313682472,
          0.19836962628705404,
          0.27848831138959357,
          -1.1694296316366262,
          0.3267781091861249,
          0.38581311088033404,
          0.5471026752728532,
          -0.3146860226848104,
          -1.6035633201468595,
          0.06543919850911806,
          0.19351698419231203,
          -2.386767407875937,
          1.0703757940939813,
          0.7152544617480363,
          -0.8402296964975069,
          1.4438748000559085,
          1.1597873193139467,
          -1.1095184085909982,
          1.6063077829929273,
          -1.085090818463112,
          -2.022548824739018,
          0.4053807585208205,
          -0.40761135212598976,
          0.7499089719721762,
          -0.5654299320552335,
          -1.1633044453417187,
          -0.8681796271541423,
          -2.9092295914484128,
          -0.9005417099015383,
          0.9211926455003557,
          0.5479235918234407,
          0.3674219082707484,
          -0.7334914066505491,
          -0.19254775033259586,
          -0.14348719988088504,
          -2.329163688940016,
          0.15057290599191409,
          0.1237678929312007,
          0.683541160275602,
          -0.5466460611187319,
          -0.04691790105302972,
          -0.30891159038861526,
          0.7099401236493103,
          -0.002099768581509483,
          -0.41139758529350595,
          -0.5335970457156773,
          -1.30774488435812,
          -0.36710599583404435,
          -1.0930940248488794,
          0.023844045404288774,
          2.0924380613371363,
          0.30331932358411845,
          0.476086299481217,
          1.384076360250985,
          0.5766365706062448,
          2.6165270527132005,
          0.5821109662236247,
          -0.15557530418785975,
          -0.436490142585925,
          0.22184656251316986,
          0.15768753650025366,
          0.48078788358232516,
          0.6292641638456508,
          -0.692412043888579,
          -0.95302121836286,
          -1.2292609401152632,
          -0.2634772944023692,
          -0.7325543666146409,
          -0.7984410176142024,
          -0.1336532721123046,
          -0.6412326522647541,
          1.054147966339015,
          -1.2572779777281884,
          -0.015239046068296734
         ]
        }
       ],
       "layout": {
        "legend": {
         "bgcolor": "#F5F6F9",
         "font": {
          "color": "#4D5663"
         }
        },
        "paper_bgcolor": "#F5F6F9",
        "plot_bgcolor": "#F5F6F9",
        "template": {
         "data": {
          "bar": [
           {
            "error_x": {
             "color": "#2a3f5f"
            },
            "error_y": {
             "color": "#2a3f5f"
            },
            "marker": {
             "line": {
              "color": "#E5ECF6",
              "width": 0.5
             }
            },
            "type": "bar"
           }
          ],
          "barpolar": [
           {
            "marker": {
             "line": {
              "color": "#E5ECF6",
              "width": 0.5
             }
            },
            "type": "barpolar"
           }
          ],
          "carpet": [
           {
            "aaxis": {
             "endlinecolor": "#2a3f5f",
             "gridcolor": "white",
             "linecolor": "white",
             "minorgridcolor": "white",
             "startlinecolor": "#2a3f5f"
            },
            "baxis": {
             "endlinecolor": "#2a3f5f",
             "gridcolor": "white",
             "linecolor": "white",
             "minorgridcolor": "white",
             "startlinecolor": "#2a3f5f"
            },
            "type": "carpet"
           }
          ],
          "choropleth": [
           {
            "colorbar": {
             "outlinewidth": 0,
             "ticks": ""
            },
            "type": "choropleth"
           }
          ],
          "contour": [
           {
            "colorbar": {
             "outlinewidth": 0,
             "ticks": ""
            },
            "colorscale": [
             [
              0,
              "#0d0887"
             ],
             [
              0.1111111111111111,
              "#46039f"
             ],
             [
              0.2222222222222222,
              "#7201a8"
             ],
             [
              0.3333333333333333,
              "#9c179e"
             ],
             [
              0.4444444444444444,
              "#bd3786"
             ],
             [
              0.5555555555555556,
              "#d8576b"
             ],
             [
              0.6666666666666666,
              "#ed7953"
             ],
             [
              0.7777777777777778,
              "#fb9f3a"
             ],
             [
              0.8888888888888888,
              "#fdca26"
             ],
             [
              1,
              "#f0f921"
             ]
            ],
            "type": "contour"
           }
          ],
          "contourcarpet": [
           {
            "colorbar": {
             "outlinewidth": 0,
             "ticks": ""
            },
            "type": "contourcarpet"
           }
          ],
          "heatmap": [
           {
            "colorbar": {
             "outlinewidth": 0,
             "ticks": ""
            },
            "colorscale": [
             [
              0,
              "#0d0887"
             ],
             [
              0.1111111111111111,
              "#46039f"
             ],
             [
              0.2222222222222222,
              "#7201a8"
             ],
             [
              0.3333333333333333,
              "#9c179e"
             ],
             [
              0.4444444444444444,
              "#bd3786"
             ],
             [
              0.5555555555555556,
              "#d8576b"
             ],
             [
              0.6666666666666666,
              "#ed7953"
             ],
             [
              0.7777777777777778,
              "#fb9f3a"
             ],
             [
              0.8888888888888888,
              "#fdca26"
             ],
             [
              1,
              "#f0f921"
             ]
            ],
            "type": "heatmap"
           }
          ],
          "heatmapgl": [
           {
            "colorbar": {
             "outlinewidth": 0,
             "ticks": ""
            },
            "colorscale": [
             [
              0,
              "#0d0887"
             ],
             [
              0.1111111111111111,
              "#46039f"
             ],
             [
              0.2222222222222222,
              "#7201a8"
             ],
             [
              0.3333333333333333,
              "#9c179e"
             ],
             [
              0.4444444444444444,
              "#bd3786"
             ],
             [
              0.5555555555555556,
              "#d8576b"
             ],
             [
              0.6666666666666666,
              "#ed7953"
             ],
             [
              0.7777777777777778,
              "#fb9f3a"
             ],
             [
              0.8888888888888888,
              "#fdca26"
             ],
             [
              1,
              "#f0f921"
             ]
            ],
            "type": "heatmapgl"
           }
          ],
          "histogram": [
           {
            "marker": {
             "colorbar": {
              "outlinewidth": 0,
              "ticks": ""
             }
            },
            "type": "histogram"
           }
          ],
          "histogram2d": [
           {
            "colorbar": {
             "outlinewidth": 0,
             "ticks": ""
            },
            "colorscale": [
             [
              0,
              "#0d0887"
             ],
             [
              0.1111111111111111,
              "#46039f"
             ],
             [
              0.2222222222222222,
              "#7201a8"
             ],
             [
              0.3333333333333333,
              "#9c179e"
             ],
             [
              0.4444444444444444,
              "#bd3786"
             ],
             [
              0.5555555555555556,
              "#d8576b"
             ],
             [
              0.6666666666666666,
              "#ed7953"
             ],
             [
              0.7777777777777778,
              "#fb9f3a"
             ],
             [
              0.8888888888888888,
              "#fdca26"
             ],
             [
              1,
              "#f0f921"
             ]
            ],
            "type": "histogram2d"
           }
          ],
          "histogram2dcontour": [
           {
            "colorbar": {
             "outlinewidth": 0,
             "ticks": ""
            },
            "colorscale": [
             [
              0,
              "#0d0887"
             ],
             [
              0.1111111111111111,
              "#46039f"
             ],
             [
              0.2222222222222222,
              "#7201a8"
             ],
             [
              0.3333333333333333,
              "#9c179e"
             ],
             [
              0.4444444444444444,
              "#bd3786"
             ],
             [
              0.5555555555555556,
              "#d8576b"
             ],
             [
              0.6666666666666666,
              "#ed7953"
             ],
             [
              0.7777777777777778,
              "#fb9f3a"
             ],
             [
              0.8888888888888888,
              "#fdca26"
             ],
             [
              1,
              "#f0f921"
             ]
            ],
            "type": "histogram2dcontour"
           }
          ],
          "mesh3d": [
           {
            "colorbar": {
             "outlinewidth": 0,
             "ticks": ""
            },
            "type": "mesh3d"
           }
          ],
          "parcoords": [
           {
            "line": {
             "colorbar": {
              "outlinewidth": 0,
              "ticks": ""
             }
            },
            "type": "parcoords"
           }
          ],
          "pie": [
           {
            "automargin": true,
            "type": "pie"
           }
          ],
          "scatter": [
           {
            "marker": {
             "colorbar": {
              "outlinewidth": 0,
              "ticks": ""
             }
            },
            "type": "scatter"
           }
          ],
          "scatter3d": [
           {
            "line": {
             "colorbar": {
              "outlinewidth": 0,
              "ticks": ""
             }
            },
            "marker": {
             "colorbar": {
              "outlinewidth": 0,
              "ticks": ""
             }
            },
            "type": "scatter3d"
           }
          ],
          "scattercarpet": [
           {
            "marker": {
             "colorbar": {
              "outlinewidth": 0,
              "ticks": ""
             }
            },
            "type": "scattercarpet"
           }
          ],
          "scattergeo": [
           {
            "marker": {
             "colorbar": {
              "outlinewidth": 0,
              "ticks": ""
             }
            },
            "type": "scattergeo"
           }
          ],
          "scattergl": [
           {
            "marker": {
             "colorbar": {
              "outlinewidth": 0,
              "ticks": ""
             }
            },
            "type": "scattergl"
           }
          ],
          "scattermapbox": [
           {
            "marker": {
             "colorbar": {
              "outlinewidth": 0,
              "ticks": ""
             }
            },
            "type": "scattermapbox"
           }
          ],
          "scatterpolar": [
           {
            "marker": {
             "colorbar": {
              "outlinewidth": 0,
              "ticks": ""
             }
            },
            "type": "scatterpolar"
           }
          ],
          "scatterpolargl": [
           {
            "marker": {
             "colorbar": {
              "outlinewidth": 0,
              "ticks": ""
             }
            },
            "type": "scatterpolargl"
           }
          ],
          "scatterternary": [
           {
            "marker": {
             "colorbar": {
              "outlinewidth": 0,
              "ticks": ""
             }
            },
            "type": "scatterternary"
           }
          ],
          "surface": [
           {
            "colorbar": {
             "outlinewidth": 0,
             "ticks": ""
            },
            "colorscale": [
             [
              0,
              "#0d0887"
             ],
             [
              0.1111111111111111,
              "#46039f"
             ],
             [
              0.2222222222222222,
              "#7201a8"
             ],
             [
              0.3333333333333333,
              "#9c179e"
             ],
             [
              0.4444444444444444,
              "#bd3786"
             ],
             [
              0.5555555555555556,
              "#d8576b"
             ],
             [
              0.6666666666666666,
              "#ed7953"
             ],
             [
              0.7777777777777778,
              "#fb9f3a"
             ],
             [
              0.8888888888888888,
              "#fdca26"
             ],
             [
              1,
              "#f0f921"
             ]
            ],
            "type": "surface"
           }
          ],
          "table": [
           {
            "cells": {
             "fill": {
              "color": "#EBF0F8"
             },
             "line": {
              "color": "white"
             }
            },
            "header": {
             "fill": {
              "color": "#C8D4E3"
             },
             "line": {
              "color": "white"
             }
            },
            "type": "table"
           }
          ]
         },
         "layout": {
          "annotationdefaults": {
           "arrowcolor": "#2a3f5f",
           "arrowhead": 0,
           "arrowwidth": 1
          },
          "coloraxis": {
           "colorbar": {
            "outlinewidth": 0,
            "ticks": ""
           }
          },
          "colorscale": {
           "diverging": [
            [
             0,
             "#8e0152"
            ],
            [
             0.1,
             "#c51b7d"
            ],
            [
             0.2,
             "#de77ae"
            ],
            [
             0.3,
             "#f1b6da"
            ],
            [
             0.4,
             "#fde0ef"
            ],
            [
             0.5,
             "#f7f7f7"
            ],
            [
             0.6,
             "#e6f5d0"
            ],
            [
             0.7,
             "#b8e186"
            ],
            [
             0.8,
             "#7fbc41"
            ],
            [
             0.9,
             "#4d9221"
            ],
            [
             1,
             "#276419"
            ]
           ],
           "sequential": [
            [
             0,
             "#0d0887"
            ],
            [
             0.1111111111111111,
             "#46039f"
            ],
            [
             0.2222222222222222,
             "#7201a8"
            ],
            [
             0.3333333333333333,
             "#9c179e"
            ],
            [
             0.4444444444444444,
             "#bd3786"
            ],
            [
             0.5555555555555556,
             "#d8576b"
            ],
            [
             0.6666666666666666,
             "#ed7953"
            ],
            [
             0.7777777777777778,
             "#fb9f3a"
            ],
            [
             0.8888888888888888,
             "#fdca26"
            ],
            [
             1,
             "#f0f921"
            ]
           ],
           "sequentialminus": [
            [
             0,
             "#0d0887"
            ],
            [
             0.1111111111111111,
             "#46039f"
            ],
            [
             0.2222222222222222,
             "#7201a8"
            ],
            [
             0.3333333333333333,
             "#9c179e"
            ],
            [
             0.4444444444444444,
             "#bd3786"
            ],
            [
             0.5555555555555556,
             "#d8576b"
            ],
            [
             0.6666666666666666,
             "#ed7953"
            ],
            [
             0.7777777777777778,
             "#fb9f3a"
            ],
            [
             0.8888888888888888,
             "#fdca26"
            ],
            [
             1,
             "#f0f921"
            ]
           ]
          },
          "colorway": [
           "#636efa",
           "#EF553B",
           "#00cc96",
           "#ab63fa",
           "#FFA15A",
           "#19d3f3",
           "#FF6692",
           "#B6E880",
           "#FF97FF",
           "#FECB52"
          ],
          "font": {
           "color": "#2a3f5f"
          },
          "geo": {
           "bgcolor": "white",
           "lakecolor": "white",
           "landcolor": "#E5ECF6",
           "showlakes": true,
           "showland": true,
           "subunitcolor": "white"
          },
          "hoverlabel": {
           "align": "left"
          },
          "hovermode": "closest",
          "mapbox": {
           "style": "light"
          },
          "paper_bgcolor": "white",
          "plot_bgcolor": "#E5ECF6",
          "polar": {
           "angularaxis": {
            "gridcolor": "white",
            "linecolor": "white",
            "ticks": ""
           },
           "bgcolor": "#E5ECF6",
           "radialaxis": {
            "gridcolor": "white",
            "linecolor": "white",
            "ticks": ""
           }
          },
          "scene": {
           "xaxis": {
            "backgroundcolor": "#E5ECF6",
            "gridcolor": "white",
            "gridwidth": 2,
            "linecolor": "white",
            "showbackground": true,
            "ticks": "",
            "zerolinecolor": "white"
           },
           "yaxis": {
            "backgroundcolor": "#E5ECF6",
            "gridcolor": "white",
            "gridwidth": 2,
            "linecolor": "white",
            "showbackground": true,
            "ticks": "",
            "zerolinecolor": "white"
           },
           "zaxis": {
            "backgroundcolor": "#E5ECF6",
            "gridcolor": "white",
            "gridwidth": 2,
            "linecolor": "white",
            "showbackground": true,
            "ticks": "",
            "zerolinecolor": "white"
           }
          },
          "shapedefaults": {
           "line": {
            "color": "#2a3f5f"
           }
          },
          "ternary": {
           "aaxis": {
            "gridcolor": "white",
            "linecolor": "white",
            "ticks": ""
           },
           "baxis": {
            "gridcolor": "white",
            "linecolor": "white",
            "ticks": ""
           },
           "bgcolor": "#E5ECF6",
           "caxis": {
            "gridcolor": "white",
            "linecolor": "white",
            "ticks": ""
           }
          },
          "title": {
           "x": 0.05
          },
          "xaxis": {
           "automargin": true,
           "gridcolor": "white",
           "linecolor": "white",
           "ticks": "",
           "title": {
            "standoff": 15
           },
           "zerolinecolor": "white",
           "zerolinewidth": 2
          },
          "yaxis": {
           "automargin": true,
           "gridcolor": "white",
           "linecolor": "white",
           "ticks": "",
           "title": {
            "standoff": 15
           },
           "zerolinecolor": "white",
           "zerolinewidth": 2
          }
         }
        },
        "title": {
         "font": {
          "color": "#4D5663"
         }
        },
        "xaxis": {
         "gridcolor": "#E1E5ED",
         "showgrid": true,
         "tickfont": {
          "color": "#4D5663"
         },
         "title": {
          "font": {
           "color": "#4D5663"
          },
          "text": ""
         },
         "zerolinecolor": "#E1E5ED"
        },
        "yaxis": {
         "gridcolor": "#E1E5ED",
         "showgrid": true,
         "tickfont": {
          "color": "#4D5663"
         },
         "title": {
          "font": {
           "color": "#4D5663"
          },
          "text": ""
         },
         "zerolinecolor": "#E1E5ED"
        }
       }
      },
      "text/html": [
       "<div>\n",
       "        \n",
       "        \n",
       "            <div id=\"c2aa22a5-31f8-4bcc-b956-9f6dad4b9a10\" class=\"plotly-graph-div\" style=\"height:525px; width:100%;\"></div>\n",
       "            <script type=\"text/javascript\">\n",
       "                require([\"plotly\"], function(Plotly) {\n",
       "                    window.PLOTLYENV=window.PLOTLYENV || {};\n",
       "                    window.PLOTLYENV.BASE_URL='https://plot.ly';\n",
       "                    \n",
       "                if (document.getElementById(\"c2aa22a5-31f8-4bcc-b956-9f6dad4b9a10\")) {\n",
       "                    Plotly.newPlot(\n",
       "                        'c2aa22a5-31f8-4bcc-b956-9f6dad4b9a10',\n",
       "                        [{\"marker\": {\"color\": [\"rgb(255, 153, 51)\", \"rgb(55, 128, 191)\", \"rgb(50, 171, 96)\", \"rgb(128, 0, 128)\", \"rgb(219, 64, 82)\", \"rgb(0, 128, 128)\", \"rgb(255, 255, 51)\", \"rgb(128, 128, 0)\", \"rgb(251, 128, 114)\", \"rgb(128, 177, 211)\"], \"line\": {\"width\": 1.3}, \"size\": [99, 77, 55, 80, 68, 21, 92, 73, 81, 79, 102, 64, 96, 87, 54, 76, 71, 68, 60, 53, 96, 44, 52, 62, 110, 60, 72, 53, 47, 33, 87, 54, 67, 67, 92, 42, 80, 68, 34, 87, 85, 71, 70, 64, 64, 75, 45, 77, 71, 12, 68, 48, 78, 27, 76, 99, 112, 52, 96, 58, 77, 51, 56, 67, 79, 86, 68, 81, 97, 55, 78, 43, 61, 90, 67, 62, 72, 95, 23, 66, 90, 67, 57, 96, 92, 84, 54, 43, 109, 35, 80, 89, 41, 34, 60, 74, 61, 58, 71, 27], \"symbol\": \"circle\"}, \"mode\": \"markers\", \"text\": \"\", \"type\": \"scatter\", \"x\": [-1.471246046471575, -0.6085271820559668, -1.1482532192046846, 0.2627438693214284, 2.0836070829778217, 1.5631875324236681, 0.5808382512677437, 0.100140196384491, 1.2262718460695798, 0.8121590295001305, -1.638410297853008, -1.3542858701443743, -0.8859356006558017, -0.2117872482653646, 1.52205049796379, 1.2017578197554064, 0.7102810124642632, -0.23545767256803746, -1.0956352495534225, 1.6932444882864444, -1.1138532343497123, -1.5238659046060548, 0.3737582919650709, 0.3995610667193977, 0.9849517979430037, -0.41286182514316994, 0.22013798773369625, -0.9940274726090388, 0.6053300034368934, -0.08150224288687338, 1.530830559698258, -0.6660168670760243, 0.2476162288080035, -0.4201157591879683, 2.513732444208068, 0.18748712307755722, 0.7718010241028777, -1.0216987493095346, 0.7359898582102234, 0.3394424646684741, -0.9547001300086784, 0.26062793395402895, 0.0012388939276021182, -0.7212270021450119, -0.15919309376546367, 1.036045290051301, -0.4367341912425072, 0.4183619167269413, -0.9869819473111545, 0.46415757459025936, 0.907112493962873, 0.04747797526445393, 0.8951683093198934, -0.31273978661031654, -0.38852459396814915, -0.21814853869892967, 0.06874986096360242, -2.046811137503565, -0.30188504766584184, 0.3991831218988143, -0.9619090984013201, 2.0755584226410915, -0.13736165791337965, -0.861827546842935, 1.3905627604649047, 1.0763452474767086, -0.2724466161760582, -1.136419583125512, 2.8963094311022544, 0.998479444147354, 0.5363394044353359, 0.2999801214940788, -0.20435860562327238, -1.5876911915428935, 0.1689491074557813, -0.7550523982876761, 0.14659326683142235, 0.3792701864009285, -0.4165521378380051, 0.6274214865629553, -0.258635746057425, 0.04476722623086181, -0.43703161466220863, 1.88969572647376, 0.5535706370729377, -1.135244544453128, -0.7426677074998133, 1.3798865438745822, -0.5563918303956908, 0.09158547419355814, 1.8855374103668776, -0.2805175659360432, 0.36070102679322347, 0.10638652573921481, 0.44057146595893387, 0.814903887602294, 1.0939625067681231, 0.05500910372074003, 1.1314784533017157, -0.09953238829157161], \"y\": [0.10505382992684024, 0.4711673041743314, -1.519353471102839, 1.1547053822403741, 1.0798174585278013, -1.3167731816914818, 0.7135520626011459, 1.228071405621988, -0.1352699013682691, -0.7225275214145852, 0.8549518116578393, -0.20588106476691267, -0.06703596762655907, 1.6484770738363472, 0.36286227096868406, 0.05563320312264835, 0.6254057338704384, -0.012960080959064806, -2.12932614521523, -0.4157931861958631, 0.7506360034867958, -0.13983300982709157, -0.5900443492432567, 0.7044782303155932, 0.19890230651938576, -0.19836350350683987, 0.8759308313682472, 0.19836962628705404, 0.27848831138959357, -1.1694296316366262, 0.3267781091861249, 0.38581311088033404, 0.5471026752728532, -0.3146860226848104, -1.6035633201468595, 0.06543919850911806, 0.19351698419231203, -2.386767407875937, 1.0703757940939813, 0.7152544617480363, -0.8402296964975069, 1.4438748000559085, 1.1597873193139467, -1.1095184085909982, 1.6063077829929273, -1.085090818463112, -2.022548824739018, 0.4053807585208205, -0.40761135212598976, 0.7499089719721762, -0.5654299320552335, -1.1633044453417187, -0.8681796271541423, -2.9092295914484128, -0.9005417099015383, 0.9211926455003557, 0.5479235918234407, 0.3674219082707484, -0.7334914066505491, -0.19254775033259586, -0.14348719988088504, -2.329163688940016, 0.15057290599191409, 0.1237678929312007, 0.683541160275602, -0.5466460611187319, -0.04691790105302972, -0.30891159038861526, 0.7099401236493103, -0.002099768581509483, -0.41139758529350595, -0.5335970457156773, -1.30774488435812, -0.36710599583404435, -1.0930940248488794, 0.023844045404288774, 2.0924380613371363, 0.30331932358411845, 0.476086299481217, 1.384076360250985, 0.5766365706062448, 2.6165270527132005, 0.5821109662236247, -0.15557530418785975, -0.436490142585925, 0.22184656251316986, 0.15768753650025366, 0.48078788358232516, 0.6292641638456508, -0.692412043888579, -0.95302121836286, -1.2292609401152632, -0.2634772944023692, -0.7325543666146409, -0.7984410176142024, -0.1336532721123046, -0.6412326522647541, 1.054147966339015, -1.2572779777281884, -0.015239046068296734]}],\n",
       "                        {\"legend\": {\"bgcolor\": \"#F5F6F9\", \"font\": {\"color\": \"#4D5663\"}}, \"paper_bgcolor\": \"#F5F6F9\", \"plot_bgcolor\": \"#F5F6F9\", \"template\": {\"data\": {\"bar\": [{\"error_x\": {\"color\": \"#2a3f5f\"}, \"error_y\": {\"color\": \"#2a3f5f\"}, \"marker\": {\"line\": {\"color\": \"#E5ECF6\", \"width\": 0.5}}, \"type\": \"bar\"}], \"barpolar\": [{\"marker\": {\"line\": {\"color\": \"#E5ECF6\", \"width\": 0.5}}, \"type\": \"barpolar\"}], \"carpet\": [{\"aaxis\": {\"endlinecolor\": \"#2a3f5f\", \"gridcolor\": \"white\", \"linecolor\": \"white\", \"minorgridcolor\": \"white\", \"startlinecolor\": \"#2a3f5f\"}, \"baxis\": {\"endlinecolor\": \"#2a3f5f\", \"gridcolor\": \"white\", \"linecolor\": \"white\", \"minorgridcolor\": \"white\", \"startlinecolor\": \"#2a3f5f\"}, \"type\": \"carpet\"}], \"choropleth\": [{\"colorbar\": {\"outlinewidth\": 0, \"ticks\": \"\"}, \"type\": \"choropleth\"}], \"contour\": [{\"colorbar\": {\"outlinewidth\": 0, \"ticks\": \"\"}, \"colorscale\": [[0.0, \"#0d0887\"], [0.1111111111111111, \"#46039f\"], [0.2222222222222222, \"#7201a8\"], [0.3333333333333333, \"#9c179e\"], [0.4444444444444444, \"#bd3786\"], [0.5555555555555556, \"#d8576b\"], [0.6666666666666666, \"#ed7953\"], [0.7777777777777778, \"#fb9f3a\"], [0.8888888888888888, \"#fdca26\"], [1.0, \"#f0f921\"]], \"type\": \"contour\"}], \"contourcarpet\": [{\"colorbar\": {\"outlinewidth\": 0, \"ticks\": \"\"}, \"type\": \"contourcarpet\"}], \"heatmap\": [{\"colorbar\": {\"outlinewidth\": 0, \"ticks\": \"\"}, \"colorscale\": [[0.0, \"#0d0887\"], [0.1111111111111111, \"#46039f\"], [0.2222222222222222, \"#7201a8\"], [0.3333333333333333, \"#9c179e\"], [0.4444444444444444, \"#bd3786\"], [0.5555555555555556, \"#d8576b\"], [0.6666666666666666, \"#ed7953\"], [0.7777777777777778, \"#fb9f3a\"], [0.8888888888888888, \"#fdca26\"], [1.0, \"#f0f921\"]], \"type\": \"heatmap\"}], \"heatmapgl\": [{\"colorbar\": {\"outlinewidth\": 0, \"ticks\": \"\"}, \"colorscale\": [[0.0, \"#0d0887\"], [0.1111111111111111, \"#46039f\"], [0.2222222222222222, \"#7201a8\"], [0.3333333333333333, \"#9c179e\"], [0.4444444444444444, \"#bd3786\"], [0.5555555555555556, \"#d8576b\"], [0.6666666666666666, \"#ed7953\"], [0.7777777777777778, \"#fb9f3a\"], [0.8888888888888888, \"#fdca26\"], [1.0, \"#f0f921\"]], \"type\": \"heatmapgl\"}], \"histogram\": [{\"marker\": {\"colorbar\": {\"outlinewidth\": 0, \"ticks\": \"\"}}, \"type\": \"histogram\"}], \"histogram2d\": [{\"colorbar\": {\"outlinewidth\": 0, \"ticks\": \"\"}, \"colorscale\": [[0.0, \"#0d0887\"], [0.1111111111111111, \"#46039f\"], [0.2222222222222222, \"#7201a8\"], [0.3333333333333333, \"#9c179e\"], [0.4444444444444444, \"#bd3786\"], [0.5555555555555556, \"#d8576b\"], [0.6666666666666666, \"#ed7953\"], [0.7777777777777778, \"#fb9f3a\"], [0.8888888888888888, \"#fdca26\"], [1.0, \"#f0f921\"]], \"type\": \"histogram2d\"}], \"histogram2dcontour\": [{\"colorbar\": {\"outlinewidth\": 0, \"ticks\": \"\"}, \"colorscale\": [[0.0, \"#0d0887\"], [0.1111111111111111, \"#46039f\"], [0.2222222222222222, \"#7201a8\"], [0.3333333333333333, \"#9c179e\"], [0.4444444444444444, \"#bd3786\"], [0.5555555555555556, \"#d8576b\"], [0.6666666666666666, \"#ed7953\"], [0.7777777777777778, \"#fb9f3a\"], [0.8888888888888888, \"#fdca26\"], [1.0, \"#f0f921\"]], \"type\": \"histogram2dcontour\"}], \"mesh3d\": [{\"colorbar\": {\"outlinewidth\": 0, \"ticks\": \"\"}, \"type\": \"mesh3d\"}], \"parcoords\": [{\"line\": {\"colorbar\": {\"outlinewidth\": 0, \"ticks\": \"\"}}, \"type\": \"parcoords\"}], \"pie\": [{\"automargin\": true, \"type\": \"pie\"}], \"scatter\": [{\"marker\": {\"colorbar\": {\"outlinewidth\": 0, \"ticks\": \"\"}}, \"type\": \"scatter\"}], \"scatter3d\": [{\"line\": {\"colorbar\": {\"outlinewidth\": 0, \"ticks\": \"\"}}, \"marker\": {\"colorbar\": {\"outlinewidth\": 0, \"ticks\": \"\"}}, \"type\": \"scatter3d\"}], \"scattercarpet\": [{\"marker\": {\"colorbar\": {\"outlinewidth\": 0, \"ticks\": \"\"}}, \"type\": \"scattercarpet\"}], \"scattergeo\": [{\"marker\": {\"colorbar\": {\"outlinewidth\": 0, \"ticks\": \"\"}}, \"type\": \"scattergeo\"}], \"scattergl\": [{\"marker\": {\"colorbar\": {\"outlinewidth\": 0, \"ticks\": \"\"}}, \"type\": \"scattergl\"}], \"scattermapbox\": [{\"marker\": {\"colorbar\": {\"outlinewidth\": 0, \"ticks\": \"\"}}, \"type\": \"scattermapbox\"}], \"scatterpolar\": [{\"marker\": {\"colorbar\": {\"outlinewidth\": 0, \"ticks\": \"\"}}, \"type\": \"scatterpolar\"}], \"scatterpolargl\": [{\"marker\": {\"colorbar\": {\"outlinewidth\": 0, \"ticks\": \"\"}}, \"type\": \"scatterpolargl\"}], \"scatterternary\": [{\"marker\": {\"colorbar\": {\"outlinewidth\": 0, \"ticks\": \"\"}}, \"type\": \"scatterternary\"}], \"surface\": [{\"colorbar\": {\"outlinewidth\": 0, \"ticks\": \"\"}, \"colorscale\": [[0.0, \"#0d0887\"], [0.1111111111111111, \"#46039f\"], [0.2222222222222222, \"#7201a8\"], [0.3333333333333333, \"#9c179e\"], [0.4444444444444444, \"#bd3786\"], [0.5555555555555556, \"#d8576b\"], [0.6666666666666666, \"#ed7953\"], [0.7777777777777778, \"#fb9f3a\"], [0.8888888888888888, \"#fdca26\"], [1.0, \"#f0f921\"]], \"type\": \"surface\"}], \"table\": [{\"cells\": {\"fill\": {\"color\": \"#EBF0F8\"}, \"line\": {\"color\": \"white\"}}, \"header\": {\"fill\": {\"color\": \"#C8D4E3\"}, \"line\": {\"color\": \"white\"}}, \"type\": \"table\"}]}, \"layout\": {\"annotationdefaults\": {\"arrowcolor\": \"#2a3f5f\", \"arrowhead\": 0, \"arrowwidth\": 1}, \"coloraxis\": {\"colorbar\": {\"outlinewidth\": 0, \"ticks\": \"\"}}, \"colorscale\": {\"diverging\": [[0, \"#8e0152\"], [0.1, \"#c51b7d\"], [0.2, \"#de77ae\"], [0.3, \"#f1b6da\"], [0.4, \"#fde0ef\"], [0.5, \"#f7f7f7\"], [0.6, \"#e6f5d0\"], [0.7, \"#b8e186\"], [0.8, \"#7fbc41\"], [0.9, \"#4d9221\"], [1, \"#276419\"]], \"sequential\": [[0.0, \"#0d0887\"], [0.1111111111111111, \"#46039f\"], [0.2222222222222222, \"#7201a8\"], [0.3333333333333333, \"#9c179e\"], [0.4444444444444444, \"#bd3786\"], [0.5555555555555556, \"#d8576b\"], [0.6666666666666666, \"#ed7953\"], [0.7777777777777778, \"#fb9f3a\"], [0.8888888888888888, \"#fdca26\"], [1.0, \"#f0f921\"]], \"sequentialminus\": [[0.0, \"#0d0887\"], [0.1111111111111111, \"#46039f\"], [0.2222222222222222, \"#7201a8\"], [0.3333333333333333, \"#9c179e\"], [0.4444444444444444, \"#bd3786\"], [0.5555555555555556, \"#d8576b\"], [0.6666666666666666, \"#ed7953\"], [0.7777777777777778, \"#fb9f3a\"], [0.8888888888888888, \"#fdca26\"], [1.0, \"#f0f921\"]]}, \"colorway\": [\"#636efa\", \"#EF553B\", \"#00cc96\", \"#ab63fa\", \"#FFA15A\", \"#19d3f3\", \"#FF6692\", \"#B6E880\", \"#FF97FF\", \"#FECB52\"], \"font\": {\"color\": \"#2a3f5f\"}, \"geo\": {\"bgcolor\": \"white\", \"lakecolor\": \"white\", \"landcolor\": \"#E5ECF6\", \"showlakes\": true, \"showland\": true, \"subunitcolor\": \"white\"}, \"hoverlabel\": {\"align\": \"left\"}, \"hovermode\": \"closest\", \"mapbox\": {\"style\": \"light\"}, \"paper_bgcolor\": \"white\", \"plot_bgcolor\": \"#E5ECF6\", \"polar\": {\"angularaxis\": {\"gridcolor\": \"white\", \"linecolor\": \"white\", \"ticks\": \"\"}, \"bgcolor\": \"#E5ECF6\", \"radialaxis\": {\"gridcolor\": \"white\", \"linecolor\": \"white\", \"ticks\": \"\"}}, \"scene\": {\"xaxis\": {\"backgroundcolor\": \"#E5ECF6\", \"gridcolor\": \"white\", \"gridwidth\": 2, \"linecolor\": \"white\", \"showbackground\": true, \"ticks\": \"\", \"zerolinecolor\": \"white\"}, \"yaxis\": {\"backgroundcolor\": \"#E5ECF6\", \"gridcolor\": \"white\", \"gridwidth\": 2, \"linecolor\": \"white\", \"showbackground\": true, \"ticks\": \"\", \"zerolinecolor\": \"white\"}, \"zaxis\": {\"backgroundcolor\": \"#E5ECF6\", \"gridcolor\": \"white\", \"gridwidth\": 2, \"linecolor\": \"white\", \"showbackground\": true, \"ticks\": \"\", \"zerolinecolor\": \"white\"}}, \"shapedefaults\": {\"line\": {\"color\": \"#2a3f5f\"}}, \"ternary\": {\"aaxis\": {\"gridcolor\": \"white\", \"linecolor\": \"white\", \"ticks\": \"\"}, \"baxis\": {\"gridcolor\": \"white\", \"linecolor\": \"white\", \"ticks\": \"\"}, \"bgcolor\": \"#E5ECF6\", \"caxis\": {\"gridcolor\": \"white\", \"linecolor\": \"white\", \"ticks\": \"\"}}, \"title\": {\"x\": 0.05}, \"xaxis\": {\"automargin\": true, \"gridcolor\": \"white\", \"linecolor\": \"white\", \"ticks\": \"\", \"title\": {\"standoff\": 15}, \"zerolinecolor\": \"white\", \"zerolinewidth\": 2}, \"yaxis\": {\"automargin\": true, \"gridcolor\": \"white\", \"linecolor\": \"white\", \"ticks\": \"\", \"title\": {\"standoff\": 15}, \"zerolinecolor\": \"white\", \"zerolinewidth\": 2}}}, \"title\": {\"font\": {\"color\": \"#4D5663\"}}, \"xaxis\": {\"gridcolor\": \"#E1E5ED\", \"showgrid\": true, \"tickfont\": {\"color\": \"#4D5663\"}, \"title\": {\"font\": {\"color\": \"#4D5663\"}, \"text\": \"\"}, \"zerolinecolor\": \"#E1E5ED\"}, \"yaxis\": {\"gridcolor\": \"#E1E5ED\", \"showgrid\": true, \"tickfont\": {\"color\": \"#4D5663\"}, \"title\": {\"font\": {\"color\": \"#4D5663\"}, \"text\": \"\"}, \"zerolinecolor\": \"#E1E5ED\"}},\n",
       "                        {\"showLink\": true, \"linkText\": \"Export to plot.ly\", \"plotlyServerURL\": \"https://plot.ly\", \"responsive\": true}\n",
       "                    ).then(function(){\n",
       "                            \n",
       "var gd = document.getElementById('c2aa22a5-31f8-4bcc-b956-9f6dad4b9a10');\n",
       "var x = new MutationObserver(function (mutations, observer) {{\n",
       "        var display = window.getComputedStyle(gd).display;\n",
       "        if (!display || display === 'none') {{\n",
       "            console.log([gd, 'removed!']);\n",
       "            Plotly.purge(gd);\n",
       "            observer.disconnect();\n",
       "        }}\n",
       "}});\n",
       "\n",
       "// Listen for the removal of the full notebook cells\n",
       "var notebookContainer = gd.closest('#notebook-container');\n",
       "if (notebookContainer) {{\n",
       "    x.observe(notebookContainer, {childList: true});\n",
       "}}\n",
       "\n",
       "// Listen for the clearing of the current output cell\n",
       "var outputEl = gd.closest('.output');\n",
       "if (outputEl) {{\n",
       "    x.observe(outputEl, {childList: true});\n",
       "}}\n",
       "\n",
       "                        })\n",
       "                };\n",
       "                });\n",
       "            </script>\n",
       "        </div>"
      ]
     },
     "metadata": {},
     "output_type": "display_data"
    }
   ],
   "source": [
    "df.iplot(kind='bubble',x='A',y='B',size='C')"
   ]
  },
  {
   "cell_type": "markdown",
   "metadata": {},
   "source": [
    "## scatter_matrix()\n",
    "\n",
    "Similar to sns.pairplot()"
   ]
  },
  {
   "cell_type": "code",
   "execution_count": 18,
   "metadata": {},
   "outputs": [
    {
     "data": {
      "application/vnd.plotly.v1+json": {
       "config": {
        "linkText": "Export to plot.ly",
        "plotlyServerURL": "https://plot.ly",
        "showLink": true
       },
       "data": [
        {
         "histfunc": "count",
         "histnorm": "",
         "marker": {
          "color": "rgba(255, 153, 51, 1.0)",
          "line": {
           "color": "#4D5663",
           "width": 1.3
          }
         },
         "name": "A",
         "nbinsx": 10,
         "opacity": 0.8,
         "orientation": "v",
         "type": "histogram",
         "x": [
          -1.471246046471575,
          -0.6085271820559668,
          -1.1482532192046846,
          0.2627438693214284,
          2.0836070829778217,
          1.5631875324236681,
          0.5808382512677437,
          0.100140196384491,
          1.2262718460695798,
          0.8121590295001305,
          -1.638410297853008,
          -1.3542858701443743,
          -0.8859356006558017,
          -0.2117872482653646,
          1.52205049796379,
          1.2017578197554064,
          0.7102810124642632,
          -0.23545767256803746,
          -1.0956352495534225,
          1.6932444882864444,
          -1.1138532343497123,
          -1.5238659046060548,
          0.3737582919650709,
          0.3995610667193977,
          0.9849517979430037,
          -0.41286182514316994,
          0.22013798773369625,
          -0.9940274726090388,
          0.6053300034368934,
          -0.08150224288687338,
          1.530830559698258,
          -0.6660168670760243,
          0.2476162288080035,
          -0.4201157591879683,
          2.513732444208068,
          0.18748712307755722,
          0.7718010241028777,
          -1.0216987493095346,
          0.7359898582102234,
          0.3394424646684741,
          -0.9547001300086784,
          0.26062793395402895,
          0.0012388939276021182,
          -0.7212270021450119,
          -0.15919309376546367,
          1.036045290051301,
          -0.4367341912425072,
          0.4183619167269413,
          -0.9869819473111545,
          0.46415757459025936,
          0.907112493962873,
          0.04747797526445393,
          0.8951683093198934,
          -0.31273978661031654,
          -0.38852459396814915,
          -0.21814853869892967,
          0.06874986096360242,
          -2.046811137503565,
          -0.30188504766584184,
          0.3991831218988143,
          -0.9619090984013201,
          2.0755584226410915,
          -0.13736165791337965,
          -0.861827546842935,
          1.3905627604649047,
          1.0763452474767086,
          -0.2724466161760582,
          -1.136419583125512,
          2.8963094311022544,
          0.998479444147354,
          0.5363394044353359,
          0.2999801214940788,
          -0.20435860562327238,
          -1.5876911915428935,
          0.1689491074557813,
          -0.7550523982876761,
          0.14659326683142235,
          0.3792701864009285,
          -0.4165521378380051,
          0.6274214865629553,
          -0.258635746057425,
          0.04476722623086181,
          -0.43703161466220863,
          1.88969572647376,
          0.5535706370729377,
          -1.135244544453128,
          -0.7426677074998133,
          1.3798865438745822,
          -0.5563918303956908,
          0.09158547419355814,
          1.8855374103668776,
          -0.2805175659360432,
          0.36070102679322347,
          0.10638652573921481,
          0.44057146595893387,
          0.814903887602294,
          1.0939625067681231,
          0.05500910372074003,
          1.1314784533017157,
          -0.09953238829157161
         ],
         "xaxis": "x",
         "yaxis": "y"
        },
        {
         "line": {
          "color": "rgba(128, 128, 128, 1.0)",
          "dash": "solid",
          "shape": "linear",
          "width": 1.3
         },
         "marker": {
          "size": 2,
          "symbol": "circle"
         },
         "mode": "markers",
         "name": "A",
         "text": "",
         "type": "scatter",
         "x": [
          0.10505382992684024,
          0.4711673041743314,
          -1.519353471102839,
          1.1547053822403741,
          1.0798174585278013,
          -1.3167731816914818,
          0.7135520626011459,
          1.228071405621988,
          -0.1352699013682691,
          -0.7225275214145852,
          0.8549518116578393,
          -0.20588106476691267,
          -0.06703596762655907,
          1.6484770738363472,
          0.36286227096868406,
          0.05563320312264835,
          0.6254057338704384,
          -0.012960080959064806,
          -2.12932614521523,
          -0.4157931861958631,
          0.7506360034867958,
          -0.13983300982709157,
          -0.5900443492432567,
          0.7044782303155932,
          0.19890230651938576,
          -0.19836350350683987,
          0.8759308313682472,
          0.19836962628705404,
          0.27848831138959357,
          -1.1694296316366262,
          0.3267781091861249,
          0.38581311088033404,
          0.5471026752728532,
          -0.3146860226848104,
          -1.6035633201468595,
          0.06543919850911806,
          0.19351698419231203,
          -2.386767407875937,
          1.0703757940939813,
          0.7152544617480363,
          -0.8402296964975069,
          1.4438748000559085,
          1.1597873193139467,
          -1.1095184085909982,
          1.6063077829929273,
          -1.085090818463112,
          -2.022548824739018,
          0.4053807585208205,
          -0.40761135212598976,
          0.7499089719721762,
          -0.5654299320552335,
          -1.1633044453417187,
          -0.8681796271541423,
          -2.9092295914484128,
          -0.9005417099015383,
          0.9211926455003557,
          0.5479235918234407,
          0.3674219082707484,
          -0.7334914066505491,
          -0.19254775033259586,
          -0.14348719988088504,
          -2.329163688940016,
          0.15057290599191409,
          0.1237678929312007,
          0.683541160275602,
          -0.5466460611187319,
          -0.04691790105302972,
          -0.30891159038861526,
          0.7099401236493103,
          -0.002099768581509483,
          -0.41139758529350595,
          -0.5335970457156773,
          -1.30774488435812,
          -0.36710599583404435,
          -1.0930940248488794,
          0.023844045404288774,
          2.0924380613371363,
          0.30331932358411845,
          0.476086299481217,
          1.384076360250985,
          0.5766365706062448,
          2.6165270527132005,
          0.5821109662236247,
          -0.15557530418785975,
          -0.436490142585925,
          0.22184656251316986,
          0.15768753650025366,
          0.48078788358232516,
          0.6292641638456508,
          -0.692412043888579,
          -0.95302121836286,
          -1.2292609401152632,
          -0.2634772944023692,
          -0.7325543666146409,
          -0.7984410176142024,
          -0.1336532721123046,
          -0.6412326522647541,
          1.054147966339015,
          -1.2572779777281884,
          -0.015239046068296734
         ],
         "xaxis": "x2",
         "y": [
          -1.471246046471575,
          -0.6085271820559668,
          -1.1482532192046846,
          0.2627438693214284,
          2.0836070829778217,
          1.5631875324236681,
          0.5808382512677437,
          0.100140196384491,
          1.2262718460695798,
          0.8121590295001305,
          -1.638410297853008,
          -1.3542858701443743,
          -0.8859356006558017,
          -0.2117872482653646,
          1.52205049796379,
          1.2017578197554064,
          0.7102810124642632,
          -0.23545767256803746,
          -1.0956352495534225,
          1.6932444882864444,
          -1.1138532343497123,
          -1.5238659046060548,
          0.3737582919650709,
          0.3995610667193977,
          0.9849517979430037,
          -0.41286182514316994,
          0.22013798773369625,
          -0.9940274726090388,
          0.6053300034368934,
          -0.08150224288687338,
          1.530830559698258,
          -0.6660168670760243,
          0.2476162288080035,
          -0.4201157591879683,
          2.513732444208068,
          0.18748712307755722,
          0.7718010241028777,
          -1.0216987493095346,
          0.7359898582102234,
          0.3394424646684741,
          -0.9547001300086784,
          0.26062793395402895,
          0.0012388939276021182,
          -0.7212270021450119,
          -0.15919309376546367,
          1.036045290051301,
          -0.4367341912425072,
          0.4183619167269413,
          -0.9869819473111545,
          0.46415757459025936,
          0.907112493962873,
          0.04747797526445393,
          0.8951683093198934,
          -0.31273978661031654,
          -0.38852459396814915,
          -0.21814853869892967,
          0.06874986096360242,
          -2.046811137503565,
          -0.30188504766584184,
          0.3991831218988143,
          -0.9619090984013201,
          2.0755584226410915,
          -0.13736165791337965,
          -0.861827546842935,
          1.3905627604649047,
          1.0763452474767086,
          -0.2724466161760582,
          -1.136419583125512,
          2.8963094311022544,
          0.998479444147354,
          0.5363394044353359,
          0.2999801214940788,
          -0.20435860562327238,
          -1.5876911915428935,
          0.1689491074557813,
          -0.7550523982876761,
          0.14659326683142235,
          0.3792701864009285,
          -0.4165521378380051,
          0.6274214865629553,
          -0.258635746057425,
          0.04476722623086181,
          -0.43703161466220863,
          1.88969572647376,
          0.5535706370729377,
          -1.135244544453128,
          -0.7426677074998133,
          1.3798865438745822,
          -0.5563918303956908,
          0.09158547419355814,
          1.8855374103668776,
          -0.2805175659360432,
          0.36070102679322347,
          0.10638652573921481,
          0.44057146595893387,
          0.814903887602294,
          1.0939625067681231,
          0.05500910372074003,
          1.1314784533017157,
          -0.09953238829157161
         ],
         "yaxis": "y2"
        },
        {
         "line": {
          "color": "rgba(128, 128, 128, 1.0)",
          "dash": "solid",
          "shape": "linear",
          "width": 1.3
         },
         "marker": {
          "size": 2,
          "symbol": "circle"
         },
         "mode": "markers",
         "name": "A",
         "text": "",
         "type": "scatter",
         "x": [
          1.325986951306397,
          0.3260379678254021,
          -0.6163141446218504,
          0.4865973906254282,
          -0.07384714793910596,
          -2.128247649858157,
          0.9899786707681009,
          0.14390188488075562,
          0.5336971821513533,
          0.4330008788577454,
          1.4452855469916024,
          -0.24384767262997345,
          1.1847648177497783,
          0.7799653705182154,
          -0.6574537627718967,
          0.27867216167241443,
          0.07588461288882492,
          -0.054931609777654565,
          -0.3897119807407454,
          -0.6956935853181346,
          1.1816183034522831,
          -1.1341849733544478,
          -0.7761928446286821,
          -0.33419641397345046,
          1.8029064600206193,
          -0.41126648853461406,
          0.1013433435335912,
          -0.7183074617106701,
          -0.9670050965595579,
          -1.6207257672281554,
          0.7954284285550257,
          -0.6734527329075558,
          -0.09187453740053732,
          -0.10535460398852417,
          1.0139817857216846,
          -1.2006436182800866,
          0.46800207960460516,
          -0.049311319918309025,
          -1.5417472465743782,
          0.7771450432253827,
          0.686136729790617,
          0.08923433437150162,
          0.05371058934124575,
          -0.21846160736961995,
          -0.2265002951523715,
          0.23520569975094874,
          -1.0796353950980793,
          0.362596291957928,
          0.09283659392817996,
          -2.5489346064706813,
          -0.057141943766571474,
          -0.9424839599164069,
          0.4001259193237537,
          -1.8698119344867443,
          0.2925367384240569,
          1.331267574686436,
          1.864571910544436,
          -0.7743132267142006,
          1.1670841105410528,
          -0.4950983601309821,
          0.33485479537762813,
          -0.799765405259079,
          -0.5802842439486725,
          -0.09426345017889004,
          0.42376844450748985,
          0.7309860802256991,
          -0.06359644700751567,
          0.5365761776278535,
          1.2439735218033796,
          -0.6382846187613946,
          0.3863512889639779,
          -1.1746670984970677,
          -0.37923214184639314,
          0.9018058454431247,
          -0.10664807931447579,
          -0.31121323608409596,
          0.10832582480128584,
          1.115439114527776,
          -2.031404005566909,
          -0.12889886456592117,
          0.9056694380957064,
          -0.09804614447182573,
          -0.523195433240164,
          1.19199643787691,
          1.0215520940845166,
          0.6393485638374208,
          -0.6848970885709333,
          -1.179477655610947,
          1.7627636217745741,
          -1.4971944888621254,
          0.4829579797475712,
          0.8682296601800666,
          -1.2501150710128046,
          -1.5417147550758254,
          -0.4234705537455407,
          0.19729208563905898,
          -0.37372792440213,
          -0.5091185358749735,
          0.08993672459993808,
          -1.8830749902412796
         ],
         "xaxis": "x3",
         "y": [
          -1.471246046471575,
          -0.6085271820559668,
          -1.1482532192046846,
          0.2627438693214284,
          2.0836070829778217,
          1.5631875324236681,
          0.5808382512677437,
          0.100140196384491,
          1.2262718460695798,
          0.8121590295001305,
          -1.638410297853008,
          -1.3542858701443743,
          -0.8859356006558017,
          -0.2117872482653646,
          1.52205049796379,
          1.2017578197554064,
          0.7102810124642632,
          -0.23545767256803746,
          -1.0956352495534225,
          1.6932444882864444,
          -1.1138532343497123,
          -1.5238659046060548,
          0.3737582919650709,
          0.3995610667193977,
          0.9849517979430037,
          -0.41286182514316994,
          0.22013798773369625,
          -0.9940274726090388,
          0.6053300034368934,
          -0.08150224288687338,
          1.530830559698258,
          -0.6660168670760243,
          0.2476162288080035,
          -0.4201157591879683,
          2.513732444208068,
          0.18748712307755722,
          0.7718010241028777,
          -1.0216987493095346,
          0.7359898582102234,
          0.3394424646684741,
          -0.9547001300086784,
          0.26062793395402895,
          0.0012388939276021182,
          -0.7212270021450119,
          -0.15919309376546367,
          1.036045290051301,
          -0.4367341912425072,
          0.4183619167269413,
          -0.9869819473111545,
          0.46415757459025936,
          0.907112493962873,
          0.04747797526445393,
          0.8951683093198934,
          -0.31273978661031654,
          -0.38852459396814915,
          -0.21814853869892967,
          0.06874986096360242,
          -2.046811137503565,
          -0.30188504766584184,
          0.3991831218988143,
          -0.9619090984013201,
          2.0755584226410915,
          -0.13736165791337965,
          -0.861827546842935,
          1.3905627604649047,
          1.0763452474767086,
          -0.2724466161760582,
          -1.136419583125512,
          2.8963094311022544,
          0.998479444147354,
          0.5363394044353359,
          0.2999801214940788,
          -0.20435860562327238,
          -1.5876911915428935,
          0.1689491074557813,
          -0.7550523982876761,
          0.14659326683142235,
          0.3792701864009285,
          -0.4165521378380051,
          0.6274214865629553,
          -0.258635746057425,
          0.04476722623086181,
          -0.43703161466220863,
          1.88969572647376,
          0.5535706370729377,
          -1.135244544453128,
          -0.7426677074998133,
          1.3798865438745822,
          -0.5563918303956908,
          0.09158547419355814,
          1.8855374103668776,
          -0.2805175659360432,
          0.36070102679322347,
          0.10638652573921481,
          0.44057146595893387,
          0.814903887602294,
          1.0939625067681231,
          0.05500910372074003,
          1.1314784533017157,
          -0.09953238829157161
         ],
         "yaxis": "y3"
        },
        {
         "line": {
          "color": "rgba(128, 128, 128, 1.0)",
          "dash": "solid",
          "shape": "linear",
          "width": 1.3
         },
         "marker": {
          "size": 2,
          "symbol": "circle"
         },
         "mode": "markers",
         "name": "A",
         "text": "",
         "type": "scatter",
         "x": [
          -1.6871166152710537,
          -0.9709146074308888,
          -0.5322687464826751,
          -1.6969044654616137,
          0.7018157212462957,
          0.9890954159029299,
          -0.4702174322607677,
          -0.24929570482905708,
          0.3524966518991849,
          -0.7227365763521281,
          -1.4483138832116238,
          -0.5050505653111883,
          0.4404702119730967,
          -0.656458520091939,
          -1.3499073526001655,
          0.5107501454794654,
          -0.885194562273592,
          1.193129915575867,
          -0.30421983227978533,
          -1.2574239056063228,
          0.7508696903541667,
          -1.9985018939930543,
          0.03425003934745889,
          -0.6153295531228291,
          0.7223070194201905,
          0.8616393716838515,
          0.8820365750281605,
          -0.9930005394602255,
          0.37014383508428567,
          1.5027419249381913,
          -0.471380520807196,
          -0.29084224788858515,
          -0.26044546542940417,
          0.8539609395064646,
          -0.4805021629999128,
          1.4240455241041656,
          -1.5412081455412912,
          -0.5458634616042313,
          -1.628079942459507,
          -0.6209367076435095,
          0.04600294829541975,
          0.3728183058942605,
          0.5976505352052968,
          -0.14286910087644122,
          -0.44875522549010516,
          -0.22474917871122074,
          0.009461892310466116,
          -0.660179455861578,
          0.07397956783829993,
          0.8466637287763911,
          -1.3234384495945357,
          -0.635962540855323,
          -1.1678012205692707,
          -1.4465013591047111,
          -0.14216286294785316,
          0.662408676756327,
          0.012322378508136372,
          -0.6791340352131084,
          -0.399513561915407,
          1.7069048108155547,
          -0.08557883992246046,
          -0.8540168724982593,
          -0.38877723003686493,
          0.5221342900851099,
          0.38995860461647136,
          0.6518837539021461,
          0.6617211729627388,
          1.4977735186716319,
          -1.552861353779272,
          -0.8668378088231466,
          -0.5438853001361091,
          0.916330945434475,
          0.1253157187887894,
          -0.49852395379171893,
          -0.1124279985582431,
          0.8480276998382047,
          1.6748397162748503,
          -0.6397636666884824,
          1.5256103272594805,
          0.9572907516938183,
          -0.25187559722114633,
          -0.1796614147649597,
          0.23321839917916154,
          -0.4174270901150401,
          -0.11002827398015526,
          1.025764367521651,
          0.4943326831140443,
          -1.5913397501504867,
          0.2721769464952303,
          -0.5300161224993246,
          -1.1819066014832864,
          -2.87294669199844,
          -0.8690188264419709,
          0.037336100302141156,
          -0.9833889977259772,
          -0.9607778938055418,
          -1.0564344370656864,
          0.5204201260016412,
          1.0520151247197016,
          -1.28171408051971
         ],
         "xaxis": "x4",
         "y": [
          -1.471246046471575,
          -0.6085271820559668,
          -1.1482532192046846,
          0.2627438693214284,
          2.0836070829778217,
          1.5631875324236681,
          0.5808382512677437,
          0.100140196384491,
          1.2262718460695798,
          0.8121590295001305,
          -1.638410297853008,
          -1.3542858701443743,
          -0.8859356006558017,
          -0.2117872482653646,
          1.52205049796379,
          1.2017578197554064,
          0.7102810124642632,
          -0.23545767256803746,
          -1.0956352495534225,
          1.6932444882864444,
          -1.1138532343497123,
          -1.5238659046060548,
          0.3737582919650709,
          0.3995610667193977,
          0.9849517979430037,
          -0.41286182514316994,
          0.22013798773369625,
          -0.9940274726090388,
          0.6053300034368934,
          -0.08150224288687338,
          1.530830559698258,
          -0.6660168670760243,
          0.2476162288080035,
          -0.4201157591879683,
          2.513732444208068,
          0.18748712307755722,
          0.7718010241028777,
          -1.0216987493095346,
          0.7359898582102234,
          0.3394424646684741,
          -0.9547001300086784,
          0.26062793395402895,
          0.0012388939276021182,
          -0.7212270021450119,
          -0.15919309376546367,
          1.036045290051301,
          -0.4367341912425072,
          0.4183619167269413,
          -0.9869819473111545,
          0.46415757459025936,
          0.907112493962873,
          0.04747797526445393,
          0.8951683093198934,
          -0.31273978661031654,
          -0.38852459396814915,
          -0.21814853869892967,
          0.06874986096360242,
          -2.046811137503565,
          -0.30188504766584184,
          0.3991831218988143,
          -0.9619090984013201,
          2.0755584226410915,
          -0.13736165791337965,
          -0.861827546842935,
          1.3905627604649047,
          1.0763452474767086,
          -0.2724466161760582,
          -1.136419583125512,
          2.8963094311022544,
          0.998479444147354,
          0.5363394044353359,
          0.2999801214940788,
          -0.20435860562327238,
          -1.5876911915428935,
          0.1689491074557813,
          -0.7550523982876761,
          0.14659326683142235,
          0.3792701864009285,
          -0.4165521378380051,
          0.6274214865629553,
          -0.258635746057425,
          0.04476722623086181,
          -0.43703161466220863,
          1.88969572647376,
          0.5535706370729377,
          -1.135244544453128,
          -0.7426677074998133,
          1.3798865438745822,
          -0.5563918303956908,
          0.09158547419355814,
          1.8855374103668776,
          -0.2805175659360432,
          0.36070102679322347,
          0.10638652573921481,
          0.44057146595893387,
          0.814903887602294,
          1.0939625067681231,
          0.05500910372074003,
          1.1314784533017157,
          -0.09953238829157161
         ],
         "yaxis": "y4"
        },
        {
         "line": {
          "color": "rgba(128, 128, 128, 1.0)",
          "dash": "solid",
          "shape": "linear",
          "width": 1.3
         },
         "marker": {
          "size": 2,
          "symbol": "circle"
         },
         "mode": "markers",
         "name": "B",
         "text": "",
         "type": "scatter",
         "x": [
          -1.471246046471575,
          -0.6085271820559668,
          -1.1482532192046846,
          0.2627438693214284,
          2.0836070829778217,
          1.5631875324236681,
          0.5808382512677437,
          0.100140196384491,
          1.2262718460695798,
          0.8121590295001305,
          -1.638410297853008,
          -1.3542858701443743,
          -0.8859356006558017,
          -0.2117872482653646,
          1.52205049796379,
          1.2017578197554064,
          0.7102810124642632,
          -0.23545767256803746,
          -1.0956352495534225,
          1.6932444882864444,
          -1.1138532343497123,
          -1.5238659046060548,
          0.3737582919650709,
          0.3995610667193977,
          0.9849517979430037,
          -0.41286182514316994,
          0.22013798773369625,
          -0.9940274726090388,
          0.6053300034368934,
          -0.08150224288687338,
          1.530830559698258,
          -0.6660168670760243,
          0.2476162288080035,
          -0.4201157591879683,
          2.513732444208068,
          0.18748712307755722,
          0.7718010241028777,
          -1.0216987493095346,
          0.7359898582102234,
          0.3394424646684741,
          -0.9547001300086784,
          0.26062793395402895,
          0.0012388939276021182,
          -0.7212270021450119,
          -0.15919309376546367,
          1.036045290051301,
          -0.4367341912425072,
          0.4183619167269413,
          -0.9869819473111545,
          0.46415757459025936,
          0.907112493962873,
          0.04747797526445393,
          0.8951683093198934,
          -0.31273978661031654,
          -0.38852459396814915,
          -0.21814853869892967,
          0.06874986096360242,
          -2.046811137503565,
          -0.30188504766584184,
          0.3991831218988143,
          -0.9619090984013201,
          2.0755584226410915,
          -0.13736165791337965,
          -0.861827546842935,
          1.3905627604649047,
          1.0763452474767086,
          -0.2724466161760582,
          -1.136419583125512,
          2.8963094311022544,
          0.998479444147354,
          0.5363394044353359,
          0.2999801214940788,
          -0.20435860562327238,
          -1.5876911915428935,
          0.1689491074557813,
          -0.7550523982876761,
          0.14659326683142235,
          0.3792701864009285,
          -0.4165521378380051,
          0.6274214865629553,
          -0.258635746057425,
          0.04476722623086181,
          -0.43703161466220863,
          1.88969572647376,
          0.5535706370729377,
          -1.135244544453128,
          -0.7426677074998133,
          1.3798865438745822,
          -0.5563918303956908,
          0.09158547419355814,
          1.8855374103668776,
          -0.2805175659360432,
          0.36070102679322347,
          0.10638652573921481,
          0.44057146595893387,
          0.814903887602294,
          1.0939625067681231,
          0.05500910372074003,
          1.1314784533017157,
          -0.09953238829157161
         ],
         "xaxis": "x5",
         "y": [
          0.10505382992684024,
          0.4711673041743314,
          -1.519353471102839,
          1.1547053822403741,
          1.0798174585278013,
          -1.3167731816914818,
          0.7135520626011459,
          1.228071405621988,
          -0.1352699013682691,
          -0.7225275214145852,
          0.8549518116578393,
          -0.20588106476691267,
          -0.06703596762655907,
          1.6484770738363472,
          0.36286227096868406,
          0.05563320312264835,
          0.6254057338704384,
          -0.012960080959064806,
          -2.12932614521523,
          -0.4157931861958631,
          0.7506360034867958,
          -0.13983300982709157,
          -0.5900443492432567,
          0.7044782303155932,
          0.19890230651938576,
          -0.19836350350683987,
          0.8759308313682472,
          0.19836962628705404,
          0.27848831138959357,
          -1.1694296316366262,
          0.3267781091861249,
          0.38581311088033404,
          0.5471026752728532,
          -0.3146860226848104,
          -1.6035633201468595,
          0.06543919850911806,
          0.19351698419231203,
          -2.386767407875937,
          1.0703757940939813,
          0.7152544617480363,
          -0.8402296964975069,
          1.4438748000559085,
          1.1597873193139467,
          -1.1095184085909982,
          1.6063077829929273,
          -1.085090818463112,
          -2.022548824739018,
          0.4053807585208205,
          -0.40761135212598976,
          0.7499089719721762,
          -0.5654299320552335,
          -1.1633044453417187,
          -0.8681796271541423,
          -2.9092295914484128,
          -0.9005417099015383,
          0.9211926455003557,
          0.5479235918234407,
          0.3674219082707484,
          -0.7334914066505491,
          -0.19254775033259586,
          -0.14348719988088504,
          -2.329163688940016,
          0.15057290599191409,
          0.1237678929312007,
          0.683541160275602,
          -0.5466460611187319,
          -0.04691790105302972,
          -0.30891159038861526,
          0.7099401236493103,
          -0.002099768581509483,
          -0.41139758529350595,
          -0.5335970457156773,
          -1.30774488435812,
          -0.36710599583404435,
          -1.0930940248488794,
          0.023844045404288774,
          2.0924380613371363,
          0.30331932358411845,
          0.476086299481217,
          1.384076360250985,
          0.5766365706062448,
          2.6165270527132005,
          0.5821109662236247,
          -0.15557530418785975,
          -0.436490142585925,
          0.22184656251316986,
          0.15768753650025366,
          0.48078788358232516,
          0.6292641638456508,
          -0.692412043888579,
          -0.95302121836286,
          -1.2292609401152632,
          -0.2634772944023692,
          -0.7325543666146409,
          -0.7984410176142024,
          -0.1336532721123046,
          -0.6412326522647541,
          1.054147966339015,
          -1.2572779777281884,
          -0.015239046068296734
         ],
         "yaxis": "y5"
        },
        {
         "histfunc": "count",
         "histnorm": "",
         "marker": {
          "color": "rgba(55, 128, 191, 1.0)",
          "line": {
           "color": "#4D5663",
           "width": 1.3
          }
         },
         "name": "B",
         "nbinsx": 10,
         "opacity": 0.8,
         "orientation": "v",
         "type": "histogram",
         "x": [
          0.10505382992684024,
          0.4711673041743314,
          -1.519353471102839,
          1.1547053822403741,
          1.0798174585278013,
          -1.3167731816914818,
          0.7135520626011459,
          1.228071405621988,
          -0.1352699013682691,
          -0.7225275214145852,
          0.8549518116578393,
          -0.20588106476691267,
          -0.06703596762655907,
          1.6484770738363472,
          0.36286227096868406,
          0.05563320312264835,
          0.6254057338704384,
          -0.012960080959064806,
          -2.12932614521523,
          -0.4157931861958631,
          0.7506360034867958,
          -0.13983300982709157,
          -0.5900443492432567,
          0.7044782303155932,
          0.19890230651938576,
          -0.19836350350683987,
          0.8759308313682472,
          0.19836962628705404,
          0.27848831138959357,
          -1.1694296316366262,
          0.3267781091861249,
          0.38581311088033404,
          0.5471026752728532,
          -0.3146860226848104,
          -1.6035633201468595,
          0.06543919850911806,
          0.19351698419231203,
          -2.386767407875937,
          1.0703757940939813,
          0.7152544617480363,
          -0.8402296964975069,
          1.4438748000559085,
          1.1597873193139467,
          -1.1095184085909982,
          1.6063077829929273,
          -1.085090818463112,
          -2.022548824739018,
          0.4053807585208205,
          -0.40761135212598976,
          0.7499089719721762,
          -0.5654299320552335,
          -1.1633044453417187,
          -0.8681796271541423,
          -2.9092295914484128,
          -0.9005417099015383,
          0.9211926455003557,
          0.5479235918234407,
          0.3674219082707484,
          -0.7334914066505491,
          -0.19254775033259586,
          -0.14348719988088504,
          -2.329163688940016,
          0.15057290599191409,
          0.1237678929312007,
          0.683541160275602,
          -0.5466460611187319,
          -0.04691790105302972,
          -0.30891159038861526,
          0.7099401236493103,
          -0.002099768581509483,
          -0.41139758529350595,
          -0.5335970457156773,
          -1.30774488435812,
          -0.36710599583404435,
          -1.0930940248488794,
          0.023844045404288774,
          2.0924380613371363,
          0.30331932358411845,
          0.476086299481217,
          1.384076360250985,
          0.5766365706062448,
          2.6165270527132005,
          0.5821109662236247,
          -0.15557530418785975,
          -0.436490142585925,
          0.22184656251316986,
          0.15768753650025366,
          0.48078788358232516,
          0.6292641638456508,
          -0.692412043888579,
          -0.95302121836286,
          -1.2292609401152632,
          -0.2634772944023692,
          -0.7325543666146409,
          -0.7984410176142024,
          -0.1336532721123046,
          -0.6412326522647541,
          1.054147966339015,
          -1.2572779777281884,
          -0.015239046068296734
         ],
         "xaxis": "x6",
         "yaxis": "y6"
        },
        {
         "line": {
          "color": "rgba(128, 128, 128, 1.0)",
          "dash": "solid",
          "shape": "linear",
          "width": 1.3
         },
         "marker": {
          "size": 2,
          "symbol": "circle"
         },
         "mode": "markers",
         "name": "B",
         "text": "",
         "type": "scatter",
         "x": [
          1.325986951306397,
          0.3260379678254021,
          -0.6163141446218504,
          0.4865973906254282,
          -0.07384714793910596,
          -2.128247649858157,
          0.9899786707681009,
          0.14390188488075562,
          0.5336971821513533,
          0.4330008788577454,
          1.4452855469916024,
          -0.24384767262997345,
          1.1847648177497783,
          0.7799653705182154,
          -0.6574537627718967,
          0.27867216167241443,
          0.07588461288882492,
          -0.054931609777654565,
          -0.3897119807407454,
          -0.6956935853181346,
          1.1816183034522831,
          -1.1341849733544478,
          -0.7761928446286821,
          -0.33419641397345046,
          1.8029064600206193,
          -0.41126648853461406,
          0.1013433435335912,
          -0.7183074617106701,
          -0.9670050965595579,
          -1.6207257672281554,
          0.7954284285550257,
          -0.6734527329075558,
          -0.09187453740053732,
          -0.10535460398852417,
          1.0139817857216846,
          -1.2006436182800866,
          0.46800207960460516,
          -0.049311319918309025,
          -1.5417472465743782,
          0.7771450432253827,
          0.686136729790617,
          0.08923433437150162,
          0.05371058934124575,
          -0.21846160736961995,
          -0.2265002951523715,
          0.23520569975094874,
          -1.0796353950980793,
          0.362596291957928,
          0.09283659392817996,
          -2.5489346064706813,
          -0.057141943766571474,
          -0.9424839599164069,
          0.4001259193237537,
          -1.8698119344867443,
          0.2925367384240569,
          1.331267574686436,
          1.864571910544436,
          -0.7743132267142006,
          1.1670841105410528,
          -0.4950983601309821,
          0.33485479537762813,
          -0.799765405259079,
          -0.5802842439486725,
          -0.09426345017889004,
          0.42376844450748985,
          0.7309860802256991,
          -0.06359644700751567,
          0.5365761776278535,
          1.2439735218033796,
          -0.6382846187613946,
          0.3863512889639779,
          -1.1746670984970677,
          -0.37923214184639314,
          0.9018058454431247,
          -0.10664807931447579,
          -0.31121323608409596,
          0.10832582480128584,
          1.115439114527776,
          -2.031404005566909,
          -0.12889886456592117,
          0.9056694380957064,
          -0.09804614447182573,
          -0.523195433240164,
          1.19199643787691,
          1.0215520940845166,
          0.6393485638374208,
          -0.6848970885709333,
          -1.179477655610947,
          1.7627636217745741,
          -1.4971944888621254,
          0.4829579797475712,
          0.8682296601800666,
          -1.2501150710128046,
          -1.5417147550758254,
          -0.4234705537455407,
          0.19729208563905898,
          -0.37372792440213,
          -0.5091185358749735,
          0.08993672459993808,
          -1.8830749902412796
         ],
         "xaxis": "x7",
         "y": [
          0.10505382992684024,
          0.4711673041743314,
          -1.519353471102839,
          1.1547053822403741,
          1.0798174585278013,
          -1.3167731816914818,
          0.7135520626011459,
          1.228071405621988,
          -0.1352699013682691,
          -0.7225275214145852,
          0.8549518116578393,
          -0.20588106476691267,
          -0.06703596762655907,
          1.6484770738363472,
          0.36286227096868406,
          0.05563320312264835,
          0.6254057338704384,
          -0.012960080959064806,
          -2.12932614521523,
          -0.4157931861958631,
          0.7506360034867958,
          -0.13983300982709157,
          -0.5900443492432567,
          0.7044782303155932,
          0.19890230651938576,
          -0.19836350350683987,
          0.8759308313682472,
          0.19836962628705404,
          0.27848831138959357,
          -1.1694296316366262,
          0.3267781091861249,
          0.38581311088033404,
          0.5471026752728532,
          -0.3146860226848104,
          -1.6035633201468595,
          0.06543919850911806,
          0.19351698419231203,
          -2.386767407875937,
          1.0703757940939813,
          0.7152544617480363,
          -0.8402296964975069,
          1.4438748000559085,
          1.1597873193139467,
          -1.1095184085909982,
          1.6063077829929273,
          -1.085090818463112,
          -2.022548824739018,
          0.4053807585208205,
          -0.40761135212598976,
          0.7499089719721762,
          -0.5654299320552335,
          -1.1633044453417187,
          -0.8681796271541423,
          -2.9092295914484128,
          -0.9005417099015383,
          0.9211926455003557,
          0.5479235918234407,
          0.3674219082707484,
          -0.7334914066505491,
          -0.19254775033259586,
          -0.14348719988088504,
          -2.329163688940016,
          0.15057290599191409,
          0.1237678929312007,
          0.683541160275602,
          -0.5466460611187319,
          -0.04691790105302972,
          -0.30891159038861526,
          0.7099401236493103,
          -0.002099768581509483,
          -0.41139758529350595,
          -0.5335970457156773,
          -1.30774488435812,
          -0.36710599583404435,
          -1.0930940248488794,
          0.023844045404288774,
          2.0924380613371363,
          0.30331932358411845,
          0.476086299481217,
          1.384076360250985,
          0.5766365706062448,
          2.6165270527132005,
          0.5821109662236247,
          -0.15557530418785975,
          -0.436490142585925,
          0.22184656251316986,
          0.15768753650025366,
          0.48078788358232516,
          0.6292641638456508,
          -0.692412043888579,
          -0.95302121836286,
          -1.2292609401152632,
          -0.2634772944023692,
          -0.7325543666146409,
          -0.7984410176142024,
          -0.1336532721123046,
          -0.6412326522647541,
          1.054147966339015,
          -1.2572779777281884,
          -0.015239046068296734
         ],
         "yaxis": "y7"
        },
        {
         "line": {
          "color": "rgba(128, 128, 128, 1.0)",
          "dash": "solid",
          "shape": "linear",
          "width": 1.3
         },
         "marker": {
          "size": 2,
          "symbol": "circle"
         },
         "mode": "markers",
         "name": "B",
         "text": "",
         "type": "scatter",
         "x": [
          -1.6871166152710537,
          -0.9709146074308888,
          -0.5322687464826751,
          -1.6969044654616137,
          0.7018157212462957,
          0.9890954159029299,
          -0.4702174322607677,
          -0.24929570482905708,
          0.3524966518991849,
          -0.7227365763521281,
          -1.4483138832116238,
          -0.5050505653111883,
          0.4404702119730967,
          -0.656458520091939,
          -1.3499073526001655,
          0.5107501454794654,
          -0.885194562273592,
          1.193129915575867,
          -0.30421983227978533,
          -1.2574239056063228,
          0.7508696903541667,
          -1.9985018939930543,
          0.03425003934745889,
          -0.6153295531228291,
          0.7223070194201905,
          0.8616393716838515,
          0.8820365750281605,
          -0.9930005394602255,
          0.37014383508428567,
          1.5027419249381913,
          -0.471380520807196,
          -0.29084224788858515,
          -0.26044546542940417,
          0.8539609395064646,
          -0.4805021629999128,
          1.4240455241041656,
          -1.5412081455412912,
          -0.5458634616042313,
          -1.628079942459507,
          -0.6209367076435095,
          0.04600294829541975,
          0.3728183058942605,
          0.5976505352052968,
          -0.14286910087644122,
          -0.44875522549010516,
          -0.22474917871122074,
          0.009461892310466116,
          -0.660179455861578,
          0.07397956783829993,
          0.8466637287763911,
          -1.3234384495945357,
          -0.635962540855323,
          -1.1678012205692707,
          -1.4465013591047111,
          -0.14216286294785316,
          0.662408676756327,
          0.012322378508136372,
          -0.6791340352131084,
          -0.399513561915407,
          1.7069048108155547,
          -0.08557883992246046,
          -0.8540168724982593,
          -0.38877723003686493,
          0.5221342900851099,
          0.38995860461647136,
          0.6518837539021461,
          0.6617211729627388,
          1.4977735186716319,
          -1.552861353779272,
          -0.8668378088231466,
          -0.5438853001361091,
          0.916330945434475,
          0.1253157187887894,
          -0.49852395379171893,
          -0.1124279985582431,
          0.8480276998382047,
          1.6748397162748503,
          -0.6397636666884824,
          1.5256103272594805,
          0.9572907516938183,
          -0.25187559722114633,
          -0.1796614147649597,
          0.23321839917916154,
          -0.4174270901150401,
          -0.11002827398015526,
          1.025764367521651,
          0.4943326831140443,
          -1.5913397501504867,
          0.2721769464952303,
          -0.5300161224993246,
          -1.1819066014832864,
          -2.87294669199844,
          -0.8690188264419709,
          0.037336100302141156,
          -0.9833889977259772,
          -0.9607778938055418,
          -1.0564344370656864,
          0.5204201260016412,
          1.0520151247197016,
          -1.28171408051971
         ],
         "xaxis": "x8",
         "y": [
          0.10505382992684024,
          0.4711673041743314,
          -1.519353471102839,
          1.1547053822403741,
          1.0798174585278013,
          -1.3167731816914818,
          0.7135520626011459,
          1.228071405621988,
          -0.1352699013682691,
          -0.7225275214145852,
          0.8549518116578393,
          -0.20588106476691267,
          -0.06703596762655907,
          1.6484770738363472,
          0.36286227096868406,
          0.05563320312264835,
          0.6254057338704384,
          -0.012960080959064806,
          -2.12932614521523,
          -0.4157931861958631,
          0.7506360034867958,
          -0.13983300982709157,
          -0.5900443492432567,
          0.7044782303155932,
          0.19890230651938576,
          -0.19836350350683987,
          0.8759308313682472,
          0.19836962628705404,
          0.27848831138959357,
          -1.1694296316366262,
          0.3267781091861249,
          0.38581311088033404,
          0.5471026752728532,
          -0.3146860226848104,
          -1.6035633201468595,
          0.06543919850911806,
          0.19351698419231203,
          -2.386767407875937,
          1.0703757940939813,
          0.7152544617480363,
          -0.8402296964975069,
          1.4438748000559085,
          1.1597873193139467,
          -1.1095184085909982,
          1.6063077829929273,
          -1.085090818463112,
          -2.022548824739018,
          0.4053807585208205,
          -0.40761135212598976,
          0.7499089719721762,
          -0.5654299320552335,
          -1.1633044453417187,
          -0.8681796271541423,
          -2.9092295914484128,
          -0.9005417099015383,
          0.9211926455003557,
          0.5479235918234407,
          0.3674219082707484,
          -0.7334914066505491,
          -0.19254775033259586,
          -0.14348719988088504,
          -2.329163688940016,
          0.15057290599191409,
          0.1237678929312007,
          0.683541160275602,
          -0.5466460611187319,
          -0.04691790105302972,
          -0.30891159038861526,
          0.7099401236493103,
          -0.002099768581509483,
          -0.41139758529350595,
          -0.5335970457156773,
          -1.30774488435812,
          -0.36710599583404435,
          -1.0930940248488794,
          0.023844045404288774,
          2.0924380613371363,
          0.30331932358411845,
          0.476086299481217,
          1.384076360250985,
          0.5766365706062448,
          2.6165270527132005,
          0.5821109662236247,
          -0.15557530418785975,
          -0.436490142585925,
          0.22184656251316986,
          0.15768753650025366,
          0.48078788358232516,
          0.6292641638456508,
          -0.692412043888579,
          -0.95302121836286,
          -1.2292609401152632,
          -0.2634772944023692,
          -0.7325543666146409,
          -0.7984410176142024,
          -0.1336532721123046,
          -0.6412326522647541,
          1.054147966339015,
          -1.2572779777281884,
          -0.015239046068296734
         ],
         "yaxis": "y8"
        },
        {
         "line": {
          "color": "rgba(128, 128, 128, 1.0)",
          "dash": "solid",
          "shape": "linear",
          "width": 1.3
         },
         "marker": {
          "size": 2,
          "symbol": "circle"
         },
         "mode": "markers",
         "name": "C",
         "text": "",
         "type": "scatter",
         "x": [
          -1.471246046471575,
          -0.6085271820559668,
          -1.1482532192046846,
          0.2627438693214284,
          2.0836070829778217,
          1.5631875324236681,
          0.5808382512677437,
          0.100140196384491,
          1.2262718460695798,
          0.8121590295001305,
          -1.638410297853008,
          -1.3542858701443743,
          -0.8859356006558017,
          -0.2117872482653646,
          1.52205049796379,
          1.2017578197554064,
          0.7102810124642632,
          -0.23545767256803746,
          -1.0956352495534225,
          1.6932444882864444,
          -1.1138532343497123,
          -1.5238659046060548,
          0.3737582919650709,
          0.3995610667193977,
          0.9849517979430037,
          -0.41286182514316994,
          0.22013798773369625,
          -0.9940274726090388,
          0.6053300034368934,
          -0.08150224288687338,
          1.530830559698258,
          -0.6660168670760243,
          0.2476162288080035,
          -0.4201157591879683,
          2.513732444208068,
          0.18748712307755722,
          0.7718010241028777,
          -1.0216987493095346,
          0.7359898582102234,
          0.3394424646684741,
          -0.9547001300086784,
          0.26062793395402895,
          0.0012388939276021182,
          -0.7212270021450119,
          -0.15919309376546367,
          1.036045290051301,
          -0.4367341912425072,
          0.4183619167269413,
          -0.9869819473111545,
          0.46415757459025936,
          0.907112493962873,
          0.04747797526445393,
          0.8951683093198934,
          -0.31273978661031654,
          -0.38852459396814915,
          -0.21814853869892967,
          0.06874986096360242,
          -2.046811137503565,
          -0.30188504766584184,
          0.3991831218988143,
          -0.9619090984013201,
          2.0755584226410915,
          -0.13736165791337965,
          -0.861827546842935,
          1.3905627604649047,
          1.0763452474767086,
          -0.2724466161760582,
          -1.136419583125512,
          2.8963094311022544,
          0.998479444147354,
          0.5363394044353359,
          0.2999801214940788,
          -0.20435860562327238,
          -1.5876911915428935,
          0.1689491074557813,
          -0.7550523982876761,
          0.14659326683142235,
          0.3792701864009285,
          -0.4165521378380051,
          0.6274214865629553,
          -0.258635746057425,
          0.04476722623086181,
          -0.43703161466220863,
          1.88969572647376,
          0.5535706370729377,
          -1.135244544453128,
          -0.7426677074998133,
          1.3798865438745822,
          -0.5563918303956908,
          0.09158547419355814,
          1.8855374103668776,
          -0.2805175659360432,
          0.36070102679322347,
          0.10638652573921481,
          0.44057146595893387,
          0.814903887602294,
          1.0939625067681231,
          0.05500910372074003,
          1.1314784533017157,
          -0.09953238829157161
         ],
         "xaxis": "x9",
         "y": [
          1.325986951306397,
          0.3260379678254021,
          -0.6163141446218504,
          0.4865973906254282,
          -0.07384714793910596,
          -2.128247649858157,
          0.9899786707681009,
          0.14390188488075562,
          0.5336971821513533,
          0.4330008788577454,
          1.4452855469916024,
          -0.24384767262997345,
          1.1847648177497783,
          0.7799653705182154,
          -0.6574537627718967,
          0.27867216167241443,
          0.07588461288882492,
          -0.054931609777654565,
          -0.3897119807407454,
          -0.6956935853181346,
          1.1816183034522831,
          -1.1341849733544478,
          -0.7761928446286821,
          -0.33419641397345046,
          1.8029064600206193,
          -0.41126648853461406,
          0.1013433435335912,
          -0.7183074617106701,
          -0.9670050965595579,
          -1.6207257672281554,
          0.7954284285550257,
          -0.6734527329075558,
          -0.09187453740053732,
          -0.10535460398852417,
          1.0139817857216846,
          -1.2006436182800866,
          0.46800207960460516,
          -0.049311319918309025,
          -1.5417472465743782,
          0.7771450432253827,
          0.686136729790617,
          0.08923433437150162,
          0.05371058934124575,
          -0.21846160736961995,
          -0.2265002951523715,
          0.23520569975094874,
          -1.0796353950980793,
          0.362596291957928,
          0.09283659392817996,
          -2.5489346064706813,
          -0.057141943766571474,
          -0.9424839599164069,
          0.4001259193237537,
          -1.8698119344867443,
          0.2925367384240569,
          1.331267574686436,
          1.864571910544436,
          -0.7743132267142006,
          1.1670841105410528,
          -0.4950983601309821,
          0.33485479537762813,
          -0.799765405259079,
          -0.5802842439486725,
          -0.09426345017889004,
          0.42376844450748985,
          0.7309860802256991,
          -0.06359644700751567,
          0.5365761776278535,
          1.2439735218033796,
          -0.6382846187613946,
          0.3863512889639779,
          -1.1746670984970677,
          -0.37923214184639314,
          0.9018058454431247,
          -0.10664807931447579,
          -0.31121323608409596,
          0.10832582480128584,
          1.115439114527776,
          -2.031404005566909,
          -0.12889886456592117,
          0.9056694380957064,
          -0.09804614447182573,
          -0.523195433240164,
          1.19199643787691,
          1.0215520940845166,
          0.6393485638374208,
          -0.6848970885709333,
          -1.179477655610947,
          1.7627636217745741,
          -1.4971944888621254,
          0.4829579797475712,
          0.8682296601800666,
          -1.2501150710128046,
          -1.5417147550758254,
          -0.4234705537455407,
          0.19729208563905898,
          -0.37372792440213,
          -0.5091185358749735,
          0.08993672459993808,
          -1.8830749902412796
         ],
         "yaxis": "y9"
        },
        {
         "line": {
          "color": "rgba(128, 128, 128, 1.0)",
          "dash": "solid",
          "shape": "linear",
          "width": 1.3
         },
         "marker": {
          "size": 2,
          "symbol": "circle"
         },
         "mode": "markers",
         "name": "C",
         "text": "",
         "type": "scatter",
         "x": [
          0.10505382992684024,
          0.4711673041743314,
          -1.519353471102839,
          1.1547053822403741,
          1.0798174585278013,
          -1.3167731816914818,
          0.7135520626011459,
          1.228071405621988,
          -0.1352699013682691,
          -0.7225275214145852,
          0.8549518116578393,
          -0.20588106476691267,
          -0.06703596762655907,
          1.6484770738363472,
          0.36286227096868406,
          0.05563320312264835,
          0.6254057338704384,
          -0.012960080959064806,
          -2.12932614521523,
          -0.4157931861958631,
          0.7506360034867958,
          -0.13983300982709157,
          -0.5900443492432567,
          0.7044782303155932,
          0.19890230651938576,
          -0.19836350350683987,
          0.8759308313682472,
          0.19836962628705404,
          0.27848831138959357,
          -1.1694296316366262,
          0.3267781091861249,
          0.38581311088033404,
          0.5471026752728532,
          -0.3146860226848104,
          -1.6035633201468595,
          0.06543919850911806,
          0.19351698419231203,
          -2.386767407875937,
          1.0703757940939813,
          0.7152544617480363,
          -0.8402296964975069,
          1.4438748000559085,
          1.1597873193139467,
          -1.1095184085909982,
          1.6063077829929273,
          -1.085090818463112,
          -2.022548824739018,
          0.4053807585208205,
          -0.40761135212598976,
          0.7499089719721762,
          -0.5654299320552335,
          -1.1633044453417187,
          -0.8681796271541423,
          -2.9092295914484128,
          -0.9005417099015383,
          0.9211926455003557,
          0.5479235918234407,
          0.3674219082707484,
          -0.7334914066505491,
          -0.19254775033259586,
          -0.14348719988088504,
          -2.329163688940016,
          0.15057290599191409,
          0.1237678929312007,
          0.683541160275602,
          -0.5466460611187319,
          -0.04691790105302972,
          -0.30891159038861526,
          0.7099401236493103,
          -0.002099768581509483,
          -0.41139758529350595,
          -0.5335970457156773,
          -1.30774488435812,
          -0.36710599583404435,
          -1.0930940248488794,
          0.023844045404288774,
          2.0924380613371363,
          0.30331932358411845,
          0.476086299481217,
          1.384076360250985,
          0.5766365706062448,
          2.6165270527132005,
          0.5821109662236247,
          -0.15557530418785975,
          -0.436490142585925,
          0.22184656251316986,
          0.15768753650025366,
          0.48078788358232516,
          0.6292641638456508,
          -0.692412043888579,
          -0.95302121836286,
          -1.2292609401152632,
          -0.2634772944023692,
          -0.7325543666146409,
          -0.7984410176142024,
          -0.1336532721123046,
          -0.6412326522647541,
          1.054147966339015,
          -1.2572779777281884,
          -0.015239046068296734
         ],
         "xaxis": "x10",
         "y": [
          1.325986951306397,
          0.3260379678254021,
          -0.6163141446218504,
          0.4865973906254282,
          -0.07384714793910596,
          -2.128247649858157,
          0.9899786707681009,
          0.14390188488075562,
          0.5336971821513533,
          0.4330008788577454,
          1.4452855469916024,
          -0.24384767262997345,
          1.1847648177497783,
          0.7799653705182154,
          -0.6574537627718967,
          0.27867216167241443,
          0.07588461288882492,
          -0.054931609777654565,
          -0.3897119807407454,
          -0.6956935853181346,
          1.1816183034522831,
          -1.1341849733544478,
          -0.7761928446286821,
          -0.33419641397345046,
          1.8029064600206193,
          -0.41126648853461406,
          0.1013433435335912,
          -0.7183074617106701,
          -0.9670050965595579,
          -1.6207257672281554,
          0.7954284285550257,
          -0.6734527329075558,
          -0.09187453740053732,
          -0.10535460398852417,
          1.0139817857216846,
          -1.2006436182800866,
          0.46800207960460516,
          -0.049311319918309025,
          -1.5417472465743782,
          0.7771450432253827,
          0.686136729790617,
          0.08923433437150162,
          0.05371058934124575,
          -0.21846160736961995,
          -0.2265002951523715,
          0.23520569975094874,
          -1.0796353950980793,
          0.362596291957928,
          0.09283659392817996,
          -2.5489346064706813,
          -0.057141943766571474,
          -0.9424839599164069,
          0.4001259193237537,
          -1.8698119344867443,
          0.2925367384240569,
          1.331267574686436,
          1.864571910544436,
          -0.7743132267142006,
          1.1670841105410528,
          -0.4950983601309821,
          0.33485479537762813,
          -0.799765405259079,
          -0.5802842439486725,
          -0.09426345017889004,
          0.42376844450748985,
          0.7309860802256991,
          -0.06359644700751567,
          0.5365761776278535,
          1.2439735218033796,
          -0.6382846187613946,
          0.3863512889639779,
          -1.1746670984970677,
          -0.37923214184639314,
          0.9018058454431247,
          -0.10664807931447579,
          -0.31121323608409596,
          0.10832582480128584,
          1.115439114527776,
          -2.031404005566909,
          -0.12889886456592117,
          0.9056694380957064,
          -0.09804614447182573,
          -0.523195433240164,
          1.19199643787691,
          1.0215520940845166,
          0.6393485638374208,
          -0.6848970885709333,
          -1.179477655610947,
          1.7627636217745741,
          -1.4971944888621254,
          0.4829579797475712,
          0.8682296601800666,
          -1.2501150710128046,
          -1.5417147550758254,
          -0.4234705537455407,
          0.19729208563905898,
          -0.37372792440213,
          -0.5091185358749735,
          0.08993672459993808,
          -1.8830749902412796
         ],
         "yaxis": "y10"
        },
        {
         "histfunc": "count",
         "histnorm": "",
         "marker": {
          "color": "rgba(50, 171, 96, 1.0)",
          "line": {
           "color": "#4D5663",
           "width": 1.3
          }
         },
         "name": "C",
         "nbinsx": 10,
         "opacity": 0.8,
         "orientation": "v",
         "type": "histogram",
         "x": [
          1.325986951306397,
          0.3260379678254021,
          -0.6163141446218504,
          0.4865973906254282,
          -0.07384714793910596,
          -2.128247649858157,
          0.9899786707681009,
          0.14390188488075562,
          0.5336971821513533,
          0.4330008788577454,
          1.4452855469916024,
          -0.24384767262997345,
          1.1847648177497783,
          0.7799653705182154,
          -0.6574537627718967,
          0.27867216167241443,
          0.07588461288882492,
          -0.054931609777654565,
          -0.3897119807407454,
          -0.6956935853181346,
          1.1816183034522831,
          -1.1341849733544478,
          -0.7761928446286821,
          -0.33419641397345046,
          1.8029064600206193,
          -0.41126648853461406,
          0.1013433435335912,
          -0.7183074617106701,
          -0.9670050965595579,
          -1.6207257672281554,
          0.7954284285550257,
          -0.6734527329075558,
          -0.09187453740053732,
          -0.10535460398852417,
          1.0139817857216846,
          -1.2006436182800866,
          0.46800207960460516,
          -0.049311319918309025,
          -1.5417472465743782,
          0.7771450432253827,
          0.686136729790617,
          0.08923433437150162,
          0.05371058934124575,
          -0.21846160736961995,
          -0.2265002951523715,
          0.23520569975094874,
          -1.0796353950980793,
          0.362596291957928,
          0.09283659392817996,
          -2.5489346064706813,
          -0.057141943766571474,
          -0.9424839599164069,
          0.4001259193237537,
          -1.8698119344867443,
          0.2925367384240569,
          1.331267574686436,
          1.864571910544436,
          -0.7743132267142006,
          1.1670841105410528,
          -0.4950983601309821,
          0.33485479537762813,
          -0.799765405259079,
          -0.5802842439486725,
          -0.09426345017889004,
          0.42376844450748985,
          0.7309860802256991,
          -0.06359644700751567,
          0.5365761776278535,
          1.2439735218033796,
          -0.6382846187613946,
          0.3863512889639779,
          -1.1746670984970677,
          -0.37923214184639314,
          0.9018058454431247,
          -0.10664807931447579,
          -0.31121323608409596,
          0.10832582480128584,
          1.115439114527776,
          -2.031404005566909,
          -0.12889886456592117,
          0.9056694380957064,
          -0.09804614447182573,
          -0.523195433240164,
          1.19199643787691,
          1.0215520940845166,
          0.6393485638374208,
          -0.6848970885709333,
          -1.179477655610947,
          1.7627636217745741,
          -1.4971944888621254,
          0.4829579797475712,
          0.8682296601800666,
          -1.2501150710128046,
          -1.5417147550758254,
          -0.4234705537455407,
          0.19729208563905898,
          -0.37372792440213,
          -0.5091185358749735,
          0.08993672459993808,
          -1.8830749902412796
         ],
         "xaxis": "x11",
         "yaxis": "y11"
        },
        {
         "line": {
          "color": "rgba(128, 128, 128, 1.0)",
          "dash": "solid",
          "shape": "linear",
          "width": 1.3
         },
         "marker": {
          "size": 2,
          "symbol": "circle"
         },
         "mode": "markers",
         "name": "C",
         "text": "",
         "type": "scatter",
         "x": [
          -1.6871166152710537,
          -0.9709146074308888,
          -0.5322687464826751,
          -1.6969044654616137,
          0.7018157212462957,
          0.9890954159029299,
          -0.4702174322607677,
          -0.24929570482905708,
          0.3524966518991849,
          -0.7227365763521281,
          -1.4483138832116238,
          -0.5050505653111883,
          0.4404702119730967,
          -0.656458520091939,
          -1.3499073526001655,
          0.5107501454794654,
          -0.885194562273592,
          1.193129915575867,
          -0.30421983227978533,
          -1.2574239056063228,
          0.7508696903541667,
          -1.9985018939930543,
          0.03425003934745889,
          -0.6153295531228291,
          0.7223070194201905,
          0.8616393716838515,
          0.8820365750281605,
          -0.9930005394602255,
          0.37014383508428567,
          1.5027419249381913,
          -0.471380520807196,
          -0.29084224788858515,
          -0.26044546542940417,
          0.8539609395064646,
          -0.4805021629999128,
          1.4240455241041656,
          -1.5412081455412912,
          -0.5458634616042313,
          -1.628079942459507,
          -0.6209367076435095,
          0.04600294829541975,
          0.3728183058942605,
          0.5976505352052968,
          -0.14286910087644122,
          -0.44875522549010516,
          -0.22474917871122074,
          0.009461892310466116,
          -0.660179455861578,
          0.07397956783829993,
          0.8466637287763911,
          -1.3234384495945357,
          -0.635962540855323,
          -1.1678012205692707,
          -1.4465013591047111,
          -0.14216286294785316,
          0.662408676756327,
          0.012322378508136372,
          -0.6791340352131084,
          -0.399513561915407,
          1.7069048108155547,
          -0.08557883992246046,
          -0.8540168724982593,
          -0.38877723003686493,
          0.5221342900851099,
          0.38995860461647136,
          0.6518837539021461,
          0.6617211729627388,
          1.4977735186716319,
          -1.552861353779272,
          -0.8668378088231466,
          -0.5438853001361091,
          0.916330945434475,
          0.1253157187887894,
          -0.49852395379171893,
          -0.1124279985582431,
          0.8480276998382047,
          1.6748397162748503,
          -0.6397636666884824,
          1.5256103272594805,
          0.9572907516938183,
          -0.25187559722114633,
          -0.1796614147649597,
          0.23321839917916154,
          -0.4174270901150401,
          -0.11002827398015526,
          1.025764367521651,
          0.4943326831140443,
          -1.5913397501504867,
          0.2721769464952303,
          -0.5300161224993246,
          -1.1819066014832864,
          -2.87294669199844,
          -0.8690188264419709,
          0.037336100302141156,
          -0.9833889977259772,
          -0.9607778938055418,
          -1.0564344370656864,
          0.5204201260016412,
          1.0520151247197016,
          -1.28171408051971
         ],
         "xaxis": "x12",
         "y": [
          1.325986951306397,
          0.3260379678254021,
          -0.6163141446218504,
          0.4865973906254282,
          -0.07384714793910596,
          -2.128247649858157,
          0.9899786707681009,
          0.14390188488075562,
          0.5336971821513533,
          0.4330008788577454,
          1.4452855469916024,
          -0.24384767262997345,
          1.1847648177497783,
          0.7799653705182154,
          -0.6574537627718967,
          0.27867216167241443,
          0.07588461288882492,
          -0.054931609777654565,
          -0.3897119807407454,
          -0.6956935853181346,
          1.1816183034522831,
          -1.1341849733544478,
          -0.7761928446286821,
          -0.33419641397345046,
          1.8029064600206193,
          -0.41126648853461406,
          0.1013433435335912,
          -0.7183074617106701,
          -0.9670050965595579,
          -1.6207257672281554,
          0.7954284285550257,
          -0.6734527329075558,
          -0.09187453740053732,
          -0.10535460398852417,
          1.0139817857216846,
          -1.2006436182800866,
          0.46800207960460516,
          -0.049311319918309025,
          -1.5417472465743782,
          0.7771450432253827,
          0.686136729790617,
          0.08923433437150162,
          0.05371058934124575,
          -0.21846160736961995,
          -0.2265002951523715,
          0.23520569975094874,
          -1.0796353950980793,
          0.362596291957928,
          0.09283659392817996,
          -2.5489346064706813,
          -0.057141943766571474,
          -0.9424839599164069,
          0.4001259193237537,
          -1.8698119344867443,
          0.2925367384240569,
          1.331267574686436,
          1.864571910544436,
          -0.7743132267142006,
          1.1670841105410528,
          -0.4950983601309821,
          0.33485479537762813,
          -0.799765405259079,
          -0.5802842439486725,
          -0.09426345017889004,
          0.42376844450748985,
          0.7309860802256991,
          -0.06359644700751567,
          0.5365761776278535,
          1.2439735218033796,
          -0.6382846187613946,
          0.3863512889639779,
          -1.1746670984970677,
          -0.37923214184639314,
          0.9018058454431247,
          -0.10664807931447579,
          -0.31121323608409596,
          0.10832582480128584,
          1.115439114527776,
          -2.031404005566909,
          -0.12889886456592117,
          0.9056694380957064,
          -0.09804614447182573,
          -0.523195433240164,
          1.19199643787691,
          1.0215520940845166,
          0.6393485638374208,
          -0.6848970885709333,
          -1.179477655610947,
          1.7627636217745741,
          -1.4971944888621254,
          0.4829579797475712,
          0.8682296601800666,
          -1.2501150710128046,
          -1.5417147550758254,
          -0.4234705537455407,
          0.19729208563905898,
          -0.37372792440213,
          -0.5091185358749735,
          0.08993672459993808,
          -1.8830749902412796
         ],
         "yaxis": "y12"
        },
        {
         "line": {
          "color": "rgba(128, 128, 128, 1.0)",
          "dash": "solid",
          "shape": "linear",
          "width": 1.3
         },
         "marker": {
          "size": 2,
          "symbol": "circle"
         },
         "mode": "markers",
         "name": "D",
         "text": "",
         "type": "scatter",
         "x": [
          -1.471246046471575,
          -0.6085271820559668,
          -1.1482532192046846,
          0.2627438693214284,
          2.0836070829778217,
          1.5631875324236681,
          0.5808382512677437,
          0.100140196384491,
          1.2262718460695798,
          0.8121590295001305,
          -1.638410297853008,
          -1.3542858701443743,
          -0.8859356006558017,
          -0.2117872482653646,
          1.52205049796379,
          1.2017578197554064,
          0.7102810124642632,
          -0.23545767256803746,
          -1.0956352495534225,
          1.6932444882864444,
          -1.1138532343497123,
          -1.5238659046060548,
          0.3737582919650709,
          0.3995610667193977,
          0.9849517979430037,
          -0.41286182514316994,
          0.22013798773369625,
          -0.9940274726090388,
          0.6053300034368934,
          -0.08150224288687338,
          1.530830559698258,
          -0.6660168670760243,
          0.2476162288080035,
          -0.4201157591879683,
          2.513732444208068,
          0.18748712307755722,
          0.7718010241028777,
          -1.0216987493095346,
          0.7359898582102234,
          0.3394424646684741,
          -0.9547001300086784,
          0.26062793395402895,
          0.0012388939276021182,
          -0.7212270021450119,
          -0.15919309376546367,
          1.036045290051301,
          -0.4367341912425072,
          0.4183619167269413,
          -0.9869819473111545,
          0.46415757459025936,
          0.907112493962873,
          0.04747797526445393,
          0.8951683093198934,
          -0.31273978661031654,
          -0.38852459396814915,
          -0.21814853869892967,
          0.06874986096360242,
          -2.046811137503565,
          -0.30188504766584184,
          0.3991831218988143,
          -0.9619090984013201,
          2.0755584226410915,
          -0.13736165791337965,
          -0.861827546842935,
          1.3905627604649047,
          1.0763452474767086,
          -0.2724466161760582,
          -1.136419583125512,
          2.8963094311022544,
          0.998479444147354,
          0.5363394044353359,
          0.2999801214940788,
          -0.20435860562327238,
          -1.5876911915428935,
          0.1689491074557813,
          -0.7550523982876761,
          0.14659326683142235,
          0.3792701864009285,
          -0.4165521378380051,
          0.6274214865629553,
          -0.258635746057425,
          0.04476722623086181,
          -0.43703161466220863,
          1.88969572647376,
          0.5535706370729377,
          -1.135244544453128,
          -0.7426677074998133,
          1.3798865438745822,
          -0.5563918303956908,
          0.09158547419355814,
          1.8855374103668776,
          -0.2805175659360432,
          0.36070102679322347,
          0.10638652573921481,
          0.44057146595893387,
          0.814903887602294,
          1.0939625067681231,
          0.05500910372074003,
          1.1314784533017157,
          -0.09953238829157161
         ],
         "xaxis": "x13",
         "y": [
          -1.6871166152710537,
          -0.9709146074308888,
          -0.5322687464826751,
          -1.6969044654616137,
          0.7018157212462957,
          0.9890954159029299,
          -0.4702174322607677,
          -0.24929570482905708,
          0.3524966518991849,
          -0.7227365763521281,
          -1.4483138832116238,
          -0.5050505653111883,
          0.4404702119730967,
          -0.656458520091939,
          -1.3499073526001655,
          0.5107501454794654,
          -0.885194562273592,
          1.193129915575867,
          -0.30421983227978533,
          -1.2574239056063228,
          0.7508696903541667,
          -1.9985018939930543,
          0.03425003934745889,
          -0.6153295531228291,
          0.7223070194201905,
          0.8616393716838515,
          0.8820365750281605,
          -0.9930005394602255,
          0.37014383508428567,
          1.5027419249381913,
          -0.471380520807196,
          -0.29084224788858515,
          -0.26044546542940417,
          0.8539609395064646,
          -0.4805021629999128,
          1.4240455241041656,
          -1.5412081455412912,
          -0.5458634616042313,
          -1.628079942459507,
          -0.6209367076435095,
          0.04600294829541975,
          0.3728183058942605,
          0.5976505352052968,
          -0.14286910087644122,
          -0.44875522549010516,
          -0.22474917871122074,
          0.009461892310466116,
          -0.660179455861578,
          0.07397956783829993,
          0.8466637287763911,
          -1.3234384495945357,
          -0.635962540855323,
          -1.1678012205692707,
          -1.4465013591047111,
          -0.14216286294785316,
          0.662408676756327,
          0.012322378508136372,
          -0.6791340352131084,
          -0.399513561915407,
          1.7069048108155547,
          -0.08557883992246046,
          -0.8540168724982593,
          -0.38877723003686493,
          0.5221342900851099,
          0.38995860461647136,
          0.6518837539021461,
          0.6617211729627388,
          1.4977735186716319,
          -1.552861353779272,
          -0.8668378088231466,
          -0.5438853001361091,
          0.916330945434475,
          0.1253157187887894,
          -0.49852395379171893,
          -0.1124279985582431,
          0.8480276998382047,
          1.6748397162748503,
          -0.6397636666884824,
          1.5256103272594805,
          0.9572907516938183,
          -0.25187559722114633,
          -0.1796614147649597,
          0.23321839917916154,
          -0.4174270901150401,
          -0.11002827398015526,
          1.025764367521651,
          0.4943326831140443,
          -1.5913397501504867,
          0.2721769464952303,
          -0.5300161224993246,
          -1.1819066014832864,
          -2.87294669199844,
          -0.8690188264419709,
          0.037336100302141156,
          -0.9833889977259772,
          -0.9607778938055418,
          -1.0564344370656864,
          0.5204201260016412,
          1.0520151247197016,
          -1.28171408051971
         ],
         "yaxis": "y13"
        },
        {
         "line": {
          "color": "rgba(128, 128, 128, 1.0)",
          "dash": "solid",
          "shape": "linear",
          "width": 1.3
         },
         "marker": {
          "size": 2,
          "symbol": "circle"
         },
         "mode": "markers",
         "name": "D",
         "text": "",
         "type": "scatter",
         "x": [
          0.10505382992684024,
          0.4711673041743314,
          -1.519353471102839,
          1.1547053822403741,
          1.0798174585278013,
          -1.3167731816914818,
          0.7135520626011459,
          1.228071405621988,
          -0.1352699013682691,
          -0.7225275214145852,
          0.8549518116578393,
          -0.20588106476691267,
          -0.06703596762655907,
          1.6484770738363472,
          0.36286227096868406,
          0.05563320312264835,
          0.6254057338704384,
          -0.012960080959064806,
          -2.12932614521523,
          -0.4157931861958631,
          0.7506360034867958,
          -0.13983300982709157,
          -0.5900443492432567,
          0.7044782303155932,
          0.19890230651938576,
          -0.19836350350683987,
          0.8759308313682472,
          0.19836962628705404,
          0.27848831138959357,
          -1.1694296316366262,
          0.3267781091861249,
          0.38581311088033404,
          0.5471026752728532,
          -0.3146860226848104,
          -1.6035633201468595,
          0.06543919850911806,
          0.19351698419231203,
          -2.386767407875937,
          1.0703757940939813,
          0.7152544617480363,
          -0.8402296964975069,
          1.4438748000559085,
          1.1597873193139467,
          -1.1095184085909982,
          1.6063077829929273,
          -1.085090818463112,
          -2.022548824739018,
          0.4053807585208205,
          -0.40761135212598976,
          0.7499089719721762,
          -0.5654299320552335,
          -1.1633044453417187,
          -0.8681796271541423,
          -2.9092295914484128,
          -0.9005417099015383,
          0.9211926455003557,
          0.5479235918234407,
          0.3674219082707484,
          -0.7334914066505491,
          -0.19254775033259586,
          -0.14348719988088504,
          -2.329163688940016,
          0.15057290599191409,
          0.1237678929312007,
          0.683541160275602,
          -0.5466460611187319,
          -0.04691790105302972,
          -0.30891159038861526,
          0.7099401236493103,
          -0.002099768581509483,
          -0.41139758529350595,
          -0.5335970457156773,
          -1.30774488435812,
          -0.36710599583404435,
          -1.0930940248488794,
          0.023844045404288774,
          2.0924380613371363,
          0.30331932358411845,
          0.476086299481217,
          1.384076360250985,
          0.5766365706062448,
          2.6165270527132005,
          0.5821109662236247,
          -0.15557530418785975,
          -0.436490142585925,
          0.22184656251316986,
          0.15768753650025366,
          0.48078788358232516,
          0.6292641638456508,
          -0.692412043888579,
          -0.95302121836286,
          -1.2292609401152632,
          -0.2634772944023692,
          -0.7325543666146409,
          -0.7984410176142024,
          -0.1336532721123046,
          -0.6412326522647541,
          1.054147966339015,
          -1.2572779777281884,
          -0.015239046068296734
         ],
         "xaxis": "x14",
         "y": [
          -1.6871166152710537,
          -0.9709146074308888,
          -0.5322687464826751,
          -1.6969044654616137,
          0.7018157212462957,
          0.9890954159029299,
          -0.4702174322607677,
          -0.24929570482905708,
          0.3524966518991849,
          -0.7227365763521281,
          -1.4483138832116238,
          -0.5050505653111883,
          0.4404702119730967,
          -0.656458520091939,
          -1.3499073526001655,
          0.5107501454794654,
          -0.885194562273592,
          1.193129915575867,
          -0.30421983227978533,
          -1.2574239056063228,
          0.7508696903541667,
          -1.9985018939930543,
          0.03425003934745889,
          -0.6153295531228291,
          0.7223070194201905,
          0.8616393716838515,
          0.8820365750281605,
          -0.9930005394602255,
          0.37014383508428567,
          1.5027419249381913,
          -0.471380520807196,
          -0.29084224788858515,
          -0.26044546542940417,
          0.8539609395064646,
          -0.4805021629999128,
          1.4240455241041656,
          -1.5412081455412912,
          -0.5458634616042313,
          -1.628079942459507,
          -0.6209367076435095,
          0.04600294829541975,
          0.3728183058942605,
          0.5976505352052968,
          -0.14286910087644122,
          -0.44875522549010516,
          -0.22474917871122074,
          0.009461892310466116,
          -0.660179455861578,
          0.07397956783829993,
          0.8466637287763911,
          -1.3234384495945357,
          -0.635962540855323,
          -1.1678012205692707,
          -1.4465013591047111,
          -0.14216286294785316,
          0.662408676756327,
          0.012322378508136372,
          -0.6791340352131084,
          -0.399513561915407,
          1.7069048108155547,
          -0.08557883992246046,
          -0.8540168724982593,
          -0.38877723003686493,
          0.5221342900851099,
          0.38995860461647136,
          0.6518837539021461,
          0.6617211729627388,
          1.4977735186716319,
          -1.552861353779272,
          -0.8668378088231466,
          -0.5438853001361091,
          0.916330945434475,
          0.1253157187887894,
          -0.49852395379171893,
          -0.1124279985582431,
          0.8480276998382047,
          1.6748397162748503,
          -0.6397636666884824,
          1.5256103272594805,
          0.9572907516938183,
          -0.25187559722114633,
          -0.1796614147649597,
          0.23321839917916154,
          -0.4174270901150401,
          -0.11002827398015526,
          1.025764367521651,
          0.4943326831140443,
          -1.5913397501504867,
          0.2721769464952303,
          -0.5300161224993246,
          -1.1819066014832864,
          -2.87294669199844,
          -0.8690188264419709,
          0.037336100302141156,
          -0.9833889977259772,
          -0.9607778938055418,
          -1.0564344370656864,
          0.5204201260016412,
          1.0520151247197016,
          -1.28171408051971
         ],
         "yaxis": "y14"
        },
        {
         "line": {
          "color": "rgba(128, 128, 128, 1.0)",
          "dash": "solid",
          "shape": "linear",
          "width": 1.3
         },
         "marker": {
          "size": 2,
          "symbol": "circle"
         },
         "mode": "markers",
         "name": "D",
         "text": "",
         "type": "scatter",
         "x": [
          1.325986951306397,
          0.3260379678254021,
          -0.6163141446218504,
          0.4865973906254282,
          -0.07384714793910596,
          -2.128247649858157,
          0.9899786707681009,
          0.14390188488075562,
          0.5336971821513533,
          0.4330008788577454,
          1.4452855469916024,
          -0.24384767262997345,
          1.1847648177497783,
          0.7799653705182154,
          -0.6574537627718967,
          0.27867216167241443,
          0.07588461288882492,
          -0.054931609777654565,
          -0.3897119807407454,
          -0.6956935853181346,
          1.1816183034522831,
          -1.1341849733544478,
          -0.7761928446286821,
          -0.33419641397345046,
          1.8029064600206193,
          -0.41126648853461406,
          0.1013433435335912,
          -0.7183074617106701,
          -0.9670050965595579,
          -1.6207257672281554,
          0.7954284285550257,
          -0.6734527329075558,
          -0.09187453740053732,
          -0.10535460398852417,
          1.0139817857216846,
          -1.2006436182800866,
          0.46800207960460516,
          -0.049311319918309025,
          -1.5417472465743782,
          0.7771450432253827,
          0.686136729790617,
          0.08923433437150162,
          0.05371058934124575,
          -0.21846160736961995,
          -0.2265002951523715,
          0.23520569975094874,
          -1.0796353950980793,
          0.362596291957928,
          0.09283659392817996,
          -2.5489346064706813,
          -0.057141943766571474,
          -0.9424839599164069,
          0.4001259193237537,
          -1.8698119344867443,
          0.2925367384240569,
          1.331267574686436,
          1.864571910544436,
          -0.7743132267142006,
          1.1670841105410528,
          -0.4950983601309821,
          0.33485479537762813,
          -0.799765405259079,
          -0.5802842439486725,
          -0.09426345017889004,
          0.42376844450748985,
          0.7309860802256991,
          -0.06359644700751567,
          0.5365761776278535,
          1.2439735218033796,
          -0.6382846187613946,
          0.3863512889639779,
          -1.1746670984970677,
          -0.37923214184639314,
          0.9018058454431247,
          -0.10664807931447579,
          -0.31121323608409596,
          0.10832582480128584,
          1.115439114527776,
          -2.031404005566909,
          -0.12889886456592117,
          0.9056694380957064,
          -0.09804614447182573,
          -0.523195433240164,
          1.19199643787691,
          1.0215520940845166,
          0.6393485638374208,
          -0.6848970885709333,
          -1.179477655610947,
          1.7627636217745741,
          -1.4971944888621254,
          0.4829579797475712,
          0.8682296601800666,
          -1.2501150710128046,
          -1.5417147550758254,
          -0.4234705537455407,
          0.19729208563905898,
          -0.37372792440213,
          -0.5091185358749735,
          0.08993672459993808,
          -1.8830749902412796
         ],
         "xaxis": "x15",
         "y": [
          -1.6871166152710537,
          -0.9709146074308888,
          -0.5322687464826751,
          -1.6969044654616137,
          0.7018157212462957,
          0.9890954159029299,
          -0.4702174322607677,
          -0.24929570482905708,
          0.3524966518991849,
          -0.7227365763521281,
          -1.4483138832116238,
          -0.5050505653111883,
          0.4404702119730967,
          -0.656458520091939,
          -1.3499073526001655,
          0.5107501454794654,
          -0.885194562273592,
          1.193129915575867,
          -0.30421983227978533,
          -1.2574239056063228,
          0.7508696903541667,
          -1.9985018939930543,
          0.03425003934745889,
          -0.6153295531228291,
          0.7223070194201905,
          0.8616393716838515,
          0.8820365750281605,
          -0.9930005394602255,
          0.37014383508428567,
          1.5027419249381913,
          -0.471380520807196,
          -0.29084224788858515,
          -0.26044546542940417,
          0.8539609395064646,
          -0.4805021629999128,
          1.4240455241041656,
          -1.5412081455412912,
          -0.5458634616042313,
          -1.628079942459507,
          -0.6209367076435095,
          0.04600294829541975,
          0.3728183058942605,
          0.5976505352052968,
          -0.14286910087644122,
          -0.44875522549010516,
          -0.22474917871122074,
          0.009461892310466116,
          -0.660179455861578,
          0.07397956783829993,
          0.8466637287763911,
          -1.3234384495945357,
          -0.635962540855323,
          -1.1678012205692707,
          -1.4465013591047111,
          -0.14216286294785316,
          0.662408676756327,
          0.012322378508136372,
          -0.6791340352131084,
          -0.399513561915407,
          1.7069048108155547,
          -0.08557883992246046,
          -0.8540168724982593,
          -0.38877723003686493,
          0.5221342900851099,
          0.38995860461647136,
          0.6518837539021461,
          0.6617211729627388,
          1.4977735186716319,
          -1.552861353779272,
          -0.8668378088231466,
          -0.5438853001361091,
          0.916330945434475,
          0.1253157187887894,
          -0.49852395379171893,
          -0.1124279985582431,
          0.8480276998382047,
          1.6748397162748503,
          -0.6397636666884824,
          1.5256103272594805,
          0.9572907516938183,
          -0.25187559722114633,
          -0.1796614147649597,
          0.23321839917916154,
          -0.4174270901150401,
          -0.11002827398015526,
          1.025764367521651,
          0.4943326831140443,
          -1.5913397501504867,
          0.2721769464952303,
          -0.5300161224993246,
          -1.1819066014832864,
          -2.87294669199844,
          -0.8690188264419709,
          0.037336100302141156,
          -0.9833889977259772,
          -0.9607778938055418,
          -1.0564344370656864,
          0.5204201260016412,
          1.0520151247197016,
          -1.28171408051971
         ],
         "yaxis": "y15"
        },
        {
         "histfunc": "count",
         "histnorm": "",
         "marker": {
          "color": "rgba(128, 0, 128, 1.0)",
          "line": {
           "color": "#4D5663",
           "width": 1.3
          }
         },
         "name": "D",
         "nbinsx": 10,
         "opacity": 0.8,
         "orientation": "v",
         "type": "histogram",
         "x": [
          -1.6871166152710537,
          -0.9709146074308888,
          -0.5322687464826751,
          -1.6969044654616137,
          0.7018157212462957,
          0.9890954159029299,
          -0.4702174322607677,
          -0.24929570482905708,
          0.3524966518991849,
          -0.7227365763521281,
          -1.4483138832116238,
          -0.5050505653111883,
          0.4404702119730967,
          -0.656458520091939,
          -1.3499073526001655,
          0.5107501454794654,
          -0.885194562273592,
          1.193129915575867,
          -0.30421983227978533,
          -1.2574239056063228,
          0.7508696903541667,
          -1.9985018939930543,
          0.03425003934745889,
          -0.6153295531228291,
          0.7223070194201905,
          0.8616393716838515,
          0.8820365750281605,
          -0.9930005394602255,
          0.37014383508428567,
          1.5027419249381913,
          -0.471380520807196,
          -0.29084224788858515,
          -0.26044546542940417,
          0.8539609395064646,
          -0.4805021629999128,
          1.4240455241041656,
          -1.5412081455412912,
          -0.5458634616042313,
          -1.628079942459507,
          -0.6209367076435095,
          0.04600294829541975,
          0.3728183058942605,
          0.5976505352052968,
          -0.14286910087644122,
          -0.44875522549010516,
          -0.22474917871122074,
          0.009461892310466116,
          -0.660179455861578,
          0.07397956783829993,
          0.8466637287763911,
          -1.3234384495945357,
          -0.635962540855323,
          -1.1678012205692707,
          -1.4465013591047111,
          -0.14216286294785316,
          0.662408676756327,
          0.012322378508136372,
          -0.6791340352131084,
          -0.399513561915407,
          1.7069048108155547,
          -0.08557883992246046,
          -0.8540168724982593,
          -0.38877723003686493,
          0.5221342900851099,
          0.38995860461647136,
          0.6518837539021461,
          0.6617211729627388,
          1.4977735186716319,
          -1.552861353779272,
          -0.8668378088231466,
          -0.5438853001361091,
          0.916330945434475,
          0.1253157187887894,
          -0.49852395379171893,
          -0.1124279985582431,
          0.8480276998382047,
          1.6748397162748503,
          -0.6397636666884824,
          1.5256103272594805,
          0.9572907516938183,
          -0.25187559722114633,
          -0.1796614147649597,
          0.23321839917916154,
          -0.4174270901150401,
          -0.11002827398015526,
          1.025764367521651,
          0.4943326831140443,
          -1.5913397501504867,
          0.2721769464952303,
          -0.5300161224993246,
          -1.1819066014832864,
          -2.87294669199844,
          -0.8690188264419709,
          0.037336100302141156,
          -0.9833889977259772,
          -0.9607778938055418,
          -1.0564344370656864,
          0.5204201260016412,
          1.0520151247197016,
          -1.28171408051971
         ],
         "xaxis": "x16",
         "yaxis": "y16"
        }
       ],
       "layout": {
        "bargap": 0.02,
        "legend": {
         "bgcolor": "#F5F6F9",
         "font": {
          "color": "#4D5663"
         }
        },
        "paper_bgcolor": "#F5F6F9",
        "plot_bgcolor": "#F5F6F9",
        "showlegend": false,
        "template": {
         "data": {
          "bar": [
           {
            "error_x": {
             "color": "#2a3f5f"
            },
            "error_y": {
             "color": "#2a3f5f"
            },
            "marker": {
             "line": {
              "color": "#E5ECF6",
              "width": 0.5
             }
            },
            "type": "bar"
           }
          ],
          "barpolar": [
           {
            "marker": {
             "line": {
              "color": "#E5ECF6",
              "width": 0.5
             }
            },
            "type": "barpolar"
           }
          ],
          "carpet": [
           {
            "aaxis": {
             "endlinecolor": "#2a3f5f",
             "gridcolor": "white",
             "linecolor": "white",
             "minorgridcolor": "white",
             "startlinecolor": "#2a3f5f"
            },
            "baxis": {
             "endlinecolor": "#2a3f5f",
             "gridcolor": "white",
             "linecolor": "white",
             "minorgridcolor": "white",
             "startlinecolor": "#2a3f5f"
            },
            "type": "carpet"
           }
          ],
          "choropleth": [
           {
            "colorbar": {
             "outlinewidth": 0,
             "ticks": ""
            },
            "type": "choropleth"
           }
          ],
          "contour": [
           {
            "colorbar": {
             "outlinewidth": 0,
             "ticks": ""
            },
            "colorscale": [
             [
              0,
              "#0d0887"
             ],
             [
              0.1111111111111111,
              "#46039f"
             ],
             [
              0.2222222222222222,
              "#7201a8"
             ],
             [
              0.3333333333333333,
              "#9c179e"
             ],
             [
              0.4444444444444444,
              "#bd3786"
             ],
             [
              0.5555555555555556,
              "#d8576b"
             ],
             [
              0.6666666666666666,
              "#ed7953"
             ],
             [
              0.7777777777777778,
              "#fb9f3a"
             ],
             [
              0.8888888888888888,
              "#fdca26"
             ],
             [
              1,
              "#f0f921"
             ]
            ],
            "type": "contour"
           }
          ],
          "contourcarpet": [
           {
            "colorbar": {
             "outlinewidth": 0,
             "ticks": ""
            },
            "type": "contourcarpet"
           }
          ],
          "heatmap": [
           {
            "colorbar": {
             "outlinewidth": 0,
             "ticks": ""
            },
            "colorscale": [
             [
              0,
              "#0d0887"
             ],
             [
              0.1111111111111111,
              "#46039f"
             ],
             [
              0.2222222222222222,
              "#7201a8"
             ],
             [
              0.3333333333333333,
              "#9c179e"
             ],
             [
              0.4444444444444444,
              "#bd3786"
             ],
             [
              0.5555555555555556,
              "#d8576b"
             ],
             [
              0.6666666666666666,
              "#ed7953"
             ],
             [
              0.7777777777777778,
              "#fb9f3a"
             ],
             [
              0.8888888888888888,
              "#fdca26"
             ],
             [
              1,
              "#f0f921"
             ]
            ],
            "type": "heatmap"
           }
          ],
          "heatmapgl": [
           {
            "colorbar": {
             "outlinewidth": 0,
             "ticks": ""
            },
            "colorscale": [
             [
              0,
              "#0d0887"
             ],
             [
              0.1111111111111111,
              "#46039f"
             ],
             [
              0.2222222222222222,
              "#7201a8"
             ],
             [
              0.3333333333333333,
              "#9c179e"
             ],
             [
              0.4444444444444444,
              "#bd3786"
             ],
             [
              0.5555555555555556,
              "#d8576b"
             ],
             [
              0.6666666666666666,
              "#ed7953"
             ],
             [
              0.7777777777777778,
              "#fb9f3a"
             ],
             [
              0.8888888888888888,
              "#fdca26"
             ],
             [
              1,
              "#f0f921"
             ]
            ],
            "type": "heatmapgl"
           }
          ],
          "histogram": [
           {
            "marker": {
             "colorbar": {
              "outlinewidth": 0,
              "ticks": ""
             }
            },
            "type": "histogram"
           }
          ],
          "histogram2d": [
           {
            "colorbar": {
             "outlinewidth": 0,
             "ticks": ""
            },
            "colorscale": [
             [
              0,
              "#0d0887"
             ],
             [
              0.1111111111111111,
              "#46039f"
             ],
             [
              0.2222222222222222,
              "#7201a8"
             ],
             [
              0.3333333333333333,
              "#9c179e"
             ],
             [
              0.4444444444444444,
              "#bd3786"
             ],
             [
              0.5555555555555556,
              "#d8576b"
             ],
             [
              0.6666666666666666,
              "#ed7953"
             ],
             [
              0.7777777777777778,
              "#fb9f3a"
             ],
             [
              0.8888888888888888,
              "#fdca26"
             ],
             [
              1,
              "#f0f921"
             ]
            ],
            "type": "histogram2d"
           }
          ],
          "histogram2dcontour": [
           {
            "colorbar": {
             "outlinewidth": 0,
             "ticks": ""
            },
            "colorscale": [
             [
              0,
              "#0d0887"
             ],
             [
              0.1111111111111111,
              "#46039f"
             ],
             [
              0.2222222222222222,
              "#7201a8"
             ],
             [
              0.3333333333333333,
              "#9c179e"
             ],
             [
              0.4444444444444444,
              "#bd3786"
             ],
             [
              0.5555555555555556,
              "#d8576b"
             ],
             [
              0.6666666666666666,
              "#ed7953"
             ],
             [
              0.7777777777777778,
              "#fb9f3a"
             ],
             [
              0.8888888888888888,
              "#fdca26"
             ],
             [
              1,
              "#f0f921"
             ]
            ],
            "type": "histogram2dcontour"
           }
          ],
          "mesh3d": [
           {
            "colorbar": {
             "outlinewidth": 0,
             "ticks": ""
            },
            "type": "mesh3d"
           }
          ],
          "parcoords": [
           {
            "line": {
             "colorbar": {
              "outlinewidth": 0,
              "ticks": ""
             }
            },
            "type": "parcoords"
           }
          ],
          "pie": [
           {
            "automargin": true,
            "type": "pie"
           }
          ],
          "scatter": [
           {
            "marker": {
             "colorbar": {
              "outlinewidth": 0,
              "ticks": ""
             }
            },
            "type": "scatter"
           }
          ],
          "scatter3d": [
           {
            "line": {
             "colorbar": {
              "outlinewidth": 0,
              "ticks": ""
             }
            },
            "marker": {
             "colorbar": {
              "outlinewidth": 0,
              "ticks": ""
             }
            },
            "type": "scatter3d"
           }
          ],
          "scattercarpet": [
           {
            "marker": {
             "colorbar": {
              "outlinewidth": 0,
              "ticks": ""
             }
            },
            "type": "scattercarpet"
           }
          ],
          "scattergeo": [
           {
            "marker": {
             "colorbar": {
              "outlinewidth": 0,
              "ticks": ""
             }
            },
            "type": "scattergeo"
           }
          ],
          "scattergl": [
           {
            "marker": {
             "colorbar": {
              "outlinewidth": 0,
              "ticks": ""
             }
            },
            "type": "scattergl"
           }
          ],
          "scattermapbox": [
           {
            "marker": {
             "colorbar": {
              "outlinewidth": 0,
              "ticks": ""
             }
            },
            "type": "scattermapbox"
           }
          ],
          "scatterpolar": [
           {
            "marker": {
             "colorbar": {
              "outlinewidth": 0,
              "ticks": ""
             }
            },
            "type": "scatterpolar"
           }
          ],
          "scatterpolargl": [
           {
            "marker": {
             "colorbar": {
              "outlinewidth": 0,
              "ticks": ""
             }
            },
            "type": "scatterpolargl"
           }
          ],
          "scatterternary": [
           {
            "marker": {
             "colorbar": {
              "outlinewidth": 0,
              "ticks": ""
             }
            },
            "type": "scatterternary"
           }
          ],
          "surface": [
           {
            "colorbar": {
             "outlinewidth": 0,
             "ticks": ""
            },
            "colorscale": [
             [
              0,
              "#0d0887"
             ],
             [
              0.1111111111111111,
              "#46039f"
             ],
             [
              0.2222222222222222,
              "#7201a8"
             ],
             [
              0.3333333333333333,
              "#9c179e"
             ],
             [
              0.4444444444444444,
              "#bd3786"
             ],
             [
              0.5555555555555556,
              "#d8576b"
             ],
             [
              0.6666666666666666,
              "#ed7953"
             ],
             [
              0.7777777777777778,
              "#fb9f3a"
             ],
             [
              0.8888888888888888,
              "#fdca26"
             ],
             [
              1,
              "#f0f921"
             ]
            ],
            "type": "surface"
           }
          ],
          "table": [
           {
            "cells": {
             "fill": {
              "color": "#EBF0F8"
             },
             "line": {
              "color": "white"
             }
            },
            "header": {
             "fill": {
              "color": "#C8D4E3"
             },
             "line": {
              "color": "white"
             }
            },
            "type": "table"
           }
          ]
         },
         "layout": {
          "annotationdefaults": {
           "arrowcolor": "#2a3f5f",
           "arrowhead": 0,
           "arrowwidth": 1
          },
          "coloraxis": {
           "colorbar": {
            "outlinewidth": 0,
            "ticks": ""
           }
          },
          "colorscale": {
           "diverging": [
            [
             0,
             "#8e0152"
            ],
            [
             0.1,
             "#c51b7d"
            ],
            [
             0.2,
             "#de77ae"
            ],
            [
             0.3,
             "#f1b6da"
            ],
            [
             0.4,
             "#fde0ef"
            ],
            [
             0.5,
             "#f7f7f7"
            ],
            [
             0.6,
             "#e6f5d0"
            ],
            [
             0.7,
             "#b8e186"
            ],
            [
             0.8,
             "#7fbc41"
            ],
            [
             0.9,
             "#4d9221"
            ],
            [
             1,
             "#276419"
            ]
           ],
           "sequential": [
            [
             0,
             "#0d0887"
            ],
            [
             0.1111111111111111,
             "#46039f"
            ],
            [
             0.2222222222222222,
             "#7201a8"
            ],
            [
             0.3333333333333333,
             "#9c179e"
            ],
            [
             0.4444444444444444,
             "#bd3786"
            ],
            [
             0.5555555555555556,
             "#d8576b"
            ],
            [
             0.6666666666666666,
             "#ed7953"
            ],
            [
             0.7777777777777778,
             "#fb9f3a"
            ],
            [
             0.8888888888888888,
             "#fdca26"
            ],
            [
             1,
             "#f0f921"
            ]
           ],
           "sequentialminus": [
            [
             0,
             "#0d0887"
            ],
            [
             0.1111111111111111,
             "#46039f"
            ],
            [
             0.2222222222222222,
             "#7201a8"
            ],
            [
             0.3333333333333333,
             "#9c179e"
            ],
            [
             0.4444444444444444,
             "#bd3786"
            ],
            [
             0.5555555555555556,
             "#d8576b"
            ],
            [
             0.6666666666666666,
             "#ed7953"
            ],
            [
             0.7777777777777778,
             "#fb9f3a"
            ],
            [
             0.8888888888888888,
             "#fdca26"
            ],
            [
             1,
             "#f0f921"
            ]
           ]
          },
          "colorway": [
           "#636efa",
           "#EF553B",
           "#00cc96",
           "#ab63fa",
           "#FFA15A",
           "#19d3f3",
           "#FF6692",
           "#B6E880",
           "#FF97FF",
           "#FECB52"
          ],
          "font": {
           "color": "#2a3f5f"
          },
          "geo": {
           "bgcolor": "white",
           "lakecolor": "white",
           "landcolor": "#E5ECF6",
           "showlakes": true,
           "showland": true,
           "subunitcolor": "white"
          },
          "hoverlabel": {
           "align": "left"
          },
          "hovermode": "closest",
          "mapbox": {
           "style": "light"
          },
          "paper_bgcolor": "white",
          "plot_bgcolor": "#E5ECF6",
          "polar": {
           "angularaxis": {
            "gridcolor": "white",
            "linecolor": "white",
            "ticks": ""
           },
           "bgcolor": "#E5ECF6",
           "radialaxis": {
            "gridcolor": "white",
            "linecolor": "white",
            "ticks": ""
           }
          },
          "scene": {
           "xaxis": {
            "backgroundcolor": "#E5ECF6",
            "gridcolor": "white",
            "gridwidth": 2,
            "linecolor": "white",
            "showbackground": true,
            "ticks": "",
            "zerolinecolor": "white"
           },
           "yaxis": {
            "backgroundcolor": "#E5ECF6",
            "gridcolor": "white",
            "gridwidth": 2,
            "linecolor": "white",
            "showbackground": true,
            "ticks": "",
            "zerolinecolor": "white"
           },
           "zaxis": {
            "backgroundcolor": "#E5ECF6",
            "gridcolor": "white",
            "gridwidth": 2,
            "linecolor": "white",
            "showbackground": true,
            "ticks": "",
            "zerolinecolor": "white"
           }
          },
          "shapedefaults": {
           "line": {
            "color": "#2a3f5f"
           }
          },
          "ternary": {
           "aaxis": {
            "gridcolor": "white",
            "linecolor": "white",
            "ticks": ""
           },
           "baxis": {
            "gridcolor": "white",
            "linecolor": "white",
            "ticks": ""
           },
           "bgcolor": "#E5ECF6",
           "caxis": {
            "gridcolor": "white",
            "linecolor": "white",
            "ticks": ""
           }
          },
          "title": {
           "x": 0.05
          },
          "xaxis": {
           "automargin": true,
           "gridcolor": "white",
           "linecolor": "white",
           "ticks": "",
           "title": {
            "standoff": 15
           },
           "zerolinecolor": "white",
           "zerolinewidth": 2
          },
          "yaxis": {
           "automargin": true,
           "gridcolor": "white",
           "linecolor": "white",
           "ticks": "",
           "title": {
            "standoff": 15
           },
           "zerolinecolor": "white",
           "zerolinewidth": 2
          }
         }
        },
        "title": {
         "font": {
          "color": "#4D5663"
         }
        },
        "xaxis": {
         "anchor": "y",
         "domain": [
          0,
          0.2125
         ],
         "gridcolor": "#E1E5ED",
         "showgrid": false,
         "tickfont": {
          "color": "#4D5663"
         },
         "title": {
          "font": {
           "color": "#4D5663"
          },
          "text": ""
         },
         "zerolinecolor": "#E1E5ED"
        },
        "xaxis10": {
         "anchor": "y10",
         "domain": [
          0.2625,
          0.475
         ],
         "gridcolor": "#E1E5ED",
         "showgrid": false,
         "tickfont": {
          "color": "#4D5663"
         },
         "title": {
          "font": {
           "color": "#4D5663"
          },
          "text": ""
         },
         "zerolinecolor": "#E1E5ED"
        },
        "xaxis11": {
         "anchor": "y11",
         "domain": [
          0.525,
          0.7375
         ],
         "gridcolor": "#E1E5ED",
         "showgrid": false,
         "tickfont": {
          "color": "#4D5663"
         },
         "title": {
          "font": {
           "color": "#4D5663"
          },
          "text": ""
         },
         "zerolinecolor": "#E1E5ED"
        },
        "xaxis12": {
         "anchor": "y12",
         "domain": [
          0.7875,
          1
         ],
         "gridcolor": "#E1E5ED",
         "showgrid": false,
         "tickfont": {
          "color": "#4D5663"
         },
         "title": {
          "font": {
           "color": "#4D5663"
          },
          "text": ""
         },
         "zerolinecolor": "#E1E5ED"
        },
        "xaxis13": {
         "anchor": "y13",
         "domain": [
          0,
          0.2125
         ],
         "gridcolor": "#E1E5ED",
         "showgrid": false,
         "tickfont": {
          "color": "#4D5663"
         },
         "title": {
          "font": {
           "color": "#4D5663"
          },
          "text": ""
         },
         "zerolinecolor": "#E1E5ED"
        },
        "xaxis14": {
         "anchor": "y14",
         "domain": [
          0.2625,
          0.475
         ],
         "gridcolor": "#E1E5ED",
         "showgrid": false,
         "tickfont": {
          "color": "#4D5663"
         },
         "title": {
          "font": {
           "color": "#4D5663"
          },
          "text": ""
         },
         "zerolinecolor": "#E1E5ED"
        },
        "xaxis15": {
         "anchor": "y15",
         "domain": [
          0.525,
          0.7375
         ],
         "gridcolor": "#E1E5ED",
         "showgrid": false,
         "tickfont": {
          "color": "#4D5663"
         },
         "title": {
          "font": {
           "color": "#4D5663"
          },
          "text": ""
         },
         "zerolinecolor": "#E1E5ED"
        },
        "xaxis16": {
         "anchor": "y16",
         "domain": [
          0.7875,
          1
         ],
         "gridcolor": "#E1E5ED",
         "showgrid": false,
         "tickfont": {
          "color": "#4D5663"
         },
         "title": {
          "font": {
           "color": "#4D5663"
          },
          "text": ""
         },
         "zerolinecolor": "#E1E5ED"
        },
        "xaxis2": {
         "anchor": "y2",
         "domain": [
          0.2625,
          0.475
         ],
         "gridcolor": "#E1E5ED",
         "showgrid": false,
         "tickfont": {
          "color": "#4D5663"
         },
         "title": {
          "font": {
           "color": "#4D5663"
          },
          "text": ""
         },
         "zerolinecolor": "#E1E5ED"
        },
        "xaxis3": {
         "anchor": "y3",
         "domain": [
          0.525,
          0.7375
         ],
         "gridcolor": "#E1E5ED",
         "showgrid": false,
         "tickfont": {
          "color": "#4D5663"
         },
         "title": {
          "font": {
           "color": "#4D5663"
          },
          "text": ""
         },
         "zerolinecolor": "#E1E5ED"
        },
        "xaxis4": {
         "anchor": "y4",
         "domain": [
          0.7875,
          1
         ],
         "gridcolor": "#E1E5ED",
         "showgrid": false,
         "tickfont": {
          "color": "#4D5663"
         },
         "title": {
          "font": {
           "color": "#4D5663"
          },
          "text": ""
         },
         "zerolinecolor": "#E1E5ED"
        },
        "xaxis5": {
         "anchor": "y5",
         "domain": [
          0,
          0.2125
         ],
         "gridcolor": "#E1E5ED",
         "showgrid": false,
         "tickfont": {
          "color": "#4D5663"
         },
         "title": {
          "font": {
           "color": "#4D5663"
          },
          "text": ""
         },
         "zerolinecolor": "#E1E5ED"
        },
        "xaxis6": {
         "anchor": "y6",
         "domain": [
          0.2625,
          0.475
         ],
         "gridcolor": "#E1E5ED",
         "showgrid": false,
         "tickfont": {
          "color": "#4D5663"
         },
         "title": {
          "font": {
           "color": "#4D5663"
          },
          "text": ""
         },
         "zerolinecolor": "#E1E5ED"
        },
        "xaxis7": {
         "anchor": "y7",
         "domain": [
          0.525,
          0.7375
         ],
         "gridcolor": "#E1E5ED",
         "showgrid": false,
         "tickfont": {
          "color": "#4D5663"
         },
         "title": {
          "font": {
           "color": "#4D5663"
          },
          "text": ""
         },
         "zerolinecolor": "#E1E5ED"
        },
        "xaxis8": {
         "anchor": "y8",
         "domain": [
          0.7875,
          1
         ],
         "gridcolor": "#E1E5ED",
         "showgrid": false,
         "tickfont": {
          "color": "#4D5663"
         },
         "title": {
          "font": {
           "color": "#4D5663"
          },
          "text": ""
         },
         "zerolinecolor": "#E1E5ED"
        },
        "xaxis9": {
         "anchor": "y9",
         "domain": [
          0,
          0.2125
         ],
         "gridcolor": "#E1E5ED",
         "showgrid": false,
         "tickfont": {
          "color": "#4D5663"
         },
         "title": {
          "font": {
           "color": "#4D5663"
          },
          "text": ""
         },
         "zerolinecolor": "#E1E5ED"
        },
        "yaxis": {
         "anchor": "x",
         "domain": [
          0.8025,
          1
         ],
         "gridcolor": "#E1E5ED",
         "showgrid": false,
         "tickfont": {
          "color": "#4D5663"
         },
         "title": {
          "font": {
           "color": "#4D5663"
          },
          "text": ""
         },
         "zerolinecolor": "#E1E5ED"
        },
        "yaxis10": {
         "anchor": "x10",
         "domain": [
          0.2675,
          0.465
         ],
         "gridcolor": "#E1E5ED",
         "showgrid": false,
         "tickfont": {
          "color": "#4D5663"
         },
         "title": {
          "font": {
           "color": "#4D5663"
          },
          "text": ""
         },
         "zerolinecolor": "#E1E5ED"
        },
        "yaxis11": {
         "anchor": "x11",
         "domain": [
          0.2675,
          0.465
         ],
         "gridcolor": "#E1E5ED",
         "showgrid": false,
         "tickfont": {
          "color": "#4D5663"
         },
         "title": {
          "font": {
           "color": "#4D5663"
          },
          "text": ""
         },
         "zerolinecolor": "#E1E5ED"
        },
        "yaxis12": {
         "anchor": "x12",
         "domain": [
          0.2675,
          0.465
         ],
         "gridcolor": "#E1E5ED",
         "showgrid": false,
         "tickfont": {
          "color": "#4D5663"
         },
         "title": {
          "font": {
           "color": "#4D5663"
          },
          "text": ""
         },
         "zerolinecolor": "#E1E5ED"
        },
        "yaxis13": {
         "anchor": "x13",
         "domain": [
          0,
          0.1975
         ],
         "gridcolor": "#E1E5ED",
         "showgrid": false,
         "tickfont": {
          "color": "#4D5663"
         },
         "title": {
          "font": {
           "color": "#4D5663"
          },
          "text": ""
         },
         "zerolinecolor": "#E1E5ED"
        },
        "yaxis14": {
         "anchor": "x14",
         "domain": [
          0,
          0.1975
         ],
         "gridcolor": "#E1E5ED",
         "showgrid": false,
         "tickfont": {
          "color": "#4D5663"
         },
         "title": {
          "font": {
           "color": "#4D5663"
          },
          "text": ""
         },
         "zerolinecolor": "#E1E5ED"
        },
        "yaxis15": {
         "anchor": "x15",
         "domain": [
          0,
          0.1975
         ],
         "gridcolor": "#E1E5ED",
         "showgrid": false,
         "tickfont": {
          "color": "#4D5663"
         },
         "title": {
          "font": {
           "color": "#4D5663"
          },
          "text": ""
         },
         "zerolinecolor": "#E1E5ED"
        },
        "yaxis16": {
         "anchor": "x16",
         "domain": [
          0,
          0.1975
         ],
         "gridcolor": "#E1E5ED",
         "showgrid": false,
         "tickfont": {
          "color": "#4D5663"
         },
         "title": {
          "font": {
           "color": "#4D5663"
          },
          "text": ""
         },
         "zerolinecolor": "#E1E5ED"
        },
        "yaxis2": {
         "anchor": "x2",
         "domain": [
          0.8025,
          1
         ],
         "gridcolor": "#E1E5ED",
         "showgrid": false,
         "tickfont": {
          "color": "#4D5663"
         },
         "title": {
          "font": {
           "color": "#4D5663"
          },
          "text": ""
         },
         "zerolinecolor": "#E1E5ED"
        },
        "yaxis3": {
         "anchor": "x3",
         "domain": [
          0.8025,
          1
         ],
         "gridcolor": "#E1E5ED",
         "showgrid": false,
         "tickfont": {
          "color": "#4D5663"
         },
         "title": {
          "font": {
           "color": "#4D5663"
          },
          "text": ""
         },
         "zerolinecolor": "#E1E5ED"
        },
        "yaxis4": {
         "anchor": "x4",
         "domain": [
          0.8025,
          1
         ],
         "gridcolor": "#E1E5ED",
         "showgrid": false,
         "tickfont": {
          "color": "#4D5663"
         },
         "title": {
          "font": {
           "color": "#4D5663"
          },
          "text": ""
         },
         "zerolinecolor": "#E1E5ED"
        },
        "yaxis5": {
         "anchor": "x5",
         "domain": [
          0.535,
          0.7325
         ],
         "gridcolor": "#E1E5ED",
         "showgrid": false,
         "tickfont": {
          "color": "#4D5663"
         },
         "title": {
          "font": {
           "color": "#4D5663"
          },
          "text": ""
         },
         "zerolinecolor": "#E1E5ED"
        },
        "yaxis6": {
         "anchor": "x6",
         "domain": [
          0.535,
          0.7325
         ],
         "gridcolor": "#E1E5ED",
         "showgrid": false,
         "tickfont": {
          "color": "#4D5663"
         },
         "title": {
          "font": {
           "color": "#4D5663"
          },
          "text": ""
         },
         "zerolinecolor": "#E1E5ED"
        },
        "yaxis7": {
         "anchor": "x7",
         "domain": [
          0.535,
          0.7325
         ],
         "gridcolor": "#E1E5ED",
         "showgrid": false,
         "tickfont": {
          "color": "#4D5663"
         },
         "title": {
          "font": {
           "color": "#4D5663"
          },
          "text": ""
         },
         "zerolinecolor": "#E1E5ED"
        },
        "yaxis8": {
         "anchor": "x8",
         "domain": [
          0.535,
          0.7325
         ],
         "gridcolor": "#E1E5ED",
         "showgrid": false,
         "tickfont": {
          "color": "#4D5663"
         },
         "title": {
          "font": {
           "color": "#4D5663"
          },
          "text": ""
         },
         "zerolinecolor": "#E1E5ED"
        },
        "yaxis9": {
         "anchor": "x9",
         "domain": [
          0.2675,
          0.465
         ],
         "gridcolor": "#E1E5ED",
         "showgrid": false,
         "tickfont": {
          "color": "#4D5663"
         },
         "title": {
          "font": {
           "color": "#4D5663"
          },
          "text": ""
         },
         "zerolinecolor": "#E1E5ED"
        }
       }
      },
      "text/html": [
       "<div>\n",
       "        \n",
       "        \n",
       "            <div id=\"cea0e885-9325-4a73-985a-9dc4491fe7a3\" class=\"plotly-graph-div\" style=\"height:525px; width:100%;\"></div>\n",
       "            <script type=\"text/javascript\">\n",
       "                require([\"plotly\"], function(Plotly) {\n",
       "                    window.PLOTLYENV=window.PLOTLYENV || {};\n",
       "                    window.PLOTLYENV.BASE_URL='https://plot.ly';\n",
       "                    \n",
       "                if (document.getElementById(\"cea0e885-9325-4a73-985a-9dc4491fe7a3\")) {\n",
       "                    Plotly.newPlot(\n",
       "                        'cea0e885-9325-4a73-985a-9dc4491fe7a3',\n",
       "                        [{\"histfunc\": \"count\", \"histnorm\": \"\", \"marker\": {\"color\": \"rgba(255, 153, 51, 1.0)\", \"line\": {\"color\": \"#4D5663\", \"width\": 1.3}}, \"name\": \"A\", \"nbinsx\": 10, \"opacity\": 0.8, \"orientation\": \"v\", \"type\": \"histogram\", \"x\": [-1.471246046471575, -0.6085271820559668, -1.1482532192046846, 0.2627438693214284, 2.0836070829778217, 1.5631875324236681, 0.5808382512677437, 0.100140196384491, 1.2262718460695798, 0.8121590295001305, -1.638410297853008, -1.3542858701443743, -0.8859356006558017, -0.2117872482653646, 1.52205049796379, 1.2017578197554064, 0.7102810124642632, -0.23545767256803746, -1.0956352495534225, 1.6932444882864444, -1.1138532343497123, -1.5238659046060548, 0.3737582919650709, 0.3995610667193977, 0.9849517979430037, -0.41286182514316994, 0.22013798773369625, -0.9940274726090388, 0.6053300034368934, -0.08150224288687338, 1.530830559698258, -0.6660168670760243, 0.2476162288080035, -0.4201157591879683, 2.513732444208068, 0.18748712307755722, 0.7718010241028777, -1.0216987493095346, 0.7359898582102234, 0.3394424646684741, -0.9547001300086784, 0.26062793395402895, 0.0012388939276021182, -0.7212270021450119, -0.15919309376546367, 1.036045290051301, -0.4367341912425072, 0.4183619167269413, -0.9869819473111545, 0.46415757459025936, 0.907112493962873, 0.04747797526445393, 0.8951683093198934, -0.31273978661031654, -0.38852459396814915, -0.21814853869892967, 0.06874986096360242, -2.046811137503565, -0.30188504766584184, 0.3991831218988143, -0.9619090984013201, 2.0755584226410915, -0.13736165791337965, -0.861827546842935, 1.3905627604649047, 1.0763452474767086, -0.2724466161760582, -1.136419583125512, 2.8963094311022544, 0.998479444147354, 0.5363394044353359, 0.2999801214940788, -0.20435860562327238, -1.5876911915428935, 0.1689491074557813, -0.7550523982876761, 0.14659326683142235, 0.3792701864009285, -0.4165521378380051, 0.6274214865629553, -0.258635746057425, 0.04476722623086181, -0.43703161466220863, 1.88969572647376, 0.5535706370729377, -1.135244544453128, -0.7426677074998133, 1.3798865438745822, -0.5563918303956908, 0.09158547419355814, 1.8855374103668776, -0.2805175659360432, 0.36070102679322347, 0.10638652573921481, 0.44057146595893387, 0.814903887602294, 1.0939625067681231, 0.05500910372074003, 1.1314784533017157, -0.09953238829157161], \"xaxis\": \"x\", \"yaxis\": \"y\"}, {\"line\": {\"color\": \"rgba(128, 128, 128, 1.0)\", \"dash\": \"solid\", \"shape\": \"linear\", \"width\": 1.3}, \"marker\": {\"size\": 2, \"symbol\": \"circle\"}, \"mode\": \"markers\", \"name\": \"A\", \"text\": \"\", \"type\": \"scatter\", \"x\": [0.10505382992684024, 0.4711673041743314, -1.519353471102839, 1.1547053822403741, 1.0798174585278013, -1.3167731816914818, 0.7135520626011459, 1.228071405621988, -0.1352699013682691, -0.7225275214145852, 0.8549518116578393, -0.20588106476691267, -0.06703596762655907, 1.6484770738363472, 0.36286227096868406, 0.05563320312264835, 0.6254057338704384, -0.012960080959064806, -2.12932614521523, -0.4157931861958631, 0.7506360034867958, -0.13983300982709157, -0.5900443492432567, 0.7044782303155932, 0.19890230651938576, -0.19836350350683987, 0.8759308313682472, 0.19836962628705404, 0.27848831138959357, -1.1694296316366262, 0.3267781091861249, 0.38581311088033404, 0.5471026752728532, -0.3146860226848104, -1.6035633201468595, 0.06543919850911806, 0.19351698419231203, -2.386767407875937, 1.0703757940939813, 0.7152544617480363, -0.8402296964975069, 1.4438748000559085, 1.1597873193139467, -1.1095184085909982, 1.6063077829929273, -1.085090818463112, -2.022548824739018, 0.4053807585208205, -0.40761135212598976, 0.7499089719721762, -0.5654299320552335, -1.1633044453417187, -0.8681796271541423, -2.9092295914484128, -0.9005417099015383, 0.9211926455003557, 0.5479235918234407, 0.3674219082707484, -0.7334914066505491, -0.19254775033259586, -0.14348719988088504, -2.329163688940016, 0.15057290599191409, 0.1237678929312007, 0.683541160275602, -0.5466460611187319, -0.04691790105302972, -0.30891159038861526, 0.7099401236493103, -0.002099768581509483, -0.41139758529350595, -0.5335970457156773, -1.30774488435812, -0.36710599583404435, -1.0930940248488794, 0.023844045404288774, 2.0924380613371363, 0.30331932358411845, 0.476086299481217, 1.384076360250985, 0.5766365706062448, 2.6165270527132005, 0.5821109662236247, -0.15557530418785975, -0.436490142585925, 0.22184656251316986, 0.15768753650025366, 0.48078788358232516, 0.6292641638456508, -0.692412043888579, -0.95302121836286, -1.2292609401152632, -0.2634772944023692, -0.7325543666146409, -0.7984410176142024, -0.1336532721123046, -0.6412326522647541, 1.054147966339015, -1.2572779777281884, -0.015239046068296734], \"xaxis\": \"x2\", \"y\": [-1.471246046471575, -0.6085271820559668, -1.1482532192046846, 0.2627438693214284, 2.0836070829778217, 1.5631875324236681, 0.5808382512677437, 0.100140196384491, 1.2262718460695798, 0.8121590295001305, -1.638410297853008, -1.3542858701443743, -0.8859356006558017, -0.2117872482653646, 1.52205049796379, 1.2017578197554064, 0.7102810124642632, -0.23545767256803746, -1.0956352495534225, 1.6932444882864444, -1.1138532343497123, -1.5238659046060548, 0.3737582919650709, 0.3995610667193977, 0.9849517979430037, -0.41286182514316994, 0.22013798773369625, -0.9940274726090388, 0.6053300034368934, -0.08150224288687338, 1.530830559698258, -0.6660168670760243, 0.2476162288080035, -0.4201157591879683, 2.513732444208068, 0.18748712307755722, 0.7718010241028777, -1.0216987493095346, 0.7359898582102234, 0.3394424646684741, -0.9547001300086784, 0.26062793395402895, 0.0012388939276021182, -0.7212270021450119, -0.15919309376546367, 1.036045290051301, -0.4367341912425072, 0.4183619167269413, -0.9869819473111545, 0.46415757459025936, 0.907112493962873, 0.04747797526445393, 0.8951683093198934, -0.31273978661031654, -0.38852459396814915, -0.21814853869892967, 0.06874986096360242, -2.046811137503565, -0.30188504766584184, 0.3991831218988143, -0.9619090984013201, 2.0755584226410915, -0.13736165791337965, -0.861827546842935, 1.3905627604649047, 1.0763452474767086, -0.2724466161760582, -1.136419583125512, 2.8963094311022544, 0.998479444147354, 0.5363394044353359, 0.2999801214940788, -0.20435860562327238, -1.5876911915428935, 0.1689491074557813, -0.7550523982876761, 0.14659326683142235, 0.3792701864009285, -0.4165521378380051, 0.6274214865629553, -0.258635746057425, 0.04476722623086181, -0.43703161466220863, 1.88969572647376, 0.5535706370729377, -1.135244544453128, -0.7426677074998133, 1.3798865438745822, -0.5563918303956908, 0.09158547419355814, 1.8855374103668776, -0.2805175659360432, 0.36070102679322347, 0.10638652573921481, 0.44057146595893387, 0.814903887602294, 1.0939625067681231, 0.05500910372074003, 1.1314784533017157, -0.09953238829157161], \"yaxis\": \"y2\"}, {\"line\": {\"color\": \"rgba(128, 128, 128, 1.0)\", \"dash\": \"solid\", \"shape\": \"linear\", \"width\": 1.3}, \"marker\": {\"size\": 2, \"symbol\": \"circle\"}, \"mode\": \"markers\", \"name\": \"A\", \"text\": \"\", \"type\": \"scatter\", \"x\": [1.325986951306397, 0.3260379678254021, -0.6163141446218504, 0.4865973906254282, -0.07384714793910596, -2.128247649858157, 0.9899786707681009, 0.14390188488075562, 0.5336971821513533, 0.4330008788577454, 1.4452855469916024, -0.24384767262997345, 1.1847648177497783, 0.7799653705182154, -0.6574537627718967, 0.27867216167241443, 0.07588461288882492, -0.054931609777654565, -0.3897119807407454, -0.6956935853181346, 1.1816183034522831, -1.1341849733544478, -0.7761928446286821, -0.33419641397345046, 1.8029064600206193, -0.41126648853461406, 0.1013433435335912, -0.7183074617106701, -0.9670050965595579, -1.6207257672281554, 0.7954284285550257, -0.6734527329075558, -0.09187453740053732, -0.10535460398852417, 1.0139817857216846, -1.2006436182800866, 0.46800207960460516, -0.049311319918309025, -1.5417472465743782, 0.7771450432253827, 0.686136729790617, 0.08923433437150162, 0.05371058934124575, -0.21846160736961995, -0.2265002951523715, 0.23520569975094874, -1.0796353950980793, 0.362596291957928, 0.09283659392817996, -2.5489346064706813, -0.057141943766571474, -0.9424839599164069, 0.4001259193237537, -1.8698119344867443, 0.2925367384240569, 1.331267574686436, 1.864571910544436, -0.7743132267142006, 1.1670841105410528, -0.4950983601309821, 0.33485479537762813, -0.799765405259079, -0.5802842439486725, -0.09426345017889004, 0.42376844450748985, 0.7309860802256991, -0.06359644700751567, 0.5365761776278535, 1.2439735218033796, -0.6382846187613946, 0.3863512889639779, -1.1746670984970677, -0.37923214184639314, 0.9018058454431247, -0.10664807931447579, -0.31121323608409596, 0.10832582480128584, 1.115439114527776, -2.031404005566909, -0.12889886456592117, 0.9056694380957064, -0.09804614447182573, -0.523195433240164, 1.19199643787691, 1.0215520940845166, 0.6393485638374208, -0.6848970885709333, -1.179477655610947, 1.7627636217745741, -1.4971944888621254, 0.4829579797475712, 0.8682296601800666, -1.2501150710128046, -1.5417147550758254, -0.4234705537455407, 0.19729208563905898, -0.37372792440213, -0.5091185358749735, 0.08993672459993808, -1.8830749902412796], \"xaxis\": \"x3\", \"y\": [-1.471246046471575, -0.6085271820559668, -1.1482532192046846, 0.2627438693214284, 2.0836070829778217, 1.5631875324236681, 0.5808382512677437, 0.100140196384491, 1.2262718460695798, 0.8121590295001305, -1.638410297853008, -1.3542858701443743, -0.8859356006558017, -0.2117872482653646, 1.52205049796379, 1.2017578197554064, 0.7102810124642632, -0.23545767256803746, -1.0956352495534225, 1.6932444882864444, -1.1138532343497123, -1.5238659046060548, 0.3737582919650709, 0.3995610667193977, 0.9849517979430037, -0.41286182514316994, 0.22013798773369625, -0.9940274726090388, 0.6053300034368934, -0.08150224288687338, 1.530830559698258, -0.6660168670760243, 0.2476162288080035, -0.4201157591879683, 2.513732444208068, 0.18748712307755722, 0.7718010241028777, -1.0216987493095346, 0.7359898582102234, 0.3394424646684741, -0.9547001300086784, 0.26062793395402895, 0.0012388939276021182, -0.7212270021450119, -0.15919309376546367, 1.036045290051301, -0.4367341912425072, 0.4183619167269413, -0.9869819473111545, 0.46415757459025936, 0.907112493962873, 0.04747797526445393, 0.8951683093198934, -0.31273978661031654, -0.38852459396814915, -0.21814853869892967, 0.06874986096360242, -2.046811137503565, -0.30188504766584184, 0.3991831218988143, -0.9619090984013201, 2.0755584226410915, -0.13736165791337965, -0.861827546842935, 1.3905627604649047, 1.0763452474767086, -0.2724466161760582, -1.136419583125512, 2.8963094311022544, 0.998479444147354, 0.5363394044353359, 0.2999801214940788, -0.20435860562327238, -1.5876911915428935, 0.1689491074557813, -0.7550523982876761, 0.14659326683142235, 0.3792701864009285, -0.4165521378380051, 0.6274214865629553, -0.258635746057425, 0.04476722623086181, -0.43703161466220863, 1.88969572647376, 0.5535706370729377, -1.135244544453128, -0.7426677074998133, 1.3798865438745822, -0.5563918303956908, 0.09158547419355814, 1.8855374103668776, -0.2805175659360432, 0.36070102679322347, 0.10638652573921481, 0.44057146595893387, 0.814903887602294, 1.0939625067681231, 0.05500910372074003, 1.1314784533017157, -0.09953238829157161], \"yaxis\": \"y3\"}, {\"line\": {\"color\": \"rgba(128, 128, 128, 1.0)\", \"dash\": \"solid\", \"shape\": \"linear\", \"width\": 1.3}, \"marker\": {\"size\": 2, \"symbol\": \"circle\"}, \"mode\": \"markers\", \"name\": \"A\", \"text\": \"\", \"type\": \"scatter\", \"x\": [-1.6871166152710537, -0.9709146074308888, -0.5322687464826751, -1.6969044654616137, 0.7018157212462957, 0.9890954159029299, -0.4702174322607677, -0.24929570482905708, 0.3524966518991849, -0.7227365763521281, -1.4483138832116238, -0.5050505653111883, 0.4404702119730967, -0.656458520091939, -1.3499073526001655, 0.5107501454794654, -0.885194562273592, 1.193129915575867, -0.30421983227978533, -1.2574239056063228, 0.7508696903541667, -1.9985018939930543, 0.03425003934745889, -0.6153295531228291, 0.7223070194201905, 0.8616393716838515, 0.8820365750281605, -0.9930005394602255, 0.37014383508428567, 1.5027419249381913, -0.471380520807196, -0.29084224788858515, -0.26044546542940417, 0.8539609395064646, -0.4805021629999128, 1.4240455241041656, -1.5412081455412912, -0.5458634616042313, -1.628079942459507, -0.6209367076435095, 0.04600294829541975, 0.3728183058942605, 0.5976505352052968, -0.14286910087644122, -0.44875522549010516, -0.22474917871122074, 0.009461892310466116, -0.660179455861578, 0.07397956783829993, 0.8466637287763911, -1.3234384495945357, -0.635962540855323, -1.1678012205692707, -1.4465013591047111, -0.14216286294785316, 0.662408676756327, 0.012322378508136372, -0.6791340352131084, -0.399513561915407, 1.7069048108155547, -0.08557883992246046, -0.8540168724982593, -0.38877723003686493, 0.5221342900851099, 0.38995860461647136, 0.6518837539021461, 0.6617211729627388, 1.4977735186716319, -1.552861353779272, -0.8668378088231466, -0.5438853001361091, 0.916330945434475, 0.1253157187887894, -0.49852395379171893, -0.1124279985582431, 0.8480276998382047, 1.6748397162748503, -0.6397636666884824, 1.5256103272594805, 0.9572907516938183, -0.25187559722114633, -0.1796614147649597, 0.23321839917916154, -0.4174270901150401, -0.11002827398015526, 1.025764367521651, 0.4943326831140443, -1.5913397501504867, 0.2721769464952303, -0.5300161224993246, -1.1819066014832864, -2.87294669199844, -0.8690188264419709, 0.037336100302141156, -0.9833889977259772, -0.9607778938055418, -1.0564344370656864, 0.5204201260016412, 1.0520151247197016, -1.28171408051971], \"xaxis\": \"x4\", \"y\": [-1.471246046471575, -0.6085271820559668, -1.1482532192046846, 0.2627438693214284, 2.0836070829778217, 1.5631875324236681, 0.5808382512677437, 0.100140196384491, 1.2262718460695798, 0.8121590295001305, -1.638410297853008, -1.3542858701443743, -0.8859356006558017, -0.2117872482653646, 1.52205049796379, 1.2017578197554064, 0.7102810124642632, -0.23545767256803746, -1.0956352495534225, 1.6932444882864444, -1.1138532343497123, -1.5238659046060548, 0.3737582919650709, 0.3995610667193977, 0.9849517979430037, -0.41286182514316994, 0.22013798773369625, -0.9940274726090388, 0.6053300034368934, -0.08150224288687338, 1.530830559698258, -0.6660168670760243, 0.2476162288080035, -0.4201157591879683, 2.513732444208068, 0.18748712307755722, 0.7718010241028777, -1.0216987493095346, 0.7359898582102234, 0.3394424646684741, -0.9547001300086784, 0.26062793395402895, 0.0012388939276021182, -0.7212270021450119, -0.15919309376546367, 1.036045290051301, -0.4367341912425072, 0.4183619167269413, -0.9869819473111545, 0.46415757459025936, 0.907112493962873, 0.04747797526445393, 0.8951683093198934, -0.31273978661031654, -0.38852459396814915, -0.21814853869892967, 0.06874986096360242, -2.046811137503565, -0.30188504766584184, 0.3991831218988143, -0.9619090984013201, 2.0755584226410915, -0.13736165791337965, -0.861827546842935, 1.3905627604649047, 1.0763452474767086, -0.2724466161760582, -1.136419583125512, 2.8963094311022544, 0.998479444147354, 0.5363394044353359, 0.2999801214940788, -0.20435860562327238, -1.5876911915428935, 0.1689491074557813, -0.7550523982876761, 0.14659326683142235, 0.3792701864009285, -0.4165521378380051, 0.6274214865629553, -0.258635746057425, 0.04476722623086181, -0.43703161466220863, 1.88969572647376, 0.5535706370729377, -1.135244544453128, -0.7426677074998133, 1.3798865438745822, -0.5563918303956908, 0.09158547419355814, 1.8855374103668776, -0.2805175659360432, 0.36070102679322347, 0.10638652573921481, 0.44057146595893387, 0.814903887602294, 1.0939625067681231, 0.05500910372074003, 1.1314784533017157, -0.09953238829157161], \"yaxis\": \"y4\"}, {\"line\": {\"color\": \"rgba(128, 128, 128, 1.0)\", \"dash\": \"solid\", \"shape\": \"linear\", \"width\": 1.3}, \"marker\": {\"size\": 2, \"symbol\": \"circle\"}, \"mode\": \"markers\", \"name\": \"B\", \"text\": \"\", \"type\": \"scatter\", \"x\": [-1.471246046471575, -0.6085271820559668, -1.1482532192046846, 0.2627438693214284, 2.0836070829778217, 1.5631875324236681, 0.5808382512677437, 0.100140196384491, 1.2262718460695798, 0.8121590295001305, -1.638410297853008, -1.3542858701443743, -0.8859356006558017, -0.2117872482653646, 1.52205049796379, 1.2017578197554064, 0.7102810124642632, -0.23545767256803746, -1.0956352495534225, 1.6932444882864444, -1.1138532343497123, -1.5238659046060548, 0.3737582919650709, 0.3995610667193977, 0.9849517979430037, -0.41286182514316994, 0.22013798773369625, -0.9940274726090388, 0.6053300034368934, -0.08150224288687338, 1.530830559698258, -0.6660168670760243, 0.2476162288080035, -0.4201157591879683, 2.513732444208068, 0.18748712307755722, 0.7718010241028777, -1.0216987493095346, 0.7359898582102234, 0.3394424646684741, -0.9547001300086784, 0.26062793395402895, 0.0012388939276021182, -0.7212270021450119, -0.15919309376546367, 1.036045290051301, -0.4367341912425072, 0.4183619167269413, -0.9869819473111545, 0.46415757459025936, 0.907112493962873, 0.04747797526445393, 0.8951683093198934, -0.31273978661031654, -0.38852459396814915, -0.21814853869892967, 0.06874986096360242, -2.046811137503565, -0.30188504766584184, 0.3991831218988143, -0.9619090984013201, 2.0755584226410915, -0.13736165791337965, -0.861827546842935, 1.3905627604649047, 1.0763452474767086, -0.2724466161760582, -1.136419583125512, 2.8963094311022544, 0.998479444147354, 0.5363394044353359, 0.2999801214940788, -0.20435860562327238, -1.5876911915428935, 0.1689491074557813, -0.7550523982876761, 0.14659326683142235, 0.3792701864009285, -0.4165521378380051, 0.6274214865629553, -0.258635746057425, 0.04476722623086181, -0.43703161466220863, 1.88969572647376, 0.5535706370729377, -1.135244544453128, -0.7426677074998133, 1.3798865438745822, -0.5563918303956908, 0.09158547419355814, 1.8855374103668776, -0.2805175659360432, 0.36070102679322347, 0.10638652573921481, 0.44057146595893387, 0.814903887602294, 1.0939625067681231, 0.05500910372074003, 1.1314784533017157, -0.09953238829157161], \"xaxis\": \"x5\", \"y\": [0.10505382992684024, 0.4711673041743314, -1.519353471102839, 1.1547053822403741, 1.0798174585278013, -1.3167731816914818, 0.7135520626011459, 1.228071405621988, -0.1352699013682691, -0.7225275214145852, 0.8549518116578393, -0.20588106476691267, -0.06703596762655907, 1.6484770738363472, 0.36286227096868406, 0.05563320312264835, 0.6254057338704384, -0.012960080959064806, -2.12932614521523, -0.4157931861958631, 0.7506360034867958, -0.13983300982709157, -0.5900443492432567, 0.7044782303155932, 0.19890230651938576, -0.19836350350683987, 0.8759308313682472, 0.19836962628705404, 0.27848831138959357, -1.1694296316366262, 0.3267781091861249, 0.38581311088033404, 0.5471026752728532, -0.3146860226848104, -1.6035633201468595, 0.06543919850911806, 0.19351698419231203, -2.386767407875937, 1.0703757940939813, 0.7152544617480363, -0.8402296964975069, 1.4438748000559085, 1.1597873193139467, -1.1095184085909982, 1.6063077829929273, -1.085090818463112, -2.022548824739018, 0.4053807585208205, -0.40761135212598976, 0.7499089719721762, -0.5654299320552335, -1.1633044453417187, -0.8681796271541423, -2.9092295914484128, -0.9005417099015383, 0.9211926455003557, 0.5479235918234407, 0.3674219082707484, -0.7334914066505491, -0.19254775033259586, -0.14348719988088504, -2.329163688940016, 0.15057290599191409, 0.1237678929312007, 0.683541160275602, -0.5466460611187319, -0.04691790105302972, -0.30891159038861526, 0.7099401236493103, -0.002099768581509483, -0.41139758529350595, -0.5335970457156773, -1.30774488435812, -0.36710599583404435, -1.0930940248488794, 0.023844045404288774, 2.0924380613371363, 0.30331932358411845, 0.476086299481217, 1.384076360250985, 0.5766365706062448, 2.6165270527132005, 0.5821109662236247, -0.15557530418785975, -0.436490142585925, 0.22184656251316986, 0.15768753650025366, 0.48078788358232516, 0.6292641638456508, -0.692412043888579, -0.95302121836286, -1.2292609401152632, -0.2634772944023692, -0.7325543666146409, -0.7984410176142024, -0.1336532721123046, -0.6412326522647541, 1.054147966339015, -1.2572779777281884, -0.015239046068296734], \"yaxis\": \"y5\"}, {\"histfunc\": \"count\", \"histnorm\": \"\", \"marker\": {\"color\": \"rgba(55, 128, 191, 1.0)\", \"line\": {\"color\": \"#4D5663\", \"width\": 1.3}}, \"name\": \"B\", \"nbinsx\": 10, \"opacity\": 0.8, \"orientation\": \"v\", \"type\": \"histogram\", \"x\": [0.10505382992684024, 0.4711673041743314, -1.519353471102839, 1.1547053822403741, 1.0798174585278013, -1.3167731816914818, 0.7135520626011459, 1.228071405621988, -0.1352699013682691, -0.7225275214145852, 0.8549518116578393, -0.20588106476691267, -0.06703596762655907, 1.6484770738363472, 0.36286227096868406, 0.05563320312264835, 0.6254057338704384, -0.012960080959064806, -2.12932614521523, -0.4157931861958631, 0.7506360034867958, -0.13983300982709157, -0.5900443492432567, 0.7044782303155932, 0.19890230651938576, -0.19836350350683987, 0.8759308313682472, 0.19836962628705404, 0.27848831138959357, -1.1694296316366262, 0.3267781091861249, 0.38581311088033404, 0.5471026752728532, -0.3146860226848104, -1.6035633201468595, 0.06543919850911806, 0.19351698419231203, -2.386767407875937, 1.0703757940939813, 0.7152544617480363, -0.8402296964975069, 1.4438748000559085, 1.1597873193139467, -1.1095184085909982, 1.6063077829929273, -1.085090818463112, -2.022548824739018, 0.4053807585208205, -0.40761135212598976, 0.7499089719721762, -0.5654299320552335, -1.1633044453417187, -0.8681796271541423, -2.9092295914484128, -0.9005417099015383, 0.9211926455003557, 0.5479235918234407, 0.3674219082707484, -0.7334914066505491, -0.19254775033259586, -0.14348719988088504, -2.329163688940016, 0.15057290599191409, 0.1237678929312007, 0.683541160275602, -0.5466460611187319, -0.04691790105302972, -0.30891159038861526, 0.7099401236493103, -0.002099768581509483, -0.41139758529350595, -0.5335970457156773, -1.30774488435812, -0.36710599583404435, -1.0930940248488794, 0.023844045404288774, 2.0924380613371363, 0.30331932358411845, 0.476086299481217, 1.384076360250985, 0.5766365706062448, 2.6165270527132005, 0.5821109662236247, -0.15557530418785975, -0.436490142585925, 0.22184656251316986, 0.15768753650025366, 0.48078788358232516, 0.6292641638456508, -0.692412043888579, -0.95302121836286, -1.2292609401152632, -0.2634772944023692, -0.7325543666146409, -0.7984410176142024, -0.1336532721123046, -0.6412326522647541, 1.054147966339015, -1.2572779777281884, -0.015239046068296734], \"xaxis\": \"x6\", \"yaxis\": \"y6\"}, {\"line\": {\"color\": \"rgba(128, 128, 128, 1.0)\", \"dash\": \"solid\", \"shape\": \"linear\", \"width\": 1.3}, \"marker\": {\"size\": 2, \"symbol\": \"circle\"}, \"mode\": \"markers\", \"name\": \"B\", \"text\": \"\", \"type\": \"scatter\", \"x\": [1.325986951306397, 0.3260379678254021, -0.6163141446218504, 0.4865973906254282, -0.07384714793910596, -2.128247649858157, 0.9899786707681009, 0.14390188488075562, 0.5336971821513533, 0.4330008788577454, 1.4452855469916024, -0.24384767262997345, 1.1847648177497783, 0.7799653705182154, -0.6574537627718967, 0.27867216167241443, 0.07588461288882492, -0.054931609777654565, -0.3897119807407454, -0.6956935853181346, 1.1816183034522831, -1.1341849733544478, -0.7761928446286821, -0.33419641397345046, 1.8029064600206193, -0.41126648853461406, 0.1013433435335912, -0.7183074617106701, -0.9670050965595579, -1.6207257672281554, 0.7954284285550257, -0.6734527329075558, -0.09187453740053732, -0.10535460398852417, 1.0139817857216846, -1.2006436182800866, 0.46800207960460516, -0.049311319918309025, -1.5417472465743782, 0.7771450432253827, 0.686136729790617, 0.08923433437150162, 0.05371058934124575, -0.21846160736961995, -0.2265002951523715, 0.23520569975094874, -1.0796353950980793, 0.362596291957928, 0.09283659392817996, -2.5489346064706813, -0.057141943766571474, -0.9424839599164069, 0.4001259193237537, -1.8698119344867443, 0.2925367384240569, 1.331267574686436, 1.864571910544436, -0.7743132267142006, 1.1670841105410528, -0.4950983601309821, 0.33485479537762813, -0.799765405259079, -0.5802842439486725, -0.09426345017889004, 0.42376844450748985, 0.7309860802256991, -0.06359644700751567, 0.5365761776278535, 1.2439735218033796, -0.6382846187613946, 0.3863512889639779, -1.1746670984970677, -0.37923214184639314, 0.9018058454431247, -0.10664807931447579, -0.31121323608409596, 0.10832582480128584, 1.115439114527776, -2.031404005566909, -0.12889886456592117, 0.9056694380957064, -0.09804614447182573, -0.523195433240164, 1.19199643787691, 1.0215520940845166, 0.6393485638374208, -0.6848970885709333, -1.179477655610947, 1.7627636217745741, -1.4971944888621254, 0.4829579797475712, 0.8682296601800666, -1.2501150710128046, -1.5417147550758254, -0.4234705537455407, 0.19729208563905898, -0.37372792440213, -0.5091185358749735, 0.08993672459993808, -1.8830749902412796], \"xaxis\": \"x7\", \"y\": [0.10505382992684024, 0.4711673041743314, -1.519353471102839, 1.1547053822403741, 1.0798174585278013, -1.3167731816914818, 0.7135520626011459, 1.228071405621988, -0.1352699013682691, -0.7225275214145852, 0.8549518116578393, -0.20588106476691267, -0.06703596762655907, 1.6484770738363472, 0.36286227096868406, 0.05563320312264835, 0.6254057338704384, -0.012960080959064806, -2.12932614521523, -0.4157931861958631, 0.7506360034867958, -0.13983300982709157, -0.5900443492432567, 0.7044782303155932, 0.19890230651938576, -0.19836350350683987, 0.8759308313682472, 0.19836962628705404, 0.27848831138959357, -1.1694296316366262, 0.3267781091861249, 0.38581311088033404, 0.5471026752728532, -0.3146860226848104, -1.6035633201468595, 0.06543919850911806, 0.19351698419231203, -2.386767407875937, 1.0703757940939813, 0.7152544617480363, -0.8402296964975069, 1.4438748000559085, 1.1597873193139467, -1.1095184085909982, 1.6063077829929273, -1.085090818463112, -2.022548824739018, 0.4053807585208205, -0.40761135212598976, 0.7499089719721762, -0.5654299320552335, -1.1633044453417187, -0.8681796271541423, -2.9092295914484128, -0.9005417099015383, 0.9211926455003557, 0.5479235918234407, 0.3674219082707484, -0.7334914066505491, -0.19254775033259586, -0.14348719988088504, -2.329163688940016, 0.15057290599191409, 0.1237678929312007, 0.683541160275602, -0.5466460611187319, -0.04691790105302972, -0.30891159038861526, 0.7099401236493103, -0.002099768581509483, -0.41139758529350595, -0.5335970457156773, -1.30774488435812, -0.36710599583404435, -1.0930940248488794, 0.023844045404288774, 2.0924380613371363, 0.30331932358411845, 0.476086299481217, 1.384076360250985, 0.5766365706062448, 2.6165270527132005, 0.5821109662236247, -0.15557530418785975, -0.436490142585925, 0.22184656251316986, 0.15768753650025366, 0.48078788358232516, 0.6292641638456508, -0.692412043888579, -0.95302121836286, -1.2292609401152632, -0.2634772944023692, -0.7325543666146409, -0.7984410176142024, -0.1336532721123046, -0.6412326522647541, 1.054147966339015, -1.2572779777281884, -0.015239046068296734], \"yaxis\": \"y7\"}, {\"line\": {\"color\": \"rgba(128, 128, 128, 1.0)\", \"dash\": \"solid\", \"shape\": \"linear\", \"width\": 1.3}, \"marker\": {\"size\": 2, \"symbol\": \"circle\"}, \"mode\": \"markers\", \"name\": \"B\", \"text\": \"\", \"type\": \"scatter\", \"x\": [-1.6871166152710537, -0.9709146074308888, -0.5322687464826751, -1.6969044654616137, 0.7018157212462957, 0.9890954159029299, -0.4702174322607677, -0.24929570482905708, 0.3524966518991849, -0.7227365763521281, -1.4483138832116238, -0.5050505653111883, 0.4404702119730967, -0.656458520091939, -1.3499073526001655, 0.5107501454794654, -0.885194562273592, 1.193129915575867, -0.30421983227978533, -1.2574239056063228, 0.7508696903541667, -1.9985018939930543, 0.03425003934745889, -0.6153295531228291, 0.7223070194201905, 0.8616393716838515, 0.8820365750281605, -0.9930005394602255, 0.37014383508428567, 1.5027419249381913, -0.471380520807196, -0.29084224788858515, -0.26044546542940417, 0.8539609395064646, -0.4805021629999128, 1.4240455241041656, -1.5412081455412912, -0.5458634616042313, -1.628079942459507, -0.6209367076435095, 0.04600294829541975, 0.3728183058942605, 0.5976505352052968, -0.14286910087644122, -0.44875522549010516, -0.22474917871122074, 0.009461892310466116, -0.660179455861578, 0.07397956783829993, 0.8466637287763911, -1.3234384495945357, -0.635962540855323, -1.1678012205692707, -1.4465013591047111, -0.14216286294785316, 0.662408676756327, 0.012322378508136372, -0.6791340352131084, -0.399513561915407, 1.7069048108155547, -0.08557883992246046, -0.8540168724982593, -0.38877723003686493, 0.5221342900851099, 0.38995860461647136, 0.6518837539021461, 0.6617211729627388, 1.4977735186716319, -1.552861353779272, -0.8668378088231466, -0.5438853001361091, 0.916330945434475, 0.1253157187887894, -0.49852395379171893, -0.1124279985582431, 0.8480276998382047, 1.6748397162748503, -0.6397636666884824, 1.5256103272594805, 0.9572907516938183, -0.25187559722114633, -0.1796614147649597, 0.23321839917916154, -0.4174270901150401, -0.11002827398015526, 1.025764367521651, 0.4943326831140443, -1.5913397501504867, 0.2721769464952303, -0.5300161224993246, -1.1819066014832864, -2.87294669199844, -0.8690188264419709, 0.037336100302141156, -0.9833889977259772, -0.9607778938055418, -1.0564344370656864, 0.5204201260016412, 1.0520151247197016, -1.28171408051971], \"xaxis\": \"x8\", \"y\": [0.10505382992684024, 0.4711673041743314, -1.519353471102839, 1.1547053822403741, 1.0798174585278013, -1.3167731816914818, 0.7135520626011459, 1.228071405621988, -0.1352699013682691, -0.7225275214145852, 0.8549518116578393, -0.20588106476691267, -0.06703596762655907, 1.6484770738363472, 0.36286227096868406, 0.05563320312264835, 0.6254057338704384, -0.012960080959064806, -2.12932614521523, -0.4157931861958631, 0.7506360034867958, -0.13983300982709157, -0.5900443492432567, 0.7044782303155932, 0.19890230651938576, -0.19836350350683987, 0.8759308313682472, 0.19836962628705404, 0.27848831138959357, -1.1694296316366262, 0.3267781091861249, 0.38581311088033404, 0.5471026752728532, -0.3146860226848104, -1.6035633201468595, 0.06543919850911806, 0.19351698419231203, -2.386767407875937, 1.0703757940939813, 0.7152544617480363, -0.8402296964975069, 1.4438748000559085, 1.1597873193139467, -1.1095184085909982, 1.6063077829929273, -1.085090818463112, -2.022548824739018, 0.4053807585208205, -0.40761135212598976, 0.7499089719721762, -0.5654299320552335, -1.1633044453417187, -0.8681796271541423, -2.9092295914484128, -0.9005417099015383, 0.9211926455003557, 0.5479235918234407, 0.3674219082707484, -0.7334914066505491, -0.19254775033259586, -0.14348719988088504, -2.329163688940016, 0.15057290599191409, 0.1237678929312007, 0.683541160275602, -0.5466460611187319, -0.04691790105302972, -0.30891159038861526, 0.7099401236493103, -0.002099768581509483, -0.41139758529350595, -0.5335970457156773, -1.30774488435812, -0.36710599583404435, -1.0930940248488794, 0.023844045404288774, 2.0924380613371363, 0.30331932358411845, 0.476086299481217, 1.384076360250985, 0.5766365706062448, 2.6165270527132005, 0.5821109662236247, -0.15557530418785975, -0.436490142585925, 0.22184656251316986, 0.15768753650025366, 0.48078788358232516, 0.6292641638456508, -0.692412043888579, -0.95302121836286, -1.2292609401152632, -0.2634772944023692, -0.7325543666146409, -0.7984410176142024, -0.1336532721123046, -0.6412326522647541, 1.054147966339015, -1.2572779777281884, -0.015239046068296734], \"yaxis\": \"y8\"}, {\"line\": {\"color\": \"rgba(128, 128, 128, 1.0)\", \"dash\": \"solid\", \"shape\": \"linear\", \"width\": 1.3}, \"marker\": {\"size\": 2, \"symbol\": \"circle\"}, \"mode\": \"markers\", \"name\": \"C\", \"text\": \"\", \"type\": \"scatter\", \"x\": [-1.471246046471575, -0.6085271820559668, -1.1482532192046846, 0.2627438693214284, 2.0836070829778217, 1.5631875324236681, 0.5808382512677437, 0.100140196384491, 1.2262718460695798, 0.8121590295001305, -1.638410297853008, -1.3542858701443743, -0.8859356006558017, -0.2117872482653646, 1.52205049796379, 1.2017578197554064, 0.7102810124642632, -0.23545767256803746, -1.0956352495534225, 1.6932444882864444, -1.1138532343497123, -1.5238659046060548, 0.3737582919650709, 0.3995610667193977, 0.9849517979430037, -0.41286182514316994, 0.22013798773369625, -0.9940274726090388, 0.6053300034368934, -0.08150224288687338, 1.530830559698258, -0.6660168670760243, 0.2476162288080035, -0.4201157591879683, 2.513732444208068, 0.18748712307755722, 0.7718010241028777, -1.0216987493095346, 0.7359898582102234, 0.3394424646684741, -0.9547001300086784, 0.26062793395402895, 0.0012388939276021182, -0.7212270021450119, -0.15919309376546367, 1.036045290051301, -0.4367341912425072, 0.4183619167269413, -0.9869819473111545, 0.46415757459025936, 0.907112493962873, 0.04747797526445393, 0.8951683093198934, -0.31273978661031654, -0.38852459396814915, -0.21814853869892967, 0.06874986096360242, -2.046811137503565, -0.30188504766584184, 0.3991831218988143, -0.9619090984013201, 2.0755584226410915, -0.13736165791337965, -0.861827546842935, 1.3905627604649047, 1.0763452474767086, -0.2724466161760582, -1.136419583125512, 2.8963094311022544, 0.998479444147354, 0.5363394044353359, 0.2999801214940788, -0.20435860562327238, -1.5876911915428935, 0.1689491074557813, -0.7550523982876761, 0.14659326683142235, 0.3792701864009285, -0.4165521378380051, 0.6274214865629553, -0.258635746057425, 0.04476722623086181, -0.43703161466220863, 1.88969572647376, 0.5535706370729377, -1.135244544453128, -0.7426677074998133, 1.3798865438745822, -0.5563918303956908, 0.09158547419355814, 1.8855374103668776, -0.2805175659360432, 0.36070102679322347, 0.10638652573921481, 0.44057146595893387, 0.814903887602294, 1.0939625067681231, 0.05500910372074003, 1.1314784533017157, -0.09953238829157161], \"xaxis\": \"x9\", \"y\": [1.325986951306397, 0.3260379678254021, -0.6163141446218504, 0.4865973906254282, -0.07384714793910596, -2.128247649858157, 0.9899786707681009, 0.14390188488075562, 0.5336971821513533, 0.4330008788577454, 1.4452855469916024, -0.24384767262997345, 1.1847648177497783, 0.7799653705182154, -0.6574537627718967, 0.27867216167241443, 0.07588461288882492, -0.054931609777654565, -0.3897119807407454, -0.6956935853181346, 1.1816183034522831, -1.1341849733544478, -0.7761928446286821, -0.33419641397345046, 1.8029064600206193, -0.41126648853461406, 0.1013433435335912, -0.7183074617106701, -0.9670050965595579, -1.6207257672281554, 0.7954284285550257, -0.6734527329075558, -0.09187453740053732, -0.10535460398852417, 1.0139817857216846, -1.2006436182800866, 0.46800207960460516, -0.049311319918309025, -1.5417472465743782, 0.7771450432253827, 0.686136729790617, 0.08923433437150162, 0.05371058934124575, -0.21846160736961995, -0.2265002951523715, 0.23520569975094874, -1.0796353950980793, 0.362596291957928, 0.09283659392817996, -2.5489346064706813, -0.057141943766571474, -0.9424839599164069, 0.4001259193237537, -1.8698119344867443, 0.2925367384240569, 1.331267574686436, 1.864571910544436, -0.7743132267142006, 1.1670841105410528, -0.4950983601309821, 0.33485479537762813, -0.799765405259079, -0.5802842439486725, -0.09426345017889004, 0.42376844450748985, 0.7309860802256991, -0.06359644700751567, 0.5365761776278535, 1.2439735218033796, -0.6382846187613946, 0.3863512889639779, -1.1746670984970677, -0.37923214184639314, 0.9018058454431247, -0.10664807931447579, -0.31121323608409596, 0.10832582480128584, 1.115439114527776, -2.031404005566909, -0.12889886456592117, 0.9056694380957064, -0.09804614447182573, -0.523195433240164, 1.19199643787691, 1.0215520940845166, 0.6393485638374208, -0.6848970885709333, -1.179477655610947, 1.7627636217745741, -1.4971944888621254, 0.4829579797475712, 0.8682296601800666, -1.2501150710128046, -1.5417147550758254, -0.4234705537455407, 0.19729208563905898, -0.37372792440213, -0.5091185358749735, 0.08993672459993808, -1.8830749902412796], \"yaxis\": \"y9\"}, {\"line\": {\"color\": \"rgba(128, 128, 128, 1.0)\", \"dash\": \"solid\", \"shape\": \"linear\", \"width\": 1.3}, \"marker\": {\"size\": 2, \"symbol\": \"circle\"}, \"mode\": \"markers\", \"name\": \"C\", \"text\": \"\", \"type\": \"scatter\", \"x\": [0.10505382992684024, 0.4711673041743314, -1.519353471102839, 1.1547053822403741, 1.0798174585278013, -1.3167731816914818, 0.7135520626011459, 1.228071405621988, -0.1352699013682691, -0.7225275214145852, 0.8549518116578393, -0.20588106476691267, -0.06703596762655907, 1.6484770738363472, 0.36286227096868406, 0.05563320312264835, 0.6254057338704384, -0.012960080959064806, -2.12932614521523, -0.4157931861958631, 0.7506360034867958, -0.13983300982709157, -0.5900443492432567, 0.7044782303155932, 0.19890230651938576, -0.19836350350683987, 0.8759308313682472, 0.19836962628705404, 0.27848831138959357, -1.1694296316366262, 0.3267781091861249, 0.38581311088033404, 0.5471026752728532, -0.3146860226848104, -1.6035633201468595, 0.06543919850911806, 0.19351698419231203, -2.386767407875937, 1.0703757940939813, 0.7152544617480363, -0.8402296964975069, 1.4438748000559085, 1.1597873193139467, -1.1095184085909982, 1.6063077829929273, -1.085090818463112, -2.022548824739018, 0.4053807585208205, -0.40761135212598976, 0.7499089719721762, -0.5654299320552335, -1.1633044453417187, -0.8681796271541423, -2.9092295914484128, -0.9005417099015383, 0.9211926455003557, 0.5479235918234407, 0.3674219082707484, -0.7334914066505491, -0.19254775033259586, -0.14348719988088504, -2.329163688940016, 0.15057290599191409, 0.1237678929312007, 0.683541160275602, -0.5466460611187319, -0.04691790105302972, -0.30891159038861526, 0.7099401236493103, -0.002099768581509483, -0.41139758529350595, -0.5335970457156773, -1.30774488435812, -0.36710599583404435, -1.0930940248488794, 0.023844045404288774, 2.0924380613371363, 0.30331932358411845, 0.476086299481217, 1.384076360250985, 0.5766365706062448, 2.6165270527132005, 0.5821109662236247, -0.15557530418785975, -0.436490142585925, 0.22184656251316986, 0.15768753650025366, 0.48078788358232516, 0.6292641638456508, -0.692412043888579, -0.95302121836286, -1.2292609401152632, -0.2634772944023692, -0.7325543666146409, -0.7984410176142024, -0.1336532721123046, -0.6412326522647541, 1.054147966339015, -1.2572779777281884, -0.015239046068296734], \"xaxis\": \"x10\", \"y\": [1.325986951306397, 0.3260379678254021, -0.6163141446218504, 0.4865973906254282, -0.07384714793910596, -2.128247649858157, 0.9899786707681009, 0.14390188488075562, 0.5336971821513533, 0.4330008788577454, 1.4452855469916024, -0.24384767262997345, 1.1847648177497783, 0.7799653705182154, -0.6574537627718967, 0.27867216167241443, 0.07588461288882492, -0.054931609777654565, -0.3897119807407454, -0.6956935853181346, 1.1816183034522831, -1.1341849733544478, -0.7761928446286821, -0.33419641397345046, 1.8029064600206193, -0.41126648853461406, 0.1013433435335912, -0.7183074617106701, -0.9670050965595579, -1.6207257672281554, 0.7954284285550257, -0.6734527329075558, -0.09187453740053732, -0.10535460398852417, 1.0139817857216846, -1.2006436182800866, 0.46800207960460516, -0.049311319918309025, -1.5417472465743782, 0.7771450432253827, 0.686136729790617, 0.08923433437150162, 0.05371058934124575, -0.21846160736961995, -0.2265002951523715, 0.23520569975094874, -1.0796353950980793, 0.362596291957928, 0.09283659392817996, -2.5489346064706813, -0.057141943766571474, -0.9424839599164069, 0.4001259193237537, -1.8698119344867443, 0.2925367384240569, 1.331267574686436, 1.864571910544436, -0.7743132267142006, 1.1670841105410528, -0.4950983601309821, 0.33485479537762813, -0.799765405259079, -0.5802842439486725, -0.09426345017889004, 0.42376844450748985, 0.7309860802256991, -0.06359644700751567, 0.5365761776278535, 1.2439735218033796, -0.6382846187613946, 0.3863512889639779, -1.1746670984970677, -0.37923214184639314, 0.9018058454431247, -0.10664807931447579, -0.31121323608409596, 0.10832582480128584, 1.115439114527776, -2.031404005566909, -0.12889886456592117, 0.9056694380957064, -0.09804614447182573, -0.523195433240164, 1.19199643787691, 1.0215520940845166, 0.6393485638374208, -0.6848970885709333, -1.179477655610947, 1.7627636217745741, -1.4971944888621254, 0.4829579797475712, 0.8682296601800666, -1.2501150710128046, -1.5417147550758254, -0.4234705537455407, 0.19729208563905898, -0.37372792440213, -0.5091185358749735, 0.08993672459993808, -1.8830749902412796], \"yaxis\": \"y10\"}, {\"histfunc\": \"count\", \"histnorm\": \"\", \"marker\": {\"color\": \"rgba(50, 171, 96, 1.0)\", \"line\": {\"color\": \"#4D5663\", \"width\": 1.3}}, \"name\": \"C\", \"nbinsx\": 10, \"opacity\": 0.8, \"orientation\": \"v\", \"type\": \"histogram\", \"x\": [1.325986951306397, 0.3260379678254021, -0.6163141446218504, 0.4865973906254282, -0.07384714793910596, -2.128247649858157, 0.9899786707681009, 0.14390188488075562, 0.5336971821513533, 0.4330008788577454, 1.4452855469916024, -0.24384767262997345, 1.1847648177497783, 0.7799653705182154, -0.6574537627718967, 0.27867216167241443, 0.07588461288882492, -0.054931609777654565, -0.3897119807407454, -0.6956935853181346, 1.1816183034522831, -1.1341849733544478, -0.7761928446286821, -0.33419641397345046, 1.8029064600206193, -0.41126648853461406, 0.1013433435335912, -0.7183074617106701, -0.9670050965595579, -1.6207257672281554, 0.7954284285550257, -0.6734527329075558, -0.09187453740053732, -0.10535460398852417, 1.0139817857216846, -1.2006436182800866, 0.46800207960460516, -0.049311319918309025, -1.5417472465743782, 0.7771450432253827, 0.686136729790617, 0.08923433437150162, 0.05371058934124575, -0.21846160736961995, -0.2265002951523715, 0.23520569975094874, -1.0796353950980793, 0.362596291957928, 0.09283659392817996, -2.5489346064706813, -0.057141943766571474, -0.9424839599164069, 0.4001259193237537, -1.8698119344867443, 0.2925367384240569, 1.331267574686436, 1.864571910544436, -0.7743132267142006, 1.1670841105410528, -0.4950983601309821, 0.33485479537762813, -0.799765405259079, -0.5802842439486725, -0.09426345017889004, 0.42376844450748985, 0.7309860802256991, -0.06359644700751567, 0.5365761776278535, 1.2439735218033796, -0.6382846187613946, 0.3863512889639779, -1.1746670984970677, -0.37923214184639314, 0.9018058454431247, -0.10664807931447579, -0.31121323608409596, 0.10832582480128584, 1.115439114527776, -2.031404005566909, -0.12889886456592117, 0.9056694380957064, -0.09804614447182573, -0.523195433240164, 1.19199643787691, 1.0215520940845166, 0.6393485638374208, -0.6848970885709333, -1.179477655610947, 1.7627636217745741, -1.4971944888621254, 0.4829579797475712, 0.8682296601800666, -1.2501150710128046, -1.5417147550758254, -0.4234705537455407, 0.19729208563905898, -0.37372792440213, -0.5091185358749735, 0.08993672459993808, -1.8830749902412796], \"xaxis\": \"x11\", \"yaxis\": \"y11\"}, {\"line\": {\"color\": \"rgba(128, 128, 128, 1.0)\", \"dash\": \"solid\", \"shape\": \"linear\", \"width\": 1.3}, \"marker\": {\"size\": 2, \"symbol\": \"circle\"}, \"mode\": \"markers\", \"name\": \"C\", \"text\": \"\", \"type\": \"scatter\", \"x\": [-1.6871166152710537, -0.9709146074308888, -0.5322687464826751, -1.6969044654616137, 0.7018157212462957, 0.9890954159029299, -0.4702174322607677, -0.24929570482905708, 0.3524966518991849, -0.7227365763521281, -1.4483138832116238, -0.5050505653111883, 0.4404702119730967, -0.656458520091939, -1.3499073526001655, 0.5107501454794654, -0.885194562273592, 1.193129915575867, -0.30421983227978533, -1.2574239056063228, 0.7508696903541667, -1.9985018939930543, 0.03425003934745889, -0.6153295531228291, 0.7223070194201905, 0.8616393716838515, 0.8820365750281605, -0.9930005394602255, 0.37014383508428567, 1.5027419249381913, -0.471380520807196, -0.29084224788858515, -0.26044546542940417, 0.8539609395064646, -0.4805021629999128, 1.4240455241041656, -1.5412081455412912, -0.5458634616042313, -1.628079942459507, -0.6209367076435095, 0.04600294829541975, 0.3728183058942605, 0.5976505352052968, -0.14286910087644122, -0.44875522549010516, -0.22474917871122074, 0.009461892310466116, -0.660179455861578, 0.07397956783829993, 0.8466637287763911, -1.3234384495945357, -0.635962540855323, -1.1678012205692707, -1.4465013591047111, -0.14216286294785316, 0.662408676756327, 0.012322378508136372, -0.6791340352131084, -0.399513561915407, 1.7069048108155547, -0.08557883992246046, -0.8540168724982593, -0.38877723003686493, 0.5221342900851099, 0.38995860461647136, 0.6518837539021461, 0.6617211729627388, 1.4977735186716319, -1.552861353779272, -0.8668378088231466, -0.5438853001361091, 0.916330945434475, 0.1253157187887894, -0.49852395379171893, -0.1124279985582431, 0.8480276998382047, 1.6748397162748503, -0.6397636666884824, 1.5256103272594805, 0.9572907516938183, -0.25187559722114633, -0.1796614147649597, 0.23321839917916154, -0.4174270901150401, -0.11002827398015526, 1.025764367521651, 0.4943326831140443, -1.5913397501504867, 0.2721769464952303, -0.5300161224993246, -1.1819066014832864, -2.87294669199844, -0.8690188264419709, 0.037336100302141156, -0.9833889977259772, -0.9607778938055418, -1.0564344370656864, 0.5204201260016412, 1.0520151247197016, -1.28171408051971], \"xaxis\": \"x12\", \"y\": [1.325986951306397, 0.3260379678254021, -0.6163141446218504, 0.4865973906254282, -0.07384714793910596, -2.128247649858157, 0.9899786707681009, 0.14390188488075562, 0.5336971821513533, 0.4330008788577454, 1.4452855469916024, -0.24384767262997345, 1.1847648177497783, 0.7799653705182154, -0.6574537627718967, 0.27867216167241443, 0.07588461288882492, -0.054931609777654565, -0.3897119807407454, -0.6956935853181346, 1.1816183034522831, -1.1341849733544478, -0.7761928446286821, -0.33419641397345046, 1.8029064600206193, -0.41126648853461406, 0.1013433435335912, -0.7183074617106701, -0.9670050965595579, -1.6207257672281554, 0.7954284285550257, -0.6734527329075558, -0.09187453740053732, -0.10535460398852417, 1.0139817857216846, -1.2006436182800866, 0.46800207960460516, -0.049311319918309025, -1.5417472465743782, 0.7771450432253827, 0.686136729790617, 0.08923433437150162, 0.05371058934124575, -0.21846160736961995, -0.2265002951523715, 0.23520569975094874, -1.0796353950980793, 0.362596291957928, 0.09283659392817996, -2.5489346064706813, -0.057141943766571474, -0.9424839599164069, 0.4001259193237537, -1.8698119344867443, 0.2925367384240569, 1.331267574686436, 1.864571910544436, -0.7743132267142006, 1.1670841105410528, -0.4950983601309821, 0.33485479537762813, -0.799765405259079, -0.5802842439486725, -0.09426345017889004, 0.42376844450748985, 0.7309860802256991, -0.06359644700751567, 0.5365761776278535, 1.2439735218033796, -0.6382846187613946, 0.3863512889639779, -1.1746670984970677, -0.37923214184639314, 0.9018058454431247, -0.10664807931447579, -0.31121323608409596, 0.10832582480128584, 1.115439114527776, -2.031404005566909, -0.12889886456592117, 0.9056694380957064, -0.09804614447182573, -0.523195433240164, 1.19199643787691, 1.0215520940845166, 0.6393485638374208, -0.6848970885709333, -1.179477655610947, 1.7627636217745741, -1.4971944888621254, 0.4829579797475712, 0.8682296601800666, -1.2501150710128046, -1.5417147550758254, -0.4234705537455407, 0.19729208563905898, -0.37372792440213, -0.5091185358749735, 0.08993672459993808, -1.8830749902412796], \"yaxis\": \"y12\"}, {\"line\": {\"color\": \"rgba(128, 128, 128, 1.0)\", \"dash\": \"solid\", \"shape\": \"linear\", \"width\": 1.3}, \"marker\": {\"size\": 2, \"symbol\": \"circle\"}, \"mode\": \"markers\", \"name\": \"D\", \"text\": \"\", \"type\": \"scatter\", \"x\": [-1.471246046471575, -0.6085271820559668, -1.1482532192046846, 0.2627438693214284, 2.0836070829778217, 1.5631875324236681, 0.5808382512677437, 0.100140196384491, 1.2262718460695798, 0.8121590295001305, -1.638410297853008, -1.3542858701443743, -0.8859356006558017, -0.2117872482653646, 1.52205049796379, 1.2017578197554064, 0.7102810124642632, -0.23545767256803746, -1.0956352495534225, 1.6932444882864444, -1.1138532343497123, -1.5238659046060548, 0.3737582919650709, 0.3995610667193977, 0.9849517979430037, -0.41286182514316994, 0.22013798773369625, -0.9940274726090388, 0.6053300034368934, -0.08150224288687338, 1.530830559698258, -0.6660168670760243, 0.2476162288080035, -0.4201157591879683, 2.513732444208068, 0.18748712307755722, 0.7718010241028777, -1.0216987493095346, 0.7359898582102234, 0.3394424646684741, -0.9547001300086784, 0.26062793395402895, 0.0012388939276021182, -0.7212270021450119, -0.15919309376546367, 1.036045290051301, -0.4367341912425072, 0.4183619167269413, -0.9869819473111545, 0.46415757459025936, 0.907112493962873, 0.04747797526445393, 0.8951683093198934, -0.31273978661031654, -0.38852459396814915, -0.21814853869892967, 0.06874986096360242, -2.046811137503565, -0.30188504766584184, 0.3991831218988143, -0.9619090984013201, 2.0755584226410915, -0.13736165791337965, -0.861827546842935, 1.3905627604649047, 1.0763452474767086, -0.2724466161760582, -1.136419583125512, 2.8963094311022544, 0.998479444147354, 0.5363394044353359, 0.2999801214940788, -0.20435860562327238, -1.5876911915428935, 0.1689491074557813, -0.7550523982876761, 0.14659326683142235, 0.3792701864009285, -0.4165521378380051, 0.6274214865629553, -0.258635746057425, 0.04476722623086181, -0.43703161466220863, 1.88969572647376, 0.5535706370729377, -1.135244544453128, -0.7426677074998133, 1.3798865438745822, -0.5563918303956908, 0.09158547419355814, 1.8855374103668776, -0.2805175659360432, 0.36070102679322347, 0.10638652573921481, 0.44057146595893387, 0.814903887602294, 1.0939625067681231, 0.05500910372074003, 1.1314784533017157, -0.09953238829157161], \"xaxis\": \"x13\", \"y\": [-1.6871166152710537, -0.9709146074308888, -0.5322687464826751, -1.6969044654616137, 0.7018157212462957, 0.9890954159029299, -0.4702174322607677, -0.24929570482905708, 0.3524966518991849, -0.7227365763521281, -1.4483138832116238, -0.5050505653111883, 0.4404702119730967, -0.656458520091939, -1.3499073526001655, 0.5107501454794654, -0.885194562273592, 1.193129915575867, -0.30421983227978533, -1.2574239056063228, 0.7508696903541667, -1.9985018939930543, 0.03425003934745889, -0.6153295531228291, 0.7223070194201905, 0.8616393716838515, 0.8820365750281605, -0.9930005394602255, 0.37014383508428567, 1.5027419249381913, -0.471380520807196, -0.29084224788858515, -0.26044546542940417, 0.8539609395064646, -0.4805021629999128, 1.4240455241041656, -1.5412081455412912, -0.5458634616042313, -1.628079942459507, -0.6209367076435095, 0.04600294829541975, 0.3728183058942605, 0.5976505352052968, -0.14286910087644122, -0.44875522549010516, -0.22474917871122074, 0.009461892310466116, -0.660179455861578, 0.07397956783829993, 0.8466637287763911, -1.3234384495945357, -0.635962540855323, -1.1678012205692707, -1.4465013591047111, -0.14216286294785316, 0.662408676756327, 0.012322378508136372, -0.6791340352131084, -0.399513561915407, 1.7069048108155547, -0.08557883992246046, -0.8540168724982593, -0.38877723003686493, 0.5221342900851099, 0.38995860461647136, 0.6518837539021461, 0.6617211729627388, 1.4977735186716319, -1.552861353779272, -0.8668378088231466, -0.5438853001361091, 0.916330945434475, 0.1253157187887894, -0.49852395379171893, -0.1124279985582431, 0.8480276998382047, 1.6748397162748503, -0.6397636666884824, 1.5256103272594805, 0.9572907516938183, -0.25187559722114633, -0.1796614147649597, 0.23321839917916154, -0.4174270901150401, -0.11002827398015526, 1.025764367521651, 0.4943326831140443, -1.5913397501504867, 0.2721769464952303, -0.5300161224993246, -1.1819066014832864, -2.87294669199844, -0.8690188264419709, 0.037336100302141156, -0.9833889977259772, -0.9607778938055418, -1.0564344370656864, 0.5204201260016412, 1.0520151247197016, -1.28171408051971], \"yaxis\": \"y13\"}, {\"line\": {\"color\": \"rgba(128, 128, 128, 1.0)\", \"dash\": \"solid\", \"shape\": \"linear\", \"width\": 1.3}, \"marker\": {\"size\": 2, \"symbol\": \"circle\"}, \"mode\": \"markers\", \"name\": \"D\", \"text\": \"\", \"type\": \"scatter\", \"x\": [0.10505382992684024, 0.4711673041743314, -1.519353471102839, 1.1547053822403741, 1.0798174585278013, -1.3167731816914818, 0.7135520626011459, 1.228071405621988, -0.1352699013682691, -0.7225275214145852, 0.8549518116578393, -0.20588106476691267, -0.06703596762655907, 1.6484770738363472, 0.36286227096868406, 0.05563320312264835, 0.6254057338704384, -0.012960080959064806, -2.12932614521523, -0.4157931861958631, 0.7506360034867958, -0.13983300982709157, -0.5900443492432567, 0.7044782303155932, 0.19890230651938576, -0.19836350350683987, 0.8759308313682472, 0.19836962628705404, 0.27848831138959357, -1.1694296316366262, 0.3267781091861249, 0.38581311088033404, 0.5471026752728532, -0.3146860226848104, -1.6035633201468595, 0.06543919850911806, 0.19351698419231203, -2.386767407875937, 1.0703757940939813, 0.7152544617480363, -0.8402296964975069, 1.4438748000559085, 1.1597873193139467, -1.1095184085909982, 1.6063077829929273, -1.085090818463112, -2.022548824739018, 0.4053807585208205, -0.40761135212598976, 0.7499089719721762, -0.5654299320552335, -1.1633044453417187, -0.8681796271541423, -2.9092295914484128, -0.9005417099015383, 0.9211926455003557, 0.5479235918234407, 0.3674219082707484, -0.7334914066505491, -0.19254775033259586, -0.14348719988088504, -2.329163688940016, 0.15057290599191409, 0.1237678929312007, 0.683541160275602, -0.5466460611187319, -0.04691790105302972, -0.30891159038861526, 0.7099401236493103, -0.002099768581509483, -0.41139758529350595, -0.5335970457156773, -1.30774488435812, -0.36710599583404435, -1.0930940248488794, 0.023844045404288774, 2.0924380613371363, 0.30331932358411845, 0.476086299481217, 1.384076360250985, 0.5766365706062448, 2.6165270527132005, 0.5821109662236247, -0.15557530418785975, -0.436490142585925, 0.22184656251316986, 0.15768753650025366, 0.48078788358232516, 0.6292641638456508, -0.692412043888579, -0.95302121836286, -1.2292609401152632, -0.2634772944023692, -0.7325543666146409, -0.7984410176142024, -0.1336532721123046, -0.6412326522647541, 1.054147966339015, -1.2572779777281884, -0.015239046068296734], \"xaxis\": \"x14\", \"y\": [-1.6871166152710537, -0.9709146074308888, -0.5322687464826751, -1.6969044654616137, 0.7018157212462957, 0.9890954159029299, -0.4702174322607677, -0.24929570482905708, 0.3524966518991849, -0.7227365763521281, -1.4483138832116238, -0.5050505653111883, 0.4404702119730967, -0.656458520091939, -1.3499073526001655, 0.5107501454794654, -0.885194562273592, 1.193129915575867, -0.30421983227978533, -1.2574239056063228, 0.7508696903541667, -1.9985018939930543, 0.03425003934745889, -0.6153295531228291, 0.7223070194201905, 0.8616393716838515, 0.8820365750281605, -0.9930005394602255, 0.37014383508428567, 1.5027419249381913, -0.471380520807196, -0.29084224788858515, -0.26044546542940417, 0.8539609395064646, -0.4805021629999128, 1.4240455241041656, -1.5412081455412912, -0.5458634616042313, -1.628079942459507, -0.6209367076435095, 0.04600294829541975, 0.3728183058942605, 0.5976505352052968, -0.14286910087644122, -0.44875522549010516, -0.22474917871122074, 0.009461892310466116, -0.660179455861578, 0.07397956783829993, 0.8466637287763911, -1.3234384495945357, -0.635962540855323, -1.1678012205692707, -1.4465013591047111, -0.14216286294785316, 0.662408676756327, 0.012322378508136372, -0.6791340352131084, -0.399513561915407, 1.7069048108155547, -0.08557883992246046, -0.8540168724982593, -0.38877723003686493, 0.5221342900851099, 0.38995860461647136, 0.6518837539021461, 0.6617211729627388, 1.4977735186716319, -1.552861353779272, -0.8668378088231466, -0.5438853001361091, 0.916330945434475, 0.1253157187887894, -0.49852395379171893, -0.1124279985582431, 0.8480276998382047, 1.6748397162748503, -0.6397636666884824, 1.5256103272594805, 0.9572907516938183, -0.25187559722114633, -0.1796614147649597, 0.23321839917916154, -0.4174270901150401, -0.11002827398015526, 1.025764367521651, 0.4943326831140443, -1.5913397501504867, 0.2721769464952303, -0.5300161224993246, -1.1819066014832864, -2.87294669199844, -0.8690188264419709, 0.037336100302141156, -0.9833889977259772, -0.9607778938055418, -1.0564344370656864, 0.5204201260016412, 1.0520151247197016, -1.28171408051971], \"yaxis\": \"y14\"}, {\"line\": {\"color\": \"rgba(128, 128, 128, 1.0)\", \"dash\": \"solid\", \"shape\": \"linear\", \"width\": 1.3}, \"marker\": {\"size\": 2, \"symbol\": \"circle\"}, \"mode\": \"markers\", \"name\": \"D\", \"text\": \"\", \"type\": \"scatter\", \"x\": [1.325986951306397, 0.3260379678254021, -0.6163141446218504, 0.4865973906254282, -0.07384714793910596, -2.128247649858157, 0.9899786707681009, 0.14390188488075562, 0.5336971821513533, 0.4330008788577454, 1.4452855469916024, -0.24384767262997345, 1.1847648177497783, 0.7799653705182154, -0.6574537627718967, 0.27867216167241443, 0.07588461288882492, -0.054931609777654565, -0.3897119807407454, -0.6956935853181346, 1.1816183034522831, -1.1341849733544478, -0.7761928446286821, -0.33419641397345046, 1.8029064600206193, -0.41126648853461406, 0.1013433435335912, -0.7183074617106701, -0.9670050965595579, -1.6207257672281554, 0.7954284285550257, -0.6734527329075558, -0.09187453740053732, -0.10535460398852417, 1.0139817857216846, -1.2006436182800866, 0.46800207960460516, -0.049311319918309025, -1.5417472465743782, 0.7771450432253827, 0.686136729790617, 0.08923433437150162, 0.05371058934124575, -0.21846160736961995, -0.2265002951523715, 0.23520569975094874, -1.0796353950980793, 0.362596291957928, 0.09283659392817996, -2.5489346064706813, -0.057141943766571474, -0.9424839599164069, 0.4001259193237537, -1.8698119344867443, 0.2925367384240569, 1.331267574686436, 1.864571910544436, -0.7743132267142006, 1.1670841105410528, -0.4950983601309821, 0.33485479537762813, -0.799765405259079, -0.5802842439486725, -0.09426345017889004, 0.42376844450748985, 0.7309860802256991, -0.06359644700751567, 0.5365761776278535, 1.2439735218033796, -0.6382846187613946, 0.3863512889639779, -1.1746670984970677, -0.37923214184639314, 0.9018058454431247, -0.10664807931447579, -0.31121323608409596, 0.10832582480128584, 1.115439114527776, -2.031404005566909, -0.12889886456592117, 0.9056694380957064, -0.09804614447182573, -0.523195433240164, 1.19199643787691, 1.0215520940845166, 0.6393485638374208, -0.6848970885709333, -1.179477655610947, 1.7627636217745741, -1.4971944888621254, 0.4829579797475712, 0.8682296601800666, -1.2501150710128046, -1.5417147550758254, -0.4234705537455407, 0.19729208563905898, -0.37372792440213, -0.5091185358749735, 0.08993672459993808, -1.8830749902412796], \"xaxis\": \"x15\", \"y\": [-1.6871166152710537, -0.9709146074308888, -0.5322687464826751, -1.6969044654616137, 0.7018157212462957, 0.9890954159029299, -0.4702174322607677, -0.24929570482905708, 0.3524966518991849, -0.7227365763521281, -1.4483138832116238, -0.5050505653111883, 0.4404702119730967, -0.656458520091939, -1.3499073526001655, 0.5107501454794654, -0.885194562273592, 1.193129915575867, -0.30421983227978533, -1.2574239056063228, 0.7508696903541667, -1.9985018939930543, 0.03425003934745889, -0.6153295531228291, 0.7223070194201905, 0.8616393716838515, 0.8820365750281605, -0.9930005394602255, 0.37014383508428567, 1.5027419249381913, -0.471380520807196, -0.29084224788858515, -0.26044546542940417, 0.8539609395064646, -0.4805021629999128, 1.4240455241041656, -1.5412081455412912, -0.5458634616042313, -1.628079942459507, -0.6209367076435095, 0.04600294829541975, 0.3728183058942605, 0.5976505352052968, -0.14286910087644122, -0.44875522549010516, -0.22474917871122074, 0.009461892310466116, -0.660179455861578, 0.07397956783829993, 0.8466637287763911, -1.3234384495945357, -0.635962540855323, -1.1678012205692707, -1.4465013591047111, -0.14216286294785316, 0.662408676756327, 0.012322378508136372, -0.6791340352131084, -0.399513561915407, 1.7069048108155547, -0.08557883992246046, -0.8540168724982593, -0.38877723003686493, 0.5221342900851099, 0.38995860461647136, 0.6518837539021461, 0.6617211729627388, 1.4977735186716319, -1.552861353779272, -0.8668378088231466, -0.5438853001361091, 0.916330945434475, 0.1253157187887894, -0.49852395379171893, -0.1124279985582431, 0.8480276998382047, 1.6748397162748503, -0.6397636666884824, 1.5256103272594805, 0.9572907516938183, -0.25187559722114633, -0.1796614147649597, 0.23321839917916154, -0.4174270901150401, -0.11002827398015526, 1.025764367521651, 0.4943326831140443, -1.5913397501504867, 0.2721769464952303, -0.5300161224993246, -1.1819066014832864, -2.87294669199844, -0.8690188264419709, 0.037336100302141156, -0.9833889977259772, -0.9607778938055418, -1.0564344370656864, 0.5204201260016412, 1.0520151247197016, -1.28171408051971], \"yaxis\": \"y15\"}, {\"histfunc\": \"count\", \"histnorm\": \"\", \"marker\": {\"color\": \"rgba(128, 0, 128, 1.0)\", \"line\": {\"color\": \"#4D5663\", \"width\": 1.3}}, \"name\": \"D\", \"nbinsx\": 10, \"opacity\": 0.8, \"orientation\": \"v\", \"type\": \"histogram\", \"x\": [-1.6871166152710537, -0.9709146074308888, -0.5322687464826751, -1.6969044654616137, 0.7018157212462957, 0.9890954159029299, -0.4702174322607677, -0.24929570482905708, 0.3524966518991849, -0.7227365763521281, -1.4483138832116238, -0.5050505653111883, 0.4404702119730967, -0.656458520091939, -1.3499073526001655, 0.5107501454794654, -0.885194562273592, 1.193129915575867, -0.30421983227978533, -1.2574239056063228, 0.7508696903541667, -1.9985018939930543, 0.03425003934745889, -0.6153295531228291, 0.7223070194201905, 0.8616393716838515, 0.8820365750281605, -0.9930005394602255, 0.37014383508428567, 1.5027419249381913, -0.471380520807196, -0.29084224788858515, -0.26044546542940417, 0.8539609395064646, -0.4805021629999128, 1.4240455241041656, -1.5412081455412912, -0.5458634616042313, -1.628079942459507, -0.6209367076435095, 0.04600294829541975, 0.3728183058942605, 0.5976505352052968, -0.14286910087644122, -0.44875522549010516, -0.22474917871122074, 0.009461892310466116, -0.660179455861578, 0.07397956783829993, 0.8466637287763911, -1.3234384495945357, -0.635962540855323, -1.1678012205692707, -1.4465013591047111, -0.14216286294785316, 0.662408676756327, 0.012322378508136372, -0.6791340352131084, -0.399513561915407, 1.7069048108155547, -0.08557883992246046, -0.8540168724982593, -0.38877723003686493, 0.5221342900851099, 0.38995860461647136, 0.6518837539021461, 0.6617211729627388, 1.4977735186716319, -1.552861353779272, -0.8668378088231466, -0.5438853001361091, 0.916330945434475, 0.1253157187887894, -0.49852395379171893, -0.1124279985582431, 0.8480276998382047, 1.6748397162748503, -0.6397636666884824, 1.5256103272594805, 0.9572907516938183, -0.25187559722114633, -0.1796614147649597, 0.23321839917916154, -0.4174270901150401, -0.11002827398015526, 1.025764367521651, 0.4943326831140443, -1.5913397501504867, 0.2721769464952303, -0.5300161224993246, -1.1819066014832864, -2.87294669199844, -0.8690188264419709, 0.037336100302141156, -0.9833889977259772, -0.9607778938055418, -1.0564344370656864, 0.5204201260016412, 1.0520151247197016, -1.28171408051971], \"xaxis\": \"x16\", \"yaxis\": \"y16\"}],\n",
       "                        {\"bargap\": 0.02, \"legend\": {\"bgcolor\": \"#F5F6F9\", \"font\": {\"color\": \"#4D5663\"}}, \"paper_bgcolor\": \"#F5F6F9\", \"plot_bgcolor\": \"#F5F6F9\", \"showlegend\": false, \"template\": {\"data\": {\"bar\": [{\"error_x\": {\"color\": \"#2a3f5f\"}, \"error_y\": {\"color\": \"#2a3f5f\"}, \"marker\": {\"line\": {\"color\": \"#E5ECF6\", \"width\": 0.5}}, \"type\": \"bar\"}], \"barpolar\": [{\"marker\": {\"line\": {\"color\": \"#E5ECF6\", \"width\": 0.5}}, \"type\": \"barpolar\"}], \"carpet\": [{\"aaxis\": {\"endlinecolor\": \"#2a3f5f\", \"gridcolor\": \"white\", \"linecolor\": \"white\", \"minorgridcolor\": \"white\", \"startlinecolor\": \"#2a3f5f\"}, \"baxis\": {\"endlinecolor\": \"#2a3f5f\", \"gridcolor\": \"white\", \"linecolor\": \"white\", \"minorgridcolor\": \"white\", \"startlinecolor\": \"#2a3f5f\"}, \"type\": \"carpet\"}], \"choropleth\": [{\"colorbar\": {\"outlinewidth\": 0, \"ticks\": \"\"}, \"type\": \"choropleth\"}], \"contour\": [{\"colorbar\": {\"outlinewidth\": 0, \"ticks\": \"\"}, \"colorscale\": [[0.0, \"#0d0887\"], [0.1111111111111111, \"#46039f\"], [0.2222222222222222, \"#7201a8\"], [0.3333333333333333, \"#9c179e\"], [0.4444444444444444, \"#bd3786\"], [0.5555555555555556, \"#d8576b\"], [0.6666666666666666, \"#ed7953\"], [0.7777777777777778, \"#fb9f3a\"], [0.8888888888888888, \"#fdca26\"], [1.0, \"#f0f921\"]], \"type\": \"contour\"}], \"contourcarpet\": [{\"colorbar\": {\"outlinewidth\": 0, \"ticks\": \"\"}, \"type\": \"contourcarpet\"}], \"heatmap\": [{\"colorbar\": {\"outlinewidth\": 0, \"ticks\": \"\"}, \"colorscale\": [[0.0, \"#0d0887\"], [0.1111111111111111, \"#46039f\"], [0.2222222222222222, \"#7201a8\"], [0.3333333333333333, \"#9c179e\"], [0.4444444444444444, \"#bd3786\"], [0.5555555555555556, \"#d8576b\"], [0.6666666666666666, \"#ed7953\"], [0.7777777777777778, \"#fb9f3a\"], [0.8888888888888888, \"#fdca26\"], [1.0, \"#f0f921\"]], \"type\": \"heatmap\"}], \"heatmapgl\": [{\"colorbar\": {\"outlinewidth\": 0, \"ticks\": \"\"}, \"colorscale\": [[0.0, \"#0d0887\"], [0.1111111111111111, \"#46039f\"], [0.2222222222222222, \"#7201a8\"], [0.3333333333333333, \"#9c179e\"], [0.4444444444444444, \"#bd3786\"], [0.5555555555555556, \"#d8576b\"], [0.6666666666666666, \"#ed7953\"], [0.7777777777777778, \"#fb9f3a\"], [0.8888888888888888, \"#fdca26\"], [1.0, \"#f0f921\"]], \"type\": \"heatmapgl\"}], \"histogram\": [{\"marker\": {\"colorbar\": {\"outlinewidth\": 0, \"ticks\": \"\"}}, \"type\": \"histogram\"}], \"histogram2d\": [{\"colorbar\": {\"outlinewidth\": 0, \"ticks\": \"\"}, \"colorscale\": [[0.0, \"#0d0887\"], [0.1111111111111111, \"#46039f\"], [0.2222222222222222, \"#7201a8\"], [0.3333333333333333, \"#9c179e\"], [0.4444444444444444, \"#bd3786\"], [0.5555555555555556, \"#d8576b\"], [0.6666666666666666, \"#ed7953\"], [0.7777777777777778, \"#fb9f3a\"], [0.8888888888888888, \"#fdca26\"], [1.0, \"#f0f921\"]], \"type\": \"histogram2d\"}], \"histogram2dcontour\": [{\"colorbar\": {\"outlinewidth\": 0, \"ticks\": \"\"}, \"colorscale\": [[0.0, \"#0d0887\"], [0.1111111111111111, \"#46039f\"], [0.2222222222222222, \"#7201a8\"], [0.3333333333333333, \"#9c179e\"], [0.4444444444444444, \"#bd3786\"], [0.5555555555555556, \"#d8576b\"], [0.6666666666666666, \"#ed7953\"], [0.7777777777777778, \"#fb9f3a\"], [0.8888888888888888, \"#fdca26\"], [1.0, \"#f0f921\"]], \"type\": \"histogram2dcontour\"}], \"mesh3d\": [{\"colorbar\": {\"outlinewidth\": 0, \"ticks\": \"\"}, \"type\": \"mesh3d\"}], \"parcoords\": [{\"line\": {\"colorbar\": {\"outlinewidth\": 0, \"ticks\": \"\"}}, \"type\": \"parcoords\"}], \"pie\": [{\"automargin\": true, \"type\": \"pie\"}], \"scatter\": [{\"marker\": {\"colorbar\": {\"outlinewidth\": 0, \"ticks\": \"\"}}, \"type\": \"scatter\"}], \"scatter3d\": [{\"line\": {\"colorbar\": {\"outlinewidth\": 0, \"ticks\": \"\"}}, \"marker\": {\"colorbar\": {\"outlinewidth\": 0, \"ticks\": \"\"}}, \"type\": \"scatter3d\"}], \"scattercarpet\": [{\"marker\": {\"colorbar\": {\"outlinewidth\": 0, \"ticks\": \"\"}}, \"type\": \"scattercarpet\"}], \"scattergeo\": [{\"marker\": {\"colorbar\": {\"outlinewidth\": 0, \"ticks\": \"\"}}, \"type\": \"scattergeo\"}], \"scattergl\": [{\"marker\": {\"colorbar\": {\"outlinewidth\": 0, \"ticks\": \"\"}}, \"type\": \"scattergl\"}], \"scattermapbox\": [{\"marker\": {\"colorbar\": {\"outlinewidth\": 0, \"ticks\": \"\"}}, \"type\": \"scattermapbox\"}], \"scatterpolar\": [{\"marker\": {\"colorbar\": {\"outlinewidth\": 0, \"ticks\": \"\"}}, \"type\": \"scatterpolar\"}], \"scatterpolargl\": [{\"marker\": {\"colorbar\": {\"outlinewidth\": 0, \"ticks\": \"\"}}, \"type\": \"scatterpolargl\"}], \"scatterternary\": [{\"marker\": {\"colorbar\": {\"outlinewidth\": 0, \"ticks\": \"\"}}, \"type\": \"scatterternary\"}], \"surface\": [{\"colorbar\": {\"outlinewidth\": 0, \"ticks\": \"\"}, \"colorscale\": [[0.0, \"#0d0887\"], [0.1111111111111111, \"#46039f\"], [0.2222222222222222, \"#7201a8\"], [0.3333333333333333, \"#9c179e\"], [0.4444444444444444, \"#bd3786\"], [0.5555555555555556, \"#d8576b\"], [0.6666666666666666, \"#ed7953\"], [0.7777777777777778, \"#fb9f3a\"], [0.8888888888888888, \"#fdca26\"], [1.0, \"#f0f921\"]], \"type\": \"surface\"}], \"table\": [{\"cells\": {\"fill\": {\"color\": \"#EBF0F8\"}, \"line\": {\"color\": \"white\"}}, \"header\": {\"fill\": {\"color\": \"#C8D4E3\"}, \"line\": {\"color\": \"white\"}}, \"type\": \"table\"}]}, \"layout\": {\"annotationdefaults\": {\"arrowcolor\": \"#2a3f5f\", \"arrowhead\": 0, \"arrowwidth\": 1}, \"coloraxis\": {\"colorbar\": {\"outlinewidth\": 0, \"ticks\": \"\"}}, \"colorscale\": {\"diverging\": [[0, \"#8e0152\"], [0.1, \"#c51b7d\"], [0.2, \"#de77ae\"], [0.3, \"#f1b6da\"], [0.4, \"#fde0ef\"], [0.5, \"#f7f7f7\"], [0.6, \"#e6f5d0\"], [0.7, \"#b8e186\"], [0.8, \"#7fbc41\"], [0.9, \"#4d9221\"], [1, \"#276419\"]], \"sequential\": [[0.0, \"#0d0887\"], [0.1111111111111111, \"#46039f\"], [0.2222222222222222, \"#7201a8\"], [0.3333333333333333, \"#9c179e\"], [0.4444444444444444, \"#bd3786\"], [0.5555555555555556, \"#d8576b\"], [0.6666666666666666, \"#ed7953\"], [0.7777777777777778, \"#fb9f3a\"], [0.8888888888888888, \"#fdca26\"], [1.0, \"#f0f921\"]], \"sequentialminus\": [[0.0, \"#0d0887\"], [0.1111111111111111, \"#46039f\"], [0.2222222222222222, \"#7201a8\"], [0.3333333333333333, \"#9c179e\"], [0.4444444444444444, \"#bd3786\"], [0.5555555555555556, \"#d8576b\"], [0.6666666666666666, \"#ed7953\"], [0.7777777777777778, \"#fb9f3a\"], [0.8888888888888888, \"#fdca26\"], [1.0, \"#f0f921\"]]}, \"colorway\": [\"#636efa\", \"#EF553B\", \"#00cc96\", \"#ab63fa\", \"#FFA15A\", \"#19d3f3\", \"#FF6692\", \"#B6E880\", \"#FF97FF\", \"#FECB52\"], \"font\": {\"color\": \"#2a3f5f\"}, \"geo\": {\"bgcolor\": \"white\", \"lakecolor\": \"white\", \"landcolor\": \"#E5ECF6\", \"showlakes\": true, \"showland\": true, \"subunitcolor\": \"white\"}, \"hoverlabel\": {\"align\": \"left\"}, \"hovermode\": \"closest\", \"mapbox\": {\"style\": \"light\"}, \"paper_bgcolor\": \"white\", \"plot_bgcolor\": \"#E5ECF6\", \"polar\": {\"angularaxis\": {\"gridcolor\": \"white\", \"linecolor\": \"white\", \"ticks\": \"\"}, \"bgcolor\": \"#E5ECF6\", \"radialaxis\": {\"gridcolor\": \"white\", \"linecolor\": \"white\", \"ticks\": \"\"}}, \"scene\": {\"xaxis\": {\"backgroundcolor\": \"#E5ECF6\", \"gridcolor\": \"white\", \"gridwidth\": 2, \"linecolor\": \"white\", \"showbackground\": true, \"ticks\": \"\", \"zerolinecolor\": \"white\"}, \"yaxis\": {\"backgroundcolor\": \"#E5ECF6\", \"gridcolor\": \"white\", \"gridwidth\": 2, \"linecolor\": \"white\", \"showbackground\": true, \"ticks\": \"\", \"zerolinecolor\": \"white\"}, \"zaxis\": {\"backgroundcolor\": \"#E5ECF6\", \"gridcolor\": \"white\", \"gridwidth\": 2, \"linecolor\": \"white\", \"showbackground\": true, \"ticks\": \"\", \"zerolinecolor\": \"white\"}}, \"shapedefaults\": {\"line\": {\"color\": \"#2a3f5f\"}}, \"ternary\": {\"aaxis\": {\"gridcolor\": \"white\", \"linecolor\": \"white\", \"ticks\": \"\"}, \"baxis\": {\"gridcolor\": \"white\", \"linecolor\": \"white\", \"ticks\": \"\"}, \"bgcolor\": \"#E5ECF6\", \"caxis\": {\"gridcolor\": \"white\", \"linecolor\": \"white\", \"ticks\": \"\"}}, \"title\": {\"x\": 0.05}, \"xaxis\": {\"automargin\": true, \"gridcolor\": \"white\", \"linecolor\": \"white\", \"ticks\": \"\", \"title\": {\"standoff\": 15}, \"zerolinecolor\": \"white\", \"zerolinewidth\": 2}, \"yaxis\": {\"automargin\": true, \"gridcolor\": \"white\", \"linecolor\": \"white\", \"ticks\": \"\", \"title\": {\"standoff\": 15}, \"zerolinecolor\": \"white\", \"zerolinewidth\": 2}}}, \"title\": {\"font\": {\"color\": \"#4D5663\"}}, \"xaxis\": {\"anchor\": \"y\", \"domain\": [0.0, 0.2125], \"gridcolor\": \"#E1E5ED\", \"showgrid\": false, \"tickfont\": {\"color\": \"#4D5663\"}, \"title\": {\"font\": {\"color\": \"#4D5663\"}, \"text\": \"\"}, \"zerolinecolor\": \"#E1E5ED\"}, \"xaxis10\": {\"anchor\": \"y10\", \"domain\": [0.2625, 0.475], \"gridcolor\": \"#E1E5ED\", \"showgrid\": false, \"tickfont\": {\"color\": \"#4D5663\"}, \"title\": {\"font\": {\"color\": \"#4D5663\"}, \"text\": \"\"}, \"zerolinecolor\": \"#E1E5ED\"}, \"xaxis11\": {\"anchor\": \"y11\", \"domain\": [0.525, 0.7375], \"gridcolor\": \"#E1E5ED\", \"showgrid\": false, \"tickfont\": {\"color\": \"#4D5663\"}, \"title\": {\"font\": {\"color\": \"#4D5663\"}, \"text\": \"\"}, \"zerolinecolor\": \"#E1E5ED\"}, \"xaxis12\": {\"anchor\": \"y12\", \"domain\": [0.7875, 1.0], \"gridcolor\": \"#E1E5ED\", \"showgrid\": false, \"tickfont\": {\"color\": \"#4D5663\"}, \"title\": {\"font\": {\"color\": \"#4D5663\"}, \"text\": \"\"}, \"zerolinecolor\": \"#E1E5ED\"}, \"xaxis13\": {\"anchor\": \"y13\", \"domain\": [0.0, 0.2125], \"gridcolor\": \"#E1E5ED\", \"showgrid\": false, \"tickfont\": {\"color\": \"#4D5663\"}, \"title\": {\"font\": {\"color\": \"#4D5663\"}, \"text\": \"\"}, \"zerolinecolor\": \"#E1E5ED\"}, \"xaxis14\": {\"anchor\": \"y14\", \"domain\": [0.2625, 0.475], \"gridcolor\": \"#E1E5ED\", \"showgrid\": false, \"tickfont\": {\"color\": \"#4D5663\"}, \"title\": {\"font\": {\"color\": \"#4D5663\"}, \"text\": \"\"}, \"zerolinecolor\": \"#E1E5ED\"}, \"xaxis15\": {\"anchor\": \"y15\", \"domain\": [0.525, 0.7375], \"gridcolor\": \"#E1E5ED\", \"showgrid\": false, \"tickfont\": {\"color\": \"#4D5663\"}, \"title\": {\"font\": {\"color\": \"#4D5663\"}, \"text\": \"\"}, \"zerolinecolor\": \"#E1E5ED\"}, \"xaxis16\": {\"anchor\": \"y16\", \"domain\": [0.7875, 1.0], \"gridcolor\": \"#E1E5ED\", \"showgrid\": false, \"tickfont\": {\"color\": \"#4D5663\"}, \"title\": {\"font\": {\"color\": \"#4D5663\"}, \"text\": \"\"}, \"zerolinecolor\": \"#E1E5ED\"}, \"xaxis2\": {\"anchor\": \"y2\", \"domain\": [0.2625, 0.475], \"gridcolor\": \"#E1E5ED\", \"showgrid\": false, \"tickfont\": {\"color\": \"#4D5663\"}, \"title\": {\"font\": {\"color\": \"#4D5663\"}, \"text\": \"\"}, \"zerolinecolor\": \"#E1E5ED\"}, \"xaxis3\": {\"anchor\": \"y3\", \"domain\": [0.525, 0.7375], \"gridcolor\": \"#E1E5ED\", \"showgrid\": false, \"tickfont\": {\"color\": \"#4D5663\"}, \"title\": {\"font\": {\"color\": \"#4D5663\"}, \"text\": \"\"}, \"zerolinecolor\": \"#E1E5ED\"}, \"xaxis4\": {\"anchor\": \"y4\", \"domain\": [0.7875, 1.0], \"gridcolor\": \"#E1E5ED\", \"showgrid\": false, \"tickfont\": {\"color\": \"#4D5663\"}, \"title\": {\"font\": {\"color\": \"#4D5663\"}, \"text\": \"\"}, \"zerolinecolor\": \"#E1E5ED\"}, \"xaxis5\": {\"anchor\": \"y5\", \"domain\": [0.0, 0.2125], \"gridcolor\": \"#E1E5ED\", \"showgrid\": false, \"tickfont\": {\"color\": \"#4D5663\"}, \"title\": {\"font\": {\"color\": \"#4D5663\"}, \"text\": \"\"}, \"zerolinecolor\": \"#E1E5ED\"}, \"xaxis6\": {\"anchor\": \"y6\", \"domain\": [0.2625, 0.475], \"gridcolor\": \"#E1E5ED\", \"showgrid\": false, \"tickfont\": {\"color\": \"#4D5663\"}, \"title\": {\"font\": {\"color\": \"#4D5663\"}, \"text\": \"\"}, \"zerolinecolor\": \"#E1E5ED\"}, \"xaxis7\": {\"anchor\": \"y7\", \"domain\": [0.525, 0.7375], \"gridcolor\": \"#E1E5ED\", \"showgrid\": false, \"tickfont\": {\"color\": \"#4D5663\"}, \"title\": {\"font\": {\"color\": \"#4D5663\"}, \"text\": \"\"}, \"zerolinecolor\": \"#E1E5ED\"}, \"xaxis8\": {\"anchor\": \"y8\", \"domain\": [0.7875, 1.0], \"gridcolor\": \"#E1E5ED\", \"showgrid\": false, \"tickfont\": {\"color\": \"#4D5663\"}, \"title\": {\"font\": {\"color\": \"#4D5663\"}, \"text\": \"\"}, \"zerolinecolor\": \"#E1E5ED\"}, \"xaxis9\": {\"anchor\": \"y9\", \"domain\": [0.0, 0.2125], \"gridcolor\": \"#E1E5ED\", \"showgrid\": false, \"tickfont\": {\"color\": \"#4D5663\"}, \"title\": {\"font\": {\"color\": \"#4D5663\"}, \"text\": \"\"}, \"zerolinecolor\": \"#E1E5ED\"}, \"yaxis\": {\"anchor\": \"x\", \"domain\": [0.8025, 1.0], \"gridcolor\": \"#E1E5ED\", \"showgrid\": false, \"tickfont\": {\"color\": \"#4D5663\"}, \"title\": {\"font\": {\"color\": \"#4D5663\"}, \"text\": \"\"}, \"zerolinecolor\": \"#E1E5ED\"}, \"yaxis10\": {\"anchor\": \"x10\", \"domain\": [0.2675, 0.465], \"gridcolor\": \"#E1E5ED\", \"showgrid\": false, \"tickfont\": {\"color\": \"#4D5663\"}, \"title\": {\"font\": {\"color\": \"#4D5663\"}, \"text\": \"\"}, \"zerolinecolor\": \"#E1E5ED\"}, \"yaxis11\": {\"anchor\": \"x11\", \"domain\": [0.2675, 0.465], \"gridcolor\": \"#E1E5ED\", \"showgrid\": false, \"tickfont\": {\"color\": \"#4D5663\"}, \"title\": {\"font\": {\"color\": \"#4D5663\"}, \"text\": \"\"}, \"zerolinecolor\": \"#E1E5ED\"}, \"yaxis12\": {\"anchor\": \"x12\", \"domain\": [0.2675, 0.465], \"gridcolor\": \"#E1E5ED\", \"showgrid\": false, \"tickfont\": {\"color\": \"#4D5663\"}, \"title\": {\"font\": {\"color\": \"#4D5663\"}, \"text\": \"\"}, \"zerolinecolor\": \"#E1E5ED\"}, \"yaxis13\": {\"anchor\": \"x13\", \"domain\": [0.0, 0.1975], \"gridcolor\": \"#E1E5ED\", \"showgrid\": false, \"tickfont\": {\"color\": \"#4D5663\"}, \"title\": {\"font\": {\"color\": \"#4D5663\"}, \"text\": \"\"}, \"zerolinecolor\": \"#E1E5ED\"}, \"yaxis14\": {\"anchor\": \"x14\", \"domain\": [0.0, 0.1975], \"gridcolor\": \"#E1E5ED\", \"showgrid\": false, \"tickfont\": {\"color\": \"#4D5663\"}, \"title\": {\"font\": {\"color\": \"#4D5663\"}, \"text\": \"\"}, \"zerolinecolor\": \"#E1E5ED\"}, \"yaxis15\": {\"anchor\": \"x15\", \"domain\": [0.0, 0.1975], \"gridcolor\": \"#E1E5ED\", \"showgrid\": false, \"tickfont\": {\"color\": \"#4D5663\"}, \"title\": {\"font\": {\"color\": \"#4D5663\"}, \"text\": \"\"}, \"zerolinecolor\": \"#E1E5ED\"}, \"yaxis16\": {\"anchor\": \"x16\", \"domain\": [0.0, 0.1975], \"gridcolor\": \"#E1E5ED\", \"showgrid\": false, \"tickfont\": {\"color\": \"#4D5663\"}, \"title\": {\"font\": {\"color\": \"#4D5663\"}, \"text\": \"\"}, \"zerolinecolor\": \"#E1E5ED\"}, \"yaxis2\": {\"anchor\": \"x2\", \"domain\": [0.8025, 1.0], \"gridcolor\": \"#E1E5ED\", \"showgrid\": false, \"tickfont\": {\"color\": \"#4D5663\"}, \"title\": {\"font\": {\"color\": \"#4D5663\"}, \"text\": \"\"}, \"zerolinecolor\": \"#E1E5ED\"}, \"yaxis3\": {\"anchor\": \"x3\", \"domain\": [0.8025, 1.0], \"gridcolor\": \"#E1E5ED\", \"showgrid\": false, \"tickfont\": {\"color\": \"#4D5663\"}, \"title\": {\"font\": {\"color\": \"#4D5663\"}, \"text\": \"\"}, \"zerolinecolor\": \"#E1E5ED\"}, \"yaxis4\": {\"anchor\": \"x4\", \"domain\": [0.8025, 1.0], \"gridcolor\": \"#E1E5ED\", \"showgrid\": false, \"tickfont\": {\"color\": \"#4D5663\"}, \"title\": {\"font\": {\"color\": \"#4D5663\"}, \"text\": \"\"}, \"zerolinecolor\": \"#E1E5ED\"}, \"yaxis5\": {\"anchor\": \"x5\", \"domain\": [0.535, 0.7325], \"gridcolor\": \"#E1E5ED\", \"showgrid\": false, \"tickfont\": {\"color\": \"#4D5663\"}, \"title\": {\"font\": {\"color\": \"#4D5663\"}, \"text\": \"\"}, \"zerolinecolor\": \"#E1E5ED\"}, \"yaxis6\": {\"anchor\": \"x6\", \"domain\": [0.535, 0.7325], \"gridcolor\": \"#E1E5ED\", \"showgrid\": false, \"tickfont\": {\"color\": \"#4D5663\"}, \"title\": {\"font\": {\"color\": \"#4D5663\"}, \"text\": \"\"}, \"zerolinecolor\": \"#E1E5ED\"}, \"yaxis7\": {\"anchor\": \"x7\", \"domain\": [0.535, 0.7325], \"gridcolor\": \"#E1E5ED\", \"showgrid\": false, \"tickfont\": {\"color\": \"#4D5663\"}, \"title\": {\"font\": {\"color\": \"#4D5663\"}, \"text\": \"\"}, \"zerolinecolor\": \"#E1E5ED\"}, \"yaxis8\": {\"anchor\": \"x8\", \"domain\": [0.535, 0.7325], \"gridcolor\": \"#E1E5ED\", \"showgrid\": false, \"tickfont\": {\"color\": \"#4D5663\"}, \"title\": {\"font\": {\"color\": \"#4D5663\"}, \"text\": \"\"}, \"zerolinecolor\": \"#E1E5ED\"}, \"yaxis9\": {\"anchor\": \"x9\", \"domain\": [0.2675, 0.465], \"gridcolor\": \"#E1E5ED\", \"showgrid\": false, \"tickfont\": {\"color\": \"#4D5663\"}, \"title\": {\"font\": {\"color\": \"#4D5663\"}, \"text\": \"\"}, \"zerolinecolor\": \"#E1E5ED\"}},\n",
       "                        {\"showLink\": true, \"linkText\": \"Export to plot.ly\", \"plotlyServerURL\": \"https://plot.ly\", \"responsive\": true}\n",
       "                    ).then(function(){\n",
       "                            \n",
       "var gd = document.getElementById('cea0e885-9325-4a73-985a-9dc4491fe7a3');\n",
       "var x = new MutationObserver(function (mutations, observer) {{\n",
       "        var display = window.getComputedStyle(gd).display;\n",
       "        if (!display || display === 'none') {{\n",
       "            console.log([gd, 'removed!']);\n",
       "            Plotly.purge(gd);\n",
       "            observer.disconnect();\n",
       "        }}\n",
       "}});\n",
       "\n",
       "// Listen for the removal of the full notebook cells\n",
       "var notebookContainer = gd.closest('#notebook-container');\n",
       "if (notebookContainer) {{\n",
       "    x.observe(notebookContainer, {childList: true});\n",
       "}}\n",
       "\n",
       "// Listen for the clearing of the current output cell\n",
       "var outputEl = gd.closest('.output');\n",
       "if (outputEl) {{\n",
       "    x.observe(outputEl, {childList: true});\n",
       "}}\n",
       "\n",
       "                        })\n",
       "                };\n",
       "                });\n",
       "            </script>\n",
       "        </div>"
      ]
     },
     "metadata": {},
     "output_type": "display_data"
    }
   ],
   "source": [
    "df.scatter_matrix()"
   ]
  },
  {
   "cell_type": "markdown",
   "metadata": {
    "collapsed": true
   },
   "source": [
    "# Great Job!"
   ]
  }
 ],
 "metadata": {
  "kernelspec": {
   "display_name": "Python 3",
   "language": "python",
   "name": "python3"
  },
  "language_info": {
   "codemirror_mode": {
    "name": "ipython",
    "version": 3
   },
   "file_extension": ".py",
   "mimetype": "text/x-python",
   "name": "python",
   "nbconvert_exporter": "python",
   "pygments_lexer": "ipython3",
   "version": "3.7.6"
  }
 },
 "nbformat": 4,
 "nbformat_minor": 1
}
